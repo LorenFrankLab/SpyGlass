{
 "cells": [
  {
   "cell_type": "markdown",
   "metadata": {},
   "source": [
    "## Curation\n",
    "\n",
    "**Note: make a copy of this notebook and run the copy to avoid git conflicts in the future**\n",
    "\n",
    "This is the second in a multi-part tutorial on the Spyglass pipeline used in Loren Frank's lab, UCSF. It demonstrates how to curate the results of spike sorting.\n",
    "\n",
    "Finish [tutorial 0](0_intro.ipynb) and [tutorial 1](1_spikesorting.ipynb) before proceeding.\n",
    "\n",
    "Let's start by importing the `spyglass` package, along with a few others. "
   ]
  },
  {
   "cell_type": "code",
   "execution_count": 2,
   "metadata": {},
   "outputs": [
    {
     "name": "stderr",
     "output_type": "stream",
     "text": [
      "/tmp/ipykernel_855879/160917560.py:16: DeprecationWarning: The 'toolkit' module is deprecated. Use spikeinterface.preprocessing/postptocessing/qualitymetrics instead\n",
      "  import spikeinterface.toolkit as st\n",
      "[2023-03-17 15:30:10,545][INFO]: Connecting xulu@lmf-db.cin.ucsf.edu:3306\n",
      "[2023-03-17 15:30:10,603][INFO]: Connected xulu@lmf-db.cin.ucsf.edu:3306\n"
     ]
    }
   ],
   "source": [
    "import copy\n",
    "import itertools\n",
    "import os\n",
    "import re\n",
    "import numpy as np\n",
    "import scipy as sp\n",
    "import operator\n",
    "import scipy.stats as stats\n",
    "import pandas as pd\n",
    "import matplotlib\n",
    "import matplotlib.pyplot as plt\n",
    "from scipy import stats\n",
    "import spikeinterface as si\n",
    "import spikeinterface.extractors as se\n",
    "import spikeinterface.sorters as ss\n",
    "import spikeinterface.toolkit as st\n",
    "import spikeinterface.comparison as sc\n",
    "import spikeinterface.widgets as sw\n",
    "import sortingview\n",
    "import warnings\n",
    "warnings.simplefilter(\"ignore\", category=DeprecationWarning)\n",
    "warnings.simplefilter(\"ignore\", category=ResourceWarning)\n",
    "import webbrowser\n",
    "import pickle\n",
    "\n",
    "import pynwb\n",
    "import datajoint as dj\n",
    "import spyglass\n",
    "from spyglass.common import (Session, IntervalList, LabMember, LabTeam, Raw, Session, Nwbfile, Electrode)\n",
    "from spyglass.spikesorting import (SortGroup,\n",
    "                                   SortInterval,\n",
    "                                   SpikeSortingPreprocessingParameters,\n",
    "                                   SpikeSortingRecording,\n",
    "                                   SpikeSorterParameters,\n",
    "                                   SpikeSortingRecordingSelection,\n",
    "                                   ArtifactDetectionParameters, ArtifactDetectionSelection,\n",
    "                                   ArtifactRemovedIntervalList, ArtifactDetection,\n",
    "                                   SpikeSortingSelection, SpikeSorting, CurationFigurl,\n",
    "                                   CurationFigurlSelection)\n",
    "from spyglass.spikesorting.spikesorting_curation import (AutomaticCuration,\n",
    "                                                         AutomaticCurationParameters,\n",
    "                                                         AutomaticCurationSelection,\n",
    "                                                         CuratedSpikeSorting,\n",
    "                                                         CuratedSpikeSortingSelection, Curation,\n",
    "                                                         MetricParameters, MetricSelection,\n",
    "                                                         QualityMetrics, WaveformParameters,\n",
    "                                                         Waveforms, WaveformSelection)\n",
    "from collections import namedtuple\n",
    "\n",
    "from IPython.core.display import display, HTML"
   ]
  },
  {
   "cell_type": "code",
   "execution_count": 3,
   "metadata": {},
   "outputs": [],
   "source": [
    "# Define the name of the file and sort_group_id that you used in the spikesorting tutorial\n",
    "nwb_file_name = \"j1620210715.nwb\" # Import your own dataset.\n",
    "filename, file_extension = os.path.splitext(nwb_file_name)\n",
    "nwb_file_name2 = filename + \"_\" + file_extension\n",
    "sort_group_id = 31 # Change this to your to-be-curated sort group."
   ]
  },
  {
   "cell_type": "markdown",
   "metadata": {},
   "source": [
    "First, make sure that the results of your sorting from tutorial 1 are stored in `SpikeSorting` table."
   ]
  },
  {
   "cell_type": "code",
   "execution_count": 4,
   "metadata": {},
   "outputs": [
    {
     "data": {
      "text/html": [
       "\n",
       "    \n",
       "    <style type=\"text/css\">\n",
       "        .Relation{\n",
       "            border-collapse:collapse;\n",
       "        }\n",
       "        .Relation th{\n",
       "            background: #A0A0A0; color: #ffffff; padding:4px; border:#f0e0e0 1px solid;\n",
       "            font-weight: normal; font-family: monospace; font-size: 100%;\n",
       "        }\n",
       "        .Relation td{\n",
       "            padding:4px; border:#f0e0e0 1px solid; font-size:100%;\n",
       "        }\n",
       "        .Relation tr:nth-child(odd){\n",
       "            background: #ffffff;\n",
       "        }\n",
       "        .Relation tr:nth-child(even){\n",
       "            background: #f3f1ff;\n",
       "        }\n",
       "        /* Tooltip container */\n",
       "        .djtooltip {\n",
       "        }\n",
       "        /* Tooltip text */\n",
       "        .djtooltip .djtooltiptext {\n",
       "            visibility: hidden;\n",
       "            width: 120px;\n",
       "            background-color: black;\n",
       "            color: #fff;\n",
       "            text-align: center;\n",
       "            padding: 5px 0;\n",
       "            border-radius: 6px;\n",
       "            /* Position the tooltip text - see examples below! */\n",
       "            position: absolute;\n",
       "            z-index: 1;\n",
       "        }\n",
       "        #primary {\n",
       "            font-weight: bold;\n",
       "            color: black;\n",
       "        }\n",
       "        #nonprimary {\n",
       "            font-weight: normal;\n",
       "            color: white;\n",
       "        }\n",
       "\n",
       "        /* Show the tooltip text when you mouse over the tooltip container */\n",
       "        .djtooltip:hover .djtooltiptext {\n",
       "            visibility: visible;\n",
       "        }\n",
       "    </style>\n",
       "    \n",
       "    <b></b>\n",
       "        <div style=\"max-height:1000px;max-width:1500px;overflow:auto;\">\n",
       "        <table border=\"1\" class=\"Relation\">\n",
       "            <thead> <tr style=\"text-align: right;\"> <th> <div class=\"djtooltip\">\n",
       "                            <p id=\"primary\">nwb_file_name</p>\n",
       "                            <span class=\"djtooltiptext\">name of the NWB file</span>\n",
       "                        </div></th><th><div class=\"djtooltip\">\n",
       "                            <p id=\"primary\">sort_group_id</p>\n",
       "                            <span class=\"djtooltiptext\">identifier for a group of electrodes</span>\n",
       "                        </div></th><th><div class=\"djtooltip\">\n",
       "                            <p id=\"primary\">sort_interval_name</p>\n",
       "                            <span class=\"djtooltiptext\">name for this interval</span>\n",
       "                        </div></th><th><div class=\"djtooltip\">\n",
       "                            <p id=\"primary\">preproc_params_name</p>\n",
       "                            <span class=\"djtooltiptext\"></span>\n",
       "                        </div></th><th><div class=\"djtooltip\">\n",
       "                            <p id=\"primary\">team_name</p>\n",
       "                            <span class=\"djtooltiptext\"></span>\n",
       "                        </div></th><th><div class=\"djtooltip\">\n",
       "                            <p id=\"primary\">sorter</p>\n",
       "                            <span class=\"djtooltiptext\"></span>\n",
       "                        </div></th><th><div class=\"djtooltip\">\n",
       "                            <p id=\"primary\">sorter_params_name</p>\n",
       "                            <span class=\"djtooltiptext\"></span>\n",
       "                        </div></th><th><div class=\"djtooltip\">\n",
       "                            <p id=\"primary\">artifact_removed_interval_list_name</p>\n",
       "                            <span class=\"djtooltiptext\"></span>\n",
       "                        </div></th><th><div class=\"djtooltip\">\n",
       "                            <p id=\"nonprimary\">sorting_path</p>\n",
       "                            <span class=\"djtooltiptext\"></span>\n",
       "                        </div></th><th><div class=\"djtooltip\">\n",
       "                            <p id=\"nonprimary\">time_of_sort</p>\n",
       "                            <span class=\"djtooltiptext\">in Unix time, to the nearest second</span>\n",
       "                        </div> </th> </tr> </thead>\n",
       "            <tbody> <tr> <td>j1620210715_.nwb</td>\n",
       "<td>31</td>\n",
       "<td>sleeps_runs_noPrePostTrialTimes raw data valid times</td>\n",
       "<td>default</td>\n",
       "<td>ac_em_xs</td>\n",
       "<td>mountainsort4</td>\n",
       "<td>franklab_probe_ctx_30KHz_115rad_new_mountainsort2</td>\n",
       "<td>j1620210715_.nwb_sleeps_runs_noPrePostTrialTimes raw data valid times_31_default_none_artifact_removed_valid_times</td>\n",
       "<td>/stelmo/nwb/sorting/j1620210715_.nwb_sleeps_runs_noPrePostTrialTimes raw data valid times_31_default_1528cd92_spikesorting</td>\n",
       "<td>1676446417</td> </tr> </tbody>\n",
       "        </table>\n",
       "        \n",
       "        <p>Total: 1</p></div>\n",
       "        "
      ],
      "text/plain": [
       "*nwb_file_name *sort_group_id *sort_interval *preproc_param *team_name    *sorter        *sorter_params *artifact_remo sorting_path   time_of_sort  \n",
       "+------------+ +------------+ +------------+ +------------+ +-----------+ +------------+ +------------+ +------------+ +------------+ +------------+\n",
       "j1620210715_.n 31             sleeps_runs_no default        ac_em_xs      mountainsort4  franklab_probe j1620210715_.n /stelmo/nwb/so 1676446417    \n",
       " (Total: 1)"
      ]
     },
     "execution_count": 4,
     "metadata": {},
     "output_type": "execute_result"
    }
   ],
   "source": [
    "spikesorting_key = dict()\n",
    "spikesorting_key['nwb_file_name'] = nwb_file_name2\n",
    "spikesorting_key['sort_group_id'] = sort_group_id\n",
    "spikesorting_key['sorter_params_name'] = 'franklab_probe_ctx_30KHz_115rad_new_mountainsort2' # These params are for sorting cortex data. Adjust it based on your brain region.\n",
    "# spikesorting_key['sorter_params_name'] = 'franklab_tetrode_hippocampus_30KHz'# These params are for sorting hippo data. Adjust it based on your brain region.\n",
    "spikesorting_key['sort_interval_name'] = 'sleeps_runs_noPrePostTrialTimes raw data valid times' # Change this to your own sort interval.\n",
    "SpikeSorting & spikesorting_key"
   ]
  },
  {
   "cell_type": "code",
   "execution_count": 9,
   "metadata": {},
   "outputs": [],
   "source": [
    "curation_key = (SpikeSorting & spikesorting_key).fetch1('KEY')\n",
    "curation_id = 0\n",
    "curation_key['curation_id'] = curation_id\n"
   ]
  },
  {
   "cell_type": "code",
   "execution_count": 85,
   "metadata": {},
   "outputs": [
    {
     "data": {
      "text/plain": [
       "{'curation_id': 0,\n",
       " 'nwb_file_name': 'j1620210715_.nwb',\n",
       " 'sort_group_id': 31,\n",
       " 'sort_interval_name': 'sleeps_runs_noPrePostTrialTimes raw data valid times',\n",
       " 'preproc_params_name': 'default',\n",
       " 'team_name': 'ac_em_xs',\n",
       " 'sorter': 'mountainsort4',\n",
       " 'sorter_params_name': 'franklab_probe_ctx_30KHz_115rad_new_mountainsort2',\n",
       " 'artifact_removed_interval_list_name': 'j1620210715_.nwb_sleeps_runs_noPrePostTrialTimes raw data valid times_31_default_none_artifact_removed_valid_times'}"
      ]
     },
     "execution_count": 85,
     "metadata": {},
     "output_type": "execute_result"
    }
   ],
   "source": [
    "Curation.insert_curation(curation_key)\n"
   ]
  },
  {
   "cell_type": "code",
   "execution_count": 10,
   "metadata": {},
   "outputs": [],
   "source": [
    "waveform_key = (Curation & curation_key).fetch1(\"KEY\")\n",
    "waveform_key['waveform_params_name'] = 'default_whitened_20000spikes_20jobs'#Can be used for cortex data.\n",
    "#waveform_key['waveform_params_name'] = 'RSN_whitened_float' #This is used for merge stats for hippocampal data."
   ]
  },
  {
   "cell_type": "code",
   "execution_count": 11,
   "metadata": {},
   "outputs": [
    {
     "data": {
      "text/plain": [
       "{'curation_id': 0,\n",
       " 'nwb_file_name': 'j1620210715_.nwb',\n",
       " 'sort_group_id': 31,\n",
       " 'sort_interval_name': 'sleeps_runs_noPrePostTrialTimes raw data valid times',\n",
       " 'preproc_params_name': 'default',\n",
       " 'team_name': 'ac_em_xs',\n",
       " 'sorter': 'mountainsort4',\n",
       " 'sorter_params_name': 'franklab_probe_ctx_30KHz_115rad_new_mountainsort2',\n",
       " 'artifact_removed_interval_list_name': 'j1620210715_.nwb_sleeps_runs_noPrePostTrialTimes raw data valid times_31_default_none_artifact_removed_valid_times',\n",
       " 'waveform_params_name': 'default_whitened_20000spikes_20jobs'}"
      ]
     },
     "execution_count": 11,
     "metadata": {},
     "output_type": "execute_result"
    }
   ],
   "source": [
    "# Make sure the waveform_key looks right\n",
    "waveform_key"
   ]
  },
  {
   "cell_type": "code",
   "execution_count": null,
   "metadata": {},
   "outputs": [
    {
     "name": "stdout",
     "output_type": "stream",
     "text": [
      "Extracting waveforms...\n"
     ]
    }
   ],
   "source": [
    "WaveformSelection.insert1(waveform_key, skip_duplicates=True)\n",
    "Waveforms.populate([(WaveformSelection & waveform_key).proj()])\n",
    "wp = WaveformParameters().fetch()"
   ]
  },
  {
   "cell_type": "code",
   "execution_count": 12,
   "metadata": {},
   "outputs": [],
   "source": [
    "metrics_key = (Waveforms & waveform_key).fetch1(\"KEY\")\n",
    "metrics_key['metric_params_name'] =  'peak_offset_num_spikes_20000spikes' # params for cortex data.\n",
    "# metrics_key['metric_params_name'] =  'peak_offest_num_spikes'# params potentially working for hippo data. Ask others for hippo data metrics or define your own.\n"
   ]
  },
  {
   "cell_type": "code",
   "execution_count": null,
   "metadata": {},
   "outputs": [],
   "source": [
    "MetricSelection.insert1(metrics_key, skip_duplicates=True)"
   ]
  },
  {
   "cell_type": "code",
   "execution_count": 15,
   "metadata": {},
   "outputs": [
    {
     "data": {
      "text/html": [
       "\n",
       "    \n",
       "    <style type=\"text/css\">\n",
       "        .Relation{\n",
       "            border-collapse:collapse;\n",
       "        }\n",
       "        .Relation th{\n",
       "            background: #A0A0A0; color: #ffffff; padding:4px; border:#f0e0e0 1px solid;\n",
       "            font-weight: normal; font-family: monospace; font-size: 100%;\n",
       "        }\n",
       "        .Relation td{\n",
       "            padding:4px; border:#f0e0e0 1px solid; font-size:100%;\n",
       "        }\n",
       "        .Relation tr:nth-child(odd){\n",
       "            background: #ffffff;\n",
       "        }\n",
       "        .Relation tr:nth-child(even){\n",
       "            background: #f3f1ff;\n",
       "        }\n",
       "        /* Tooltip container */\n",
       "        .djtooltip {\n",
       "        }\n",
       "        /* Tooltip text */\n",
       "        .djtooltip .djtooltiptext {\n",
       "            visibility: hidden;\n",
       "            width: 120px;\n",
       "            background-color: black;\n",
       "            color: #fff;\n",
       "            text-align: center;\n",
       "            padding: 5px 0;\n",
       "            border-radius: 6px;\n",
       "            /* Position the tooltip text - see examples below! */\n",
       "            position: absolute;\n",
       "            z-index: 1;\n",
       "        }\n",
       "        #primary {\n",
       "            font-weight: bold;\n",
       "            color: black;\n",
       "        }\n",
       "        #nonprimary {\n",
       "            font-weight: normal;\n",
       "            color: white;\n",
       "        }\n",
       "\n",
       "        /* Show the tooltip text when you mouse over the tooltip container */\n",
       "        .djtooltip:hover .djtooltiptext {\n",
       "            visibility: visible;\n",
       "        }\n",
       "    </style>\n",
       "    \n",
       "    <b></b>\n",
       "        <div style=\"max-height:1000px;max-width:1500px;overflow:auto;\">\n",
       "        <table border=\"1\" class=\"Relation\">\n",
       "            <thead> <tr style=\"text-align: right;\"> <th> <div class=\"djtooltip\">\n",
       "                            <p id=\"primary\">curation_id</p>\n",
       "                            <span class=\"djtooltiptext\">a number correponding to the index of this curation</span>\n",
       "                        </div></th><th><div class=\"djtooltip\">\n",
       "                            <p id=\"primary\">nwb_file_name</p>\n",
       "                            <span class=\"djtooltiptext\">name of the NWB file</span>\n",
       "                        </div></th><th><div class=\"djtooltip\">\n",
       "                            <p id=\"primary\">sort_group_id</p>\n",
       "                            <span class=\"djtooltiptext\">identifier for a group of electrodes</span>\n",
       "                        </div></th><th><div class=\"djtooltip\">\n",
       "                            <p id=\"primary\">sort_interval_name</p>\n",
       "                            <span class=\"djtooltiptext\">name for this interval</span>\n",
       "                        </div></th><th><div class=\"djtooltip\">\n",
       "                            <p id=\"primary\">preproc_params_name</p>\n",
       "                            <span class=\"djtooltiptext\"></span>\n",
       "                        </div></th><th><div class=\"djtooltip\">\n",
       "                            <p id=\"primary\">team_name</p>\n",
       "                            <span class=\"djtooltiptext\"></span>\n",
       "                        </div></th><th><div class=\"djtooltip\">\n",
       "                            <p id=\"primary\">sorter</p>\n",
       "                            <span class=\"djtooltiptext\"></span>\n",
       "                        </div></th><th><div class=\"djtooltip\">\n",
       "                            <p id=\"primary\">sorter_params_name</p>\n",
       "                            <span class=\"djtooltiptext\"></span>\n",
       "                        </div></th><th><div class=\"djtooltip\">\n",
       "                            <p id=\"primary\">artifact_removed_interval_list_name</p>\n",
       "                            <span class=\"djtooltiptext\"></span>\n",
       "                        </div></th><th><div class=\"djtooltip\">\n",
       "                            <p id=\"primary\">waveform_params_name</p>\n",
       "                            <span class=\"djtooltiptext\">name of waveform extraction parameters</span>\n",
       "                        </div></th><th><div class=\"djtooltip\">\n",
       "                            <p id=\"primary\">metric_params_name</p>\n",
       "                            <span class=\"djtooltiptext\"></span>\n",
       "                        </div> </th> </tr> </thead>\n",
       "            <tbody> <tr> <td>0</td>\n",
       "<td>j1620210715_.nwb</td>\n",
       "<td>31</td>\n",
       "<td>sleeps_runs_noPrePostTrialTimes raw data valid times</td>\n",
       "<td>default</td>\n",
       "<td>ac_em_xs</td>\n",
       "<td>mountainsort4</td>\n",
       "<td>franklab_probe_ctx_30KHz_115rad_new_mountainsort2</td>\n",
       "<td>j1620210715_.nwb_sleeps_runs_noPrePostTrialTimes raw data valid times_31_default_none_artifact_removed_valid_times</td>\n",
       "<td>default_whitened_20000spikes_20jobs</td>\n",
       "<td>peak_offset_num_spikes_20000spikes</td> </tr> </tbody>\n",
       "        </table>\n",
       "        \n",
       "        <p>Total: 1</p></div>\n",
       "        "
      ],
      "text/plain": [
       "*curation_id   *nwb_file_name *sort_group_id *sort_interval *preproc_param *team_name    *sorter        *sorter_params *artifact_remo *waveform_para *metric_params\n",
       "+------------+ +------------+ +------------+ +------------+ +------------+ +-----------+ +------------+ +------------+ +------------+ +------------+ +------------+\n",
       "0              j1620210715_.n 31             sleeps_runs_no default        ac_em_xs      mountainsort4  franklab_probe j1620210715_.n default_whiten peak_offset_nu\n",
       " (Total: 1)"
      ]
     },
     "execution_count": 15,
     "metadata": {},
     "output_type": "execute_result"
    }
   ],
   "source": [
    "# Check whether the metric selection table contains the newly inserted keys.\n",
    "MetricSelection() & metrics_key"
   ]
  },
  {
   "cell_type": "code",
   "execution_count": null,
   "metadata": {},
   "outputs": [],
   "source": [
    "QualityMetrics.populate([(MetricSelection & metrics_key).proj()])\n",
    "QualityMetrics() & {\"nwb_file_name\":nwb_file_name2,\"sort_group_id\":sort_group_id}"
   ]
  },
  {
   "cell_type": "code",
   "execution_count": 16,
   "metadata": {},
   "outputs": [],
   "source": [
    "# auto_curation_params_name = 'mike_noise_03_offset_2_isi_0025_mua' # params for hippocampal data from Mike.\n",
    "auto_curation_params_name = 'noise0.03_isi0.0025_offset2' # params for cortex data\n",
    "autocuration_key = metrics_key\n",
    "autocuration_key['auto_curation_params_name'] = auto_curation_params_name"
   ]
  },
  {
   "cell_type": "code",
   "execution_count": 17,
   "metadata": {},
   "outputs": [
    {
     "data": {
      "text/plain": [
       "{'curation_id': 0,\n",
       " 'nwb_file_name': 'j1620210715_.nwb',\n",
       " 'sort_group_id': 31,\n",
       " 'sort_interval_name': 'sleeps_runs_noPrePostTrialTimes raw data valid times',\n",
       " 'preproc_params_name': 'default',\n",
       " 'team_name': 'ac_em_xs',\n",
       " 'sorter': 'mountainsort4',\n",
       " 'sorter_params_name': 'franklab_probe_ctx_30KHz_115rad_new_mountainsort2',\n",
       " 'artifact_removed_interval_list_name': 'j1620210715_.nwb_sleeps_runs_noPrePostTrialTimes raw data valid times_31_default_none_artifact_removed_valid_times',\n",
       " 'waveform_params_name': 'default_whitened_20000spikes_20jobs',\n",
       " 'metric_params_name': 'peak_offset_num_spikes_20000spikes',\n",
       " 'auto_curation_params_name': 'noise0.03_isi0.0025_offset2'}"
      ]
     },
     "execution_count": 17,
     "metadata": {},
     "output_type": "execute_result"
    }
   ],
   "source": [
    "# Make sure the autocuration_key looks right\n",
    "autocuration_key"
   ]
  },
  {
   "cell_type": "code",
   "execution_count": null,
   "metadata": {},
   "outputs": [],
   "source": [
    "# Populate the autocuration table.\n",
    "AutomaticCurationSelection.insert1(autocuration_key, skip_duplicates=True)\n",
    "AutomaticCuration.populate([(AutomaticCurationSelection & autocuration_key).proj()])\n"
   ]
  },
  {
   "cell_type": "code",
   "execution_count": 18,
   "metadata": {},
   "outputs": [
    {
     "data": {
      "text/html": [
       "\n",
       "    \n",
       "    <style type=\"text/css\">\n",
       "        .Relation{\n",
       "            border-collapse:collapse;\n",
       "        }\n",
       "        .Relation th{\n",
       "            background: #A0A0A0; color: #ffffff; padding:4px; border:#f0e0e0 1px solid;\n",
       "            font-weight: normal; font-family: monospace; font-size: 100%;\n",
       "        }\n",
       "        .Relation td{\n",
       "            padding:4px; border:#f0e0e0 1px solid; font-size:100%;\n",
       "        }\n",
       "        .Relation tr:nth-child(odd){\n",
       "            background: #ffffff;\n",
       "        }\n",
       "        .Relation tr:nth-child(even){\n",
       "            background: #f3f1ff;\n",
       "        }\n",
       "        /* Tooltip container */\n",
       "        .djtooltip {\n",
       "        }\n",
       "        /* Tooltip text */\n",
       "        .djtooltip .djtooltiptext {\n",
       "            visibility: hidden;\n",
       "            width: 120px;\n",
       "            background-color: black;\n",
       "            color: #fff;\n",
       "            text-align: center;\n",
       "            padding: 5px 0;\n",
       "            border-radius: 6px;\n",
       "            /* Position the tooltip text - see examples below! */\n",
       "            position: absolute;\n",
       "            z-index: 1;\n",
       "        }\n",
       "        #primary {\n",
       "            font-weight: bold;\n",
       "            color: black;\n",
       "        }\n",
       "        #nonprimary {\n",
       "            font-weight: normal;\n",
       "            color: white;\n",
       "        }\n",
       "\n",
       "        /* Show the tooltip text when you mouse over the tooltip container */\n",
       "        .djtooltip:hover .djtooltiptext {\n",
       "            visibility: visible;\n",
       "        }\n",
       "    </style>\n",
       "    \n",
       "    <b></b>\n",
       "        <div style=\"max-height:1000px;max-width:1500px;overflow:auto;\">\n",
       "        <table border=\"1\" class=\"Relation\">\n",
       "            <thead> <tr style=\"text-align: right;\"> <th> <div class=\"djtooltip\">\n",
       "                            <p id=\"primary\">curation_id</p>\n",
       "                            <span class=\"djtooltiptext\">a number correponding to the index of this curation</span>\n",
       "                        </div></th><th><div class=\"djtooltip\">\n",
       "                            <p id=\"primary\">nwb_file_name</p>\n",
       "                            <span class=\"djtooltiptext\">name of the NWB file</span>\n",
       "                        </div></th><th><div class=\"djtooltip\">\n",
       "                            <p id=\"primary\">sort_group_id</p>\n",
       "                            <span class=\"djtooltiptext\">identifier for a group of electrodes</span>\n",
       "                        </div></th><th><div class=\"djtooltip\">\n",
       "                            <p id=\"primary\">sort_interval_name</p>\n",
       "                            <span class=\"djtooltiptext\">name for this interval</span>\n",
       "                        </div></th><th><div class=\"djtooltip\">\n",
       "                            <p id=\"primary\">preproc_params_name</p>\n",
       "                            <span class=\"djtooltiptext\"></span>\n",
       "                        </div></th><th><div class=\"djtooltip\">\n",
       "                            <p id=\"primary\">team_name</p>\n",
       "                            <span class=\"djtooltiptext\"></span>\n",
       "                        </div></th><th><div class=\"djtooltip\">\n",
       "                            <p id=\"primary\">sorter</p>\n",
       "                            <span class=\"djtooltiptext\"></span>\n",
       "                        </div></th><th><div class=\"djtooltip\">\n",
       "                            <p id=\"primary\">sorter_params_name</p>\n",
       "                            <span class=\"djtooltiptext\"></span>\n",
       "                        </div></th><th><div class=\"djtooltip\">\n",
       "                            <p id=\"primary\">artifact_removed_interval_list_name</p>\n",
       "                            <span class=\"djtooltiptext\"></span>\n",
       "                        </div></th><th><div class=\"djtooltip\">\n",
       "                            <p id=\"primary\">waveform_params_name</p>\n",
       "                            <span class=\"djtooltiptext\">name of waveform extraction parameters</span>\n",
       "                        </div></th><th><div class=\"djtooltip\">\n",
       "                            <p id=\"primary\">metric_params_name</p>\n",
       "                            <span class=\"djtooltiptext\"></span>\n",
       "                        </div></th><th><div class=\"djtooltip\">\n",
       "                            <p id=\"primary\">auto_curation_params_name</p>\n",
       "                            <span class=\"djtooltiptext\">name of this parameter set</span>\n",
       "                        </div></th><th><div class=\"djtooltip\">\n",
       "                            <p id=\"nonprimary\">auto_curation_key</p>\n",
       "                            <span class=\"djtooltiptext\">the key to the curation inserted by make</span>\n",
       "                        </div> </th> </tr> </thead>\n",
       "            <tbody> <tr> <td>0</td>\n",
       "<td>j1620210715_.nwb</td>\n",
       "<td>31</td>\n",
       "<td>sleeps_runs_noPrePostTrialTimes raw data valid times</td>\n",
       "<td>default</td>\n",
       "<td>ac_em_xs</td>\n",
       "<td>mountainsort4</td>\n",
       "<td>franklab_probe_ctx_30KHz_115rad_new_mountainsort2</td>\n",
       "<td>j1620210715_.nwb_sleeps_runs_noPrePostTrialTimes raw data valid times_31_default_none_artifact_removed_valid_times</td>\n",
       "<td>default_whitened_20000spikes_20jobs</td>\n",
       "<td>peak_offset_num_spikes_20000spikes</td>\n",
       "<td>noise0.03_isi0.0025_offset2</td>\n",
       "<td>=BLOB=</td> </tr> </tbody>\n",
       "        </table>\n",
       "        \n",
       "        <p>Total: 1</p></div>\n",
       "        "
      ],
      "text/plain": [
       "*curation_id   *nwb_file_name *sort_group_id *sort_interval *preproc_param *team_name    *sorter        *sorter_params *artifact_remo *waveform_para *metric_params *auto_curation auto_curat\n",
       "+------------+ +------------+ +------------+ +------------+ +------------+ +-----------+ +------------+ +------------+ +------------+ +------------+ +------------+ +------------+ +--------+\n",
       "0              j1620210715_.n 31             sleeps_runs_no default        ac_em_xs      mountainsort4  franklab_probe j1620210715_.n default_whiten peak_offset_nu noise0.03_isi0 =BLOB=    \n",
       " (Total: 1)"
      ]
     },
     "execution_count": 18,
     "metadata": {},
     "output_type": "execute_result"
    }
   ],
   "source": [
    "# check that we've successfully populated the AutomaticCuration table.\n",
    "AutomaticCuration & autocuration_key"
   ]
  },
  {
   "cell_type": "code",
   "execution_count": 20,
   "metadata": {},
   "outputs": [],
   "source": [
    "auto_curation_id = (AutomaticCuration & autocuration_key).fetch1('auto_curation_key')\n",
    "auto_curation_out_key = (Curation & auto_curation_id).fetch1(\"KEY\")"
   ]
  },
  {
   "cell_type": "code",
   "execution_count": 21,
   "metadata": {},
   "outputs": [
    {
     "data": {
      "text/plain": [
       "{'curation_id': 1,\n",
       " 'nwb_file_name': 'j1620210715_.nwb',\n",
       " 'sort_group_id': 31,\n",
       " 'sort_interval_name': 'sleeps_runs_noPrePostTrialTimes raw data valid times',\n",
       " 'preproc_params_name': 'default',\n",
       " 'team_name': 'ac_em_xs',\n",
       " 'sorter': 'mountainsort4',\n",
       " 'sorter_params_name': 'franklab_probe_ctx_30KHz_115rad_new_mountainsort2',\n",
       " 'artifact_removed_interval_list_name': 'j1620210715_.nwb_sleeps_runs_noPrePostTrialTimes raw data valid times_31_default_none_artifact_removed_valid_times'}"
      ]
     },
     "execution_count": 21,
     "metadata": {},
     "output_type": "execute_result"
    }
   ],
   "source": [
    "# Check that the auto_curation_out_key looks right.\n",
    "auto_curation_out_key"
   ]
  },
  {
   "cell_type": "code",
   "execution_count": null,
   "metadata": {},
   "outputs": [],
   "source": [
    "# Ask Mike for help with setting up your github with figurl & manual curation.\n",
    "\n",
    "sort_interval_name = 'sleeps_runs_noPrePostTrialTimes raw data valid times' # Again use yoru own sort interval.\n",
    "session_id = nwb_file_name+'_'+sort_interval_name\n",
    "github_url = ('gh://LorenFrankLab/sorting-curations/main/xulu/'+str(session_id)+'/'\n",
    "              +str(sort_group_id)+'/curation.json')\n",
    "print('oringal key',auto_curation_out_key)\n",
    "\n",
    "curated_spike_sorting_key = auto_curation_out_key.copy()\n",
    "auto_curation_out_key['new_curation_uri'] = github_url"
   ]
  },
  {
   "cell_type": "code",
   "execution_count": null,
   "metadata": {},
   "outputs": [],
   "source": [
    "# generate figURL for manual curation\n",
    "CurationFigurlSelection.insert1(auto_curation_out_key,skip_duplicates=True)\n",
    "CurationFigurl.populate(auto_curation_out_key)"
   ]
  },
  {
   "cell_type": "code",
   "execution_count": 22,
   "metadata": {},
   "outputs": [
    {
     "data": {
      "text/html": [
       "\n",
       "    \n",
       "    <style type=\"text/css\">\n",
       "        .Relation{\n",
       "            border-collapse:collapse;\n",
       "        }\n",
       "        .Relation th{\n",
       "            background: #A0A0A0; color: #ffffff; padding:4px; border:#f0e0e0 1px solid;\n",
       "            font-weight: normal; font-family: monospace; font-size: 100%;\n",
       "        }\n",
       "        .Relation td{\n",
       "            padding:4px; border:#f0e0e0 1px solid; font-size:100%;\n",
       "        }\n",
       "        .Relation tr:nth-child(odd){\n",
       "            background: #ffffff;\n",
       "        }\n",
       "        .Relation tr:nth-child(even){\n",
       "            background: #f3f1ff;\n",
       "        }\n",
       "        /* Tooltip container */\n",
       "        .djtooltip {\n",
       "        }\n",
       "        /* Tooltip text */\n",
       "        .djtooltip .djtooltiptext {\n",
       "            visibility: hidden;\n",
       "            width: 120px;\n",
       "            background-color: black;\n",
       "            color: #fff;\n",
       "            text-align: center;\n",
       "            padding: 5px 0;\n",
       "            border-radius: 6px;\n",
       "            /* Position the tooltip text - see examples below! */\n",
       "            position: absolute;\n",
       "            z-index: 1;\n",
       "        }\n",
       "        #primary {\n",
       "            font-weight: bold;\n",
       "            color: black;\n",
       "        }\n",
       "        #nonprimary {\n",
       "            font-weight: normal;\n",
       "            color: white;\n",
       "        }\n",
       "\n",
       "        /* Show the tooltip text when you mouse over the tooltip container */\n",
       "        .djtooltip:hover .djtooltiptext {\n",
       "            visibility: visible;\n",
       "        }\n",
       "    </style>\n",
       "    \n",
       "    <b></b>\n",
       "        <div style=\"max-height:1000px;max-width:1500px;overflow:auto;\">\n",
       "        <table border=\"1\" class=\"Relation\">\n",
       "            <thead> <tr style=\"text-align: right;\"> <th> <div class=\"djtooltip\">\n",
       "                            <p id=\"primary\">curation_id</p>\n",
       "                            <span class=\"djtooltiptext\">a number correponding to the index of this curation</span>\n",
       "                        </div></th><th><div class=\"djtooltip\">\n",
       "                            <p id=\"primary\">nwb_file_name</p>\n",
       "                            <span class=\"djtooltiptext\">name of the NWB file</span>\n",
       "                        </div></th><th><div class=\"djtooltip\">\n",
       "                            <p id=\"primary\">sort_group_id</p>\n",
       "                            <span class=\"djtooltiptext\">identifier for a group of electrodes</span>\n",
       "                        </div></th><th><div class=\"djtooltip\">\n",
       "                            <p id=\"primary\">sort_interval_name</p>\n",
       "                            <span class=\"djtooltiptext\">name for this interval</span>\n",
       "                        </div></th><th><div class=\"djtooltip\">\n",
       "                            <p id=\"primary\">preproc_params_name</p>\n",
       "                            <span class=\"djtooltiptext\"></span>\n",
       "                        </div></th><th><div class=\"djtooltip\">\n",
       "                            <p id=\"primary\">team_name</p>\n",
       "                            <span class=\"djtooltiptext\"></span>\n",
       "                        </div></th><th><div class=\"djtooltip\">\n",
       "                            <p id=\"primary\">sorter</p>\n",
       "                            <span class=\"djtooltiptext\"></span>\n",
       "                        </div></th><th><div class=\"djtooltip\">\n",
       "                            <p id=\"primary\">sorter_params_name</p>\n",
       "                            <span class=\"djtooltiptext\"></span>\n",
       "                        </div></th><th><div class=\"djtooltip\">\n",
       "                            <p id=\"primary\">artifact_removed_interval_list_name</p>\n",
       "                            <span class=\"djtooltiptext\"></span>\n",
       "                        </div></th><th><div class=\"djtooltip\">\n",
       "                            <p id=\"nonprimary\">url</p>\n",
       "                            <span class=\"djtooltiptext\"></span>\n",
       "                        </div></th><th><div class=\"djtooltip\">\n",
       "                            <p id=\"nonprimary\">initial_curation_uri</p>\n",
       "                            <span class=\"djtooltiptext\"></span>\n",
       "                        </div></th><th><div class=\"djtooltip\">\n",
       "                            <p id=\"nonprimary\">new_curation_uri</p>\n",
       "                            <span class=\"djtooltiptext\"></span>\n",
       "                        </div> </th> </tr> </thead>\n",
       "            <tbody> <tr> <td>1</td>\n",
       "<td>j1620210715_.nwb</td>\n",
       "<td>31</td>\n",
       "<td>sleeps_runs_noPrePostTrialTimes raw data valid times</td>\n",
       "<td>default</td>\n",
       "<td>ac_em_xs</td>\n",
       "<td>mountainsort4</td>\n",
       "<td>franklab_probe_ctx_30KHz_115rad_new_mountainsort2</td>\n",
       "<td>j1620210715_.nwb_sleeps_runs_noPrePostTrialTimes raw data valid times_31_default_none_artifact_removed_valid_times</td>\n",
       "<td>https://figurl.org/f?v=gs://figurl/spikesortingview-10&d=sha1://d9ed6aef020c9a0b847ee46b85c6e594ba3c9b61&s={\"initialSortingCuration\":\"sha1://b6b2c7a0c8a1f2bdd4f014b16796a491e5d2509f\",\"sortingCuration\":\"gh://LorenFrankLab/sorting-curations/main/xulu/j1620210715.nwb_sleeps_runs_noPrePostTrialTimes raw data valid times/31/curation.json\"}&label=j1620210715_.nwb_sleeps_runs_noPrePostTrialTimes%20raw%20data%20valid%20times_31_default%20j1620210715_.nwb_sleeps_runs_noPrePostTrialTimes%20raw%20data%20valid%20times_31_default_8e3b49fd_spikesorting</td>\n",
       "<td>sha1://b6b2c7a0c8a1f2bdd4f014b16796a491e5d2509f</td>\n",
       "<td>gh://LorenFrankLab/sorting-curations/main/xulu/j1620210715.nwb_sleeps_runs_noPrePostTrialTimes raw data valid times/31/curation.json</td> </tr> </tbody>\n",
       "        </table>\n",
       "        \n",
       "        <p>Total: 1</p></div>\n",
       "        "
      ],
      "text/plain": [
       "*curation_id   *nwb_file_name *sort_group_id *sort_interval *preproc_param *team_name    *sorter        *sorter_params *artifact_remo url            initial_curati new_curation_u\n",
       "+------------+ +------------+ +------------+ +------------+ +------------+ +-----------+ +------------+ +------------+ +------------+ +------------+ +------------+ +------------+\n",
       "1              j1620210715_.n 31             sleeps_runs_no default        ac_em_xs      mountainsort4  franklab_probe j1620210715_.n https://figurl sha1://b6b2c7a gh://LorenFran\n",
       " (Total: 1)"
      ]
     },
     "execution_count": 22,
     "metadata": {},
     "output_type": "execute_result"
    }
   ],
   "source": [
    "# Check that you've successfully inserted the auto-curated dataset into the curation figurl table; use the url to load figurl for manual curation.\n",
    "CurationFigurl & auto_curation_out_key\n"
   ]
  },
  {
   "cell_type": "code",
   "execution_count": null,
   "metadata": {},
   "outputs": [],
   "source": [
    "# After manual curation, populate CuratedSpikeSorting\n",
    "CuratedSpikeSortingSelection.insert1(curated_spike_sorting_key, skip_duplicates=True)\n",
    "CuratedSpikeSortingSelection() & auto_curation_out_key\n"
   ]
  },
  {
   "cell_type": "code",
   "execution_count": null,
   "metadata": {},
   "outputs": [],
   "source": [
    "CuratedSpikeSorting.populate(auto_curation_out_key)\n"
   ]
  },
  {
   "cell_type": "code",
   "execution_count": 23,
   "metadata": {},
   "outputs": [
    {
     "data": {
      "text/html": [
       "\n",
       "    \n",
       "    <style type=\"text/css\">\n",
       "        .Relation{\n",
       "            border-collapse:collapse;\n",
       "        }\n",
       "        .Relation th{\n",
       "            background: #A0A0A0; color: #ffffff; padding:4px; border:#f0e0e0 1px solid;\n",
       "            font-weight: normal; font-family: monospace; font-size: 100%;\n",
       "        }\n",
       "        .Relation td{\n",
       "            padding:4px; border:#f0e0e0 1px solid; font-size:100%;\n",
       "        }\n",
       "        .Relation tr:nth-child(odd){\n",
       "            background: #ffffff;\n",
       "        }\n",
       "        .Relation tr:nth-child(even){\n",
       "            background: #f3f1ff;\n",
       "        }\n",
       "        /* Tooltip container */\n",
       "        .djtooltip {\n",
       "        }\n",
       "        /* Tooltip text */\n",
       "        .djtooltip .djtooltiptext {\n",
       "            visibility: hidden;\n",
       "            width: 120px;\n",
       "            background-color: black;\n",
       "            color: #fff;\n",
       "            text-align: center;\n",
       "            padding: 5px 0;\n",
       "            border-radius: 6px;\n",
       "            /* Position the tooltip text - see examples below! */\n",
       "            position: absolute;\n",
       "            z-index: 1;\n",
       "        }\n",
       "        #primary {\n",
       "            font-weight: bold;\n",
       "            color: black;\n",
       "        }\n",
       "        #nonprimary {\n",
       "            font-weight: normal;\n",
       "            color: white;\n",
       "        }\n",
       "\n",
       "        /* Show the tooltip text when you mouse over the tooltip container */\n",
       "        .djtooltip:hover .djtooltiptext {\n",
       "            visibility: visible;\n",
       "        }\n",
       "    </style>\n",
       "    \n",
       "    <b></b>\n",
       "        <div style=\"max-height:1000px;max-width:1500px;overflow:auto;\">\n",
       "        <table border=\"1\" class=\"Relation\">\n",
       "            <thead> <tr style=\"text-align: right;\"> <th> <div class=\"djtooltip\">\n",
       "                            <p id=\"primary\">curation_id</p>\n",
       "                            <span class=\"djtooltiptext\">a number correponding to the index of this curation</span>\n",
       "                        </div></th><th><div class=\"djtooltip\">\n",
       "                            <p id=\"primary\">nwb_file_name</p>\n",
       "                            <span class=\"djtooltiptext\">name of the NWB file</span>\n",
       "                        </div></th><th><div class=\"djtooltip\">\n",
       "                            <p id=\"primary\">sort_group_id</p>\n",
       "                            <span class=\"djtooltiptext\">identifier for a group of electrodes</span>\n",
       "                        </div></th><th><div class=\"djtooltip\">\n",
       "                            <p id=\"primary\">sort_interval_name</p>\n",
       "                            <span class=\"djtooltiptext\">name for this interval</span>\n",
       "                        </div></th><th><div class=\"djtooltip\">\n",
       "                            <p id=\"primary\">preproc_params_name</p>\n",
       "                            <span class=\"djtooltiptext\"></span>\n",
       "                        </div></th><th><div class=\"djtooltip\">\n",
       "                            <p id=\"primary\">team_name</p>\n",
       "                            <span class=\"djtooltiptext\"></span>\n",
       "                        </div></th><th><div class=\"djtooltip\">\n",
       "                            <p id=\"primary\">sorter</p>\n",
       "                            <span class=\"djtooltiptext\"></span>\n",
       "                        </div></th><th><div class=\"djtooltip\">\n",
       "                            <p id=\"primary\">sorter_params_name</p>\n",
       "                            <span class=\"djtooltiptext\"></span>\n",
       "                        </div></th><th><div class=\"djtooltip\">\n",
       "                            <p id=\"primary\">artifact_removed_interval_list_name</p>\n",
       "                            <span class=\"djtooltiptext\"></span>\n",
       "                        </div></th><th><div class=\"djtooltip\">\n",
       "                            <p id=\"nonprimary\">analysis_file_name</p>\n",
       "                            <span class=\"djtooltiptext\">name of the file</span>\n",
       "                        </div></th><th><div class=\"djtooltip\">\n",
       "                            <p id=\"nonprimary\">units_object_id</p>\n",
       "                            <span class=\"djtooltiptext\"></span>\n",
       "                        </div> </th> </tr> </thead>\n",
       "            <tbody> <tr> <td>1</td>\n",
       "<td>j1620210715_.nwb</td>\n",
       "<td>31</td>\n",
       "<td>sleeps_runs_noPrePostTrialTimes raw data valid times</td>\n",
       "<td>default</td>\n",
       "<td>ac_em_xs</td>\n",
       "<td>mountainsort4</td>\n",
       "<td>franklab_probe_ctx_30KHz_115rad_new_mountainsort2</td>\n",
       "<td>j1620210715_.nwb_sleeps_runs_noPrePostTrialTimes raw data valid times_31_default_none_artifact_removed_valid_times</td>\n",
       "<td>j1620210715_E0ELZDTVJX.nwb</td>\n",
       "<td>b5d5d773-b094-48c3-b3ad-74a0f6464152</td> </tr> </tbody>\n",
       "        </table>\n",
       "        \n",
       "        <p>Total: 1</p></div>\n",
       "        "
      ],
      "text/plain": [
       "*curation_id   *nwb_file_name *sort_group_id *sort_interval *preproc_param *team_name    *sorter        *sorter_params *artifact_remo analysis_file_ units_object_i\n",
       "+------------+ +------------+ +------------+ +------------+ +------------+ +-----------+ +------------+ +------------+ +------------+ +------------+ +------------+\n",
       "1              j1620210715_.n 31             sleeps_runs_no default        ac_em_xs      mountainsort4  franklab_probe j1620210715_.n j1620210715_E0 b5d5d773-b094-\n",
       " (Total: 1)"
      ]
     },
     "execution_count": 23,
     "metadata": {},
     "output_type": "execute_result"
    }
   ],
   "source": [
    "# Check that the curated spike table is successfully populated.\n",
    "CuratedSpikeSorting() & auto_curation_out_key"
   ]
  },
  {
   "cell_type": "code",
   "execution_count": 108,
   "metadata": {},
   "outputs": [],
   "source": [
    "# Load the curated data of interest.\n",
    "units = (CuratedSpikeSorting()&{'nwb_file_name':nwb_file_name2,'sort_group_id':sort_group_id,\n",
    "                       'sort_interval_name':'sleeps_runs_noPrePostTrialTimes raw data valid times'}).fetch_nwb()[0]['units']"
   ]
  },
  {
   "cell_type": "code",
   "execution_count": 111,
   "metadata": {},
   "outputs": [
    {
     "data": {
      "text/plain": [
       "id\n",
       "3     [1626366503.5269132, 1626366525.8692486, 16263...\n",
       "5     [1626366503.4160469, 1626366503.4628134, 16263...\n",
       "6     [1626366503.8008463, 1626366504.0010128, 16263...\n",
       "7     [1626366503.3358803, 1626366503.8239129, 16263...\n",
       "9     [1626366503.51438, 1626366503.6476798, 1626366...\n",
       "10    [1626366505.7951767, 1626366506.8059087, 16263...\n",
       "11    [1626366504.1870124, 1626366504.2431457, 16263...\n",
       "16    [1626366720.2088737, 1626366721.3888388, 16263...\n",
       "17    [1626366517.1241608, 1626366518.7990918, 16263...\n",
       "24    [1626366525.250716, 1626366565.0279932, 162636...\n",
       "25    [1626366503.3512802, 1626366508.4144397, 16263...\n",
       "28    [1626366508.0717735, 1626366508.2400398, 16263...\n",
       "29    [1626366752.0725954, 1626366794.930768, 162636...\n",
       "36    [1626366506.869442, 1626366507.1153083, 162636...\n",
       "37    [1626366504.019246, 1626366515.0441303, 162636...\n",
       "39    [1626366503.3300803, 1626366504.3431456, 16263...\n",
       "40    [1626366504.125846, 1626366504.2081125, 162636...\n",
       "45    [1626366686.8226876, 1626366897.1277237, 16263...\n",
       "46    [1626366505.428544, 1626366516.9414277, 162636...\n",
       "47    [1626366529.5541098, 1626366565.2029595, 16263...\n",
       "51    [1626366534.1412702, 1626366534.18927, 1626366...\n",
       "52    [1626366672.9834073, 1626366892.8225965, 16263...\n",
       "58    [1626366503.3891468, 1626366503.43968, 1626366...\n",
       "63    [1626366504.6614118, 1626366504.8191779, 16263...\n",
       "64    [1626366534.7949362, 1626366541.0169601, 16263...\n",
       "Name: spike_times, dtype: object"
      ]
     },
     "execution_count": 111,
     "metadata": {},
     "output_type": "execute_result"
    }
   ],
   "source": [
    "units['spike_times']"
   ]
  },
  {
   "cell_type": "code",
   "execution_count": null,
   "metadata": {},
   "outputs": [],
   "source": []
  }
 ],
 "metadata": {
  "kernelspec": {
   "display_name": "Python [conda env:spyglass] *",
   "language": "python",
   "name": "conda-env-spyglass-py"
  },
  "language_info": {
   "codemirror_mode": {
    "name": "ipython",
    "version": 3
   },
   "file_extension": ".py",
   "mimetype": "text/x-python",
   "name": "python",
   "nbconvert_exporter": "python",
   "pygments_lexer": "ipython3",
   "version": "3.9.13"
  },
  "vscode": {
   "interpreter": {
    "hash": "8a94588eda9d64d9e9a351ab8144e55b1fabf5113b54e67dd26a8c27df0381b3"
   }
  }
 },
 "nbformat": 4,
 "nbformat_minor": 4
}
