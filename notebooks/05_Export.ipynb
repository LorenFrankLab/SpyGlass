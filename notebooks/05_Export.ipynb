{
 "cells": [
  {
   "cell_type": "markdown",
   "metadata": {
    "tags": []
   },
   "source": [
    "# Export\n"
   ]
  },
  {
   "cell_type": "markdown",
   "metadata": {},
   "source": [
    "## Intro\n"
   ]
  },
  {
   "cell_type": "markdown",
   "metadata": {},
   "source": [
    "_Developer Note:_ if you may make a PR in the future, be sure to copy this\n",
    "notebook, and use the `gitignore` prefix `temp` to avoid future conflicts.\n",
    "\n",
    "This is one notebook in a multi-part series on Spyglass.\n",
    "\n",
    "- To set up your Spyglass environment and database, see\n",
    "  [the Setup notebook](./00_Setup.ipynb)\n",
    "- To insert data, see [the Insert Data notebook](./01_Insert_Data.ipynb)\n",
    "- For additional info on DataJoint syntax, including table definitions and\n",
    "  inserts, see\n",
    "  [these additional tutorials](https://github.com/datajoint/datajoint-tutorials)\n",
    "- For information on what's goint on behind the scenes of an export, see\n",
    "  [documentation](https://lorenfranklab.github.io/spyglass/0.5/misc/export/)\n",
    "\n",
    "In short, Spyglass offers the ability to generate exports of one or more subsets\n",
    "of the database required for a specific analysis as long as you do the following:\n",
    "\n",
    "- Inherit `SpyglassMixin` for all custom tables.\n",
    "- Run only one export at a time.\n",
    "- Start and stop each export logging process.\n",
    "\n",
    "**NOTE:** For demonstration purposes, this notebook relies on a more populated\n",
    "database to highlight restriction merging capabilities of the export process.\n",
    "Adjust the restrictions to suit your own dataset.\n"
   ]
  },
  {
   "cell_type": "markdown",
   "metadata": {},
   "source": [
    "## Imports\n"
   ]
  },
  {
   "cell_type": "markdown",
   "metadata": {},
   "source": [
    "Let's start by importing the `spyglass` package, along with a few others.\n"
   ]
  },
  {
   "cell_type": "code",
   "execution_count": 1,
   "metadata": {
    "tags": []
   },
   "outputs": [
    {
     "name": "stderr",
     "output_type": "stream",
     "text": [
      "[2024-01-29 16:15:00,903][INFO]: Connecting root@localhost:3309\n",
      "[2024-01-29 16:15:00,912][INFO]: Connected root@localhost:3309\n"
     ]
    }
   ],
   "source": [
    "import os\n",
    "import datajoint as dj\n",
    "\n",
    "# change to the upper level folder to detect dj_local_conf.json\n",
    "if os.path.basename(os.getcwd()) == \"notebooks\":\n",
    "    os.chdir(\"..\")\n",
    "dj.config.load(\"dj_local_conf.json\")  # load config for database connection info\n",
    "\n",
    "# ignore datajoint+jupyter async warnings\n",
    "from spyglass.common.common_usage import Export, ExportSelection\n",
    "from spyglass.lfp.analysis.v1 import LFPBandV1\n",
    "from spyglass.position.v1 import TrodesPosV1\n",
    "from spyglass.spikesorting.v1.curation import CurationV1\n",
    "\n",
    "# TODO: Add commentary, describe helpers on ExportSelection\n",
    "\n",
    "paper_key = {\"paper_id\": \"paper1\"}\n",
    "ExportSelection().start_export(**paper_key, analysis_id=\"test1\")\n",
    "a = (\n",
    "    LFPBandV1 & \"nwb_file_name LIKE 'med%'\" & {\"filter_name\": \"Theta 5-11 Hz\"}\n",
    ").fetch()\n",
    "b = (\n",
    "    LFPBandV1\n",
    "    & {\n",
    "        \"nwb_file_name\": \"mediumnwb20230802_.nwb\",\n",
    "        \"filter_name\": \"Theta 5-10 Hz\",\n",
    "    }\n",
    ").fetch()\n",
    "ExportSelection().start_export(**paper_key, analysis_id=\"test2\")\n",
    "c = (CurationV1 & \"curation_id = 1\").fetch_nwb()\n",
    "d = (TrodesPosV1 & 'trodes_pos_params_name = \"single_led\"').fetch()\n",
    "ExportSelection().stop_export()\n",
    "Export().populate_paper(**paper_key)"
   ]
  },
  {
   "cell_type": "markdown",
   "metadata": {},
   "source": [
    "## Up Next\n"
   ]
  },
  {
   "cell_type": "markdown",
   "metadata": {},
   "source": [
    "In the [next notebook](./10_Spike_Sorting.ipynb), we'll start working with\n",
    "ephys data with spike sorting.\n"
   ]
  }
 ],
 "metadata": {
  "kernelspec": {
   "display_name": "spy",
   "language": "python",
   "name": "python3"
  },
  "language_info": {
   "codemirror_mode": {
    "name": "ipython",
    "version": 3
   },
   "file_extension": ".py",
   "mimetype": "text/x-python",
   "name": "python",
   "nbconvert_exporter": "python",
   "pygments_lexer": "ipython3",
   "version": "3.9.16"
  }
 },
 "nbformat": 4,
 "nbformat_minor": 4
}
