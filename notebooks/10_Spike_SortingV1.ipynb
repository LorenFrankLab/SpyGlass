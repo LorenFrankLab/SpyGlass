{
 "cells": [
  {
   "cell_type": "markdown",
   "id": "5fce5c22-caab-473b-a103-5009a2798d12",
   "metadata": {},
   "source": [
    "Connect to db (remove in later version that works with production database)"
   ]
  },
  {
   "cell_type": "code",
   "execution_count": null,
   "id": "5778bf96-740c-4e4b-a695-ed4385fc9b58",
   "metadata": {
    "tags": []
   },
   "outputs": [],
   "source": [
    "import datajoint as dj\n",
    "import os\n",
    "from pathlib import Path\n",
    "\n",
    "# set dirs\n",
    "base_dir = Path('/hdd/dj') # change this to your desired directory\n",
    "if (base_dir).exists() is False:\n",
    "    os.mkdir(base_dir)\n",
    "raw_dir = base_dir / 'raw'\n",
    "if (raw_dir).exists() is False:\n",
    "    os.mkdir(raw_dir)\n",
    "analysis_dir = base_dir / 'analysis'\n",
    "if (analysis_dir).exists() is False:\n",
    "    os.mkdir(analysis_dir)\n",
    "tmp_dir = base_dir / 'tmp'\n",
    "if (tmp_dir).exists() is False:\n",
    "    os.mkdir(tmp_dir)\n",
    "\n",
    "# set dj config\n",
    "dj.config['database.host'] = 'localhost'\n",
    "dj.config['database.user'] = 'root'\n",
    "dj.config['database.password'] = 'tutorial'\n",
    "dj.config['database.port'] = 3306\n",
    "dj.config['stores'] = {\n",
    "  'raw': {\n",
    "    'protocol': 'file',\n",
    "    'location': str(raw_dir),\n",
    "    'stage': str(raw_dir)\n",
    "  },\n",
    "  'analysis': {\n",
    "    'protocol': 'file',\n",
    "    'location': str(analysis_dir),\n",
    "    'stage': str(analysis_dir)\n",
    "  }\n",
    "}\n",
    "dj.config[\"enable_python_native_blobs\"] = True\n",
    "\n",
    "\n",
    "# set env vars\n",
    "os.environ['SPYGLASS_BASE_DIR'] = str(base_dir)\n",
    "os.environ['SPYGLASS_TEMP_DIR'] = str(tmp_dir)\n",
    "os.environ['KACHERY_CLOUD_DIR'] = '/hdd/dj/.kachery-cloud'\n",
    "os.environ['KACHERY_ZONE'] = \"franklab.default\"\n",
    "os.environ['DJ_SUPPORT_FILEPATH_MANAGEMENT'] = 'TRUE'\n",
    "\n",
    "\n",
    "%load_ext autoreload\n",
    "%autoreload 2"
   ]
  },
  {
   "cell_type": "markdown",
   "id": "84e7c0b5-f660-4304-9b87-08f5bbf4dbac",
   "metadata": {},
   "source": [
    "import"
   ]
  },
  {
   "cell_type": "code",
   "execution_count": null,
   "id": "16345184-c012-486c-b0b6-c914168f2449",
   "metadata": {},
   "outputs": [],
   "source": [
    "import spyglass as sg\n",
    "import spyglass.common as sgc\n",
    "import spyglass.spikesorting.v1 as sgs\n",
    "import spyglass.data_import as sgi"
   ]
  },
  {
   "cell_type": "markdown",
   "id": "48d2c06a-feb6-438c-94b3-4028127e2101",
   "metadata": {},
   "source": [
    "insert LabMember and Session"
   ]
  },
  {
   "cell_type": "code",
   "execution_count": null,
   "id": "a3a0ecdf-8dad-41d5-9ee2-fa60f80c746d",
   "metadata": {},
   "outputs": [],
   "source": [
    "nwb_file_name = \"wilbur20210326.nwb\"\n",
    "nwb_file_name2 = \"wilbur20210326_.nwb\""
   ]
  },
  {
   "cell_type": "code",
   "execution_count": null,
   "id": "69e258e0-2c55-434a-afb5-00cf635bac84",
   "metadata": {},
   "outputs": [],
   "source": [
    "sgc.LabMember.insert_from_nwbfile(nwb_file_name)"
   ]
  },
  {
   "cell_type": "code",
   "execution_count": null,
   "id": "dfa1b73e-da6e-470f-aff6-0d45c3ddff5c",
   "metadata": {},
   "outputs": [],
   "source": [
    "sgi.insert_sessions(nwb_file_name)"
   ]
  },
  {
   "cell_type": "code",
   "execution_count": null,
   "id": "e11b5f5d-e9e0-4949-9fc1-4a34cc975fb1",
   "metadata": {},
   "outputs": [],
   "source": [
    "sgc.Session()"
   ]
  },
  {
   "cell_type": "markdown",
   "id": "5f3dfe2d-4645-44f9-b169-479292215afe",
   "metadata": {},
   "source": [
    "insert SortGroup"
   ]
  },
  {
   "cell_type": "code",
   "execution_count": null,
   "id": "a269f6af-eb16-4551-b511-a264368c9490",
   "metadata": {},
   "outputs": [],
   "source": [
    "sgs.SortGroup.set_group_by_shank(nwb_file_name=nwb_file_name2)"
   ]
  },
  {
   "cell_type": "markdown",
   "id": "1c55792e-f9ba-4e0d-a4d2-8c60bf0e8f34",
   "metadata": {},
   "source": [
    "insert SpikeSortingRecordingSelection. use `insert_selection` method. this automatically generates a unique recording id"
   ]
  },
  {
   "cell_type": "code",
   "execution_count": null,
   "id": "5b307631-3cc5-4859-9e95-aeedf6a3de56",
   "metadata": {},
   "outputs": [],
   "source": [
    "key = {\"nwb_file_name\" : nwb_file_name2,\n",
    "       \"sort_group_id\" : 0,\n",
    "       \"interval_list_name\" : \"03_r1\",\n",
    "       \"preproc_param_name\" : \"default\",\n",
    "       \"team_name\" : \"Alison Comrie\"}"
   ]
  },
  {
   "cell_type": "code",
   "execution_count": null,
   "id": "e6d0dcb0-acfe-4adb-8da6-a5570b97f48a",
   "metadata": {},
   "outputs": [],
   "source": [
    "sgs.SpikeSortingRecordingSelection.insert_selection(key)"
   ]
  },
  {
   "cell_type": "code",
   "execution_count": null,
   "id": "3e61248f-1f55-4782-9018-ff1891acfc16",
   "metadata": {},
   "outputs": [],
   "source": [
    "sgs.SpikeSortingRecordingSelection()"
   ]
  },
  {
   "cell_type": "markdown",
   "id": "2fc85684-71a2-4e37-9ad7-a3a923749c8f",
   "metadata": {},
   "source": [
    "preprocess recording (filtering and referencing)"
   ]
  },
  {
   "cell_type": "code",
   "execution_count": null,
   "id": "1bd48e28-d40e-4cf3-a89e-58d4c3cb08e8",
   "metadata": {},
   "outputs": [],
   "source": [
    "sgs.SpikeSortingRecording.populate()"
   ]
  },
  {
   "cell_type": "code",
   "execution_count": null,
   "id": "9a9bf343-5b5e-457c-8bf4-f12b194a5489",
   "metadata": {},
   "outputs": [],
   "source": [
    "sgs.SpikeSortingRecording()"
   ]
  },
  {
   "cell_type": "code",
   "execution_count": null,
   "id": "1c6c7ea3-9538-4fa9-890b-ee16cc18af31",
   "metadata": {},
   "outputs": [],
   "source": [
    "key = (sgs.SpikeSortingRecordingSelection & {\"nwb_file_name\":nwb_file_name2}).fetch1()"
   ]
  },
  {
   "cell_type": "markdown",
   "id": "1955ed06-d754-470a-b5b3-94df6c3e03eb",
   "metadata": {},
   "source": [
    "insert ArtifactDetectionSelection"
   ]
  },
  {
   "cell_type": "code",
   "execution_count": null,
   "id": "74415172-f2da-4fd3-ab43-01857d682b0d",
   "metadata": {},
   "outputs": [],
   "source": [
    "sgs.ArtifactDetectionSelection.insert_selection({'recording_id':key['recording_id'],\n",
    "                                                 'artifact_param_name':'default'})"
   ]
  },
  {
   "cell_type": "markdown",
   "id": "a1fe3cf8-07c2-4743-90f6-8a8025bec696",
   "metadata": {},
   "source": [
    "detect artifact; note the output is stored in IntervalList"
   ]
  },
  {
   "cell_type": "code",
   "execution_count": null,
   "id": "bd89c36c-c05b-4b4a-85d9-7679fed173d1",
   "metadata": {},
   "outputs": [],
   "source": [
    "sgs.ArtifactDetection.populate()"
   ]
  },
  {
   "cell_type": "code",
   "execution_count": null,
   "id": "ca9a9f64-0afc-4c83-b22c-0ed120cb87f6",
   "metadata": {},
   "outputs": [],
   "source": [
    "sgs.ArtifactDetection()"
   ]
  },
  {
   "cell_type": "markdown",
   "id": "65ae0f70-2d8d-40d4-86c9-2ab206b28ca9",
   "metadata": {},
   "source": [
    "insert SpikeSortingSelection. again use `insert_selection` method"
   ]
  },
  {
   "cell_type": "code",
   "execution_count": null,
   "id": "34246883-9dc4-43c5-a438-009215a3a35e",
   "metadata": {},
   "outputs": [],
   "source": [
    "key = {\n",
    "        \"recording_id\":key['recording_id'],\n",
    "        \"sorter\":\"mountainsort4\",\n",
    "        \"sorter_param_name\": \"franklab_tetrode_hippocampus_30KHz\",\n",
    "        \"nwb_file_name\":nwb_file_name2,\n",
    "        \"interval_list_name\":str((sgs.ArtifactDetectionSelection & {'recording_id':key['recording_id']}).fetch1(\"artifact_id\"))\n",
    "    }"
   ]
  },
  {
   "cell_type": "code",
   "execution_count": null,
   "id": "1f431dc4-57d6-4a6d-82e0-9b313ac0ce3f",
   "metadata": {},
   "outputs": [],
   "source": [
    "sgs.SpikeSortingSelection()"
   ]
  },
  {
   "cell_type": "code",
   "execution_count": null,
   "id": "68856fb6-b5c2-4ee4-b300-43a117e453a1",
   "metadata": {},
   "outputs": [],
   "source": [
    "sgs.SpikeSortingSelection.insert_selection(key)"
   ]
  },
  {
   "cell_type": "code",
   "execution_count": null,
   "id": "2caed63b-6094-4a59-b8d9-6a0f186b2d3f",
   "metadata": {},
   "outputs": [],
   "source": [
    "sgs.SpikeSortingSelection()"
   ]
  },
  {
   "cell_type": "markdown",
   "id": "bb343fb7-04d6-48fc-bf67-9919769a7a52",
   "metadata": {},
   "source": [
    "run spike sorting"
   ]
  },
  {
   "cell_type": "code",
   "execution_count": null,
   "id": "4cdc09d9-af18-420c-9707-7a439d5686a8",
   "metadata": {},
   "outputs": [],
   "source": [
    "sgs.SpikeSorting.populate()"
   ]
  },
  {
   "cell_type": "code",
   "execution_count": null,
   "id": "54ccf059-b1ae-42e8-aede-4af30a61fd2b",
   "metadata": {},
   "outputs": [],
   "source": [
    "sgs.SpikeSorting()"
   ]
  },
  {
   "cell_type": "markdown",
   "id": "ea8fcaa0-9dd7-4870-9f5b-be039e3579cc",
   "metadata": {},
   "source": [
    "we have two main ways of curating spike sorting: by computing quality metrics and applying threshold; and manually applying curation labels. to do so, we first insert CurationV1. use `insert_curation` method."
   ]
  },
  {
   "cell_type": "code",
   "execution_count": null,
   "id": "0589a3f2-4977-407f-b49d-4ae3f882ae21",
   "metadata": {},
   "outputs": [],
   "source": [
    "sgs.CurationV1.insert_curation(sorting_id=(sgs.SpikeSortingSelection & {'recording_id':key['recording_id']}).fetch1(\"sorting_id\"),\n",
    "                               description=\"testing sort\")"
   ]
  },
  {
   "cell_type": "code",
   "execution_count": null,
   "id": "5bec5b97-4e9f-4ee9-a6b5-4f05f4726744",
   "metadata": {},
   "outputs": [],
   "source": [
    "sgs.CurationV1()"
   ]
  },
  {
   "cell_type": "markdown",
   "id": "97317b6f-a40a-4f84-8042-4361064f010a",
   "metadata": {},
   "source": [
    "we will first do an automatic curation based on quality metrics"
   ]
  },
  {
   "cell_type": "code",
   "execution_count": null,
   "id": "7207abda-ea84-43af-97d4-e5be3464d28d",
   "metadata": {},
   "outputs": [],
   "source": [
    "key = {\n",
    "    \"sorting_id\":(sgs.SpikeSortingSelection & {'recording_id':key['recording_id']}).fetch1(\"sorting_id\"),\n",
    "    \"curation_id\":0,\n",
    "    \"waveform_param_name\":\"default_not_whitened\",\n",
    "    \"metric_param_name\":\"franklab_default\",\n",
    "    \"metric_curation_param_name\":\"default\"\n",
    "}"
   ]
  },
  {
   "cell_type": "code",
   "execution_count": null,
   "id": "14c2eacc-cc45-4e61-9919-04785a721079",
   "metadata": {},
   "outputs": [],
   "source": [
    "sgs.MetricCurationSelection.insert_selection(key)"
   ]
  },
  {
   "cell_type": "code",
   "execution_count": null,
   "id": "d73244b3-f754-4701-be52-ea261eb4185c",
   "metadata": {},
   "outputs": [],
   "source": [
    "sgs.MetricCurationSelection()"
   ]
  },
  {
   "cell_type": "code",
   "execution_count": null,
   "id": "d22f5725-4fd1-42ea-a1d4-590bd1353d46",
   "metadata": {},
   "outputs": [],
   "source": [
    "sgs.MetricCuration.populate()"
   ]
  },
  {
   "cell_type": "code",
   "execution_count": null,
   "id": "eda6577c-3ed2-480a-b6ed-107d7c479084",
   "metadata": {},
   "outputs": [],
   "source": [
    "sgs.MetricCuration()"
   ]
  },
  {
   "cell_type": "markdown",
   "id": "54f354bf-0bfa-4148-9c5d-c5593f3f3915",
   "metadata": {},
   "source": [
    "to do another round of curation, fetch the relevant info and insert back into CurationV1 using `insert_curation`"
   ]
  },
  {
   "cell_type": "code",
   "execution_count": null,
   "id": "544ba8c0-560e-471b-9eaf-5924f6051faa",
   "metadata": {},
   "outputs": [],
   "source": [
    "key = {\"metric_curation_id\":(sgs.MetricCurationSelection & {'sorting_id':key['sorting_id']}).fetch1(\"metric_curation_id\")}"
   ]
  },
  {
   "cell_type": "code",
   "execution_count": null,
   "id": "45f3bc4a-2842-4802-ad0f-4f333dda171e",
   "metadata": {},
   "outputs": [],
   "source": [
    "labels = sgs.MetricCuration.get_labels(key)"
   ]
  },
  {
   "cell_type": "code",
   "execution_count": null,
   "id": "df84263f-db5a-44b7-8309-4d63d10fd883",
   "metadata": {},
   "outputs": [],
   "source": [
    "merge_groups = sgs.MetricCuration.get_merge_groups(key)"
   ]
  },
  {
   "cell_type": "code",
   "execution_count": null,
   "id": "895c85a5-5b4f-44de-a003-c942ba231c22",
   "metadata": {},
   "outputs": [],
   "source": [
    "metrics = sgs.MetricCuration.get_metrics(key)"
   ]
  },
  {
   "cell_type": "code",
   "execution_count": null,
   "id": "863f6e17-40a6-4b8d-82b5-d14a059c5c77",
   "metadata": {},
   "outputs": [],
   "source": [
    "sgs.CurationV1.insert_curation(sorting_id=(sgs.MetricCurationSelection & {'metric_curation_id':key['metric_curation_id']}).fetch1(\"sorting_id\"),\n",
    "                               parent_curation_id=0,\n",
    "                               labels=labels,\n",
    "                               merge_groups= merge_groups,\n",
    "                               metrics=metrics,\n",
    "                               description=\"after metric curation\")"
   ]
  },
  {
   "cell_type": "code",
   "execution_count": null,
   "id": "f7c6bfd9-5985-41e1-bf37-8c8874b59191",
   "metadata": {},
   "outputs": [],
   "source": [
    "sgs.CurationV1()"
   ]
  },
  {
   "cell_type": "markdown",
   "id": "cf8708a4-0a55-4309-b3c4-dbf47d61ad31",
   "metadata": {},
   "source": [
    "next we will do manual curation. this is done with figurl. to incorporate info from other stages of processing (e.g. metrics) we have to store that with kachery cloud and get curation uri referring to it. it can be done with `generate_curation_uri`."
   ]
  },
  {
   "cell_type": "code",
   "execution_count": null,
   "id": "924cdfce-e287-41d7-abf9-872797637777",
   "metadata": {},
   "outputs": [],
   "source": [
    "curation_uri = sgs.FigURLCurationSelection.generate_curation_uri({\"sorting_id\":(sgs.MetricCurationSelection & {'metric_curation_id':key['metric_curation_id']}).fetch1(\"sorting_id\"),\n",
    "                                                                  \"curation_id\":1})"
   ]
  },
  {
   "cell_type": "code",
   "execution_count": null,
   "id": "1987fab4-9d4f-47dc-9546-90086fba7919",
   "metadata": {},
   "outputs": [],
   "source": [
    "key = {\"sorting_id\":(sgs.MetricCurationSelection & {'metric_curation_id':key['metric_curation_id']}).fetch1(\"sorting_id\"),\n",
    "       \"curation_id\":1,\n",
    "       \"curation_uri\": curation_uri,\n",
    "       \"metrics_figurl\":list(metrics.keys())}"
   ]
  },
  {
   "cell_type": "code",
   "execution_count": null,
   "id": "18c05728-9a87-4624-bd3b-82038ef68bd8",
   "metadata": {},
   "outputs": [],
   "source": [
    "sgs.FigURLCurationSelection()"
   ]
  },
  {
   "cell_type": "code",
   "execution_count": null,
   "id": "ecb9106b-8f92-4725-a68c-d5233453b3a4",
   "metadata": {},
   "outputs": [],
   "source": [
    "sgs.FigURLCurationSelection.insert_selection(key)"
   ]
  },
  {
   "cell_type": "code",
   "execution_count": null,
   "id": "cd9667da-794f-4196-9e3d-527d8932d1e9",
   "metadata": {},
   "outputs": [],
   "source": [
    "sgs.FigURLCurationSelection()"
   ]
  },
  {
   "cell_type": "code",
   "execution_count": null,
   "id": "c3b029c6-8dc8-4af3-ad42-8a9443e70023",
   "metadata": {},
   "outputs": [],
   "source": [
    "sgs.FigURLCuration.populate()"
   ]
  },
  {
   "cell_type": "code",
   "execution_count": null,
   "id": "7bf6eb76-4883-4436-a320-7ade5c3af910",
   "metadata": {},
   "outputs": [],
   "source": [
    "sgs.FigURLCuration()"
   ]
  },
  {
   "cell_type": "markdown",
   "id": "9ca0d48c-900b-4985-a27a-be1ff82616a4",
   "metadata": {},
   "source": [
    "or you can manually specify it if you already have a `curation.json`"
   ]
  },
  {
   "cell_type": "code",
   "execution_count": null,
   "id": "b2e9b018-9a8b-4344-9b8e-9e2141324bfa",
   "metadata": {},
   "outputs": [],
   "source": [
    "gh_curation_uri = \"gh://LorenFrankLab/sorting-curations/main/khl02007/test/curation.json\"\n",
    "\n",
    "key = {\"sorting_id\" : key[\"sorting_id\"],\n",
    "       \"curation_id\" : 1,\n",
    "       \"curation_uri\" : gh_curation_uri,\n",
    "       \"metrics_figurl\" : []}"
   ]
  },
  {
   "cell_type": "code",
   "execution_count": null,
   "id": "449cdcdc-dcff-4aa6-a541-d674ccfbb0b5",
   "metadata": {},
   "outputs": [],
   "source": [
    "sgs.FigURLCurationSelection.insert_selection(key)"
   ]
  },
  {
   "cell_type": "code",
   "execution_count": null,
   "id": "ad86c81e-1424-4fa2-a022-7cc0a3425fc0",
   "metadata": {},
   "outputs": [],
   "source": [
    "sgs.FigURLCuration.populate()"
   ]
  },
  {
   "cell_type": "code",
   "execution_count": null,
   "id": "37847473-1c46-4991-93a0-e315568e675a",
   "metadata": {},
   "outputs": [],
   "source": [
    "sgs.FigURLCuration()"
   ]
  },
  {
   "cell_type": "markdown",
   "id": "6d68f93e-1586-4d3b-b680-0fe2115c0ab4",
   "metadata": {},
   "source": [
    "once you apply manual curation (curation labels and merge groups) you can store them as nwb by inserting another row in CurationV1. And then you can do more rounds of curation if you want."
   ]
  },
  {
   "cell_type": "code",
   "execution_count": null,
   "id": "15694ca0-3ec1-49a8-9ac4-66cf6d6f49ee",
   "metadata": {},
   "outputs": [],
   "source": [
    "labels = sgs.FigURLCuration.get_labels(gh_curation_uri)"
   ]
  },
  {
   "cell_type": "code",
   "execution_count": null,
   "id": "f467a487-100e-4217-914a-60e852805faf",
   "metadata": {},
   "outputs": [],
   "source": [
    "merge_groups = sgs.FigURLCuration.get_merge_groups(gh_curation_uri)"
   ]
  },
  {
   "cell_type": "code",
   "execution_count": null,
   "id": "5873ad89-64cb-427a-a183-f15c2c42907a",
   "metadata": {},
   "outputs": [],
   "source": [
    "sgs.CurationV1.insert_curation(sorting_id=key[\"sorting_id\"],\n",
    "                               parent_curation_id=1,\n",
    "                               labels=labels,\n",
    "                               merge_groups= merge_groups,\n",
    "                               metrics=metrics,\n",
    "                               description=\"after figurl curation\")"
   ]
  },
  {
   "cell_type": "code",
   "execution_count": null,
   "id": "1d40eb3a-34c5-4771-8fc0-730fafb5cb8a",
   "metadata": {},
   "outputs": [],
   "source": [
    "sgs.CurationV1()"
   ]
  },
  {
   "cell_type": "code",
   "execution_count": null,
   "id": "511ecb19-7d8d-4db6-be71-c0ed66e2b0f2",
   "metadata": {},
   "outputs": [],
   "source": [
    "from spyglass.spikesorting.merge import SpikeSortingOutput"
   ]
  },
  {
   "cell_type": "code",
   "execution_count": null,
   "id": "a59b78e2-b76a-4958-b012-708ed5600be6",
   "metadata": {},
   "outputs": [],
   "source": [
    "SpikeSortingOutput.insert_from_source(key, source=\"CurationV1\")"
   ]
  },
  {
   "cell_type": "code",
   "execution_count": null,
   "id": "582a40d9-ffb0-401c-ae9d-287336e47911",
   "metadata": {},
   "outputs": [],
   "source": [
    "SpikeSortingOutput()"
   ]
  },
  {
   "cell_type": "code",
   "execution_count": null,
   "id": "55b2b015-e9a3-4ab1-b2bc-4925bd8e9438",
   "metadata": {},
   "outputs": [],
   "source": [
    "SpikeSortingOutput.CurationV1()"
   ]
  },
  {
   "cell_type": "code",
   "execution_count": null,
   "id": "e9eebf75-6fef-43c4-80b8-12e59e5d743c",
   "metadata": {},
   "outputs": [],
   "source": []
  }
 ],
 "metadata": {
  "kernelspec": {
   "display_name": "Python 3 (ipykernel)",
   "language": "python",
   "name": "python3"
  },
  "language_info": {
   "codemirror_mode": {
    "name": "ipython",
    "version": 3
   },
   "file_extension": ".py",
   "mimetype": "text/x-python",
   "name": "python",
   "nbconvert_exporter": "python",
   "pygments_lexer": "ipython3",
   "version": "3.8.13"
  }
 },
 "nbformat": 4,
 "nbformat_minor": 5
}
