{
 "cells": [
  {
   "cell_type": "markdown",
   "id": "5fce5c22-caab-473b-a103-5009a2798d12",
   "metadata": {},
   "source": [
    "Connect to db. See instructions in [Setup](./00_Setup.ipynb).\n"
   ]
  },
  {
   "cell_type": "code",
   "execution_count": 1,
   "id": "5778bf96-740c-4e4b-a695-ed4385fc9b58",
   "metadata": {
    "tags": []
   },
   "outputs": [],
   "source": [
    "import os\n",
    "import datajoint as dj\n",
    "import numpy as np\n",
    "\n",
    "# change to the upper level folder to detect dj_local_conf.json\n",
    "if os.path.basename(os.getcwd()) == \"notebooks\":\n",
    "    os.chdir(\"..\")\n",
    "dj.config[\"enable_python_native_blobs\"] = True\n",
    "dj.config.load(\"dj_local_conf.json\")  # load config for database connection info\n",
    "\n",
    "%load_ext autoreload\n",
    "%autoreload 2"
   ]
  },
  {
   "cell_type": "markdown",
   "id": "84e7c0b5-f660-4304-9b87-08f5bbf4dbac",
   "metadata": {},
   "source": [
    "import\n"
   ]
  },
  {
   "cell_type": "code",
   "execution_count": 2,
   "id": "16345184-c012-486c-b0b6-c914168f2449",
   "metadata": {},
   "outputs": [
    {
     "name": "stderr",
     "output_type": "stream",
     "text": [
      "[2024-02-19 16:54:30,495][INFO]: Connecting dhshin@lmf-db.cin.ucsf.edu:3306\n",
      "[2024-02-19 16:54:30,532][INFO]: Connected dhshin@lmf-db.cin.ucsf.edu:3306\n",
      "[16:54:31][WARNING] Spyglass: Please update position_tools to >= 0.1.0\n"
     ]
    }
   ],
   "source": [
    "import spyglass.common as sgc\n",
    "import spyglass.spikesorting.v1 as sgs\n",
    "import spyglass.data_import as sgi"
   ]
  },
  {
   "cell_type": "markdown",
   "id": "48d2c06a-feb6-438c-94b3-4028127e2101",
   "metadata": {},
   "source": [
    "insert LabMember and Session\n"
   ]
  },
  {
   "cell_type": "code",
   "execution_count": 3,
   "id": "a3a0ecdf-8dad-41d5-9ee2-fa60f80c746d",
   "metadata": {},
   "outputs": [],
   "source": [
    "nwb_file_name = \"mediumnwb20230802.nwb\"\n",
    "nwb_file_name2 = \"mediumnwb20230802_.nwb\""
   ]
  },
  {
   "cell_type": "code",
   "execution_count": 6,
   "id": "69e258e0-2c55-434a-afb5-00cf635bac84",
   "metadata": {},
   "outputs": [],
   "source": [
    "#sgc.LabMember.insert_from_nwbfile(nwb_file_name)"
   ]
  },
  {
   "cell_type": "code",
   "execution_count": 4,
   "id": "dfa1b73e-da6e-470f-aff6-0d45c3ddff5c",
   "metadata": {},
   "outputs": [
    {
     "name": "stderr",
     "output_type": "stream",
     "text": [
      "/home/dhshin/projects/continual-recording/spyglass/src/spyglass/data_import/insert_sessions.py:58: UserWarning: Cannot insert data from mediumnwb20230802.nwb: mediumnwb20230802_.nwb is already in Nwbfile table.\n",
      "  warnings.warn(\n"
     ]
    }
   ],
   "source": [
    "sgi.insert_sessions(nwb_file_name)"
   ]
  },
  {
   "cell_type": "code",
   "execution_count": 5,
   "id": "e11b5f5d-e9e0-4949-9fc1-4a34cc975fb1",
   "metadata": {},
   "outputs": [
    {
     "data": {
      "text/html": [
       "\n",
       "    \n",
       "    <style type=\"text/css\">\n",
       "        .Table{\n",
       "            border-collapse:collapse;\n",
       "        }\n",
       "        .Table th{\n",
       "            background: #A0A0A0; color: #ffffff; padding:4px; border:#f0e0e0 1px solid;\n",
       "            font-weight: normal; font-family: monospace; font-size: 100%;\n",
       "        }\n",
       "        .Table td{\n",
       "            padding:4px; border:#f0e0e0 1px solid; font-size:100%;\n",
       "        }\n",
       "        .Table tr:nth-child(odd){\n",
       "            background: #ffffff;\n",
       "            color: #000000;\n",
       "        }\n",
       "        .Table tr:nth-child(even){\n",
       "            background: #f3f1ff;\n",
       "            color: #000000;\n",
       "        }\n",
       "        /* Tooltip container */\n",
       "        .djtooltip {\n",
       "        }\n",
       "        /* Tooltip text */\n",
       "        .djtooltip .djtooltiptext {\n",
       "            visibility: hidden;\n",
       "            width: 120px;\n",
       "            background-color: black;\n",
       "            color: #fff;\n",
       "            text-align: center;\n",
       "            padding: 5px 0;\n",
       "            border-radius: 6px;\n",
       "            /* Position the tooltip text - see examples below! */\n",
       "            position: absolute;\n",
       "            z-index: 1;\n",
       "        }\n",
       "        #primary {\n",
       "            font-weight: bold;\n",
       "            color: black;\n",
       "        }\n",
       "        #nonprimary {\n",
       "            font-weight: normal;\n",
       "            color: white;\n",
       "        }\n",
       "\n",
       "        /* Show the tooltip text when you mouse over the tooltip container */\n",
       "        .djtooltip:hover .djtooltiptext {\n",
       "            visibility: visible;\n",
       "        }\n",
       "    </style>\n",
       "    \n",
       "    <b>Table for holding experimental sessions.</b>\n",
       "        <div style=\"max-height:1000px;max-width:1500px;overflow:auto;\">\n",
       "        <table border=\"1\" class=\"Table\">\n",
       "            <thead> <tr style=\"text-align: right;\"> <th> <div class=\"djtooltip\">\n",
       "                            <p id=\"primary\">nwb_file_name</p>\n",
       "                            <span class=\"djtooltiptext\">name of the NWB file</span>\n",
       "                        </div></th><th><div class=\"djtooltip\">\n",
       "                            <p id=\"nonprimary\">subject_id</p>\n",
       "                            <span class=\"djtooltiptext\"></span>\n",
       "                        </div></th><th><div class=\"djtooltip\">\n",
       "                            <p id=\"nonprimary\">institution_name</p>\n",
       "                            <span class=\"djtooltiptext\"></span>\n",
       "                        </div></th><th><div class=\"djtooltip\">\n",
       "                            <p id=\"nonprimary\">lab_name</p>\n",
       "                            <span class=\"djtooltiptext\"></span>\n",
       "                        </div></th><th><div class=\"djtooltip\">\n",
       "                            <p id=\"nonprimary\">session_id</p>\n",
       "                            <span class=\"djtooltiptext\"></span>\n",
       "                        </div></th><th><div class=\"djtooltip\">\n",
       "                            <p id=\"nonprimary\">session_description</p>\n",
       "                            <span class=\"djtooltiptext\"></span>\n",
       "                        </div></th><th><div class=\"djtooltip\">\n",
       "                            <p id=\"nonprimary\">session_start_time</p>\n",
       "                            <span class=\"djtooltiptext\"></span>\n",
       "                        </div></th><th><div class=\"djtooltip\">\n",
       "                            <p id=\"nonprimary\">timestamps_reference_time</p>\n",
       "                            <span class=\"djtooltiptext\"></span>\n",
       "                        </div></th><th><div class=\"djtooltip\">\n",
       "                            <p id=\"nonprimary\">experiment_description</p>\n",
       "                            <span class=\"djtooltiptext\"></span>\n",
       "                        </div> </th> </tr> </thead>\n",
       "            <tbody> <tr> <td>aj8020230628_.nwb</td>\n",
       "<td>aj80</td>\n",
       "<td>University of California, San Francisco</td>\n",
       "<td>Loren Frank Lab</td>\n",
       "<td>1</td>\n",
       "<td>linear track</td>\n",
       "<td>2023-06-28 12:22:41</td>\n",
       "<td>1970-01-01 00:00:00</td>\n",
       "<td>rat locomotion analysis</td></tr><tr><td>aj8420230703_.nwb</td>\n",
       "<td>AJ84</td>\n",
       "<td>University of California, San Francisco</td>\n",
       "<td>Loren Frank Lab</td>\n",
       "<td>1</td>\n",
       "<td>linear track</td>\n",
       "<td>2023-07-03 16:19:52</td>\n",
       "<td>1970-01-01 00:00:00</td>\n",
       "<td>rat locomotion analysis</td></tr><tr><td>aj8620230628_.nwb</td>\n",
       "<td>AJ86</td>\n",
       "<td>University of California, San Francisco</td>\n",
       "<td>Loren Frank Lab</td>\n",
       "<td>1</td>\n",
       "<td>linear track</td>\n",
       "<td>2023-06-28 14:17:06</td>\n",
       "<td>1970-01-01 00:00:00</td>\n",
       "<td>rat locomotion analysis</td></tr><tr><td>arthur20220314_.nwb</td>\n",
       "<td>arthur</td>\n",
       "<td>University of California, San Francisco</td>\n",
       "<td>Loren Frank</td>\n",
       "<td>arthur_20220315</td>\n",
       "<td>Hippocampus content feedback</td>\n",
       "<td>2022-03-15 10:12:09</td>\n",
       "<td>1970-01-01 00:00:00</td>\n",
       "<td>Hippocampus content feedback</td></tr><tr><td>arthur20220315_.nwb</td>\n",
       "<td>arthur</td>\n",
       "<td>University of California, San Francisco</td>\n",
       "<td>Loren Frank</td>\n",
       "<td>arthur_20220315</td>\n",
       "<td>Hippocampus content feedback</td>\n",
       "<td>2022-03-15 10:12:09</td>\n",
       "<td>1970-01-01 00:00:00</td>\n",
       "<td>Hippocampus content feedback</td></tr><tr><td>arthur20220316_.nwb</td>\n",
       "<td>arthur</td>\n",
       "<td>University of California, San Francisco</td>\n",
       "<td>Loren Frank</td>\n",
       "<td>arthur_20220316</td>\n",
       "<td>Hippocampus content feedback</td>\n",
       "<td>2022-03-16 10:03:06</td>\n",
       "<td>1970-01-01 00:00:00</td>\n",
       "<td>Hippocampus content feedback</td></tr><tr><td>arthur20220317_.nwb</td>\n",
       "<td>arthur</td>\n",
       "<td>University of California, San Francisco</td>\n",
       "<td>Loren Frank</td>\n",
       "<td>arthur_20220317</td>\n",
       "<td>Hippocampus content feedback</td>\n",
       "<td>2022-03-17 10:18:59</td>\n",
       "<td>1970-01-01 00:00:00</td>\n",
       "<td>Hippocampus content feedback</td></tr><tr><td>arthur20220318_.nwb</td>\n",
       "<td>arthur</td>\n",
       "<td>University of California, San Francisco</td>\n",
       "<td>Loren Frank</td>\n",
       "<td>arthur_20220318</td>\n",
       "<td>Hippocampus content feedback</td>\n",
       "<td>2022-03-18 10:29:58</td>\n",
       "<td>1970-01-01 00:00:00</td>\n",
       "<td>Hippocampus content feedback</td></tr><tr><td>arthur20220319_.nwb</td>\n",
       "<td>arthur</td>\n",
       "<td>University of California, San Francisco</td>\n",
       "<td>Loren Frank</td>\n",
       "<td>arthur_20220319</td>\n",
       "<td>Hippocampus content feedback</td>\n",
       "<td>2022-03-19 11:54:02</td>\n",
       "<td>1970-01-01 00:00:00</td>\n",
       "<td>Hippocampus content feedback</td></tr><tr><td>arthur20220320_.nwb</td>\n",
       "<td>arthur</td>\n",
       "<td>University of California, San Francisco</td>\n",
       "<td>Loren Frank</td>\n",
       "<td>arthur_20220320</td>\n",
       "<td>Hippocampus content feedback</td>\n",
       "<td>2022-03-20 10:21:08</td>\n",
       "<td>1970-01-01 00:00:00</td>\n",
       "<td>Hippocampus content feedback</td></tr><tr><td>arthur20220321_.nwb</td>\n",
       "<td>arthur</td>\n",
       "<td>University of California, San Francisco</td>\n",
       "<td>Loren Frank</td>\n",
       "<td>arthur_20220321</td>\n",
       "<td>Hippocampus content feedback</td>\n",
       "<td>2022-03-21 10:19:51</td>\n",
       "<td>1970-01-01 00:00:00</td>\n",
       "<td>Hippocampus content feedback</td></tr><tr><td>arthur20220322_.nwb</td>\n",
       "<td>arthur</td>\n",
       "<td>University of California, San Francisco</td>\n",
       "<td>Loren Frank</td>\n",
       "<td>arthur_20220322</td>\n",
       "<td>Hippocampus content feedback</td>\n",
       "<td>2022-03-22 10:15:54</td>\n",
       "<td>1970-01-01 00:00:00</td>\n",
       "<td>Hippocampus content feedback</td> </tr> </tbody>\n",
       "        </table>\n",
       "        <p>...</p>\n",
       "        <p>Total: 865</p></div>\n",
       "        "
      ],
      "text/plain": [
       "*nwb_file_name subject_id     institution_na lab_name       session_id     session_descri session_start_ timestamps_ref experiment_des\n",
       "+------------+ +------------+ +------------+ +------------+ +------------+ +------------+ +------------+ +------------+ +------------+\n",
       "aj8020230628_. aj80           University of  Loren Frank La 1              linear track   2023-06-28 12: 1970-01-01 00: rat locomotion\n",
       "aj8420230703_. AJ84           University of  Loren Frank La 1              linear track   2023-07-03 16: 1970-01-01 00: rat locomotion\n",
       "aj8620230628_. AJ86           University of  Loren Frank La 1              linear track   2023-06-28 14: 1970-01-01 00: rat locomotion\n",
       "arthur20220314 arthur         University of  Loren Frank    arthur_2022031 Hippocampus co 2022-03-15 10: 1970-01-01 00: Hippocampus co\n",
       "arthur20220315 arthur         University of  Loren Frank    arthur_2022031 Hippocampus co 2022-03-15 10: 1970-01-01 00: Hippocampus co\n",
       "arthur20220316 arthur         University of  Loren Frank    arthur_2022031 Hippocampus co 2022-03-16 10: 1970-01-01 00: Hippocampus co\n",
       "arthur20220317 arthur         University of  Loren Frank    arthur_2022031 Hippocampus co 2022-03-17 10: 1970-01-01 00: Hippocampus co\n",
       "arthur20220318 arthur         University of  Loren Frank    arthur_2022031 Hippocampus co 2022-03-18 10: 1970-01-01 00: Hippocampus co\n",
       "arthur20220319 arthur         University of  Loren Frank    arthur_2022031 Hippocampus co 2022-03-19 11: 1970-01-01 00: Hippocampus co\n",
       "arthur20220320 arthur         University of  Loren Frank    arthur_2022032 Hippocampus co 2022-03-20 10: 1970-01-01 00: Hippocampus co\n",
       "arthur20220321 arthur         University of  Loren Frank    arthur_2022032 Hippocampus co 2022-03-21 10: 1970-01-01 00: Hippocampus co\n",
       "arthur20220322 arthur         University of  Loren Frank    arthur_2022032 Hippocampus co 2022-03-22 10: 1970-01-01 00: Hippocampus co\n",
       "   ...\n",
       " (Total: 865)"
      ]
     },
     "execution_count": 5,
     "metadata": {},
     "output_type": "execute_result"
    }
   ],
   "source": [
    "sgc.Session()"
   ]
  },
  {
   "cell_type": "markdown",
   "id": "5f3dfe2d-4645-44f9-b169-479292215afe",
   "metadata": {},
   "source": [
    "insert SortGroup\n"
   ]
  },
  {
   "cell_type": "code",
   "execution_count": 10,
   "id": "a269f6af-eb16-4551-b511-a264368c9490",
   "metadata": {},
   "outputs": [],
   "source": [
    "#sgs.SortGroup.set_group_by_shank(nwb_file_name=nwb_file_name2)"
   ]
  },
  {
   "cell_type": "markdown",
   "id": "1c55792e-f9ba-4e0d-a4d2-8c60bf0e8f34",
   "metadata": {},
   "source": [
    "insert SpikeSortingRecordingSelection. use `insert_selection` method. this automatically generates a unique recording id\n"
   ]
  },
  {
   "cell_type": "code",
   "execution_count": 6,
   "id": "5b307631-3cc5-4859-9e95-aeedf6a3de56",
   "metadata": {},
   "outputs": [],
   "source": [
    "key = {\n",
    "    \"nwb_file_name\": nwb_file_name2,\n",
    "    \"sort_group_id\": 0,\n",
    "    \"preproc_param_name\": \"default\",\n",
    "}"
   ]
  },
  {
   "cell_type": "code",
   "execution_count": 7,
   "id": "f202a26e-00dd-44e8-886d-48c3a7b4a072",
   "metadata": {},
   "outputs": [
    {
     "data": {
      "text/html": [
       "\n",
       "    \n",
       "    <style type=\"text/css\">\n",
       "        .Table{\n",
       "            border-collapse:collapse;\n",
       "        }\n",
       "        .Table th{\n",
       "            background: #A0A0A0; color: #ffffff; padding:4px; border:#f0e0e0 1px solid;\n",
       "            font-weight: normal; font-family: monospace; font-size: 100%;\n",
       "        }\n",
       "        .Table td{\n",
       "            padding:4px; border:#f0e0e0 1px solid; font-size:100%;\n",
       "        }\n",
       "        .Table tr:nth-child(odd){\n",
       "            background: #ffffff;\n",
       "            color: #000000;\n",
       "        }\n",
       "        .Table tr:nth-child(even){\n",
       "            background: #f3f1ff;\n",
       "            color: #000000;\n",
       "        }\n",
       "        /* Tooltip container */\n",
       "        .djtooltip {\n",
       "        }\n",
       "        /* Tooltip text */\n",
       "        .djtooltip .djtooltiptext {\n",
       "            visibility: hidden;\n",
       "            width: 120px;\n",
       "            background-color: black;\n",
       "            color: #fff;\n",
       "            text-align: center;\n",
       "            padding: 5px 0;\n",
       "            border-radius: 6px;\n",
       "            /* Position the tooltip text - see examples below! */\n",
       "            position: absolute;\n",
       "            z-index: 1;\n",
       "        }\n",
       "        #primary {\n",
       "            font-weight: bold;\n",
       "            color: black;\n",
       "        }\n",
       "        #nonprimary {\n",
       "            font-weight: normal;\n",
       "            color: white;\n",
       "        }\n",
       "\n",
       "        /* Show the tooltip text when you mouse over the tooltip container */\n",
       "        .djtooltip:hover .djtooltiptext {\n",
       "            visibility: visible;\n",
       "        }\n",
       "    </style>\n",
       "    \n",
       "    <b>Raw voltage traces and parameters. Use `insert_selection` method to insert rows.</b>\n",
       "        <div style=\"max-height:1000px;max-width:1500px;overflow:auto;\">\n",
       "        <table border=\"1\" class=\"Table\">\n",
       "            <thead> <tr style=\"text-align: right;\"> <th> <div class=\"djtooltip\">\n",
       "                            <p id=\"primary\">recording_id</p>\n",
       "                            <span class=\"djtooltiptext\"></span>\n",
       "                        </div></th><th><div class=\"djtooltip\">\n",
       "                            <p id=\"nonprimary\">nwb_file_name</p>\n",
       "                            <span class=\"djtooltiptext\">name of the NWB file</span>\n",
       "                        </div></th><th><div class=\"djtooltip\">\n",
       "                            <p id=\"nonprimary\">sort_group_id</p>\n",
       "                            <span class=\"djtooltiptext\"></span>\n",
       "                        </div></th><th><div class=\"djtooltip\">\n",
       "                            <p id=\"nonprimary\">interval_list_name</p>\n",
       "                            <span class=\"djtooltiptext\">descriptive name of this interval list</span>\n",
       "                        </div></th><th><div class=\"djtooltip\">\n",
       "                            <p id=\"nonprimary\">preproc_param_name</p>\n",
       "                            <span class=\"djtooltiptext\"></span>\n",
       "                        </div></th><th><div class=\"djtooltip\">\n",
       "                            <p id=\"nonprimary\">team_name</p>\n",
       "                            <span class=\"djtooltiptext\"></span>\n",
       "                        </div> </th> </tr> </thead>\n",
       "            <tbody> <tr> <td>747f4eea-6df3-422b-941e-b5aaad7ec607</td>\n",
       "<td>mediumnwb20230802_.nwb</td>\n",
       "<td>0</td>\n",
       "<td>02_r1</td>\n",
       "<td>default</td>\n",
       "<td>ms_stim</td> </tr> </tbody>\n",
       "        </table>\n",
       "        \n",
       "        <p>Total: 1</p></div>\n",
       "        "
      ],
      "text/plain": [
       "*recording_id  nwb_file_name  sort_group_id  interval_list_ preproc_param_ team_name    \n",
       "+------------+ +------------+ +------------+ +------------+ +------------+ +-----------+\n",
       "747f4eea-6df3- mediumnwb20230 0              02_r1          default        ms_stim      \n",
       " (Total: 1)"
      ]
     },
     "execution_count": 7,
     "metadata": {},
     "output_type": "execute_result"
    }
   ],
   "source": [
    "sgs.SpikeSortingRecordingSelection() & key"
   ]
  },
  {
   "cell_type": "code",
   "execution_count": 8,
   "id": "e6d0dcb0-acfe-4adb-8da6-a5570b97f48a",
   "metadata": {},
   "outputs": [
    {
     "name": "stderr",
     "output_type": "stream",
     "text": [
      "[16:54:33][WARNING] Spyglass: Similar row(s) already inserted.\n"
     ]
    },
    {
     "data": {
      "text/plain": [
       "[{'recording_id': UUID('747f4eea-6df3-422b-941e-b5aaad7ec607'),\n",
       "  'nwb_file_name': 'mediumnwb20230802_.nwb',\n",
       "  'sort_group_id': 0,\n",
       "  'interval_list_name': '02_r1',\n",
       "  'preproc_param_name': 'default',\n",
       "  'team_name': 'ms_stim'}]"
      ]
     },
     "execution_count": 8,
     "metadata": {},
     "output_type": "execute_result"
    }
   ],
   "source": [
    "sgs.SpikeSortingRecordingSelection.insert_selection(key)"
   ]
  },
  {
   "cell_type": "code",
   "execution_count": 11,
   "id": "bd0489bc-7951-4065-9d35-8a436b267a39",
   "metadata": {},
   "outputs": [
    {
     "data": {
      "text/plain": [
       "{'recording_id': UUID('747f4eea-6df3-422b-941e-b5aaad7ec607'),\n",
       " 'nwb_file_name': 'mediumnwb20230802_.nwb',\n",
       " 'sort_group_id': 0,\n",
       " 'preproc_param_name': 'default'}"
      ]
     },
     "execution_count": 11,
     "metadata": {},
     "output_type": "execute_result"
    }
   ],
   "source": [
    "# Assuming 'key' is a dictionary with fields that you want to include in 'ssr_key'\n",
    "ssr_key = {\n",
    "    \"recording_id\": (sgs.SpikeSortingRecordingSelection() & key).fetch1('recording_id'),\t\n",
    "}\n",
    "\n",
    "# Update ssr_key with all items from 'key'\n",
    "ssr_key.update(key)\n",
    "\n",
    "# Optionally, add or update additional fields in 'ssr_key'\n",
    "# Uncomment and adjust the following lines according to your specific requirements\n",
    "# ssr_key[\"n\n",
    "ssr_key"
   ]
  },
  {
   "cell_type": "markdown",
   "id": "2fc85684-71a2-4e37-9ad7-a3a923749c8f",
   "metadata": {},
   "source": [
    "preprocess recording (filtering and referencing)\n"
   ]
  },
  {
   "cell_type": "code",
   "execution_count": 12,
   "id": "1bd48e28-d40e-4cf3-a89e-58d4c3cb08e8",
   "metadata": {},
   "outputs": [
    {
     "data": {
      "text/plain": [
       "{'success_count': 0, 'error_list': []}"
      ]
     },
     "execution_count": 12,
     "metadata": {},
     "output_type": "execute_result"
    }
   ],
   "source": [
    "#sgs.SpikeSortingRecording.populate()\n",
    "sgs.SpikeSortingRecording.populate(ssr_key)"
   ]
  },
  {
   "cell_type": "code",
   "execution_count": 14,
   "id": "9a9bf343-5b5e-457c-8bf4-f12b194a5489",
   "metadata": {},
   "outputs": [
    {
     "data": {
      "text/html": [
       "\n",
       "    \n",
       "    <style type=\"text/css\">\n",
       "        .Table{\n",
       "            border-collapse:collapse;\n",
       "        }\n",
       "        .Table th{\n",
       "            background: #A0A0A0; color: #ffffff; padding:4px; border:#f0e0e0 1px solid;\n",
       "            font-weight: normal; font-family: monospace; font-size: 100%;\n",
       "        }\n",
       "        .Table td{\n",
       "            padding:4px; border:#f0e0e0 1px solid; font-size:100%;\n",
       "        }\n",
       "        .Table tr:nth-child(odd){\n",
       "            background: #ffffff;\n",
       "            color: #000000;\n",
       "        }\n",
       "        .Table tr:nth-child(even){\n",
       "            background: #f3f1ff;\n",
       "            color: #000000;\n",
       "        }\n",
       "        /* Tooltip container */\n",
       "        .djtooltip {\n",
       "        }\n",
       "        /* Tooltip text */\n",
       "        .djtooltip .djtooltiptext {\n",
       "            visibility: hidden;\n",
       "            width: 120px;\n",
       "            background-color: black;\n",
       "            color: #fff;\n",
       "            text-align: center;\n",
       "            padding: 5px 0;\n",
       "            border-radius: 6px;\n",
       "            /* Position the tooltip text - see examples below! */\n",
       "            position: absolute;\n",
       "            z-index: 1;\n",
       "        }\n",
       "        #primary {\n",
       "            font-weight: bold;\n",
       "            color: black;\n",
       "        }\n",
       "        #nonprimary {\n",
       "            font-weight: normal;\n",
       "            color: white;\n",
       "        }\n",
       "\n",
       "        /* Show the tooltip text when you mouse over the tooltip container */\n",
       "        .djtooltip:hover .djtooltiptext {\n",
       "            visibility: visible;\n",
       "        }\n",
       "    </style>\n",
       "    \n",
       "    <b>Processed recording.</b>\n",
       "        <div style=\"max-height:1000px;max-width:1500px;overflow:auto;\">\n",
       "        <table border=\"1\" class=\"Table\">\n",
       "            <thead> <tr style=\"text-align: right;\"> <th> <div class=\"djtooltip\">\n",
       "                            <p id=\"primary\">recording_id</p>\n",
       "                            <span class=\"djtooltiptext\"></span>\n",
       "                        </div></th><th><div class=\"djtooltip\">\n",
       "                            <p id=\"nonprimary\">analysis_file_name</p>\n",
       "                            <span class=\"djtooltiptext\">name of the file</span>\n",
       "                        </div></th><th><div class=\"djtooltip\">\n",
       "                            <p id=\"nonprimary\">object_id</p>\n",
       "                            <span class=\"djtooltiptext\">Object ID for the processed recording in NWB file</span>\n",
       "                        </div> </th> </tr> </thead>\n",
       "            <tbody> <tr> <td>747f4eea-6df3-422b-941e-b5aaad7ec607</td>\n",
       "<td>mediumnwb20230802_1UWNT3RC39.nwb</td>\n",
       "<td>d18630b4-cb00-4446-b2b4-5b4a041804c8</td> </tr> </tbody>\n",
       "        </table>\n",
       "        \n",
       "        <p>Total: 1</p></div>\n",
       "        "
      ],
      "text/plain": [
       "*recording_id  analysis_file_ object_id     \n",
       "+------------+ +------------+ +------------+\n",
       "747f4eea-6df3- mediumnwb20230 d18630b4-cb00-\n",
       " (Total: 1)"
      ]
     },
     "execution_count": 14,
     "metadata": {},
     "output_type": "execute_result"
    }
   ],
   "source": [
    "sgs.SpikeSortingRecording() & ssr_key"
   ]
  },
  {
   "cell_type": "code",
   "execution_count": 15,
   "id": "1c6c7ea3-9538-4fa9-890b-ee16cc18af31",
   "metadata": {},
   "outputs": [],
   "source": [
    "key = (\n",
    "    sgs.SpikeSortingRecordingSelection & key\n",
    ").fetch1()"
   ]
  },
  {
   "cell_type": "markdown",
   "id": "1955ed06-d754-470a-b5b3-94df6c3e03eb",
   "metadata": {},
   "source": [
    "insert ArtifactDetectionSelection\n"
   ]
  },
  {
   "cell_type": "code",
   "execution_count": 16,
   "id": "74415172-f2da-4fd3-ab43-01857d682b0d",
   "metadata": {},
   "outputs": [
    {
     "name": "stderr",
     "output_type": "stream",
     "text": [
      "[16:55:06][WARNING] Spyglass: Similar row(s) already inserted.\n"
     ]
    },
    {
     "data": {
      "text/plain": [
       "[{'artifact_id': UUID('9cf9e3cd-7115-4b59-a718-3633725d4738'),\n",
       "  'recording_id': UUID('747f4eea-6df3-422b-941e-b5aaad7ec607'),\n",
       "  'artifact_param_name': 'default'}]"
      ]
     },
     "execution_count": 16,
     "metadata": {},
     "output_type": "execute_result"
    }
   ],
   "source": [
    "sgs.ArtifactDetectionSelection.insert_selection(\n",
    "    {\"recording_id\": key[\"recording_id\"], \"artifact_param_name\": \"default\"}\n",
    ")"
   ]
  },
  {
   "cell_type": "markdown",
   "id": "a1fe3cf8-07c2-4743-90f6-8a8025bec696",
   "metadata": {},
   "source": [
    "detect artifact; note the output is stored in IntervalList\n"
   ]
  },
  {
   "cell_type": "code",
   "execution_count": 17,
   "id": "bd89c36c-c05b-4b4a-85d9-7679fed173d1",
   "metadata": {},
   "outputs": [
    {
     "data": {
      "text/plain": [
       "{'success_count': 0, 'error_list': []}"
      ]
     },
     "execution_count": 17,
     "metadata": {},
     "output_type": "execute_result"
    }
   ],
   "source": [
    "sgs.ArtifactDetection.populate()"
   ]
  },
  {
   "cell_type": "code",
   "execution_count": 20,
   "id": "ca9a9f64-0afc-4c83-b22c-0ed120cb87f6",
   "metadata": {},
   "outputs": [
    {
     "data": {
      "text/html": [
       "\n",
       "    \n",
       "    <style type=\"text/css\">\n",
       "        .Table{\n",
       "            border-collapse:collapse;\n",
       "        }\n",
       "        .Table th{\n",
       "            background: #A0A0A0; color: #ffffff; padding:4px; border:#f0e0e0 1px solid;\n",
       "            font-weight: normal; font-family: monospace; font-size: 100%;\n",
       "        }\n",
       "        .Table td{\n",
       "            padding:4px; border:#f0e0e0 1px solid; font-size:100%;\n",
       "        }\n",
       "        .Table tr:nth-child(odd){\n",
       "            background: #ffffff;\n",
       "            color: #000000;\n",
       "        }\n",
       "        .Table tr:nth-child(even){\n",
       "            background: #f3f1ff;\n",
       "            color: #000000;\n",
       "        }\n",
       "        /* Tooltip container */\n",
       "        .djtooltip {\n",
       "        }\n",
       "        /* Tooltip text */\n",
       "        .djtooltip .djtooltiptext {\n",
       "            visibility: hidden;\n",
       "            width: 120px;\n",
       "            background-color: black;\n",
       "            color: #fff;\n",
       "            text-align: center;\n",
       "            padding: 5px 0;\n",
       "            border-radius: 6px;\n",
       "            /* Position the tooltip text - see examples below! */\n",
       "            position: absolute;\n",
       "            z-index: 1;\n",
       "        }\n",
       "        #primary {\n",
       "            font-weight: bold;\n",
       "            color: black;\n",
       "        }\n",
       "        #nonprimary {\n",
       "            font-weight: normal;\n",
       "            color: white;\n",
       "        }\n",
       "\n",
       "        /* Show the tooltip text when you mouse over the tooltip container */\n",
       "        .djtooltip:hover .djtooltiptext {\n",
       "            visibility: visible;\n",
       "        }\n",
       "    </style>\n",
       "    \n",
       "    <b>Detected artifacts (e.g. large transients from movement).</b>\n",
       "        <div style=\"max-height:1000px;max-width:1500px;overflow:auto;\">\n",
       "        <table border=\"1\" class=\"Table\">\n",
       "            <thead> <tr style=\"text-align: right;\"> <th> <div class=\"djtooltip\">\n",
       "                            <p id=\"primary\">artifact_id</p>\n",
       "                            <span class=\"djtooltiptext\"></span>\n",
       "                        </div> </th> </tr> </thead>\n",
       "            <tbody> <tr> <td>0a6611b3-c593-4900-a715-66bb1396940e</td></tr><tr><td>1cd6ad2c-8ed6-447e-bbf8-d60e77df418c</td></tr><tr><td>27249d21-f04f-4738-b21f-4ad4a2bc58f7</td></tr><tr><td>2994ba9e-8fa9-4f87-8691-ccde704f5716</td></tr><tr><td>2cdba450-ca51-48ca-b90a-5fed93b079d4</td></tr><tr><td>2f89510f-f64a-4fb7-832b-3e4a0b8c41b9</td></tr><tr><td>3404cd5b-59b2-412d-93ab-5053796951b2</td></tr><tr><td>38945e52-fcd0-4005-829f-4439320f03b2</td></tr><tr><td>3d0f32bd-aea9-408d-904f-671024d93b78</td></tr><tr><td>3d782852-a56b-4a9d-89ca-be9e1a15c957</td></tr><tr><td>4cf3d001-6c6a-49b5-b5b0-93f9448a8b6c</td></tr><tr><td>5d906f80-0f50-4cd1-847b-ee912b4673e0</td> </tr> </tbody>\n",
       "        </table>\n",
       "        <p>...</p>\n",
       "        <p>Total: 29</p></div>\n",
       "        "
      ],
      "text/plain": [
       "*artifact_id  \n",
       "+------------+\n",
       "0a6611b3-c593-\n",
       "1cd6ad2c-8ed6-\n",
       "27249d21-f04f-\n",
       "2994ba9e-8fa9-\n",
       "2cdba450-ca51-\n",
       "2f89510f-f64a-\n",
       "3404cd5b-59b2-\n",
       "38945e52-fcd0-\n",
       "3d0f32bd-aea9-\n",
       "3d782852-a56b-\n",
       "4cf3d001-6c6a-\n",
       "5d906f80-0f50-\n",
       "   ...\n",
       " (Total: 29)"
      ]
     },
     "execution_count": 20,
     "metadata": {},
     "output_type": "execute_result"
    }
   ],
   "source": [
    "sgs.ArtifactDetection()"
   ]
  },
  {
   "cell_type": "markdown",
   "id": "65ae0f70-2d8d-40d4-86c9-2ab206b28ca9",
   "metadata": {},
   "source": [
    "insert SpikeSortingSelection. again use `insert_selection` method. This example is with mountainsort4\n"
   ]
  },
  {
   "cell_type": "code",
   "execution_count": 21,
   "id": "34246883-9dc4-43c5-a438-009215a3a35e",
   "metadata": {},
   "outputs": [
    {
     "data": {
      "text/plain": [
       "'\\nkey = {\\n    \"recording_id\": key[\"recording_id\"],\\n    \"sorter\": sorter\\n    \"sorter_param_name\": \"default\",\\n    \"nwb_file_name\": nwb_file_name2,\\n    \"interval_list_name\": str(\\n        (\\n            sgs.ArtifactDetectionSelection\\n            & {\"recording_id\": key[\"recording_id\"]}\\n        ).fetch1(\"artifact_id\")\\n    ),\\n}\\n'"
      ]
     },
     "execution_count": 21,
     "metadata": {},
     "output_type": "execute_result"
    }
   ],
   "source": [
    "key = {\n",
    "    \"recording_id\": key[\"recording_id\"],\n",
    "    \"sorter\": \"mountainsort4\",\n",
    "    \"sorter_param_name\": \"franklab_tetrode_hippocampus_30KHz\",\n",
    "    \"nwb_file_name\": nwb_file_name2,\n",
    "    \"interval_list_name\": str(\n",
    "        (\n",
    "            sgs.ArtifactDetectionSelection\n",
    "            & {\"recording_id\": key[\"recording_id\"]}\n",
    "        ).fetch1(\"artifact_id\")\n",
    "    ),\n",
    "}\n",
    "\n",
    "# When using other sorter -- change the sorter name below (tested with mountainsort5, kilosort2_5,kilosort3\n",
    "# when using mountainsort5, pip install 'mountainsort5'\n",
    "# when using kilosort -- make sure to pip install 'cuda-python' and 'spython'\n",
    "# For sorting with Kilosort, make sure to put the whole probe not a sliced individual shank.\n",
    "\n",
    "sorter = 'kilosort2_5'\n",
    "'''\n",
    "key = {\n",
    "    \"recording_id\": key[\"recording_id\"],\n",
    "    \"sorter\": sorter\n",
    "    \"sorter_param_name\": \"default\",\n",
    "    \"nwb_file_name\": nwb_file_name2,\n",
    "    \"interval_list_name\": str(\n",
    "        (\n",
    "            sgs.ArtifactDetectionSelection\n",
    "            & {\"recording_id\": key[\"recording_id\"]}\n",
    "        ).fetch1(\"artifact_id\")\n",
    "    ),\n",
    "}\n",
    "'''"
   ]
  },
  {
   "cell_type": "code",
   "execution_count": 22,
   "id": "68856fb6-b5c2-4ee4-b300-43a117e453a1",
   "metadata": {},
   "outputs": [
    {
     "name": "stderr",
     "output_type": "stream",
     "text": [
      "[16:55:39][INFO] Spyglass: Similar row(s) already inserted.\n"
     ]
    },
    {
     "data": {
      "text/plain": [
       "[{'sorting_id': UUID('874775be-df0f-4850-8f88-59ba1bbead89'),\n",
       "  'recording_id': UUID('747f4eea-6df3-422b-941e-b5aaad7ec607'),\n",
       "  'sorter': 'mountainsort4',\n",
       "  'sorter_param_name': 'franklab_tetrode_hippocampus_30KHz',\n",
       "  'nwb_file_name': 'mediumnwb20230802_.nwb',\n",
       "  'interval_list_name': '9cf9e3cd-7115-4b59-a718-3633725d4738'}]"
      ]
     },
     "execution_count": 22,
     "metadata": {},
     "output_type": "execute_result"
    }
   ],
   "source": [
    "sgs.SpikeSortingSelection.insert_selection(key)"
   ]
  },
  {
   "cell_type": "code",
   "execution_count": 23,
   "id": "2caed63b-6094-4a59-b8d9-6a0f186b2d3f",
   "metadata": {},
   "outputs": [
    {
     "data": {
      "text/html": [
       "\n",
       "    \n",
       "    <style type=\"text/css\">\n",
       "        .Table{\n",
       "            border-collapse:collapse;\n",
       "        }\n",
       "        .Table th{\n",
       "            background: #A0A0A0; color: #ffffff; padding:4px; border:#f0e0e0 1px solid;\n",
       "            font-weight: normal; font-family: monospace; font-size: 100%;\n",
       "        }\n",
       "        .Table td{\n",
       "            padding:4px; border:#f0e0e0 1px solid; font-size:100%;\n",
       "        }\n",
       "        .Table tr:nth-child(odd){\n",
       "            background: #ffffff;\n",
       "            color: #000000;\n",
       "        }\n",
       "        .Table tr:nth-child(even){\n",
       "            background: #f3f1ff;\n",
       "            color: #000000;\n",
       "        }\n",
       "        /* Tooltip container */\n",
       "        .djtooltip {\n",
       "        }\n",
       "        /* Tooltip text */\n",
       "        .djtooltip .djtooltiptext {\n",
       "            visibility: hidden;\n",
       "            width: 120px;\n",
       "            background-color: black;\n",
       "            color: #fff;\n",
       "            text-align: center;\n",
       "            padding: 5px 0;\n",
       "            border-radius: 6px;\n",
       "            /* Position the tooltip text - see examples below! */\n",
       "            position: absolute;\n",
       "            z-index: 1;\n",
       "        }\n",
       "        #primary {\n",
       "            font-weight: bold;\n",
       "            color: black;\n",
       "        }\n",
       "        #nonprimary {\n",
       "            font-weight: normal;\n",
       "            color: white;\n",
       "        }\n",
       "\n",
       "        /* Show the tooltip text when you mouse over the tooltip container */\n",
       "        .djtooltip:hover .djtooltiptext {\n",
       "            visibility: visible;\n",
       "        }\n",
       "    </style>\n",
       "    \n",
       "    <b>Processed recording and spike sorting parameters. Use `insert_selection` method to insert rows.</b>\n",
       "        <div style=\"max-height:1000px;max-width:1500px;overflow:auto;\">\n",
       "        <table border=\"1\" class=\"Table\">\n",
       "            <thead> <tr style=\"text-align: right;\"> <th> <div class=\"djtooltip\">\n",
       "                            <p id=\"primary\">sorting_id</p>\n",
       "                            <span class=\"djtooltiptext\"></span>\n",
       "                        </div></th><th><div class=\"djtooltip\">\n",
       "                            <p id=\"nonprimary\">recording_id</p>\n",
       "                            <span class=\"djtooltiptext\"></span>\n",
       "                        </div></th><th><div class=\"djtooltip\">\n",
       "                            <p id=\"nonprimary\">sorter</p>\n",
       "                            <span class=\"djtooltiptext\"></span>\n",
       "                        </div></th><th><div class=\"djtooltip\">\n",
       "                            <p id=\"nonprimary\">sorter_param_name</p>\n",
       "                            <span class=\"djtooltiptext\"></span>\n",
       "                        </div></th><th><div class=\"djtooltip\">\n",
       "                            <p id=\"nonprimary\">nwb_file_name</p>\n",
       "                            <span class=\"djtooltiptext\">name of the NWB file</span>\n",
       "                        </div></th><th><div class=\"djtooltip\">\n",
       "                            <p id=\"nonprimary\">interval_list_name</p>\n",
       "                            <span class=\"djtooltiptext\">descriptive name of this interval list</span>\n",
       "                        </div> </th> </tr> </thead>\n",
       "            <tbody> <tr> <td>874775be-df0f-4850-8f88-59ba1bbead89</td>\n",
       "<td>747f4eea-6df3-422b-941e-b5aaad7ec607</td>\n",
       "<td>mountainsort4</td>\n",
       "<td>franklab_tetrode_hippocampus_30KHz</td>\n",
       "<td>mediumnwb20230802_.nwb</td>\n",
       "<td>9cf9e3cd-7115-4b59-a718-3633725d4738</td> </tr> </tbody>\n",
       "        </table>\n",
       "        \n",
       "        <p>Total: 1</p></div>\n",
       "        "
      ],
      "text/plain": [
       "*sorting_id    recording_id   sorter         sorter_param_n nwb_file_name  interval_list_\n",
       "+------------+ +------------+ +------------+ +------------+ +------------+ +------------+\n",
       "874775be-df0f- 747f4eea-6df3- mountainsort4  franklab_tetro mediumnwb20230 9cf9e3cd-7115-\n",
       " (Total: 1)"
      ]
     },
     "execution_count": 23,
     "metadata": {},
     "output_type": "execute_result"
    }
   ],
   "source": [
    "sgs.SpikeSortingSelection() & key"
   ]
  },
  {
   "cell_type": "markdown",
   "id": "bb343fb7-04d6-48fc-bf67-9919769a7a52",
   "metadata": {},
   "source": [
    "run spike sorting\n"
   ]
  },
  {
   "cell_type": "code",
   "execution_count": 24,
   "id": "54ccf059-b1ae-42e8-aede-4af30a61fd2b",
   "metadata": {},
   "outputs": [
    {
     "data": {
      "text/plain": [
       "{'success_count': 0, 'error_list': []}"
      ]
     },
     "execution_count": 24,
     "metadata": {},
     "output_type": "execute_result"
    }
   ],
   "source": [
    "sss_pk = (sgs.SpikeSortingSelection & key).proj()\n",
    "\n",
    "sgs.SpikeSorting.populate(sss_pk)"
   ]
  },
  {
   "cell_type": "markdown",
   "id": "ea8fcaa0-9dd7-4870-9f5b-be039e3579cc",
   "metadata": {},
   "source": [
    "we have two main ways of curating spike sorting: by computing quality metrics and applying threshold; and manually applying curation labels. to do so, we first insert CurationV1. use `insert_curation` method.\n"
   ]
  },
  {
   "cell_type": "code",
   "execution_count": null,
   "id": "0589a3f2-4977-407f-b49d-4ae3f882ae21",
   "metadata": {},
   "outputs": [],
   "source": [
    "sgs.CurationV1.insert_curation(\n",
    "    sorting_id=(\n",
    "        sgs.SpikeSortingSelection & {\"recording_id\": key[\"recording_id\"]}\n",
    "    ).fetch1(\"sorting_id\"),\n",
    "    description=\"testing sort\",\n",
    ")"
   ]
  },
  {
   "cell_type": "code",
   "execution_count": null,
   "id": "5bec5b97-4e9f-4ee9-a6b5-4f05f4726744",
   "metadata": {},
   "outputs": [],
   "source": [
    "sgs.CurationV1()"
   ]
  },
  {
   "cell_type": "markdown",
   "id": "97317b6f-a40a-4f84-8042-4361064f010a",
   "metadata": {},
   "source": [
    "we will first do an automatic curation based on quality metrics\n"
   ]
  },
  {
   "cell_type": "code",
   "execution_count": null,
   "id": "7207abda-ea84-43af-97d4-e5be3464d28d",
   "metadata": {},
   "outputs": [],
   "source": [
    "key = {\n",
    "    \"sorting_id\": (\n",
    "        sgs.SpikeSortingSelection & {\"recording_id\": key[\"recording_id\"]}\n",
    "    ).fetch1(\"sorting_id\"),\n",
    "    \"curation_id\": 0,\n",
    "    \"waveform_param_name\": \"default_not_whitened\",\n",
    "    \"metric_param_name\": \"franklab_default\",\n",
    "    \"metric_curation_param_name\": \"default\",\n",
    "}"
   ]
  },
  {
   "cell_type": "code",
   "execution_count": null,
   "id": "14c2eacc-cc45-4e61-9919-04785a721079",
   "metadata": {},
   "outputs": [],
   "source": [
    "sgs.MetricCurationSelection.insert_selection(key)"
   ]
  },
  {
   "cell_type": "code",
   "execution_count": null,
   "id": "d73244b3-f754-4701-be52-ea261eb4185c",
   "metadata": {},
   "outputs": [],
   "source": [
    "sgs.MetricCurationSelection()"
   ]
  },
  {
   "cell_type": "code",
   "execution_count": null,
   "id": "d22f5725-4fd1-42ea-a1d4-590bd1353d46",
   "metadata": {},
   "outputs": [],
   "source": [
    "sgs.MetricCuration.populate()"
   ]
  },
  {
   "cell_type": "code",
   "execution_count": null,
   "id": "eda6577c-3ed2-480a-b6ed-107d7c479084",
   "metadata": {},
   "outputs": [],
   "source": [
    "sgs.MetricCuration()"
   ]
  },
  {
   "cell_type": "markdown",
   "id": "54f354bf-0bfa-4148-9c5d-c5593f3f3915",
   "metadata": {},
   "source": [
    "to do another round of curation, fetch the relevant info and insert back into CurationV1 using `insert_curation`\n"
   ]
  },
  {
   "cell_type": "code",
   "execution_count": null,
   "id": "544ba8c0-560e-471b-9eaf-5924f6051faa",
   "metadata": {},
   "outputs": [],
   "source": [
    "key = {\n",
    "    \"metric_curation_id\": (\n",
    "        sgs.MetricCurationSelection & {\"sorting_id\": key[\"sorting_id\"]}\n",
    "    ).fetch1(\"metric_curation_id\")\n",
    "}"
   ]
  },
  {
   "cell_type": "code",
   "execution_count": null,
   "id": "45f3bc4a-2842-4802-ad0f-4f333dda171e",
   "metadata": {},
   "outputs": [],
   "source": [
    "labels = sgs.MetricCuration.get_labels(key)"
   ]
  },
  {
   "cell_type": "code",
   "execution_count": null,
   "id": "df84263f-db5a-44b7-8309-4d63d10fd883",
   "metadata": {},
   "outputs": [],
   "source": [
    "merge_groups = sgs.MetricCuration.get_merge_groups(key)"
   ]
  },
  {
   "cell_type": "code",
   "execution_count": null,
   "id": "895c85a5-5b4f-44de-a003-c942ba231c22",
   "metadata": {},
   "outputs": [],
   "source": [
    "metrics = sgs.MetricCuration.get_metrics(key)"
   ]
  },
  {
   "cell_type": "code",
   "execution_count": null,
   "id": "863f6e17-40a6-4b8d-82b5-d14a059c5c77",
   "metadata": {},
   "outputs": [],
   "source": [
    "sgs.CurationV1.insert_curation(\n",
    "    sorting_id=(\n",
    "        sgs.MetricCurationSelection\n",
    "        & {\"metric_curation_id\": key[\"metric_curation_id\"]}\n",
    "    ).fetch1(\"sorting_id\"),\n",
    "    parent_curation_id=0,\n",
    "    labels=labels,\n",
    "    merge_groups=merge_groups,\n",
    "    metrics=metrics,\n",
    "    description=\"after metric curation\",\n",
    ")"
   ]
  },
  {
   "cell_type": "code",
   "execution_count": null,
   "id": "f7c6bfd9-5985-41e1-bf37-8c8874b59191",
   "metadata": {},
   "outputs": [],
   "source": [
    "sgs.CurationV1()"
   ]
  },
  {
   "cell_type": "markdown",
   "id": "cf8708a4-0a55-4309-b3c4-dbf47d61ad31",
   "metadata": {},
   "source": [
    "next we will do manual curation. this is done with figurl. to incorporate info from other stages of processing (e.g. metrics) we have to store that with kachery cloud and get curation uri referring to it. it can be done with `generate_curation_uri`.\n"
   ]
  },
  {
   "cell_type": "code",
   "execution_count": null,
   "id": "924cdfce-e287-41d7-abf9-872797637777",
   "metadata": {},
   "outputs": [],
   "source": [
    "curation_uri = sgs.FigURLCurationSelection.generate_curation_uri(\n",
    "    {\n",
    "        \"sorting_id\": (\n",
    "            sgs.MetricCurationSelection\n",
    "            & {\"metric_curation_id\": key[\"metric_curation_id\"]}\n",
    "        ).fetch1(\"sorting_id\"),\n",
    "        \"curation_id\": 1,\n",
    "    }\n",
    ")"
   ]
  },
  {
   "cell_type": "code",
   "execution_count": null,
   "id": "1987fab4-9d4f-47dc-9546-90086fba7919",
   "metadata": {},
   "outputs": [],
   "source": [
    "key = {\n",
    "    \"sorting_id\": (\n",
    "        sgs.MetricCurationSelection\n",
    "        & {\"metric_curation_id\": key[\"metric_curation_id\"]}\n",
    "    ).fetch1(\"sorting_id\"),\n",
    "    \"curation_id\": 1,\n",
    "    \"curation_uri\": curation_uri,\n",
    "    \"metrics_figurl\": list(metrics.keys()),\n",
    "}"
   ]
  },
  {
   "cell_type": "code",
   "execution_count": null,
   "id": "18c05728-9a87-4624-bd3b-82038ef68bd8",
   "metadata": {},
   "outputs": [],
   "source": [
    "sgs.FigURLCurationSelection()"
   ]
  },
  {
   "cell_type": "code",
   "execution_count": null,
   "id": "ecb9106b-8f92-4725-a68c-d5233453b3a4",
   "metadata": {},
   "outputs": [],
   "source": [
    "sgs.FigURLCurationSelection.insert_selection(key)"
   ]
  },
  {
   "cell_type": "code",
   "execution_count": null,
   "id": "cd9667da-794f-4196-9e3d-527d8932d1e9",
   "metadata": {},
   "outputs": [],
   "source": [
    "sgs.FigURLCurationSelection()"
   ]
  },
  {
   "cell_type": "code",
   "execution_count": null,
   "id": "c3b029c6-8dc8-4af3-ad42-8a9443e70023",
   "metadata": {},
   "outputs": [],
   "source": [
    "sgs.FigURLCuration.populate()"
   ]
  },
  {
   "cell_type": "code",
   "execution_count": null,
   "id": "7bf6eb76-4883-4436-a320-7ade5c3af910",
   "metadata": {},
   "outputs": [],
   "source": [
    "sgs.FigURLCuration()"
   ]
  },
  {
   "cell_type": "markdown",
   "id": "9ca0d48c-900b-4985-a27a-be1ff82616a4",
   "metadata": {},
   "source": [
    "or you can manually specify it if you already have a `curation.json`\n"
   ]
  },
  {
   "cell_type": "code",
   "execution_count": null,
   "id": "b2e9b018-9a8b-4344-9b8e-9e2141324bfa",
   "metadata": {},
   "outputs": [],
   "source": [
    "gh_curation_uri = (\n",
    "    \"gh://LorenFrankLab/sorting-curations/main/khl02007/test/curation.json\"\n",
    ")\n",
    "\n",
    "key = {\n",
    "    \"sorting_id\": key[\"sorting_id\"],\n",
    "    \"curation_id\": 1,\n",
    "    \"curation_uri\": gh_curation_uri,\n",
    "    \"metrics_figurl\": [],\n",
    "}"
   ]
  },
  {
   "cell_type": "code",
   "execution_count": null,
   "id": "449cdcdc-dcff-4aa6-a541-d674ccfbb0b5",
   "metadata": {},
   "outputs": [],
   "source": [
    "sgs.FigURLCurationSelection.insert_selection(key)"
   ]
  },
  {
   "cell_type": "code",
   "execution_count": null,
   "id": "ad86c81e-1424-4fa2-a022-7cc0a3425fc0",
   "metadata": {},
   "outputs": [],
   "source": [
    "sgs.FigURLCuration.populate()"
   ]
  },
  {
   "cell_type": "code",
   "execution_count": null,
   "id": "37847473-1c46-4991-93a0-e315568e675a",
   "metadata": {},
   "outputs": [],
   "source": [
    "sgs.FigURLCuration()"
   ]
  },
  {
   "cell_type": "markdown",
   "id": "6d68f93e-1586-4d3b-b680-0fe2115c0ab4",
   "metadata": {},
   "source": [
    "once you apply manual curation (curation labels and merge groups) you can store them as nwb by inserting another row in CurationV1. And then you can do more rounds of curation if you want.\n"
   ]
  },
  {
   "cell_type": "code",
   "execution_count": null,
   "id": "15694ca0-3ec1-49a8-9ac4-66cf6d6f49ee",
   "metadata": {},
   "outputs": [],
   "source": [
    "labels = sgs.FigURLCuration.get_labels(gh_curation_uri)"
   ]
  },
  {
   "cell_type": "code",
   "execution_count": null,
   "id": "f467a487-100e-4217-914a-60e852805faf",
   "metadata": {},
   "outputs": [],
   "source": [
    "merge_groups = sgs.FigURLCuration.get_merge_groups(gh_curation_uri)"
   ]
  },
  {
   "cell_type": "code",
   "execution_count": null,
   "id": "5873ad89-64cb-427a-a183-f15c2c42907a",
   "metadata": {},
   "outputs": [],
   "source": [
    "sgs.CurationV1.insert_curation(\n",
    "    sorting_id=key[\"sorting_id\"],\n",
    "    parent_curation_id=1,\n",
    "    labels=labels,\n",
    "    merge_groups=merge_groups,\n",
    "    metrics=metrics,\n",
    "    description=\"after figurl curation\",\n",
    ")"
   ]
  },
  {
   "cell_type": "code",
   "execution_count": null,
   "id": "1d40eb3a-34c5-4771-8fc0-730fafb5cb8a",
   "metadata": {},
   "outputs": [],
   "source": [
    "sgs.CurationV1()"
   ]
  },
  {
   "cell_type": "markdown",
   "id": "9ff6aff5-7020-40d6-832f-006d66d54a7e",
   "metadata": {},
   "source": [
    "We now insert the curated spike sorting to a `Merge` table for feeding into downstream processing pipelines.\n"
   ]
  },
  {
   "cell_type": "code",
   "execution_count": null,
   "id": "511ecb19-7d8d-4db6-be71-c0ed66e2b0f2",
   "metadata": {},
   "outputs": [],
   "source": [
    "from spyglass.spikesorting.spikesorting_merge import SpikeSortingOutput"
   ]
  },
  {
   "cell_type": "code",
   "execution_count": null,
   "id": "5047f866-7435-4dea-9ed8-a9b2d8365682",
   "metadata": {},
   "outputs": [],
   "source": [
    "SpikeSortingOutput()"
   ]
  },
  {
   "cell_type": "code",
   "execution_count": null,
   "id": "d2702410-01e1-4af0-a987-891c42c6c099",
   "metadata": {},
   "outputs": [],
   "source": [
    "key"
   ]
  },
  {
   "cell_type": "code",
   "execution_count": null,
   "id": "b20c2c9e-0c97-4669-b45d-4b1c50fd2fcc",
   "metadata": {},
   "outputs": [],
   "source": [
    "SpikeSortingOutput.insert([key], part_name=\"CurationV1\")"
   ]
  },
  {
   "cell_type": "code",
   "execution_count": null,
   "id": "184c3401-8df3-46f0-9dd0-c9fa98395c34",
   "metadata": {},
   "outputs": [],
   "source": [
    "SpikeSortingOutput.merge_view()"
   ]
  },
  {
   "cell_type": "code",
   "execution_count": null,
   "id": "e2b083a5-b700-438a-8a06-2e2eb041072d",
   "metadata": {},
   "outputs": [],
   "source": [
    "SpikeSortingOutput.CurationV1()"
   ]
  },
  {
   "cell_type": "code",
   "execution_count": null,
   "id": "10b8afa1-d4a6-4ac1-959b-f4e84e582f2e",
   "metadata": {},
   "outputs": [],
   "source": [
    "SpikeSortingOutput.CuratedSpikeSorting()"
   ]
  },
  {
   "cell_type": "code",
   "execution_count": null,
   "id": "e9eebf75-6fef-43c4-80b8-12e59e5d743c",
   "metadata": {},
   "outputs": [],
   "source": []
  }
 ],
 "metadata": {
  "kernelspec": {
   "display_name": "spyglass-2024-02-07",
   "language": "python",
   "name": "spyglass-ds"
  },
  "language_info": {
   "codemirror_mode": {
    "name": "ipython",
    "version": 3
   },
   "file_extension": ".py",
   "mimetype": "text/x-python",
   "name": "python",
   "nbconvert_exporter": "python",
   "pygments_lexer": "ipython3",
   "version": "3.9.16"
  }
 },
 "nbformat": 4,
 "nbformat_minor": 5
}
