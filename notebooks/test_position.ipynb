{
 "cells": [
  {
   "cell_type": "code",
   "execution_count": 1,
   "id": "ac4b89c9-a4b7-4b4b-9211-1979b3867007",
   "metadata": {},
   "outputs": [],
   "source": [
    "import datajoint as dj\n",
    "import os\n",
    "from pathlib import Path\n",
    "\n",
    "# set dirs\n",
    "base_dir = Path('/Users/rly/Documents/NWB/spyglass-workspace') # change this to your desired directory\n",
    "if (base_dir).exists() is False:\n",
    "    os.mkdir(base_dir)\n",
    "raw_dir = base_dir / 'raw'\n",
    "if (raw_dir).exists() is False:\n",
    "    os.mkdir(raw_dir)\n",
    "analysis_dir = base_dir / 'analysis'\n",
    "if (analysis_dir).exists() is False:\n",
    "    os.mkdir(analysis_dir)\n",
    "recording_dir = base_dir / 'recording'\n",
    "if (recording_dir).exists() is False:\n",
    "    os.mkdir(recording_dir)\n",
    "sorting_dir = base_dir / 'sorting'\n",
    "if (sorting_dir).exists() is False:\n",
    "    os.mkdir(sorting_dir)\n",
    "waveforms_dir = base_dir / 'waveforms'\n",
    "if (waveforms_dir).exists() is False:\n",
    "    os.mkdir(waveforms_dir)\n",
    "tmp_dir = base_dir / 'tmp'\n",
    "if (tmp_dir).exists() is False:\n",
    "    os.mkdir(tmp_dir)\n",
    "kachery_cloud_dir = base_dir / '.kachery_cloud'\n",
    "if (kachery_cloud_dir).exists() is False:\n",
    "    os.mkdir(kachery_cloud_dir)\n",
    "\n",
    "# set dj config\n",
    "dj.config['database.host'] = 'localhost'\n",
    "dj.config['database.user'] = 'root'\n",
    "dj.config['database.password'] = 'tutorial'\n",
    "dj.config['database.port'] = 3306\n",
    "dj.config['stores'] = {\n",
    "  'raw': {\n",
    "    'protocol': 'file',\n",
    "    'location': str(raw_dir),\n",
    "    'stage': str(raw_dir)\n",
    "  },\n",
    "  'analysis': {\n",
    "    'protocol': 'file',\n",
    "    'location': str(analysis_dir),\n",
    "    'stage': str(analysis_dir)\n",
    "  }\n",
    "}\n",
    "\n",
    "# set env vars\n",
    "os.environ['SPYGLASS_BASE_DIR'] = str(base_dir)\n",
    "os.environ['SPYGLASS_RECORDING_DIR'] = str(recording_dir)\n",
    "os.environ['SPYGLASS_SORTING_DIR'] = str(sorting_dir)\n",
    "os.environ['SPYGLASS_WAVEFORMS_DIR'] = str(waveforms_dir)\n",
    "os.environ['SPYGLASS_TEMP_DIR'] = str(tmp_dir)\n",
    "os.environ['KACHERY_CLOUD_DIR'] = str(kachery_cloud_dir)\n",
    "\n",
    "os.environ['DJ_SUPPORT_FILEPATH_MANAGEMENT'] = 'TRUE'\n",
    "\n",
    "dj.config[\"enable_python_native_blobs\"] = True"
   ]
  },
  {
   "cell_type": "code",
   "execution_count": 2,
   "id": "ba481ddf-0377-4d22-ad7a-24c8eaff3265",
   "metadata": {},
   "outputs": [
    {
     "name": "stderr",
     "output_type": "stream",
     "text": [
      "[2022-09-08 16:35:26,773][INFO]: Connecting root@localhost:3306\n",
      "[2022-09-08 16:35:26,928][INFO]: Connected root@localhost:3306\n",
      "/opt/miniconda3/envs/spyglass/lib/python3.9/site-packages/position_tools/core.py:3: DeprecationWarning: Please use `gaussian_filter1d` from the `scipy.ndimage` namespace, the `scipy.ndimage.filters` namespace is deprecated.\n",
      "  from scipy.ndimage.filters import gaussian_filter1d\n"
     ]
    }
   ],
   "source": [
    "import spyglass as sg\n",
    "import spyglass.common as sgc\n",
    "import spyglass.data_import as sgdi"
   ]
  },
  {
   "cell_type": "code",
   "execution_count": 3,
   "id": "fbc60b61-4dd5-40db-aeae-a62ab65702ba",
   "metadata": {},
   "outputs": [],
   "source": [
    "# Define the name of the file that you copied and renamed; make sure it's something unique. \n",
    "nwb_file_name = 'beans20190718-trim.nwb'\n",
    "filename, file_extension = os.path.splitext(nwb_file_name)\n",
    "# This is a copy of the original nwb file, except it doesn't contain the raw data (for storage reasons)\n",
    "nwb_file_name2 = filename + '_' + file_extension"
   ]
  },
  {
   "cell_type": "code",
   "execution_count": 4,
   "id": "b196cc2c-41e0-4ac1-bb98-74ec48cacedd",
   "metadata": {},
   "outputs": [
    {
     "name": "stdout",
     "output_type": "stream",
     "text": [
      "Creating a copy of NWB file beans20190718-trim.nwb with link to raw ephys data: beans20190718-trim_.nwb\n",
      "Populate Session...\n",
      "/Users/rly/Documents/NWB/spyglass-workspace/raw/beans20190718-trim_.nwb\n",
      "Institution...\n",
      "Lab...\n",
      "LabMember...\n",
      "Please add the Google user ID for Alison Comrie in the LabMember.LabMemberInfo table if you want to give them permission to manually curate sortings by this team.\n",
      "Subject...\n",
      "DataAcquisitionDevice...\n",
      "Inserted data acquisition devices ['dataacq_device0']\n",
      "CameraDevice...\n",
      "Inserted camera devices ['beans sleep camera', 'beans run camera']\n",
      "Probe...\n",
      "Inserted probe devices ['128c-4s8mm6cm-20um-40um-sl']\n",
      "Skipping Apparatus for now...\n",
      "IntervalList...\n",
      "RawPosition...\n",
      "{'merged_position_id': 'f6ed13dee55a645f63c1ee3a4b26de38'}\n",
      "{'merged_position_id': 'f6ed13dee55a645f63c1ee3a4b26de38'}\n",
      "{'merged_position_id': '19650b2ef40b52c4bde4a09c704c2200'}\n",
      "{'merged_position_id': 'f6ed13dee55a645f63c1ee3a4b26de38'}\n",
      "{'merged_position_id': '19650b2ef40b52c4bde4a09c704c2200'}\n",
      "{'merged_position_id': 'e7dc3f0ac25836c036ddc1dfd8bfb3e2'}\n",
      "{'merged_position_id': 'f6ed13dee55a645f63c1ee3a4b26de38'}\n",
      "{'merged_position_id': '19650b2ef40b52c4bde4a09c704c2200'}\n",
      "{'merged_position_id': 'e7dc3f0ac25836c036ddc1dfd8bfb3e2'}\n",
      "{'merged_position_id': 'ca3244fcadc0f8db7e3cb1faa96ebdcc'}\n"
     ]
    }
   ],
   "source": [
    "sgdi.insert_sessions(nwb_file_name)"
   ]
  },
  {
   "cell_type": "code",
   "execution_count": 5,
   "id": "ff016fb8-ad10-4ddc-9a3d-8a7a4853b3a2",
   "metadata": {},
   "outputs": [
    {
     "data": {
      "text/html": [
       "\n",
       "    \n",
       "    <style type=\"text/css\">\n",
       "        .Relation{\n",
       "            border-collapse:collapse;\n",
       "        }\n",
       "        .Relation th{\n",
       "            background: #A0A0A0; color: #ffffff; padding:4px; border:#f0e0e0 1px solid;\n",
       "            font-weight: normal; font-family: monospace; font-size: 100%;\n",
       "        }\n",
       "        .Relation td{\n",
       "            padding:4px; border:#f0e0e0 1px solid; font-size:100%;\n",
       "        }\n",
       "        .Relation tr:nth-child(odd){\n",
       "            background: #ffffff;\n",
       "        }\n",
       "        .Relation tr:nth-child(even){\n",
       "            background: #f3f1ff;\n",
       "        }\n",
       "        /* Tooltip container */\n",
       "        .djtooltip {\n",
       "        }\n",
       "        /* Tooltip text */\n",
       "        .djtooltip .djtooltiptext {\n",
       "            visibility: hidden;\n",
       "            width: 120px;\n",
       "            background-color: black;\n",
       "            color: #fff;\n",
       "            text-align: center;\n",
       "            padding: 5px 0;\n",
       "            border-radius: 6px;\n",
       "            /* Position the tooltip text - see examples below! */\n",
       "            position: absolute;\n",
       "            z-index: 1;\n",
       "        }\n",
       "        #primary {\n",
       "            font-weight: bold;\n",
       "            color: black;\n",
       "        }\n",
       "        #nonprimary {\n",
       "            font-weight: normal;\n",
       "            color: white;\n",
       "        }\n",
       "\n",
       "        /* Show the tooltip text when you mouse over the tooltip container */\n",
       "        .djtooltip:hover .djtooltiptext {\n",
       "            visibility: visible;\n",
       "        }\n",
       "    </style>\n",
       "    \n",
       "    <b></b>\n",
       "        <div style=\"max-height:1000px;max-width:1500px;overflow:auto;\">\n",
       "        <table border=\"1\" class=\"Relation\">\n",
       "            <thead> <tr style=\"text-align: right;\"> <th> <div class=\"djtooltip\">\n",
       "                            <p id=\"primary\">merged_position_id</p>\n",
       "                            <span class=\"djtooltiptext\"></span>\n",
       "                        </div> </th> </tr> </thead>\n",
       "            <tbody> <tr> <td>19650b2e-f40b-52c4-bde4-a09c704c2200</td></tr><tr><td>ca3244fc-adc0-f8db-7e3c-b1faa96ebdcc</td></tr><tr><td>e7dc3f0a-c258-36c0-36dd-c1dfd8bfb3e2</td></tr><tr><td>f6ed13de-e55a-645f-63c1-ee3a4b26de38</td> </tr> </tbody>\n",
       "        </table>\n",
       "        \n",
       "        <p>Total: 4</p></div>\n",
       "        "
      ],
      "text/plain": [
       "*merged_positi\n",
       "+------------+\n",
       "19650b2e-f40b-\n",
       "ca3244fc-adc0-\n",
       "e7dc3f0a-c258-\n",
       "f6ed13de-e55a-\n",
       " (Total: 4)"
      ]
     },
     "execution_count": 5,
     "metadata": {},
     "output_type": "execute_result"
    }
   ],
   "source": [
    "sgc.common_behav.MergedPosition()"
   ]
  },
  {
   "cell_type": "code",
   "execution_count": 6,
   "id": "1a5a4abb-30d5-4207-9567-3a7b03ca2e94",
   "metadata": {},
   "outputs": [
    {
     "data": {
      "text/html": [
       "\n",
       "    \n",
       "    <style type=\"text/css\">\n",
       "        .Relation{\n",
       "            border-collapse:collapse;\n",
       "        }\n",
       "        .Relation th{\n",
       "            background: #A0A0A0; color: #ffffff; padding:4px; border:#f0e0e0 1px solid;\n",
       "            font-weight: normal; font-family: monospace; font-size: 100%;\n",
       "        }\n",
       "        .Relation td{\n",
       "            padding:4px; border:#f0e0e0 1px solid; font-size:100%;\n",
       "        }\n",
       "        .Relation tr:nth-child(odd){\n",
       "            background: #ffffff;\n",
       "        }\n",
       "        .Relation tr:nth-child(even){\n",
       "            background: #f3f1ff;\n",
       "        }\n",
       "        /* Tooltip container */\n",
       "        .djtooltip {\n",
       "        }\n",
       "        /* Tooltip text */\n",
       "        .djtooltip .djtooltiptext {\n",
       "            visibility: hidden;\n",
       "            width: 120px;\n",
       "            background-color: black;\n",
       "            color: #fff;\n",
       "            text-align: center;\n",
       "            padding: 5px 0;\n",
       "            border-radius: 6px;\n",
       "            /* Position the tooltip text - see examples below! */\n",
       "            position: absolute;\n",
       "            z-index: 1;\n",
       "        }\n",
       "        #primary {\n",
       "            font-weight: bold;\n",
       "            color: black;\n",
       "        }\n",
       "        #nonprimary {\n",
       "            font-weight: normal;\n",
       "            color: white;\n",
       "        }\n",
       "\n",
       "        /* Show the tooltip text when you mouse over the tooltip container */\n",
       "        .djtooltip:hover .djtooltiptext {\n",
       "            visibility: visible;\n",
       "        }\n",
       "    </style>\n",
       "    \n",
       "    \n",
       "        <div style=\"max-height:1000px;max-width:1500px;overflow:auto;\">\n",
       "        <table border=\"1\" class=\"Relation\">\n",
       "            <thead> <tr style=\"text-align: right;\"> <th> <div class=\"djtooltip\">\n",
       "                            <p id=\"primary\">merged_position_id</p>\n",
       "                            <span class=\"djtooltiptext\"></span>\n",
       "                        </div></th><th><div class=\"djtooltip\">\n",
       "                            <p id=\"primary\">nwb_file_name</p>\n",
       "                            <span class=\"djtooltiptext\">name of the NWB file</span>\n",
       "                        </div></th><th><div class=\"djtooltip\">\n",
       "                            <p id=\"primary\">position_name</p>\n",
       "                            <span class=\"djtooltiptext\">calculated attribute</span>\n",
       "                        </div> </th> </tr> </thead>\n",
       "            <tbody> <tr> <td>f6ed13de-e55a-645f-63c1-ee3a4b26de38</td>\n",
       "<td>beans20190718-trim_.nwb</td>\n",
       "<td>0</td></tr><tr><td>19650b2e-f40b-52c4-bde4-a09c704c2200</td>\n",
       "<td>beans20190718-trim_.nwb</td>\n",
       "<td>1</td></tr><tr><td>e7dc3f0a-c258-36c0-36dd-c1dfd8bfb3e2</td>\n",
       "<td>beans20190718-trim_.nwb</td>\n",
       "<td>2</td></tr><tr><td>ca3244fc-adc0-f8db-7e3c-b1faa96ebdcc</td>\n",
       "<td>beans20190718-trim_.nwb</td>\n",
       "<td>3</td> </tr> </tbody>\n",
       "        </table>\n",
       "        \n",
       "        <p>Total: 4</p></div>\n",
       "        "
      ],
      "text/plain": [
       "*merged_positi *nwb_file_name *position_name\n",
       "+------------+ +------------+ +------------+\n",
       "f6ed13de-e55a- beans20190718- 0             \n",
       "19650b2e-f40b- beans20190718- 1             \n",
       "e7dc3f0a-c258- beans20190718- 2             \n",
       "ca3244fc-adc0- beans20190718- 3             \n",
       " (Total: 4)"
      ]
     },
     "execution_count": 6,
     "metadata": {},
     "output_type": "execute_result"
    }
   ],
   "source": [
    "sgc.common_behav.MergedPosition().all_joined"
   ]
  },
  {
   "cell_type": "code",
   "execution_count": 7,
   "id": "1bb0d636-895c-4a2d-a167-1acee856df43",
   "metadata": {},
   "outputs": [
    {
     "data": {
      "text/html": [
       "\n",
       "    \n",
       "    <style type=\"text/css\">\n",
       "        .Relation{\n",
       "            border-collapse:collapse;\n",
       "        }\n",
       "        .Relation th{\n",
       "            background: #A0A0A0; color: #ffffff; padding:4px; border:#f0e0e0 1px solid;\n",
       "            font-weight: normal; font-family: monospace; font-size: 100%;\n",
       "        }\n",
       "        .Relation td{\n",
       "            padding:4px; border:#f0e0e0 1px solid; font-size:100%;\n",
       "        }\n",
       "        .Relation tr:nth-child(odd){\n",
       "            background: #ffffff;\n",
       "        }\n",
       "        .Relation tr:nth-child(even){\n",
       "            background: #f3f1ff;\n",
       "        }\n",
       "        /* Tooltip container */\n",
       "        .djtooltip {\n",
       "        }\n",
       "        /* Tooltip text */\n",
       "        .djtooltip .djtooltiptext {\n",
       "            visibility: hidden;\n",
       "            width: 120px;\n",
       "            background-color: black;\n",
       "            color: #fff;\n",
       "            text-align: center;\n",
       "            padding: 5px 0;\n",
       "            border-radius: 6px;\n",
       "            /* Position the tooltip text - see examples below! */\n",
       "            position: absolute;\n",
       "            z-index: 1;\n",
       "        }\n",
       "        #primary {\n",
       "            font-weight: bold;\n",
       "            color: black;\n",
       "        }\n",
       "        #nonprimary {\n",
       "            font-weight: normal;\n",
       "            color: white;\n",
       "        }\n",
       "\n",
       "        /* Show the tooltip text when you mouse over the tooltip container */\n",
       "        .djtooltip:hover .djtooltiptext {\n",
       "            visibility: visible;\n",
       "        }\n",
       "    </style>\n",
       "    \n",
       "    <b>Position data that comes from an NWB file</b>\n",
       "        <div style=\"max-height:1000px;max-width:1500px;overflow:auto;\">\n",
       "        <table border=\"1\" class=\"Relation\">\n",
       "            <thead> <tr style=\"text-align: right;\"> <th> <div class=\"djtooltip\">\n",
       "                            <p id=\"primary\">nwb_file_name</p>\n",
       "                            <span class=\"djtooltiptext\">name of the NWB file</span>\n",
       "                        </div></th><th><div class=\"djtooltip\">\n",
       "                            <p id=\"primary\">position_name</p>\n",
       "                            <span class=\"djtooltiptext\"></span>\n",
       "                        </div></th><th><div class=\"djtooltip\">\n",
       "                            <p id=\"nonprimary\">interval_list_name</p>\n",
       "                            <span class=\"djtooltiptext\">descriptive name of this interval list</span>\n",
       "                        </div></th><th><div class=\"djtooltip\">\n",
       "                            <p id=\"nonprimary\">raw_position_object_id</p>\n",
       "                            <span class=\"djtooltiptext\">the object id of the spatial series for this epoch in the NWB file</span>\n",
       "                        </div> </th> </tr> </thead>\n",
       "            <tbody> <tr> <td>beans20190718-trim_.nwb</td>\n",
       "<td>0</td>\n",
       "<td>pos 0 valid times</td>\n",
       "<td>ef3e30b4-ca68-4e0f-aa1a-71d93e0adbc0</td></tr><tr><td>beans20190718-trim_.nwb</td>\n",
       "<td>1</td>\n",
       "<td>pos 1 valid times</td>\n",
       "<td>051a8672-c849-4e8d-b432-909ea5ab972b</td></tr><tr><td>beans20190718-trim_.nwb</td>\n",
       "<td>2</td>\n",
       "<td>pos 2 valid times</td>\n",
       "<td>abc0ba60-4775-4088-9e75-f2c577913f6f</td></tr><tr><td>beans20190718-trim_.nwb</td>\n",
       "<td>3</td>\n",
       "<td>pos 3 valid times</td>\n",
       "<td>89713715-3f55-404a-bb18-79dae2b2d8a2</td> </tr> </tbody>\n",
       "        </table>\n",
       "        \n",
       "        <p>Total: 4</p></div>\n",
       "        "
      ],
      "text/plain": [
       "*nwb_file_name *position_name interval_list_ raw_position_o\n",
       "+------------+ +------------+ +------------+ +------------+\n",
       "beans20190718- 0              pos 0 valid ti ef3e30b4-ca68-\n",
       "beans20190718- 1              pos 1 valid ti 051a8672-c849-\n",
       "beans20190718- 2              pos 2 valid ti abc0ba60-4775-\n",
       "beans20190718- 3              pos 3 valid ti 89713715-3f55-\n",
       " (Total: 4)"
      ]
     },
     "execution_count": 7,
     "metadata": {},
     "output_type": "execute_result"
    }
   ],
   "source": [
    "sgc.common_behav.RawPosition()"
   ]
  },
  {
   "cell_type": "code",
   "execution_count": 8,
   "id": "57752505-1dbb-482d-8e38-61bd4ac2f2c0",
   "metadata": {},
   "outputs": [],
   "source": [
    "sgc.common_behav.MethodTwoPosition.insert1({'nwb_file_name': nwb_file_name2, 'import_file_name': \"hello\"})"
   ]
  },
  {
   "cell_type": "code",
   "execution_count": 9,
   "id": "6d2e0045-81ff-40f8-a3bc-1aa84001ab28",
   "metadata": {},
   "outputs": [
    {
     "name": "stdout",
     "output_type": "stream",
     "text": [
      "{'merged_position_id': '6a28db1fc1c42000392d6e3450ce74e8'}\n"
     ]
    },
    {
     "ename": "DataJointError",
     "evalue": "fetch1 should only return one tuple. 4 tuples found",
     "output_type": "error",
     "traceback": [
      "\u001b[0;31m---------------------------------------------------------------------------\u001b[0m",
      "\u001b[0;31mDataJointError\u001b[0m                            Traceback (most recent call last)",
      "Cell \u001b[0;32mIn [9], line 1\u001b[0m\n\u001b[0;32m----> 1\u001b[0m \u001b[43msgc\u001b[49m\u001b[38;5;241;43m.\u001b[39;49m\u001b[43mcommon_behav\u001b[49m\u001b[38;5;241;43m.\u001b[39;49m\u001b[43mMergedPosition\u001b[49m\u001b[38;5;241;43m.\u001b[39;49m\u001b[43minsert_from_upstream\u001b[49m\u001b[43m(\u001b[49m\u001b[43msgc\u001b[49m\u001b[38;5;241;43m.\u001b[39;49m\u001b[43mcommon_behav\u001b[49m\u001b[38;5;241;43m.\u001b[39;49m\u001b[43mMethodTwoPosition\u001b[49m\u001b[38;5;241;43m.\u001b[39;49m\u001b[43mfetch\u001b[49m\u001b[43m(\u001b[49m\u001b[38;5;124;43m'\u001b[39;49m\u001b[38;5;124;43mKEY\u001b[39;49m\u001b[38;5;124;43m'\u001b[39;49m\u001b[43m)\u001b[49m\u001b[43m,\u001b[49m\u001b[43m \u001b[49m\u001b[43mskip_duplicates\u001b[49m\u001b[38;5;241;43m=\u001b[39;49m\u001b[38;5;28;43;01mTrue\u001b[39;49;00m\u001b[43m)\u001b[49m\n",
      "File \u001b[0;32m~/Documents/NWB/spyglass/src/spyglass/common/common_behav.py:140\u001b[0m, in \u001b[0;36mMergedPosition.insert_from_upstream\u001b[0;34m(cls, rows, **kwargs)\u001b[0m\n\u001b[1;32m    137\u001b[0m parent \u001b[38;5;241m=\u001b[39m part\u001b[38;5;241m.\u001b[39mparents(as_objects\u001b[38;5;241m=\u001b[39m\u001b[38;5;28;01mTrue\u001b[39;00m)[\u001b[38;5;241m-\u001b[39m\u001b[38;5;241m1\u001b[39m]\n\u001b[1;32m    138\u001b[0m \u001b[38;5;28;01mif\u001b[39;00m parent \u001b[38;5;241m&\u001b[39m row:\n\u001b[1;32m    139\u001b[0m     \u001b[38;5;66;03m# if not key:\u001b[39;00m\n\u001b[0;32m--> 140\u001b[0m     key \u001b[38;5;241m=\u001b[39m \u001b[43m(\u001b[49m\u001b[43mparent\u001b[49m\u001b[43m \u001b[49m\u001b[38;5;241;43m&\u001b[39;49m\u001b[43m \u001b[49m\u001b[43mrow\u001b[49m\u001b[43m)\u001b[49m\u001b[38;5;241;43m.\u001b[39;49m\u001b[43mfetch1\u001b[49m\u001b[43m(\u001b[49m\u001b[38;5;124;43m'\u001b[39;49m\u001b[38;5;124;43mKEY\u001b[39;49m\u001b[38;5;124;43m'\u001b[39;49m\u001b[43m)\u001b[49m\n\u001b[1;32m    141\u001b[0m     master_key \u001b[38;5;241m=\u001b[39m {\u001b[38;5;28mcls\u001b[39m\u001b[38;5;241m.\u001b[39mprimary_key[\u001b[38;5;241m0\u001b[39m]: dj\u001b[38;5;241m.\u001b[39mhash\u001b[38;5;241m.\u001b[39mkey_hash(key)}\n\u001b[1;32m    142\u001b[0m     \u001b[38;5;28mprint\u001b[39m(master_key)\n",
      "File \u001b[0;32m/opt/miniconda3/envs/spyglass/lib/python3.9/site-packages/datajoint/fetch.py:350\u001b[0m, in \u001b[0;36mFetch1.__call__\u001b[0;34m(self, squeeze, download_path, *attrs)\u001b[0m\n\u001b[1;32m    346\u001b[0m result \u001b[38;5;241m=\u001b[39m \u001b[38;5;28mself\u001b[39m\u001b[38;5;241m.\u001b[39m_expression\u001b[38;5;241m.\u001b[39mproj(\u001b[38;5;241m*\u001b[39mattributes)\u001b[38;5;241m.\u001b[39mfetch(\n\u001b[1;32m    347\u001b[0m     squeeze\u001b[38;5;241m=\u001b[39msqueeze, download_path\u001b[38;5;241m=\u001b[39mdownload_path, \u001b[38;5;28mformat\u001b[39m\u001b[38;5;241m=\u001b[39m\u001b[38;5;124m\"\u001b[39m\u001b[38;5;124marray\u001b[39m\u001b[38;5;124m\"\u001b[39m\n\u001b[1;32m    348\u001b[0m )\n\u001b[1;32m    349\u001b[0m \u001b[38;5;28;01mif\u001b[39;00m \u001b[38;5;28mlen\u001b[39m(result) \u001b[38;5;241m!=\u001b[39m \u001b[38;5;241m1\u001b[39m:\n\u001b[0;32m--> 350\u001b[0m     \u001b[38;5;28;01mraise\u001b[39;00m DataJointError(\n\u001b[1;32m    351\u001b[0m         \u001b[38;5;124m\"\u001b[39m\u001b[38;5;124mfetch1 should only return one tuple. \u001b[39m\u001b[38;5;132;01m%d\u001b[39;00m\u001b[38;5;124m tuples found\u001b[39m\u001b[38;5;124m\"\u001b[39m \u001b[38;5;241m%\u001b[39m \u001b[38;5;28mlen\u001b[39m(result)\n\u001b[1;32m    352\u001b[0m     )\n\u001b[1;32m    353\u001b[0m return_values \u001b[38;5;241m=\u001b[39m \u001b[38;5;28mtuple\u001b[39m(\n\u001b[1;32m    354\u001b[0m     \u001b[38;5;28mnext\u001b[39m(to_dicts(result[\u001b[38;5;28mself\u001b[39m\u001b[38;5;241m.\u001b[39m_expression\u001b[38;5;241m.\u001b[39mprimary_key]))\n\u001b[1;32m    355\u001b[0m     \u001b[38;5;28;01mif\u001b[39;00m is_key(attribute)\n\u001b[1;32m    356\u001b[0m     \u001b[38;5;28;01melse\u001b[39;00m result[attribute][\u001b[38;5;241m0\u001b[39m]\n\u001b[1;32m    357\u001b[0m     \u001b[38;5;28;01mfor\u001b[39;00m attribute \u001b[38;5;129;01min\u001b[39;00m attrs\n\u001b[1;32m    358\u001b[0m )\n\u001b[1;32m    359\u001b[0m ret \u001b[38;5;241m=\u001b[39m return_values[\u001b[38;5;241m0\u001b[39m] \u001b[38;5;28;01mif\u001b[39;00m \u001b[38;5;28mlen\u001b[39m(attrs) \u001b[38;5;241m==\u001b[39m \u001b[38;5;241m1\u001b[39m \u001b[38;5;28;01melse\u001b[39;00m return_values\n",
      "\u001b[0;31mDataJointError\u001b[0m: fetch1 should only return one tuple. 4 tuples found"
     ]
    }
   ],
   "source": [
    "sgc.common_behav.MergedPosition.insert_from_upstream(sgc.common_behav.MethodTwoPosition.fetch('KEY'), skip_duplicates=True)"
   ]
  },
  {
   "cell_type": "code",
   "execution_count": null,
   "id": "b5fa9a64-35be-42dd-84ac-861bbe5ff34e",
   "metadata": {},
   "outputs": [],
   "source": [
    "sgc.Nwbfile()"
   ]
  },
  {
   "cell_type": "code",
   "execution_count": null,
   "id": "a80ddb63-f0d3-40c5-bc02-f712696389b7",
   "metadata": {},
   "outputs": [],
   "source": [
    "sgc.Session()"
   ]
  },
  {
   "cell_type": "code",
   "execution_count": null,
   "id": "91c4490f-3e1c-40a2-b789-0587d7334e15",
   "metadata": {},
   "outputs": [],
   "source": []
  }
 ],
 "metadata": {
  "kernelspec": {
   "display_name": "Python 3 (ipykernel)",
   "language": "python",
   "name": "python3"
  },
  "language_info": {
   "codemirror_mode": {
    "name": "ipython",
    "version": 3
   },
   "file_extension": ".py",
   "mimetype": "text/x-python",
   "name": "python",
   "nbconvert_exporter": "python",
   "pygments_lexer": "ipython3",
   "version": "3.9.13"
  }
 },
 "nbformat": 4,
 "nbformat_minor": 5
}
