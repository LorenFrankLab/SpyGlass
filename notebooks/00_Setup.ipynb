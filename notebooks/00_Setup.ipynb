{
 "cells": [
  {
   "cell_type": "markdown",
   "id": "1c661dbc",
   "metadata": {},
   "source": [
    "# Setup\n"
   ]
  },
  {
   "cell_type": "markdown",
   "id": "6f423f76",
   "metadata": {},
   "source": [
    "## Intro\n"
   ]
  },
  {
   "cell_type": "markdown",
   "id": "cbb74150",
   "metadata": {},
   "source": [
    "Welcome to [Spyglass](https://lorenfranklab.github.io/spyglass/0.4/),\n",
    "a [DataJoint](https://github.com/datajoint/datajoint-python/)\n",
    "pipeline maintained by the [Frank Lab](https://franklab.ucsf.edu/) at UCSF.\n",
    "\n",
    "Spyglass will help you take an [NWB](https://www.nwb.org/) file from raw data to\n",
    "analysis-ready preprocessed formats using DataJoint to (a) connect to a\n",
    "[relational database](https://www.youtube.com/watch?v=q-PMUSC5P5o) (here,\n",
    "MySQL), and (b) automate processing steps. To use Spyglass, you'll need to ...\n",
    "\n",
    "1. Set up your local environment\n",
    "2. Connect to a database\n"
   ]
  },
  {
   "cell_type": "markdown",
   "id": "65a5bf87",
   "metadata": {},
   "source": [
    "## Local environment\n"
   ]
  },
  {
   "cell_type": "markdown",
   "id": "aa6bddcb",
   "metadata": {},
   "source": [
    "JupyterHub users can skip this step. Frank Lab members should first follow\n",
    "'rec to nwb overview' steps on Google Drive to set up an ssh connection.\n",
    "\n",
    "For local use, download and install ...\n",
    "\n",
    "1. [Python 3.9](https://wiki.python.org/moin/BeginnersGuide/Download).\n",
    "2. [mamba](https://mamba.readthedocs.io/en/latest/installation.html) as a\n",
    "   replacement for conda. Spyglass installation is significantly faster with\n",
    "   mamba.\n",
    "   ```bash\n",
    "   wget \"https://github.com/conda-forge/miniforge/releases/latest/download/Miniforge3-$(uname)-$(uname -m).sh\"\n",
    "   bash Miniforge3-$(uname)-$(uname -m).sh\n",
    "   ```\n",
    "3. [VS Code](https://code.visualstudio.com/docs/python/python-tutorial) with\n",
    "   relevant python extensions, including\n",
    "   [Jupyter](https://code.visualstudio.com/docs/datascience/jupyter-notebooks).\n",
    "   Hold off on selecting your interpreter until after you make the environment\n",
    "   with `mamba`.\n",
    "4. [git](https://git-scm.com/book/en/v2/Getting-Started-Installing-Git) for\n",
    "   downloading the repository, including notebooks.\n",
    "\n",
    "In a terminal, ...\n",
    "\n",
    "1. navigate to your project directory.\n",
    "2. use `git` to download the Spyglass repository.\n",
    "3. navigate to the newly downloaded directory.\n",
    "4. create a `mamba` environment with either the standard `environment.yml` or\n",
    "   the `environment_position.yml`, if you intend to use the full position\n",
    "   pipeline. The latter will take longer to install.\n",
    "5. open this notebook with VSCode\n",
    "\n",
    "Commands for the steps above ...\n",
    "\n",
    "```bash\n",
    "cd /your/project/directory/ # 1\n",
    "git clone https://github.com/LorenFrankLab/spyglass/ # 2\n",
    "cd spyglass # 3\n",
    "mamba env create -f environment.yml # 4\n",
    "code notebooks/00_Setup.ipynb # 5\n",
    "```\n",
    "\n",
    "_Note:_ Spyglass is also installable via\n",
    "[pip](<https://en.wikipedia.org/wiki/Pip_(package_manager)>)\n",
    "and [pypi](https://pypi.org/project/spyglass-neuro/) with\n",
    "`pip install spyglass-neuro`, but downloading from GitHub will also download\n",
    "other files.\n",
    "\n",
    "Next, within VSCode,\n",
    "[select the kernel](https://code.visualstudio.com/docs/datascience/jupyter-kernel-management)\n",
    "that matches your spyglass environment created with `mamba`. To use other Python\n",
    "interfaces, be sure to activate the environment: `conda activate spyglass`\n",
    "\n",
    "See [this guide](https://datajoint.com/docs/elements/user-guide/) for additional\n",
    "details on each of these programs and the role they play in using the pipeline.\n"
   ]
  },
  {
   "cell_type": "markdown",
   "id": "f87a0acc",
   "metadata": {},
   "source": [
    "## Database\n"
   ]
  },
  {
   "cell_type": "markdown",
   "id": "1dc35b5a",
   "metadata": {},
   "source": [
    "You have a few options for databases.\n",
    "\n",
    "1. Connect to an existing database.\n",
    "2. Run your own database with [Docker](#running-your-own-database)\n",
    "3. JupyterHub (coming soon...)\n",
    "\n",
    "Your choice above should result in a set of credentials, including host name,\n",
    "host port, user name, and password. Note these for the next step.\n",
    "\n",
    "<details><summary>Note for MySQL 8 users, including Frank Lab members</summary>\n",
    "\n",
    "Using a MySQL 8 server, like the server hosted by the Frank Lab, will\n",
    "require the pre-release version of DataJoint to change one's password.\n",
    "\n",
    "```bash\n",
    "cd /location/for/datajoint/source/files/\n",
    "git clone https://github.com/datajoint/datajoint-python\n",
    "pip install ./datajoint-python\n",
    "```\n",
    "\n",
    "</details>\n"
   ]
  },
  {
   "cell_type": "markdown",
   "id": "f6f3fa15",
   "metadata": {},
   "source": [
    "### Existing Database\n"
   ]
  },
  {
   "cell_type": "markdown",
   "id": "580d3feb",
   "metadata": {},
   "source": [
    "Connecting to an existing database will require a user name and password.\n",
    "Please contact your database administrator for this information.\n",
    "\n",
    "Frank Lab members should contact Chris.\n"
   ]
  },
  {
   "cell_type": "markdown",
   "id": "a63761cc-437f-4e4a-a777-664b321b9b94",
   "metadata": {},
   "source": [
    "### Running your own database with Docker\n"
   ]
  },
  {
   "cell_type": "markdown",
   "id": "e8f57976",
   "metadata": {},
   "source": [
    "- First, [install Docker](https://docs.docker.com/engine/install/).\n",
    "- Add yourself to the\n",
    "  [`docker` group](https://docs.docker.com/engine/install/linux-postinstall/) so\n",
    "  that you don't have to be sudo to run docker.\n",
    "- Download the docker image for `datajoint/mysql:8.0`.\n",
    "\n",
    "  ```bash\n",
    "  docker pull datajoint/mysql:8.0\n",
    "  ```\n",
    "\n",
    "- When run, this is referred to as a 'Docker container'\n",
    "- Next start the container with a couple additional pieces of info...\n",
    "\n",
    "  - Root password. We use `tutorial`.\n",
    "  - Database name. Here, we use `spyglass-db`.\n",
    "  - Port mapping. Here, we map 3306 across the local machine and container.\n",
    "\n",
    "  ```bash\n",
    "  docker run --name spyglass-db -p 3306:3306 -e MYSQL_ROOT_PASSWORD=tutorial datajoint/mysql:8.0\n",
    "  ```\n",
    "\n",
    "- For data to persist after terminating the container,\n",
    "  [attach a volume](https://docs.docker.com/storage/volumes/) when running:\n",
    "\n",
    "  ```bash\n",
    "  docker volume create dj-vol\n",
    "  docker run --name spyglass-db -v dj-vol:/var/lib/mysql -p 3306:3306 -e MYSQL_ROOT_PASSWORD=tutorial datajoint/mysql\n",
    "  ```\n",
    "\n",
    "Docker credentials are as follows:\n",
    "\n",
    "- Host: localhost\n",
    "- Password: tutorial\n",
    "- User: root\n",
    "- Port: 3306\n"
   ]
  },
  {
   "cell_type": "markdown",
   "id": "706d0ed5",
   "metadata": {},
   "source": [
    "### Config and Connecting to the database\n"
   ]
  },
  {
   "cell_type": "markdown",
   "id": "22d3b72d",
   "metadata": {},
   "source": [
    "Spyglass can load settings from either a DataJoint config file (recommended) or\n",
    "environmental variables. The code below will generate a config file, but we\n",
    "first need to decide a 'base path'. This is generally the parent directory\n",
    "where the data will be stored, with subdirectories for `raw`, `analysis`, and\n",
    "other data folders. If they don't exist already, they will be created.\n",
    "\n",
    "The function below will create a config file (`~/.datajoint.config` if global,\n",
    "`./dj_local_conf.json` if local). Local is recommended for the notebooks, as\n",
    "each will start by loading this file. Custom json configs can be saved elsewhere, but will need to be loaded in startup with\n",
    "`dj.config.load('your-path')`.\n",
    "\n",
    "To point spyglass to a folder elsewhere (e.g., an external drive for waveform\n",
    "data), simply edit the json file. Note that the `raw` and `analysis` paths\n",
    "appear under both `stores` and `custom`.\n"
   ]
  },
  {
   "cell_type": "code",
   "execution_count": 2,
   "id": "468aab99-1aef-43a6-b510-16f9c84f8fea",
   "metadata": {},
   "outputs": [
    {
     "name": "stdout",
     "output_type": "stream",
     "text": [
      "/stelmo/nwb/\n"
     ]
    }
   ],
   "source": [
    "print(os.environ['SPYGLASS_BASE_DIR'])"
   ]
  },
  {
   "cell_type": "code",
   "execution_count": 9,
   "id": "7ebcb0bf",
   "metadata": {},
   "outputs": [
    {
     "name": "stderr",
     "output_type": "stream",
     "text": [
      "[2024-05-08 13:24:48,132][INFO]: Saved settings in /home/shijiegu/.datajoint_config.json\n"
     ]
    }
   ],
   "source": [
    "import os\n",
    "from spyglass.settings import SpyglassConfig\n",
    "\n",
    "# change to the root directory of the project\n",
    "if os.path.basename(os.getcwd()) == \"notebooks\":\n",
    "    os.chdir(\"..\")\n",
    "\n",
    "SpyglassConfig().save_dj_config(\n",
    "    save_method=\"global\",  # global or local\n",
    "    base_dir=\"/stelmo/nwb/\",\n",
    "    database_user=\"shijiegu-alt\",\n",
    "    database_password=\"temppass\",  # remove this line for shared machines\n",
    "    database_host=\"lmf-db.cin.ucsf.edu\",\n",
    "    database_port=3306,\n",
    "    set_password=False,\n",
    ")"
   ]
  },
  {
   "cell_type": "markdown",
   "id": "06eef771",
   "metadata": {},
   "source": [
    "If you used either a local or global save method, we can check the connection\n",
    "to the database with ...\n"
   ]
  },
  {
   "cell_type": "code",
   "execution_count": 8,
   "id": "2e34baaf",
   "metadata": {},
   "outputs": [
    {
     "name": "stderr",
     "output_type": "stream",
     "text": [
      "[2024-05-08 13:23:31,078][INFO]: Connecting shijiegu-alt@lmf-db.cin.ucsf.edu:3306\n",
      "[2024-05-08 13:23:31,140][INFO]: Connected shijiegu-alt@lmf-db.cin.ucsf.edu:3306\n"
     ]
    },
    {
     "data": {
      "text/html": [
       "\n",
       "    \n",
       "    <style type=\"text/css\">\n",
       "        .Table{\n",
       "            border-collapse:collapse;\n",
       "        }\n",
       "        .Table th{\n",
       "            background: #A0A0A0; color: #ffffff; padding:4px; border:#f0e0e0 1px solid;\n",
       "            font-weight: normal; font-family: monospace; font-size: 100%;\n",
       "        }\n",
       "        .Table td{\n",
       "            padding:4px; border:#f0e0e0 1px solid; font-size:100%;\n",
       "        }\n",
       "        .Table tr:nth-child(odd){\n",
       "            background: #ffffff;\n",
       "            color: #000000;\n",
       "        }\n",
       "        .Table tr:nth-child(even){\n",
       "            background: #f3f1ff;\n",
       "            color: #000000;\n",
       "        }\n",
       "        /* Tooltip container */\n",
       "        .djtooltip {\n",
       "        }\n",
       "        /* Tooltip text */\n",
       "        .djtooltip .djtooltiptext {\n",
       "            visibility: hidden;\n",
       "            width: 120px;\n",
       "            background-color: black;\n",
       "            color: #fff;\n",
       "            text-align: center;\n",
       "            padding: 5px 0;\n",
       "            border-radius: 6px;\n",
       "            /* Position the tooltip text - see examples below! */\n",
       "            position: absolute;\n",
       "            z-index: 1;\n",
       "        }\n",
       "        #primary {\n",
       "            font-weight: bold;\n",
       "            color: black;\n",
       "        }\n",
       "        #nonprimary {\n",
       "            font-weight: normal;\n",
       "            color: white;\n",
       "        }\n",
       "\n",
       "        /* Show the tooltip text when you mouse over the tooltip container */\n",
       "        .djtooltip:hover .djtooltiptext {\n",
       "            visibility: visible;\n",
       "        }\n",
       "    </style>\n",
       "    \n",
       "    <b>Table for holding the NWB files.</b>\n",
       "        <div style=\"max-height:1000px;max-width:1500px;overflow:auto;\">\n",
       "        <table border=\"1\" class=\"Table\">\n",
       "            <thead> <tr style=\"text-align: right;\"> <th> <div class=\"djtooltip\">\n",
       "                            <p id=\"primary\">nwb_file_name</p>\n",
       "                            <span class=\"djtooltiptext\">name of the NWB file</span>\n",
       "                        </div></th><th><div class=\"djtooltip\">\n",
       "                            <p id=\"nonprimary\">nwb_file_abs_path</p>\n",
       "                            <span class=\"djtooltiptext\"></span>\n",
       "                        </div> </th> </tr> </thead>\n",
       "            <tbody> <tr> <td>CH101_20210711_.nwb</td>\n",
       "<td>=BLOB=</td></tr><tr><td>CH73_20211206_.nwb</td>\n",
       "<td>=BLOB=</td></tr><tr><td>SC200120230904_.nwb</td>\n",
       "<td>=BLOB=</td></tr><tr><td>CH65_20211212_.nwb</td>\n",
       "<td>=BLOB=</td></tr><tr><td>J1620210620_.nwb</td>\n",
       "<td>=BLOB=</td></tr><tr><td>montague20200802_.nwb</td>\n",
       "<td>=BLOB=</td></tr><tr><td>chimi20200304_.nwb</td>\n",
       "<td>=BLOB=</td></tr><tr><td>Wallie20220913_.nwb</td>\n",
       "<td>=BLOB=</td></tr><tr><td>mango20211203_.nwb</td>\n",
       "<td>=BLOB=</td></tr><tr><td>peanut20201108_.nwb</td>\n",
       "<td>=BLOB=</td></tr><tr><td>wilbur20210406_.nwb</td>\n",
       "<td>=BLOB=</td></tr><tr><td>eliot20221022_.nwb</td>\n",
       "<td>=BLOB=</td> </tr> </tbody>\n",
       "        </table>\n",
       "        <p>...</p>\n",
       "        <p>Total: 886</p></div>\n",
       "        "
      ],
      "text/plain": [
       "*nwb_file_name nwb_file_a\n",
       "+------------+ +--------+\n",
       "CH101_20210711 =BLOB=    \n",
       "CH73_20211206_ =BLOB=    \n",
       "SC200120230904 =BLOB=    \n",
       "CH65_20211212_ =BLOB=    \n",
       "J1620210620_.n =BLOB=    \n",
       "montague202008 =BLOB=    \n",
       "chimi20200304_ =BLOB=    \n",
       "Wallie20220913 =BLOB=    \n",
       "mango20211203_ =BLOB=    \n",
       "peanut20201108 =BLOB=    \n",
       "wilbur20210406 =BLOB=    \n",
       "eliot20221022_ =BLOB=    \n",
       "   ...\n",
       " (Total: 886)"
      ]
     },
     "execution_count": 8,
     "metadata": {},
     "output_type": "execute_result"
    }
   ],
   "source": [
    "import datajoint as dj\n",
    "\n",
    "dj.conn()  # test connection\n",
    "dj.config  # check config\n",
    "\n",
    "from spyglass.common import Nwbfile\n",
    "\n",
    "Nwbfile()"
   ]
  },
  {
   "cell_type": "markdown",
   "id": "a492b8ba",
   "metadata": {},
   "source": [
    "If you see an error saying `Could not find SPYGLASS_BASE_DIR`, try loading your\n",
    "config before importing Spyglass, try setting this as an environmental variable\n",
    "before importing Spyglass.\n",
    "\n",
    "```python\n",
    "os.environ['SPYGLASS_BASE_DIR'] = '/your/base/path'\n",
    "\n",
    "import spyglass\n",
    "from spyglass.settings import SpyglassConfig\n",
    "import datajoint as dj\n",
    "print(SpyglassConfig().config)\n",
    "dj.config.save_local() # or global\n",
    "```\n"
   ]
  },
  {
   "cell_type": "markdown",
   "id": "13fd64af",
   "metadata": {},
   "source": [
    "# Up Next\n"
   ]
  },
  {
   "cell_type": "markdown",
   "id": "c6850095",
   "metadata": {},
   "source": [
    "Next, we'll try [inserting data](./01_Insert_Data.ipynb)\n"
   ]
  }
 ],
 "metadata": {
  "kernelspec": {
   "display_name": "Python 3 (ipykernel)",
   "language": "python",
   "name": "python3"
  },
  "language_info": {
   "codemirror_mode": {
    "name": "ipython",
    "version": 3
   },
   "file_extension": ".py",
   "mimetype": "text/x-python",
   "name": "python",
   "nbconvert_exporter": "python",
   "pygments_lexer": "ipython3",
   "version": "3.9.18"
  }
 },
 "nbformat": 4,
 "nbformat_minor": 5
}
