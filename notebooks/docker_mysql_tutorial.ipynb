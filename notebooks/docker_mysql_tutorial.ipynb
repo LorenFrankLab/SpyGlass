{
 "cells": [
  {
   "cell_type": "markdown",
   "id": "a63761cc-437f-4e4a-a777-664b321b9b94",
   "metadata": {},
   "source": [
    "### Starting your own `datajoint` (mysql) database with Docker\n",
    "\n",
    "First, install Docker. [Add yourself to the `docker` group](https://docs.docker.com/engine/install/linux-postinstall/) so that you don't have to be sudo to run docker. Then download the docker image for datajoint/mysql:\n",
    "\n",
    "```bash\n",
    "docker pull datajoint/mysql\n",
    "```\n",
    "\n",
    "Start the server in a Docker container with the mysql root password, which we set to `tutorial`. Give the container a name you like. As for the mapping between ports, we use 3306 by default. \n",
    "\n",
    "```bash\n",
    "docker run --name <name> -p 3306:3306 -e MYSQL_ROOT_PASSWORD=tutorial datajoint/mysql\n",
    "```\n",
    "\n",
    "If you want to make the data persist after terminating the container, you may want to [attach a volume to your Docker container](https://docs.docker.com/storage/volumes/) as part of the command to running it:\n",
    "\n",
    "```bash\n",
    "docker volume create dj-vol\n",
    "docker run --name <name> -v dj-vol:/var/lib/mysql -p 3306:3306 -e MYSQL_ROOT_PASSWORD=tutorial datajoint/mysql\n",
    "```\n",
    "\n",
    "Next, set the following configurations by running the cell below"
   ]
  },
  {
   "cell_type": "code",
   "execution_count": 1,
   "id": "a97e028f-d1f2-4567-84ae-142d5154eebf",
   "metadata": {},
   "outputs": [],
   "source": [
    "import datajoint as dj\n",
    "import os\n",
    "from pathlib import Path\n",
    "\n",
    "# set dirs\n",
    "base_dir = Path('/hdd/dj') # change this to your desired directory\n",
    "if (base_dir).exists() is False:\n",
    "    os.mkdir(base_dir)\n",
    "raw_dir = base_dir / 'raw'\n",
    "if (raw_dir).exists() is False:\n",
    "    os.mkdir(raw_dir)\n",
    "analysis_dir = base_dir / 'analysis'\n",
    "if (analysis_dir).exists() is False:\n",
    "    os.mkdir(analysis_dir)\n",
    "recording_dir = base_dir / 'recording'\n",
    "if (recording_dir).exists() is False:\n",
    "    os.mkdir(recording_dir)\n",
    "sorting_dir = base_dir / 'sorting'\n",
    "if (sorting_dir).exists() is False:\n",
    "    os.mkdir(sorting_dir)\n",
    "waveforms_dir = base_dir / 'waveforms'\n",
    "if (waveforms_dir).exists() is False:\n",
    "    os.mkdir(waveforms_dir)\n",
    "tmp_dir = base_dir / 'tmp'\n",
    "if (tmp_dir).exists() is False:\n",
    "    os.mkdir(tmp_dir)\n",
    "\n",
    "# set dj config\n",
    "dj.config['database.host'] = 'localhost'\n",
    "dj.config['database.user'] = 'root'\n",
    "dj.config['database.password'] = 'tutorial'\n",
    "dj.config['database.port'] = 3306\n",
    "dj.config['stores'] = {\n",
    "  'raw': {\n",
    "    'protocol': 'file',\n",
    "    'location': str(raw_dir),\n",
    "    'stage': str(raw_dir)\n",
    "  },\n",
    "  'analysis': {\n",
    "    'protocol': 'file',\n",
    "    'location': str(analysis_dir),\n",
    "    'stage': str(analysis_dir)\n",
    "  }\n",
    "}\n",
    "\n",
    "# set env vars\n",
    "os.environ['SPYGLASS_BASE_DIR'] = str(base_dir)\n",
    "os.environ['SPYGLASS_RECORDING_DIR'] = str(recording_dir)\n",
    "os.environ['SPYGLASS_SORTING_DIR'] = str(sorting_dir)\n",
    "os.environ['SPYGLASS_WAVEFORMS_DIR'] = str(waveforms_dir)\n",
    "os.environ['SPYGLASS_TEMP_DIR'] = str(tmp_dir)\n",
    "os.environ['KACHERY_CLOUD_DIR'] = '/hdd/dj/.kachery-cloud'\n",
    "\n",
    "os.environ['DJ_SUPPORT_FILEPATH_MANAGEMENT'] = 'TRUE'\n",
    "\n",
    "dj.config[\"enable_python_native_blobs\"] = True"
   ]
  },
  {
   "cell_type": "markdown",
   "id": "ab61f4eb-d788-47db-a842-6b8e1b38d522",
   "metadata": {},
   "source": [
    "Now you should be able to connect to the datajoint server running in Docker."
   ]
  },
  {
   "cell_type": "code",
   "execution_count": 2,
   "id": "afb63913-4e6b-4049-ae1d-55ab1ac8d42c",
   "metadata": {},
   "outputs": [
    {
     "name": "stderr",
     "output_type": "stream",
     "text": [
      "[2022-10-20 16:52:27,880][INFO]: Connecting root@localhost:3306\n",
      "[2022-10-20 16:52:27,975][INFO]: Connected root@localhost:3306\n",
      "/home/kyu/miniconda3/envs/spyglass/lib/python3.8/site-packages/position_tools/core.py:3: DeprecationWarning: Please use `gaussian_filter1d` from the `scipy.ndimage` namespace, the `scipy.ndimage.filters` namespace is deprecated.\n",
      "  from scipy.ndimage.filters import gaussian_filter1d\n"
     ]
    }
   ],
   "source": [
    "import spyglass.spikesorting as sgs"
   ]
  },
  {
   "cell_type": "markdown",
   "id": "863708ff-d274-4ef3-b17e-f4982538ff87",
   "metadata": {},
   "source": [
    "Here is an example of a table that you can inspect. It should be empty since there is nothing in our databse."
   ]
  },
  {
   "cell_type": "code",
   "execution_count": 3,
   "id": "43a212e1-92dc-4fb7-b140-ba9de16703a8",
   "metadata": {},
   "outputs": [
    {
     "data": {
      "text/html": [
       "\n",
       "    \n",
       "    <style type=\"text/css\">\n",
       "        .Relation{\n",
       "            border-collapse:collapse;\n",
       "        }\n",
       "        .Relation th{\n",
       "            background: #A0A0A0; color: #ffffff; padding:4px; border:#f0e0e0 1px solid;\n",
       "            font-weight: normal; font-family: monospace; font-size: 100%;\n",
       "        }\n",
       "        .Relation td{\n",
       "            padding:4px; border:#f0e0e0 1px solid; font-size:100%;\n",
       "        }\n",
       "        .Relation tr:nth-child(odd){\n",
       "            background: #ffffff;\n",
       "        }\n",
       "        .Relation tr:nth-child(even){\n",
       "            background: #f3f1ff;\n",
       "        }\n",
       "        /* Tooltip container */\n",
       "        .djtooltip {\n",
       "        }\n",
       "        /* Tooltip text */\n",
       "        .djtooltip .djtooltiptext {\n",
       "            visibility: hidden;\n",
       "            width: 120px;\n",
       "            background-color: black;\n",
       "            color: #fff;\n",
       "            text-align: center;\n",
       "            padding: 5px 0;\n",
       "            border-radius: 6px;\n",
       "            /* Position the tooltip text - see examples below! */\n",
       "            position: absolute;\n",
       "            z-index: 1;\n",
       "        }\n",
       "        #primary {\n",
       "            font-weight: bold;\n",
       "            color: black;\n",
       "        }\n",
       "        #nonprimary {\n",
       "            font-weight: normal;\n",
       "            color: white;\n",
       "        }\n",
       "\n",
       "        /* Show the tooltip text when you mouse over the tooltip container */\n",
       "        .djtooltip:hover .djtooltiptext {\n",
       "            visibility: visible;\n",
       "        }\n",
       "    </style>\n",
       "    \n",
       "    <b></b>\n",
       "        <div style=\"max-height:1000px;max-width:1500px;overflow:auto;\">\n",
       "        <table border=\"1\" class=\"Relation\">\n",
       "            <thead> <tr style=\"text-align: right;\"> <th> <div class=\"djtooltip\">\n",
       "                            <p id=\"primary\">nwb_file_name</p>\n",
       "                            <span class=\"djtooltiptext\">name of the NWB file</span>\n",
       "                        </div></th><th><div class=\"djtooltip\">\n",
       "                            <p id=\"primary\">sort_group_id</p>\n",
       "                            <span class=\"djtooltiptext\">identifier for a group of electrodes</span>\n",
       "                        </div></th><th><div class=\"djtooltip\">\n",
       "                            <p id=\"primary\">sort_interval_name</p>\n",
       "                            <span class=\"djtooltiptext\">name for this interval</span>\n",
       "                        </div></th><th><div class=\"djtooltip\">\n",
       "                            <p id=\"primary\">preproc_params_name</p>\n",
       "                            <span class=\"djtooltiptext\"></span>\n",
       "                        </div></th><th><div class=\"djtooltip\">\n",
       "                            <p id=\"primary\">team_name</p>\n",
       "                            <span class=\"djtooltiptext\"></span>\n",
       "                        </div></th><th><div class=\"djtooltip\">\n",
       "                            <p id=\"primary\">sorter</p>\n",
       "                            <span class=\"djtooltiptext\"></span>\n",
       "                        </div></th><th><div class=\"djtooltip\">\n",
       "                            <p id=\"primary\">sorter_params_name</p>\n",
       "                            <span class=\"djtooltiptext\"></span>\n",
       "                        </div></th><th><div class=\"djtooltip\">\n",
       "                            <p id=\"primary\">artifact_removed_interval_list_name</p>\n",
       "                            <span class=\"djtooltiptext\"></span>\n",
       "                        </div></th><th><div class=\"djtooltip\">\n",
       "                            <p id=\"nonprimary\">sorting_path</p>\n",
       "                            <span class=\"djtooltiptext\"></span>\n",
       "                        </div></th><th><div class=\"djtooltip\">\n",
       "                            <p id=\"nonprimary\">time_of_sort</p>\n",
       "                            <span class=\"djtooltiptext\">in Unix time, to the nearest second</span>\n",
       "                        </div> </th> </tr> </thead>\n",
       "            <tbody> <tr>  </tr> </tbody>\n",
       "        </table>\n",
       "        \n",
       "        <p>Total: 0</p></div>\n",
       "        "
      ],
      "text/plain": [
       "*nwb_file_name *sort_group_id *sort_interval *preproc_param *team_name    *sorter    *sorter_params *artifact_remo sorting_path   time_of_sort  \n",
       "+------------+ +------------+ +------------+ +------------+ +-----------+ +--------+ +------------+ +------------+ +------------+ +------------+\n",
       "\n",
       " (Total: 0)"
      ]
     },
     "execution_count": 3,
     "metadata": {},
     "output_type": "execute_result"
    }
   ],
   "source": [
    "sgs.SpikeSorting()"
   ]
  },
  {
   "cell_type": "markdown",
   "id": "dc22aff7-41e2-4e81-bbb4-cc2a16013b7d",
   "metadata": {},
   "source": []
  }
 ],
 "metadata": {
  "kernelspec": {
   "display_name": "Python 3 (ipykernel)",
   "language": "python",
   "name": "python3"
  },
  "language_info": {
   "codemirror_mode": {
    "name": "ipython",
    "version": 3
   },
   "file_extension": ".py",
   "mimetype": "text/x-python",
   "name": "python",
   "nbconvert_exporter": "python",
   "pygments_lexer": "ipython3",
   "version": "3.8.13"
  }
 },
 "nbformat": 4,
 "nbformat_minor": 5
}
