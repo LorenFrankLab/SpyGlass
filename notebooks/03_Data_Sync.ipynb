{
 "cells": [
  {
   "cell_type": "markdown",
   "metadata": {},
   "source": [
    "# Sync Data\n"
   ]
  },
  {
   "cell_type": "markdown",
   "metadata": {},
   "source": [
    "DEV note: \n",
    " - set up as host, then as client\n",
    " - test as collaborator"
   ]
  },
  {
   "cell_type": "markdown",
   "metadata": {},
   "source": [
    "## Overview\n"
   ]
  },
  {
   "cell_type": "markdown",
   "metadata": {},
   "source": [
    "This notebook will cover ...\n",
    "\n",
    "1. [General Kachery information](#intro) \n",
    "2. Setting up Kachery as a [host](#host-setup). If you'll use an existing host, \n",
    "    skip this.\n",
    "3. Setting up Kachery in your [database](#database-setup). If you're using an \n",
    "    existing database, skip this.\n",
    "4. Adding Kachery [data](#data-setup).\n"
   ]
  },
  {
   "cell_type": "markdown",
   "metadata": {},
   "source": [
    "## Intro\n"
   ]
  },
  {
   "cell_type": "markdown",
   "metadata": {},
   "source": [
    "This is one notebook in a multi-part series on Spyglass. Before running, be sure\n",
    "to [setup your environment](./00_Setup.ipynb) and run some analyses (e.g. \n",
    "[LFP](./12_LFP.ipynb)).\n",
    "\n",
    "### Cloud\n",
    "\n",
    "This notebook contains instructions for setting up data sharing/syncing through\n",
    "[_Kachery Cloud_](https://github.com/flatironinstitute/kachery-cloud), which\n",
    "makes it possible to share analysis results, stored in NWB files. When a user\n",
    "tries to access a file, Spyglass does the following:\n",
    "\n",
    "1. Try to load from the local file system/store. \n",
    "2. If unavailable, check if it is in the relevant sharing table (i.e., \n",
    "   `NwbKachery` or `AnalysisNWBKachery`).\n",
    "3. If present, attempt to download from the associated Kachery Resource.\n",
    "\n",
    "_Note:_ large file downloads may take a long time, so downloading raw data is\n",
    "not supported. We suggest direct transfer with\n",
    "[globus](https://www.globus.org/data-transfer) or a similar service.\n",
    "\n",
    "### Zone\n",
    "\n",
    "A [Kachery Zone](https://github.com/flatironinstitute/kachery-cloud/blob/main/doc/create_kachery_zone.md)\n",
    "is a cloud storage host. The Frank laboratory has three separate Kachery zones:\n",
    "\n",
    "1. `franklab.default`: Internal file sharing, including figurls\n",
    "2. `franklab.collaborator`: File sharing with collaborating labs.\n",
    "3. `franklab.public`: Public file sharing (not yet active)\n",
    "\n",
    "Setting your zone can either be done as as an environment variable or an item \n",
    "in a DataJoint config.\n",
    "\n",
    "- Environment variable:\n",
    "\n",
    "   ```bash\n",
    "   export KACHERY_ZONE=franklab.default\n",
    "   export KACHERY_CLOUD_DIR=/stelmo/nwb/.kachery_cloud\n",
    "   ```\n",
    "\n",
    "- DataJoint Config:\n",
    "\n",
    "   ```json\n",
    "   \"custom\": {\n",
    "      \"kachery_zone\": \"franklab.default\"\n",
    "   }\n",
    "   ```"
   ]
  },
  {
   "cell_type": "markdown",
   "metadata": {},
   "source": [
    "## Host Setup"
   ]
  },
  {
   "attachments": {},
   "cell_type": "markdown",
   "metadata": {},
   "source": [
    "### Zones\n",
    "\n",
    "See\n",
    "[instructions](https://github.com/flatironinstitute/kachery-cloud/blob/main/doc/create_kachery_zone.md)\n",
    "for setting up new Kachery Zones, including creating a cloud bucket and\n",
    "registering it with the Kachery team. \n",
    "\n",
    "_Notes:_ \n",
    "\n",
    "- Bucket names cannot include periods, so we substite a dash, as in\n",
    "  `franklab-default`.\n",
    "- You only need to create an API token for your first zone."
   ]
  },
  {
   "attachments": {},
   "cell_type": "markdown",
   "metadata": {},
   "source": [
    "### Resources\n",
    "\n",
    "See [instructions](https://github.com/scratchrealm/kachery-resource/blob/main/README.md)\n",
    "for setting up zone resources. This allows for sharing files on demand. We \n",
    "suggest using the same name for the zone and resource.\n",
    "\n",
    "_Note:_ For each zone, you need to run the local daemon that listens for\n",
    "requests from that zone. An example of the bash script we use is\n",
    "\n",
    "```bash\n",
    "export KACHERY_ZONE=franklab.collaborators\n",
    "export KACHERY_CLOUD_DIR=/stelmo/nwb/.kachery_cloud\n",
    "cd /stelmo/nwb/franklab_collaborators_resource\n",
    "npx kachery-resource@latest share\n",
    "```"
   ]
  },
  {
   "attachments": {},
   "cell_type": "markdown",
   "metadata": {},
   "source": [
    "## Database Setup\n"
   ]
  },
  {
   "cell_type": "markdown",
   "metadata": {},
   "source": [
    "\n",
    "Next we'll add zones/resources to the Spyglass database."
   ]
  },
  {
   "cell_type": "code",
   "execution_count": 7,
   "metadata": {
    "tags": []
   },
   "outputs": [],
   "source": [
    "import os\n",
    "import datajoint as dj\n",
    "\n",
    "# change to the upper level folder to detect dj_local_conf.json\n",
    "if os.path.basename(os.getcwd()) == \"notebooks\":\n",
    "    os.chdir(\"..\")\n",
    "dj.config.load(\"dj_local_conf.json\")  # load config for database connection info\n",
    "\n",
    "import spyglass.common as sgc\n",
    "import spyglass.sharing as sgs\n",
    "from spyglass.settings import load_config\n",
    "\n",
    "import warnings\n",
    "\n",
    "warnings.filterwarnings(\"ignore\")"
   ]
  },
  {
   "cell_type": "markdown",
   "metadata": {},
   "source": [
    "Check existing Zones:"
   ]
  },
  {
   "cell_type": "code",
   "execution_count": 3,
   "metadata": {},
   "outputs": [
    {
     "data": {
      "text/html": [
       "\n",
       "    \n",
       "    <style type=\"text/css\">\n",
       "        .Table{\n",
       "            border-collapse:collapse;\n",
       "        }\n",
       "        .Table th{\n",
       "            background: #A0A0A0; color: #ffffff; padding:4px; border:#f0e0e0 1px solid;\n",
       "            font-weight: normal; font-family: monospace; font-size: 100%;\n",
       "        }\n",
       "        .Table td{\n",
       "            padding:4px; border:#f0e0e0 1px solid; font-size:100%;\n",
       "        }\n",
       "        .Table tr:nth-child(odd){\n",
       "            background: #ffffff;\n",
       "            color: #000000;\n",
       "        }\n",
       "        .Table tr:nth-child(even){\n",
       "            background: #f3f1ff;\n",
       "            color: #000000;\n",
       "        }\n",
       "        /* Tooltip container */\n",
       "        .djtooltip {\n",
       "        }\n",
       "        /* Tooltip text */\n",
       "        .djtooltip .djtooltiptext {\n",
       "            visibility: hidden;\n",
       "            width: 120px;\n",
       "            background-color: black;\n",
       "            color: #fff;\n",
       "            text-align: center;\n",
       "            padding: 5px 0;\n",
       "            border-radius: 6px;\n",
       "            /* Position the tooltip text - see examples below! */\n",
       "            position: absolute;\n",
       "            z-index: 1;\n",
       "        }\n",
       "        #primary {\n",
       "            font-weight: bold;\n",
       "            color: black;\n",
       "        }\n",
       "        #nonprimary {\n",
       "            font-weight: normal;\n",
       "            color: white;\n",
       "        }\n",
       "\n",
       "        /* Show the tooltip text when you mouse over the tooltip container */\n",
       "        .djtooltip:hover .djtooltiptext {\n",
       "            visibility: visible;\n",
       "        }\n",
       "    </style>\n",
       "    \n",
       "    <b></b>\n",
       "        <div style=\"max-height:1000px;max-width:1500px;overflow:auto;\">\n",
       "        <table border=\"1\" class=\"Table\">\n",
       "            <thead> <tr style=\"text-align: right;\"> <th> <div class=\"djtooltip\">\n",
       "                            <p id=\"primary\">kachery_zone_name</p>\n",
       "                            <span class=\"djtooltiptext\">the name of the kachery zone. Note that this is the same as the name of the kachery resource.</span>\n",
       "                        </div></th><th><div class=\"djtooltip\">\n",
       "                            <p id=\"nonprimary\">description</p>\n",
       "                            <span class=\"djtooltiptext\">description of this zone</span>\n",
       "                        </div></th><th><div class=\"djtooltip\">\n",
       "                            <p id=\"nonprimary\">kachery_cloud_dir</p>\n",
       "                            <span class=\"djtooltiptext\">kachery cloud directory on local machine where files are linked</span>\n",
       "                        </div></th><th><div class=\"djtooltip\">\n",
       "                            <p id=\"nonprimary\">kachery_proxy</p>\n",
       "                            <span class=\"djtooltiptext\">kachery sharing proxy</span>\n",
       "                        </div></th><th><div class=\"djtooltip\">\n",
       "                            <p id=\"nonprimary\">lab_name</p>\n",
       "                            <span class=\"djtooltiptext\"></span>\n",
       "                        </div> </th> </tr> </thead>\n",
       "            <tbody> <tr>  </tr> </tbody>\n",
       "        </table>\n",
       "        \n",
       "        <p>Total: 0</p></div>\n",
       "        "
      ],
      "text/plain": [
       "*kachery_zone_ description    kachery_cloud_ kachery_proxy  lab_name    \n",
       "+------------+ +------------+ +------------+ +------------+ +----------+\n",
       "\n",
       " (Total: 0)"
      ]
     },
     "execution_count": 3,
     "metadata": {},
     "output_type": "execute_result"
    }
   ],
   "source": [
    "sgs.KacheryZone()"
   ]
  },
  {
   "cell_type": "markdown",
   "metadata": {},
   "source": [
    "Check existing file list:"
   ]
  },
  {
   "cell_type": "code",
   "execution_count": 4,
   "metadata": {},
   "outputs": [
    {
     "data": {
      "text/html": [
       "\n",
       "    \n",
       "    <style type=\"text/css\">\n",
       "        .Table{\n",
       "            border-collapse:collapse;\n",
       "        }\n",
       "        .Table th{\n",
       "            background: #A0A0A0; color: #ffffff; padding:4px; border:#f0e0e0 1px solid;\n",
       "            font-weight: normal; font-family: monospace; font-size: 100%;\n",
       "        }\n",
       "        .Table td{\n",
       "            padding:4px; border:#f0e0e0 1px solid; font-size:100%;\n",
       "        }\n",
       "        .Table tr:nth-child(odd){\n",
       "            background: #ffffff;\n",
       "            color: #000000;\n",
       "        }\n",
       "        .Table tr:nth-child(even){\n",
       "            background: #f3f1ff;\n",
       "            color: #000000;\n",
       "        }\n",
       "        /* Tooltip container */\n",
       "        .djtooltip {\n",
       "        }\n",
       "        /* Tooltip text */\n",
       "        .djtooltip .djtooltiptext {\n",
       "            visibility: hidden;\n",
       "            width: 120px;\n",
       "            background-color: black;\n",
       "            color: #fff;\n",
       "            text-align: center;\n",
       "            padding: 5px 0;\n",
       "            border-radius: 6px;\n",
       "            /* Position the tooltip text - see examples below! */\n",
       "            position: absolute;\n",
       "            z-index: 1;\n",
       "        }\n",
       "        #primary {\n",
       "            font-weight: bold;\n",
       "            color: black;\n",
       "        }\n",
       "        #nonprimary {\n",
       "            font-weight: normal;\n",
       "            color: white;\n",
       "        }\n",
       "\n",
       "        /* Show the tooltip text when you mouse over the tooltip container */\n",
       "        .djtooltip:hover .djtooltiptext {\n",
       "            visibility: visible;\n",
       "        }\n",
       "    </style>\n",
       "    \n",
       "    <b></b>\n",
       "        <div style=\"max-height:1000px;max-width:1500px;overflow:auto;\">\n",
       "        <table border=\"1\" class=\"Table\">\n",
       "            <thead> <tr style=\"text-align: right;\"> <th> <div class=\"djtooltip\">\n",
       "                            <p id=\"primary\">kachery_zone_name</p>\n",
       "                            <span class=\"djtooltiptext\">the name of the kachery zone. Note that this is the same as the name of the kachery resource.</span>\n",
       "                        </div></th><th><div class=\"djtooltip\">\n",
       "                            <p id=\"primary\">analysis_file_name</p>\n",
       "                            <span class=\"djtooltiptext\">name of the file</span>\n",
       "                        </div></th><th><div class=\"djtooltip\">\n",
       "                            <p id=\"nonprimary\">analysis_file_uri</p>\n",
       "                            <span class=\"djtooltiptext\">the uri of the file</span>\n",
       "                        </div> </th> </tr> </thead>\n",
       "            <tbody> <tr>  </tr> </tbody>\n",
       "        </table>\n",
       "        \n",
       "        <p>Total: 0</p></div>\n",
       "        "
      ],
      "text/plain": [
       "*kachery_zone_ *analysis_file analysis_file_\n",
       "+------------+ +------------+ +------------+\n",
       "\n",
       " (Total: 0)"
      ]
     },
     "execution_count": 4,
     "metadata": {},
     "output_type": "execute_result"
    }
   ],
   "source": [
    "sgs.AnalysisNwbfileKachery()"
   ]
  },
  {
   "attachments": {},
   "cell_type": "markdown",
   "metadata": {},
   "source": [
    "Prepare an entry for the `KacheryZone` table:"
   ]
  },
  {
   "cell_type": "code",
   "execution_count": 38,
   "metadata": {},
   "outputs": [],
   "source": [
    "zone_name = load_config().get(\"KACHERY_ZONE\")\n",
    "cloud_dir = load_config().get(\"KACHERY_CLOUD_DIR\")\n",
    "zone_key = {\n",
    "    \"kachery_zone_name\": zone_name,\n",
    "    \"description\": \" \".join(zone_name.split(\".\")) + \" zone\",\n",
    "    \"kachery_cloud_dir\": cloud_dir,\n",
    "    \"kachery_proxy\": \"https://kachery-resource-proxy.herokuapp.com\",\n",
    "    \"lab_name\": sgc.Lab.fetch('lab_name', limit=1)[0]\n",
    "}\n"
   ]
  },
  {
   "cell_type": "markdown",
   "metadata": {},
   "source": [
    "Use caution when inserting into an active database, as it could interfere with\n",
    "ongoing work."
   ]
  },
  {
   "cell_type": "code",
   "execution_count": 39,
   "metadata": {},
   "outputs": [],
   "source": [
    "sgs.KacheryZone().insert1(zone_key)"
   ]
  },
  {
   "cell_type": "markdown",
   "metadata": {},
   "source": [
    "## Data Setup"
   ]
  },
  {
   "attachments": {},
   "cell_type": "markdown",
   "metadata": {},
   "source": [
    "Once the zone exists, we can add `AnalysisNWB` files we want to share by adding\n",
    "entries to the `AnalysisNwbfileKacherySelection` table.\n",
    "\n",
    "_Note:_ This step depends on having previously run an analysis on the example \n",
    "file."
   ]
  },
  {
   "cell_type": "code",
   "execution_count": 40,
   "metadata": {},
   "outputs": [],
   "source": [
    "nwb_file_name = \"minirec20230622_.nwb\"\n",
    "\n",
    "analysis_file_list = ( # Grab all analysis files for this nwb file\n",
    "    sgc.AnalysisNwbfile() & {\"nwb_file_name\": nwb_file_name}\n",
    ").fetch(\"analysis_file_name\")\n",
    "\n",
    "kachery_selection_key = {\"kachery_zone_name\": zone_name}\n",
    "\n",
    "for file in analysis_file_list: # Add all analysis to shared list\n",
    "    kachery_selection_key[\"analysis_file_name\"] = file\n",
    "    sgs.AnalysisNwbfileKacherySelection.insert1(kachery_selection_key, skip_duplicates=True)"
   ]
  },
  {
   "attachments": {},
   "cell_type": "markdown",
   "metadata": {
    "tags": []
   },
   "source": [
    "With those files in the selection table, we can add them as links to the zone by\n",
    "populating the `AnalysisNwbfileKachery` table:"
   ]
  },
  {
   "cell_type": "code",
   "execution_count": null,
   "metadata": {
    "tags": []
   },
   "outputs": [],
   "source": [
    "sgs.AnalysisNwbfileKachery.populate()"
   ]
  },
  {
   "attachments": {},
   "cell_type": "markdown",
   "metadata": {
    "collapsed": true,
    "jupyter": {
     "outputs_hidden": true
    },
    "tags": []
   },
   "source": [
    "If all of that worked, \n",
    "\n",
    "1. go to https://kachery-gateway.figurl.org/admin?zone=your_zone\n",
    "    (changing your_zone to the name of your zone)\n",
    "2. Go to the Admin/Authorization Settings tab\n",
    "3. Add the GitHub login names and permissions for the users you want to share \n",
    "    with. \n",
    "\n",
    "If those users can connect to your database, they should now be able to use the\n",
    "`.fetch_nwb()` method to download any `AnalysisNwbfiles` that have been shared\n",
    "through Kachery.\n",
    "\n",
    "For example:\n",
    "\n",
    "```python\n",
    "nwb_file_name = \"wilbur20210331_.nwb\"\n",
    "from spyglass.spikesorting import CuratedSpikeSorting\n",
    "\n",
    "test_sort = (CuratedSpikeSorting & {'nwb_file_name' : nwb_file_name}).fetch()[0]\n",
    "sort = (CuratedSpikeSorting & test_sort).fetch_nwb()\n",
    "```"
   ]
  }
 ],
 "metadata": {
  "kernelspec": {
   "display_name": "spyglass",
   "language": "python",
   "name": "python3"
  },
  "language_info": {
   "codemirror_mode": {
    "name": "ipython",
    "version": 3
   },
   "file_extension": ".py",
   "mimetype": "text/x-python",
   "name": "python",
   "nbconvert_exporter": "python",
   "pygments_lexer": "ipython3",
   "version": "3.9.16"
  },
  "vscode": {
   "interpreter": {
    "hash": "a172adcc57043bf031ddf85b5016360bc9bbefd0c359647f76b348e9e6923166"
   }
  }
 },
 "nbformat": 4,
 "nbformat_minor": 4
}
