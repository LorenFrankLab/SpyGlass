{
 "cells": [
  {
   "cell_type": "code",
   "execution_count": 1,
   "id": "ab327f7a-31f6-479d-b287-dcba3c98bd4a",
   "metadata": {},
   "outputs": [
    {
     "name": "stderr",
     "output_type": "stream",
     "text": [
      "[2023-02-06 17:59:47,562][INFO]: Connecting root@localhost:3306\n",
      "[2023-02-06 17:59:47,721][INFO]: Connected root@localhost:3306\n",
      "/Users/rly/mambaforge/envs/spyglass/lib/python3.9/site-packages/position_tools/core.py:3: DeprecationWarning: Please use `gaussian_filter1d` from the `scipy.ndimage` namespace, the `scipy.ndimage.filters` namespace is deprecated.\n",
      "  from scipy.ndimage.filters import gaussian_filter1d\n",
      "OMP: Info #276: omp_set_nested routine deprecated, please use omp_set_max_active_levels instead.\n"
     ]
    }
   ],
   "source": [
    "import datajoint as dj\n",
    "import os\n",
    "from pathlib import Path\n",
    "\n",
    "# set dirs\n",
    "base_dir = Path('/Users/rly/Documents/NWB/spyglass-workspace') # change this to your desired directory\n",
    "# base_dir = Path('/hdd/dj') # change this to your desired directory\n",
    "raw_dir = base_dir / 'raw'\n",
    "analysis_dir = base_dir / 'analysis'\n",
    "recording_dir = base_dir / 'recording'\n",
    "sorting_dir = base_dir / 'sorting'\n",
    "waveforms_dir = base_dir / 'waveforms'\n",
    "tmp_dir = base_dir / 'tmp'\n",
    "kachery_cloud_dir = base_dir / '.kachery_cloud'\n",
    "\n",
    "os.makedirs(raw_dir, exist_ok=True)\n",
    "os.makedirs(analysis_dir, exist_ok=True)\n",
    "os.makedirs(recording_dir, exist_ok=True)\n",
    "os.makedirs(sorting_dir, exist_ok=True)\n",
    "os.makedirs(waveforms_dir, exist_ok=True)\n",
    "os.makedirs(tmp_dir, exist_ok=True)\n",
    "os.makedirs(kachery_cloud_dir, exist_ok=True)\n",
    "\n",
    "# set dj config\n",
    "dj.config['database.host'] = 'localhost'\n",
    "dj.config['database.user'] = 'root'\n",
    "dj.config['database.password'] = 'tutorial'\n",
    "dj.config['database.port'] = 3306\n",
    "dj.config['stores'] = {\n",
    "  'raw': {\n",
    "    'protocol': 'file',\n",
    "    'location': str(raw_dir),\n",
    "    'stage': str(raw_dir)\n",
    "  },\n",
    "  'analysis': {\n",
    "    'protocol': 'file',\n",
    "    'location': str(analysis_dir),\n",
    "    'stage': str(analysis_dir)\n",
    "  }\n",
    "}\n",
    "dj.config[\"enable_python_native_blobs\"] = True\n",
    "\n",
    "# set env vars\n",
    "os.environ['SPYGLASS_BASE_DIR'] = str(base_dir)\n",
    "os.environ['SPYGLASS_RECORDING_DIR'] = str(recording_dir)\n",
    "os.environ['SPYGLASS_SORTING_DIR'] = str(sorting_dir)\n",
    "os.environ['SPYGLASS_WAVEFORMS_DIR'] = str(waveforms_dir)\n",
    "os.environ['SPYGLASS_TEMP_DIR'] = str(tmp_dir)\n",
    "os.environ['KACHERY_CLOUD_DIR'] = str(kachery_cloud_dir)\n",
    "os.environ['DJ_SUPPORT_FILEPATH_MANAGEMENT'] = 'TRUE'\n",
    "\n",
    "import spyglass as sg\n",
    "import spyglass.common as sgc\n",
    "import spyglass.data_import as sgdi\n",
    "import spyglass.spikesorting as sgs\n",
    "import warnings\n",
    "warnings.simplefilter(\"always\")"
   ]
  },
  {
   "cell_type": "code",
   "execution_count": 2,
   "id": "401abc4d-9a2f-4db9-8472-0c05a717f36b",
   "metadata": {},
   "outputs": [
    {
     "name": "stderr",
     "output_type": "stream",
     "text": [
      "[2023-02-06 17:59:49,667][INFO]: Deleting 0 rows from `common_device`.`data_acquisition_device_system`\n",
      "[2023-02-06 17:59:49,684][INFO]: Deleting 0 rows from `common_device`.`data_acquisition_device_amplifier`\n",
      "[2023-02-06 17:59:49,704][INFO]: Deleting 0 rows from `common_device`.`data_acquisition_device`\n",
      "[2023-02-06 17:59:49,777][INFO]: Deleting 384 rows from `common_ephys`.`_electrode`\n",
      "[2023-02-06 17:59:49,789][INFO]: Deleting 1 rows from `common_ephys`.`_electrode_group`\n",
      "[2023-02-06 17:59:49,810][INFO]: Deleting 1 rows from `common_ephys`.`_raw`\n",
      "[2023-02-06 17:59:49,830][INFO]: Deleting 1 rows from `common_interval`.`interval_list`\n",
      "[2023-02-06 17:59:49,853][INFO]: Deleting 1 rows from `common_session`.`_session__experimenter`\n",
      "[2023-02-06 17:59:49,872][INFO]: Deleting 1 rows from `common_session`.`_session`\n",
      "[2023-02-06 17:59:49,893][INFO]: Deleting 1 rows from `common_lab`.`institution`\n",
      "[2023-02-06 17:59:49,919][INFO]: Deleting 1 rows from `common_lab`.`lab`\n",
      "[2023-02-06 17:59:49,949][INFO]: Deleting 1 rows from `common_lab`.`lab_team__lab_team_member`\n",
      "[2023-02-06 17:59:49,963][INFO]: Deleting 1 rows from `common_lab`.`lab_team`\n",
      "[2023-02-06 17:59:49,982][INFO]: Deleting 1 rows from `common_lab`.`lab_member`\n",
      "[2023-02-06 17:59:50,002][INFO]: Deleting 1 rows from `common_subject`.`subject`\n",
      "[2023-02-06 17:59:50,023][INFO]: Deleting 0 rows from `common_device`.`probe`\n",
      "[2023-02-06 17:59:50,046][INFO]: Deleting 0 rows from `common_device`.`probe_type`\n",
      "[2023-02-06 17:59:50,065][INFO]: Deleting 0 rows from `common_session`.`_session`\n",
      "[2023-02-06 17:59:50,085][INFO]: Deleting 1 rows from `common_nwbfile`.`nwbfile`\n",
      "100%|████████████████████████████████████████████████████████████████████████| 1/1 [00:00<00:00, 26.30it/s]\n",
      "[2023-02-06 17:59:50,235][INFO]: Deleting 0 rows from `spikesorting_recording`.`sort_group`\n",
      "[2023-02-06 17:59:50,260][INFO]: Deleting 0 rows from `spikesorting_recording`.`sort_interval`\n",
      "[2023-02-06 17:59:50,274][INFO]: Deleting 0 rows from `spikesorting_sorting`.`spike_sorter_parameters`\n",
      "[2023-02-06 17:59:50,290][INFO]: Deleting 0 rows from `spikesorting_recording`.`spike_sorting_preprocessing_parameters`\n",
      "[2023-02-06 17:59:50,303][INFO]: Deleting 0 rows from `spikesorting_recording`.`spike_sorting_recording_selection`\n",
      "[2023-02-06 17:59:50,317][INFO]: Deleting 0 rows from `spikesorting_curation`.`curation`\n",
      "[2023-02-06 17:59:50,333][INFO]: Deleting 1 rows from `common_region`.`#brain_region`\n"
     ]
    },
    {
     "data": {
      "text/plain": [
       "1"
      ]
     },
     "execution_count": 2,
     "metadata": {},
     "output_type": "execute_result"
    }
   ],
   "source": [
    "sgc.DataAcquisitionDeviceSystem().delete(safemode=False)\n",
    "sgc.DataAcquisitionDeviceAmplifier().delete(safemode=False)\n",
    "sgc.DataAcquisitionDevice().delete(safemode=False)\n",
    "sgc.Institution().delete(safemode=False, force_parts=True)\n",
    "sgc.Lab().delete(safemode=False)\n",
    "sgc.LabTeam().delete(safemode=False)\n",
    "sgc.LabMember().delete(safemode=False)\n",
    "sgc.Subject().delete(safemode=False)\n",
    "sgc.Probe().delete(safemode=False)\n",
    "sgc.ProbeType().delete(safemode=False)\n",
    "sgc.Session().delete(safemode=False)\n",
    "sgc.Nwbfile().delete(safemode=False)\n",
    "sgc.Nwbfile().cleanup(delete_files=True)\n",
    "sgs.SortGroup().delete(safemode=False)\n",
    "sgs.SortInterval().delete(safemode=False)\n",
    "sgs.SpikeSorterParameters().delete(safemode=False)\n",
    "sgs.SpikeSortingPreprocessingParameters().delete(safemode=False)\n",
    "sgs.SpikeSortingRecordingSelection().delete(safemode=False)\n",
    "sgs.Curation().delete(safemode=False)\n",
    "sgc.BrainRegion().delete(safemode=False)"
   ]
  },
  {
   "cell_type": "code",
   "execution_count": null,
   "id": "94a41776-bd80-4907-8a9e-0e87a62ba1aa",
   "metadata": {},
   "outputs": [],
   "source": [
    "sgc.DataAcquisitionDeviceSystem.insert1(\n",
    "    {\"data_acquisition_device_system\": \"Neuropixels Acquisition System\"}, \n",
    "    skip_duplicates=True\n",
    ")"
   ]
  },
  {
   "cell_type": "code",
   "execution_count": null,
   "id": "7f4a2346-85e3-4367-ab41-be9b2b4ff7f9",
   "metadata": {},
   "outputs": [],
   "source": [
    "# sgc.ProbeType.insert1({\n",
    "#   \"probe_type\": \"128c-4s6mm6cm-15um-26um-sl\",\n",
    "#   \"probe_description\": \"A Livermore flexible probe with 128 channels, 4 shanks, 6 mm shank length, 6 cm ribbon length. 15 um contact diameter, 26 um center-to-center distance (pitch), single-line configuration.\",\n",
    "#   \"manufacturer\": \"Lawrence Livermore National Lab\",\n",
    "#   \"num_shanks\": 4,\n",
    "# }, skip_duplicates=True)\n",
    "# sgc.ProbeType()"
   ]
  },
  {
   "cell_type": "code",
   "execution_count": 3,
   "id": "13cbb0f7-ced2-41b7-aa6c-46b41b8812dd",
   "metadata": {},
   "outputs": [],
   "source": [
    "# Define the name of the file that you copied and renamed; make sure it's something unique. \n",
    "# nwb_file_name = 'sub-CuffLinks_ses-CuffLinks-LT03-g3_behavior+ecephys.nwb'\n",
    "nwb_file_name = 'sub-AppleBottom_ses-AppleBottom-DY20-g3_behavior+ecephys.nwb'\n",
    "\n",
    "filename, file_extension = os.path.splitext(nwb_file_name)\n",
    "# This is a copy of the original nwb file, except it doesn't contain the raw data (for storage reasons)\n",
    "nwb_file_name2 = filename + '_' + file_extension"
   ]
  },
  {
   "cell_type": "code",
   "execution_count": null,
   "id": "aa43fcd7-500a-4257-959e-7b2f386eafce",
   "metadata": {},
   "outputs": [],
   "source": [
    "sgc.ProbeType & {\"probe_type\": \"Neuropixels 1.0\"}"
   ]
  },
  {
   "cell_type": "code",
   "execution_count": null,
   "id": "727b51c6-7756-40d3-ab8f-9f7e5b9f3998",
   "metadata": {},
   "outputs": [],
   "source": [
    "sgc.Probe.create_from_nwbfile(\n",
    "    nwb_file_name=nwb_file_name,\n",
    "    nwb_device_name=\"Device\",\n",
    "    probe_id=\"Neuropixels 1.0 Giocomo Lab Configuration\",\n",
    "    probe_type=\"Neuropixels 1.0\",\n",
    "    contact_side_numbering=True\n",
    ")"
   ]
  },
  {
   "cell_type": "code",
   "execution_count": null,
   "id": "7b4bdb2d-3552-4066-aa24-bd372ac6a60b",
   "metadata": {},
   "outputs": [],
   "source": [
    "sgc.Probe.Shank()"
   ]
  },
  {
   "cell_type": "code",
   "execution_count": null,
   "id": "fbc0ee08-4f6b-4c52-9243-8354271e9244",
   "metadata": {},
   "outputs": [],
   "source": [
    "sgc.Probe.Electrode()"
   ]
  },
  {
   "cell_type": "code",
   "execution_count": 4,
   "id": "77938b92-8668-43b5-a4c2-40600a1eaf26",
   "metadata": {},
   "outputs": [
    {
     "name": "stdout",
     "output_type": "stream",
     "text": [
      "Creating a copy of NWB file sub-AppleBottom_ses-AppleBottom-DY20-g3_behavior+ecephys.nwb with link to raw ephys data: sub-AppleBottom_ses-AppleBottom-DY20-g3_behavior+ecephys_.nwb\n"
     ]
    },
    {
     "name": "stderr",
     "output_type": "stream",
     "text": [
      "/Users/rly/mambaforge/envs/spyglass/lib/python3.9/site-packages/datajoint/hash.py:39: ResourceWarning: unclosed file <_io.BufferedReader name='/Users/rly/Documents/NWB/spyglass-workspace/raw/sub-AppleBottom_ses-AppleBottom-DY20-g3_behavior+ecephys_.nwb'>\n",
      "  return uuid_from_stream(Path(filepath).open(\"rb\"), init_string=init_string)\n",
      "ResourceWarning: Enable tracemalloc to get the object allocation traceback\n",
      "/Users/rly/mambaforge/envs/spyglass/lib/python3.9/site-packages/datajoint/external.py:276: DeprecationWarning: The truth value of an empty array is ambiguous. Returning False, but in future this will result in an error. Use `array.size > 0` to check that an array is not empty.\n",
      "  if check_hash:\n"
     ]
    },
    {
     "name": "stdout",
     "output_type": "stream",
     "text": [
      "Populate Session...\n",
      "Institution...\n",
      "Lab...\n",
      "LabMember...\n",
      "Please add the Google user ID for Emily A. Aery Jones in the LabMember.LabMemberInfo table if you want to give them permission to manually curate sortings by this team.\n",
      "Subject...\n",
      "Populate DataAcquisitionDevice...\n",
      "Inserted data acquisition device(s): {'Neuropixels Recording Device'}\n",
      "\n",
      "Populate CameraDevice...\n",
      "No conforming camera device metadata found.\n",
      "\n",
      "Populate Probe...\n",
      "No conforming probe metadata found.\n",
      "\n",
      "Skipping Apparatus for now...\n",
      "IntervalList...\n",
      "No epochs found in NWB file.\n",
      "DataAcquisitionDevice with name Neuropixels Recording Device does not exist. Cannot link Session with DataAcquisitionDevice in Session.DataAcquisitionDevice.\n",
      "Populate ElectrodeGroup...\n",
      "Populate Electrode...\n",
      "Populate Raw...\n",
      "Importing raw data: Sampling rate:\t30000.0 Hz\n",
      "Number of valid intervals:\t1\n",
      "Populate SampleCount...\n",
      "Unable to import SampleCount: no data interface named \"sample_count\" found in sub-AppleBottom_ses-AppleBottom-DY20-g3_behavior+ecephys_.nwb.\n",
      "Populate DIOEvents...\n",
      "No conforming behavioral events data interface found in sub-AppleBottom_ses-AppleBottom-DY20-g3_behavior+ecephys_.nwb\n",
      "\n",
      "Populate TaskEpochs\n",
      "No tasks processing module found in root pynwb.file.NWBFile at 0x5932979968\n",
      "Fields:\n",
      "  acquisition: {\n",
      "    ElectricalSeries <class 'pynwb.ecephys.ElectricalSeries'>\n",
      "  }\n",
      "  devices: {\n",
      "    Device <class 'pynwb.device.Device'>\n",
      "  }\n",
      "  electrode_groups: {\n",
      "    shank0 <class 'pynwb.ecephys.ElectrodeGroup'>\n",
      "  }\n",
      "  electrodes: electrodes <class 'hdmf.common.table.DynamicTable'>\n",
      "  experiment_description: Entorhinal cortex spike times and LFP during linear track, alternation task, open field, and pre + post track rest in WT mice\n",
      "  experimenter: ['Emily A. Aery Jones']\n",
      "  file_create_date: [datetime.datetime(2022, 9, 21, 17, 21, 31, 66305, tzinfo=tzoffset(None, -25200))]\n",
      "  identifier: EmilyA.AeryJonesAppleBottomDY20-g3\n",
      "  institution: Stanford University\n",
      "  lab: Lisa Giocomo\n",
      "  processing: {\n",
      "    behavior <class 'pynwb.base.ProcessingModule'>,\n",
      "    ecephys <class 'pynwb.base.ProcessingModule'>\n",
      "  }\n",
      "  session_description: Open Field\n",
      "  session_id: AppleBottomDY20-g3\n",
      "  session_start_time: 2022-03-09 15:20:14-08:00\n",
      "  subject: subject pynwb.file.Subject at 0x5933837328\n",
      "Fields:\n",
      "  date_of_birth: 2021-10-05 00:00:00-07:00\n",
      "  genotype: WT (RRID:IMSR_JAX:000664)\n",
      "  sex: Female\n",
      "  species: Mus musculus\n",
      "  strain: C57BL/6\n",
      "  subject_id: AppleBottom\n",
      "\n",
      "  timestamps_reference_time: 2022-03-09 15:20:14-08:00\n",
      "  units: units <class 'pynwb.misc.Units'>\n",
      "\n",
      "\n",
      "Populate StateScriptFile\n",
      "Populate VideoFile\n",
      "RawPosition...\n"
     ]
    }
   ],
   "source": [
    "sgdi.insert_sessions(nwb_file_name)"
   ]
  },
  {
   "cell_type": "code",
   "execution_count": null,
   "id": "0cf1a2e4-78de-4ed5-aa06-ebb9ffa80d45",
   "metadata": {},
   "outputs": [],
   "source": [
    "%debug"
   ]
  },
  {
   "cell_type": "code",
   "execution_count": null,
   "id": "7fef1922-4c6b-4129-85f4-a6e73e53744f",
   "metadata": {},
   "outputs": [],
   "source": [
    "sgc.Probe()"
   ]
  },
  {
   "cell_type": "code",
   "execution_count": null,
   "id": "8754f4cb-f293-42af-ad22-a3a8bf6e4f05",
   "metadata": {},
   "outputs": [],
   "source": [
    "sgc.Probe.Shank()"
   ]
  },
  {
   "cell_type": "code",
   "execution_count": null,
   "id": "dc4258bc-6320-418d-bb37-5ba6a950dd73",
   "metadata": {},
   "outputs": [],
   "source": [
    "sgc.Probe.Electrode()"
   ]
  },
  {
   "cell_type": "code",
   "execution_count": null,
   "id": "dc7f8817-c878-410e-beeb-e024a2a8f7e3",
   "metadata": {},
   "outputs": [],
   "source": [
    "dj.ERD(sgc.Session)+1"
   ]
  },
  {
   "cell_type": "code",
   "execution_count": null,
   "id": "8a226183-732b-46aa-8906-15fa327a17df",
   "metadata": {},
   "outputs": [],
   "source": []
  }
 ],
 "metadata": {
  "kernelspec": {
   "display_name": "Python 3 (ipykernel)",
   "language": "python",
   "name": "python3"
  },
  "language_info": {
   "codemirror_mode": {
    "name": "ipython",
    "version": 3
   },
   "file_extension": ".py",
   "mimetype": "text/x-python",
   "name": "python",
   "nbconvert_exporter": "python",
   "pygments_lexer": "ipython3",
   "version": "3.9.15"
  },
  "vscode": {
   "interpreter": {
    "hash": "b6816110c551506b7edd62c854c9f6aac59b5d5314432cfcca59256364691e5e"
   }
  }
 },
 "nbformat": 4,
 "nbformat_minor": 5
}
