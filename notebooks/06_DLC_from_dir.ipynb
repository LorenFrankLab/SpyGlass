{
 "cells": [
  {
   "cell_type": "markdown",
   "id": "6fad7706-ab2b-4157-a62f-6f6ffc373d61",
   "metadata": {},
   "source": [
    "## Position using DeepLabCut from a Pre-Trained DLC Project\n",
    "\n",
    "**Note: make a copy of this notebook and run the copy to avoid git conflicts in the future**\n",
    "\n",
    "This is a tutorial on how to extract position given a pre-trained DeepLabCut (DLC) model using the Spyglass pipeline used in Loren Frank's lab, UCSF. It will walk through adding your DLC model to Spyglass, executing pose estimation on a novel behavioral video, processing the pose estimation output to extract a centroid and orientation, and inserting the resulting information into the `IntervalPositionInfo` table.<br>\n",
    "-> This tutorial assumes you've completed [tutorial 0](0_intro.ipynb)<br>\n",
    "**Note 2: Make sure you are running this within the spyglass Conda environment)**"
   ]
  },
  {
   "cell_type": "code",
   "execution_count": null,
   "id": "0f567531",
   "metadata": {},
   "outputs": [],
   "source": [
    "from pathlib import Path, PosixPath, PurePath\n",
    "import os\n",
    "import numpy as np\n",
    "import pandas as pd\n",
    "import pynwb\n",
    "import datajoint as dj\n",
    "import spyglass.common as sgc\n",
    "import spyglass.position as sgp"
   ]
  },
  {
   "cell_type": "markdown",
   "id": "7e3e1854-0baf-44f4-a5a6-ddc1fdb4c3e1",
   "metadata": {},
   "source": [
    "#### Here is a schematic showing the tables used in this notebook.<br>\n",
    "<img src='dlc_existing.png' width=\"1500\" height=\"400\">"
   ]
  },
  {
   "cell_type": "markdown",
   "id": "0388fc5f",
   "metadata": {},
   "source": [
    "### Table of Contents<a id='ToC'></a>\n",
    "[`DLCProject`](#DLCProject)<br>\n",
    "[`DLCModel`](#DLCModel)<br>\n",
    "[`DLCPoseEstimation`](#DLCPoseEstimation)<br>\n",
    "[`DLCSmoothInterp`](#DLCSmoothInterp)<br>\n",
    "[`DLCCentroid`](#DLCCentroid)<br>\n",
    "[`DLCOrientation`](#DLCOrientation)<br>\n",
    "[`DLCPos`](#DLCPos)<br>\n",
    "[`DLCPosVideo`](#DLCPosVideo)<br>\n",
    "[`PosSource`](#PosSource)<br>\n",
    "[`IntervalPositionInfo`](#IntervalPositionInfo)<br>"
   ]
  },
  {
   "cell_type": "markdown",
   "id": "6adc175d",
   "metadata": {},
   "source": [
    "#### [DLCProject](#ToC) <a id='DLCProject'></a>"
   ]
  },
  {
   "cell_type": "markdown",
   "id": "e7c51888-b05d-4a51-bb9f-b075db4bbf49",
   "metadata": {},
   "source": [
    "First, we can visualize the contents of the BodyPart table. This table will store standard names of body parts used within DLC models throughout the lab with a concise description.<br>Please do not add to this table unless necessary."
   ]
  },
  {
   "cell_type": "code",
   "execution_count": null,
   "id": "c938c639",
   "metadata": {},
   "outputs": [],
   "source": [
    "sgp.BodyPart()"
   ]
  },
  {
   "cell_type": "markdown",
   "id": "f422dd98-728b-4b48-877b-f77c2d60872f",
   "metadata": {},
   "source": [
    "To use an existing DLC project we can use the `insert_existing_project` method on the `DLCProject` table.<br>This function will return a dictionary that can be used to query `DLCProject` in the future and expects:<br>\n",
    ">`project_name`: a short, unique, descriptive name of your project that will be referenced throughout the pipeline<br>`lab_team`: the name of your team from the Spyglass table `LabTeam`<br>`config_path`: string of the path to your existing DLC project's config.yaml<br>`bodyparts`: a list of bodyparts used in your project (optional)<br>`frames_per_video`: number of frames to extract for training from each video (optional)"
   ]
  },
  {
   "cell_type": "code",
   "execution_count": null,
   "id": "f20ecce9",
   "metadata": {},
   "outputs": [],
   "source": [
    "project_key = sgp.DLCProject.insert_existing_project(\n",
    "    project_name='test',\n",
    "    bodyparts=['redLED_C', 'greenLED', 'redLED_L', 'redLED_R', 'tailBase'],\n",
    "    lab_team='JG_DG',\n",
    "    config_path='/cumulus/deeplabcut/LH_4LED_model-Daniel_Sharon-2022-07-15/config.yaml',\n",
    "    frames_per_video=200,\n",
    "    skip_duplicates=True)"
   ]
  },
  {
   "cell_type": "code",
   "execution_count": null,
   "id": "6d9d4223-63da-462e-8164-7cc63c945760",
   "metadata": {},
   "outputs": [],
   "source": [
    "sgp.DLCProject()"
   ]
  },
  {
   "cell_type": "code",
   "execution_count": null,
   "id": "1e87f721-0780-4ab4-9f74-b92cf114d45d",
   "metadata": {},
   "outputs": [],
   "source": [
    "project_key = {\"project_name\": \"test\", \"config_path\": \"/nimbus/deeplabcut/projects/LH_4LED_model-Daniel_Sharon-2022-07-15/config.yaml\"}"
   ]
  },
  {
   "cell_type": "markdown",
   "id": "1c7876e7",
   "metadata": {},
   "source": [
    "#### [DLCModel](#ToC) <a id='DLCModel'></a>"
   ]
  },
  {
   "cell_type": "markdown",
   "id": "fa36a042-f13e-4a36-812a-a4efaeb57a09",
   "metadata": {},
   "source": [
    "Lets take a look at the `DLCModelInput` table next. This table has `dlc_model_name` and `project_name` as primary keys and `project_path` as a secondary key. "
   ]
  },
  {
   "cell_type": "code",
   "execution_count": null,
   "id": "25f0a45e-5bd9-48bf-a79d-908bd5a17235",
   "metadata": {},
   "outputs": [],
   "source": [
    "sgp.DLCModelInput()"
   ]
  },
  {
   "cell_type": "markdown",
   "id": "39ee99ae-586a-4cbb-9255-15ddd594b1b7",
   "metadata": {},
   "source": [
    "Next we can modify the `project_key` to replace `config_path` with `project_path` to fit with the fields in `DLCModelInput`"
   ]
  },
  {
   "cell_type": "code",
   "execution_count": null,
   "id": "fc961e93-8fe8-4069-a945-a9fc1e1ad993",
   "metadata": {},
   "outputs": [],
   "source": [
    "print(f\"current project_key:{project_key}\")\n",
    "project_key['project_path'] = os.path.dirname(project_key['config_path'])\n",
    "del project_key['config_path']\n",
    "print(f\"updated project_key: {project_key}\")"
   ]
  },
  {
   "cell_type": "markdown",
   "id": "4b958ef7-160c-4141-a7c2-1177fdfd6eb6",
   "metadata": {},
   "source": [
    "Here we can set a unique name for our model using the `dlc_model_name` variable.<br>We then combine this with the updated `project_key` to insert into `DLCModelInput`."
   ]
  },
  {
   "cell_type": "code",
   "execution_count": null,
   "id": "49650dc2",
   "metadata": {},
   "outputs": [],
   "source": [
    "dlc_model_name = 'LH_4LED_model'\n",
    "sgp.DLCModelInput().insert1({'dlc_model_name' : dlc_model_name,\n",
    "                             **project_key},\n",
    "                              skip_duplicates=True)\n",
    "sgp.DLCModelInput()"
   ]
  },
  {
   "cell_type": "markdown",
   "id": "d04c4785-23b4-4a79-9ef9-3815c1215422",
   "metadata": {},
   "source": [
    "Inserting an entry into `DLCModelInput` will also populate `DLCModelSource`. `DLCModelSource` is a table that is used to switch between models trained using Spyglass and pre-existing projects."
   ]
  },
  {
   "cell_type": "code",
   "execution_count": null,
   "id": "01021925",
   "metadata": {},
   "outputs": [],
   "source": [
    "sgp.DLCModelSource() & project_key"
   ]
  },
  {
   "cell_type": "markdown",
   "id": "8d8756c5-0d85-490b-a712-a95faa074b43",
   "metadata": {},
   "source": [
    "Notice the `source` field in the table above. It will only accept \"FromImport\" or \"FromUpstream\" as entries. Let's checkout the `FromImport` part table attached to `DLCModelSource` below."
   ]
  },
  {
   "cell_type": "code",
   "execution_count": null,
   "id": "22fb6d58-225f-49fb-86ee-4b3197aa841f",
   "metadata": {},
   "outputs": [],
   "source": [
    "sgp.DLCModelSource.FromImport() & project_key"
   ]
  },
  {
   "cell_type": "markdown",
   "id": "02b9297c-49dc-43b8-ad7b-3897c4d442bf",
   "metadata": {},
   "source": [
    "Next we'll get ready to populate the `DLCModel` table, which holds all the relevant information for both pre-trained models and models trained within Spyglass.<br>First we'll need to determine a set of parameters for our model to select the correct model file.<br>We can visualize a default set below:"
   ]
  },
  {
   "cell_type": "code",
   "execution_count": null,
   "id": "8e01d109",
   "metadata": {},
   "outputs": [],
   "source": [
    "sgp.DLCModelParams.get_default()"
   ]
  },
  {
   "cell_type": "markdown",
   "id": "8aa565b0-37e4-462f-b0d8-fd1b1686b69c",
   "metadata": {},
   "source": [
    "> Here is the syntax to add your own parameter set:\n",
    ">```python\n",
    "dlc_model_params_name = \"make_this_yours\"\n",
    "params = {\n",
    "            \"params\": {},\n",
    "            \"shuffle\": 1,\n",
    "            \"trainingsetindex\": 0,\n",
    "            \"model_prefix\": \"\",\n",
    "        }\n",
    "sgp.DLCModelParams.insert1({\"dlc_model_params_name\": dlc_model_params_name, \"params\": params}, skip_duplicates=True)\n",
    "```"
   ]
  },
  {
   "cell_type": "markdown",
   "id": "581612b4-f4e5-4438-aeeb-f267eaeb5bad",
   "metadata": {},
   "source": [
    "Now let's fetch the primary keys from `DLCModelSource` to make our lives a bit easier when we insert into `DLCModelSelection`."
   ]
  },
  {
   "cell_type": "code",
   "execution_count": null,
   "id": "b8b81585-5926-43d3-9e1b-de287ef33826",
   "metadata": {},
   "outputs": [],
   "source": [
    "temp_model_key = (sgp.DLCModelSource.FromImport() & project_key).fetch1('KEY')"
   ]
  },
  {
   "cell_type": "markdown",
   "id": "b7fb287f-5c3d-431c-b196-5d327e4eb198",
   "metadata": {},
   "source": [
    "And insert into `DLCModelSelection` to allow for population of `DLCModel`"
   ]
  },
  {
   "cell_type": "code",
   "execution_count": null,
   "id": "eaa23fab",
   "metadata": {},
   "outputs": [],
   "source": [
    "sgp.DLCModelSelection().insert1({\n",
    "    **temp_model_key,\n",
    "    'dlc_model_params_name': 'default'},\n",
    "    skip_duplicates=True)"
   ]
  },
  {
   "cell_type": "markdown",
   "id": "ed9b3158-a07e-4630-bb42-a609d1d8ee24",
   "metadata": {},
   "source": [
    "Let's populate `DLCModel`!!"
   ]
  },
  {
   "cell_type": "code",
   "execution_count": null,
   "id": "f8f1b839",
   "metadata": {},
   "outputs": [],
   "source": [
    "model_key = (sgp.DLCModelSelection & temp_model_key).fetch1('KEY')\n",
    "sgp.DLCModel.populate(model_key)"
   ]
  },
  {
   "cell_type": "markdown",
   "id": "a920fc2d-5b81-4d4b-817b-d7549d2810ac",
   "metadata": {},
   "source": [
    "And of course make sure it populated correctly"
   ]
  },
  {
   "cell_type": "code",
   "execution_count": null,
   "id": "930df143-c756-4904-b4b6-7eed8c194b9d",
   "metadata": {},
   "outputs": [],
   "source": [
    "sgp.DLCModel() & model_key"
   ]
  },
  {
   "cell_type": "markdown",
   "id": "86db6243",
   "metadata": {},
   "source": [
    "#### [DLCPoseEstimation](#ToC) <a id='DLCPoseEstimation'></a>"
   ]
  },
  {
   "cell_type": "markdown",
   "id": "6873f0e5-d32c-4c06-a964-56f33b5e7c1d",
   "metadata": {},
   "source": [
    "<div class=\"alert alert-block alert-warning\">\n",
    "<b>\n",
    "The following steps should be run on a GPU cluster</b></div>"
   ]
  },
  {
   "cell_type": "markdown",
   "id": "a4241c1f-f11a-4701-93cd-bdcc4a437d73",
   "metadata": {},
   "source": [
    "Alright, now that we brought our trained model into Spyglass we're ready to set-up Pose Estimation on a behavioral video of your choice.<br>For this tutorial, you can choose to use an epoch of your choice, we can also use the one specified below. If you'd like to use your own video, just specify the `nwb_file_name` and `epoch` number and make sure it's in the `VideoFile` table!"
   ]
  },
  {
   "cell_type": "code",
   "execution_count": null,
   "id": "d7d41790-9643-47e4-a916-df8ee1035059",
   "metadata": {},
   "outputs": [],
   "source": [
    "nwb_file_name = 'J1620210604_.nwb'\n",
    "epoch = 14"
   ]
  },
  {
   "cell_type": "code",
   "execution_count": null,
   "id": "d8a295b1",
   "metadata": {},
   "outputs": [],
   "source": [
    "sgc.VideoFile() & {'nwb_file_name': nwb_file_name,\n",
    "                  'epoch': epoch}"
   ]
  },
  {
   "cell_type": "markdown",
   "id": "0420f1fe-56e5-48cb-adb8-09bfc6999d3f",
   "metadata": {},
   "source": [
    "<div class=\"alert alert-block alert-info\">\n",
    "    <b>Setting up Pose Estimation</b><br>\n",
    "<code>gputouse</code> determines which GPU core to use for pose estimation. Run the cell below to determine which core has space and set the <code>gputouse</code> variable accordingly."
   ]
  },
  {
   "cell_type": "code",
   "execution_count": null,
   "id": "7ce5adf5-9631-4ae5-a91f-e0367ebced2f",
   "metadata": {},
   "outputs": [],
   "source": [
    "! nvidia-smi"
   ]
  },
  {
   "cell_type": "markdown",
   "id": "6ddc2410-19cb-40d3-b00d-4716e6945be7",
   "metadata": {},
   "source": [
    "<div class=\"alert alert-block alert-warning\">\n",
    "Set GPU core here</div>"
   ]
  },
  {
   "cell_type": "code",
   "execution_count": null,
   "id": "e0d1d75f-a4f0-46e7-9726-6e923042a0f1",
   "metadata": {},
   "outputs": [],
   "source": [
    "gputouse = ## 0-9"
   ]
  },
  {
   "cell_type": "markdown",
   "id": "555f7f01-9d06-40ed-91d3-508266888d78",
   "metadata": {},
   "source": [
    "To set up pose estimation, we need to make sure a few things are in order. Using `insert_estimation_task` will take care of these steps for us!<br>Briefly, it will convert out video to be in .mp4 format (DLC struggles with .h264) and determine the directory in which we'll store the pose estimation results.<br>\n",
    ">**`task_mode`** determines whether or not populating `DLCPoseEstimation` runs a new pose estimation, or loads an existing. Use _'trigger'_ unless you've already run this specific pose estimation.<br>**`video_file_num`** will be 0 in almost all cases."
   ]
  },
  {
   "cell_type": "code",
   "execution_count": null,
   "id": "f5913f0f",
   "metadata": {},
   "outputs": [],
   "source": [
    "pose_estimation_key = sgp.DLCPoseEstimationSelection.insert_estimation_task(\n",
    "    {\n",
    "        'nwb_file_name': nwb_file_name,\n",
    "        'epoch': epoch,\n",
    "        'video_file_num': 0,\n",
    "        **model_key\n",
    "    },\n",
    "    task_mode='load',\n",
    "    params={'gputouse': gputouse, 'videotype': 'mp4'}\n",
    ")"
   ]
  },
  {
   "cell_type": "markdown",
   "id": "cbd0b2dc-5a57-45d7-94e6-44b0d08554de",
   "metadata": {},
   "source": [
    "And now we populate `DLCPoseEstimation`! This might take a bit..."
   ]
  },
  {
   "cell_type": "code",
   "execution_count": null,
   "id": "02c30671",
   "metadata": {},
   "outputs": [],
   "source": [
    "sgp.DLCPoseEstimation().populate(pose_estimation_key)"
   ]
  },
  {
   "cell_type": "markdown",
   "id": "97b35927",
   "metadata": {},
   "source": [
    "#### [DLCSmoothInterp](#ToC) <a id='DLCSmoothInterp'></a>"
   ]
  },
  {
   "cell_type": "code",
   "execution_count": null,
   "id": "cb34a7af",
   "metadata": {},
   "outputs": [],
   "source": [
    "si_params_name = 'JG_SI_params'\n",
    "sgp.DLCSmoothInterpParams().insert1({\n",
    "    'dlc_si_params_name': si_params_name,\n",
    "    \"params\":\n",
    "    {\"smoothing_params\": {\n",
    "        \"smoothing_duration\": 0.05,\n",
    "        \"smooth_method\": \"moving_avg\",\n",
    "    },\n",
    "     \"interp_params\": {\n",
    "         \"likelihood_thresh\": 0.95,\n",
    "     },\n",
    "     \"max_plausible_speed\": 300.0,\n",
    "     \"speed_smoothing_std_dev\": 0.100,\n",
    "     \"sampling_rate\": 50,\n",
    "    }}, skip_duplicates=True)"
   ]
  },
  {
   "cell_type": "code",
   "execution_count": null,
   "id": "7be6db58",
   "metadata": {},
   "outputs": [],
   "source": [
    "si_key = pose_estimation_key.copy()\n",
    "fields = list(sgp.DLCSmoothInterpSelection.fetch().dtype.fields.keys())\n",
    "si_key = {key: val for key,val in si_key.items() if key in fields}"
   ]
  },
  {
   "cell_type": "code",
   "execution_count": null,
   "id": "9a75cd66",
   "metadata": {},
   "outputs": [],
   "source": [
    "si_key"
   ]
  },
  {
   "cell_type": "code",
   "execution_count": null,
   "id": "ff87ccbe",
   "metadata": {},
   "outputs": [],
   "source": [
    "sgp.DLCSmoothInterpSelection.insert1(\n",
    "    {\n",
    "        **si_key,\n",
    "        'bodypart': 'greenLED',\n",
    "        'dlc_si_params_name': 'JG_SI_params',\n",
    "    },\n",
    "    skip_duplicates=True)"
   ]
  },
  {
   "cell_type": "code",
   "execution_count": null,
   "id": "2f987d05",
   "metadata": {},
   "outputs": [],
   "source": [
    "bodyparts = (sgp.DLCPoseEstimation.BodyPart & pose_estimation_key).fetch('bodypart')\n",
    "print(bodyparts)"
   ]
  },
  {
   "cell_type": "code",
   "execution_count": null,
   "id": "71bf0e84",
   "metadata": {},
   "outputs": [],
   "source": [
    "sgp.DLCSmoothInterpSelection.insert(\n",
    "    [\n",
    "        {\n",
    "            **si_key,\n",
    "            'bodypart': 'greenLED',\n",
    "            'dlc_si_params_name': 'JG_SI_params',\n",
    "        },\n",
    "        {\n",
    "            **si_key,\n",
    "            'bodypart': 'redLED_C',\n",
    "            'dlc_si_params_name': 'JG_SI_params',\n",
    "        },\n",
    "        {\n",
    "            **si_key,\n",
    "            'bodypart': 'redLED_L',\n",
    "            'dlc_si_params_name': 'JG_SI_params',\n",
    "        },\n",
    "        {\n",
    "            **si_key,\n",
    "            'bodypart': 'redLED_R',\n",
    "            'dlc_si_params_name': 'JG_SI_params',\n",
    "        },\n",
    "    ],\n",
    "    skip_duplicates=True)"
   ]
  },
  {
   "cell_type": "code",
   "execution_count": null,
   "id": "3d5d0046",
   "metadata": {},
   "outputs": [],
   "source": [
    "sgp.DLCSmoothInterp().populate(si_key)"
   ]
  },
  {
   "cell_type": "code",
   "execution_count": null,
   "id": "b5ff5546",
   "metadata": {},
   "outputs": [],
   "source": [
    "(sgp.DLCSmoothInterp() & {**si_key,'bodypart': 'greenLED'}).fetch1_dataframe().plot.scatter(x='x',y='y',s=1)"
   ]
  },
  {
   "cell_type": "markdown",
   "id": "5bb5bb2c-b168-4d31-83b6-1d81775415e2",
   "metadata": {},
   "source": [
    "#### [DLCSmoothInterpCohort](#ToC) <a id='DLCSmoothInterpCohort'></a>"
   ]
  },
  {
   "cell_type": "code",
   "execution_count": null,
   "id": "0dfab362",
   "metadata": {},
   "outputs": [],
   "source": [
    "cohort_key = si_key.copy()\n",
    "if 'bodypart' in cohort_key:\n",
    "    del cohort_key['bodypart']\n",
    "if 'dlc_si_params_name' in cohort_key:\n",
    "    del cohort_key['dlc_si_params_name']\n",
    "cohort_key['dlc_si_cohort_selection_name'] = '4LEDs'\n",
    "cohort_key['bodyparts_params_dict'] = {'greenLED': si_params_name,\n",
    "                                       'redLED_L': si_params_name,\n",
    "                                       'redLED_C': si_params_name,\n",
    "                                       'redLED_R': si_params_name,}"
   ]
  },
  {
   "cell_type": "code",
   "execution_count": null,
   "id": "b9356875",
   "metadata": {},
   "outputs": [],
   "source": [
    "sgp.DLCSmoothInterpCohortSelection().insert1(cohort_key, skip_duplicates=True)"
   ]
  },
  {
   "cell_type": "code",
   "execution_count": null,
   "id": "ffe4dc85",
   "metadata": {},
   "outputs": [],
   "source": [
    "sgp.DLCSmoothInterpCohort.populate(cohort_key)"
   ]
  },
  {
   "cell_type": "code",
   "execution_count": null,
   "id": "6c5aa8b3",
   "metadata": {},
   "outputs": [],
   "source": [
    "(sgp.DLCSmoothInterpCohort.BodyPart() & {**cohort_key, 'bodypart': 'greenLED'}).fetch1_dataframe()"
   ]
  },
  {
   "cell_type": "markdown",
   "id": "dcd8332f",
   "metadata": {},
   "source": [
    "#### [DLCCentroid](#ToC) <a id='DLCCentroid'></a>"
   ]
  },
  {
   "cell_type": "code",
   "execution_count": null,
   "id": "404ae5be",
   "metadata": {},
   "outputs": [],
   "source": [
    "sgp.DLCCentroidParams.get_default()"
   ]
  },
  {
   "cell_type": "code",
   "execution_count": null,
   "id": "1eed9bc3",
   "metadata": {},
   "outputs": [],
   "source": [
    "centroid_params = {\n",
    "    'centroid_method': 'four_led_centroid',\n",
    "    'points' : {\n",
    "        'greenLED': 'greenLED',\n",
    "        'redLED_L': 'redLED_L',\n",
    "        'redLED_C': 'redLED_C',\n",
    "        'redLED_R': 'redLED_R',},\n",
    "    'speed_smoothing_std_dev': 0.100,\n",
    "}\n",
    "centroid_params_name = 'JG_4LED'\n",
    "sgp.DLCCentroidParams.insert1({'dlc_centroid_params_name': centroid_params_name,\n",
    "                                'params': centroid_params},\n",
    "                                skip_duplicates=True)\n",
    "centroid_key = cohort_key.copy()\n",
    "fields = list(sgp.DLCCentroidSelection.fetch().dtype.fields.keys())\n",
    "centroid_key = {key: val for key,val in centroid_key.items() if key in fields}\n",
    "centroid_key['dlc_centroid_params_name'] = centroid_params_name"
   ]
  },
  {
   "cell_type": "code",
   "execution_count": null,
   "id": "e3b59e64",
   "metadata": {},
   "outputs": [],
   "source": [
    "sgp.DLCCentroidSelection.insert1(centroid_key, skip_duplicates=True)"
   ]
  },
  {
   "cell_type": "code",
   "execution_count": null,
   "id": "93877f5d",
   "metadata": {},
   "outputs": [],
   "source": [
    "sgp.DLCCentroidSelection()"
   ]
  },
  {
   "cell_type": "code",
   "execution_count": null,
   "id": "fcb319ba",
   "metadata": {},
   "outputs": [],
   "source": [
    "sgp.DLCCentroid.populate(centroid_key)"
   ]
  },
  {
   "cell_type": "code",
   "execution_count": null,
   "id": "b1a487ea",
   "metadata": {},
   "outputs": [],
   "source": [
    "(sgp.DLCCentroid() & centroid_key).fetch1_dataframe().plot.scatter(\n",
    "    x='position_x',\n",
    "    y='position_y',\n",
    "    c='speed',\n",
    "    colormap='viridis',\n",
    "    alpha=0.5,\n",
    "    s=0.5,\n",
    "    figsize=(15,15))"
   ]
  },
  {
   "cell_type": "markdown",
   "id": "90a2b462",
   "metadata": {},
   "source": [
    "#### [DLCOrientation](#ToC) <a id='DLCOrientation'></a>"
   ]
  },
  {
   "cell_type": "code",
   "execution_count": null,
   "id": "74efceda",
   "metadata": {},
   "outputs": [],
   "source": [
    "sgp.DLCOrientationParams.get_default()"
   ]
  },
  {
   "cell_type": "code",
   "execution_count": null,
   "id": "eedfd230",
   "metadata": {},
   "outputs": [],
   "source": [
    "fields = list(sgp.DLCOrientationSelection.fetch().dtype.fields.keys())\n",
    "orient_key = {key: val for key,val in cohort_key.items() if key in fields}\n",
    "orient_key['dlc_orientation_params_name'] = 'default'"
   ]
  },
  {
   "cell_type": "code",
   "execution_count": null,
   "id": "56793200",
   "metadata": {},
   "outputs": [],
   "source": [
    "sgp.DLCOrientationSelection().insert1(orient_key, skip_duplicates=True)"
   ]
  },
  {
   "cell_type": "code",
   "execution_count": null,
   "id": "1a6a4bce",
   "metadata": {},
   "outputs": [],
   "source": [
    "sgp.DLCOrientationSelection()"
   ]
  },
  {
   "cell_type": "code",
   "execution_count": null,
   "id": "f21fdb7f",
   "metadata": {},
   "outputs": [],
   "source": [
    "sgp.DLCOrientation().populate(orient_key)"
   ]
  },
  {
   "cell_type": "code",
   "execution_count": null,
   "id": "06c972e8",
   "metadata": {},
   "outputs": [],
   "source": [
    "(sgp.DLCOrientation() & orient_key).fetch1_dataframe()"
   ]
  },
  {
   "cell_type": "markdown",
   "id": "04c4b409",
   "metadata": {},
   "source": [
    "#### [DLCPos](#ToC) <a id='DLCPos'></a>"
   ]
  },
  {
   "cell_type": "code",
   "execution_count": null,
   "id": "4893565c",
   "metadata": {},
   "outputs": [],
   "source": [
    "sgp.DLCPos()"
   ]
  },
  {
   "cell_type": "code",
   "execution_count": null,
   "id": "947afa29",
   "metadata": {},
   "outputs": [],
   "source": [
    "fields = list(sgp.DLCPos.fetch().dtype.fields.keys())\n",
    "dlc_key = {key: val for key,val in centroid_key.items() if key in fields}\n",
    "dlc_key['dlc_si_cohort_centroid'] = centroid_key['dlc_si_cohort_selection_name']\n",
    "dlc_key['dlc_si_cohort_orientation'] = orient_key['dlc_si_cohort_selection_name']\n",
    "dlc_key['dlc_orientation_params_name'] = orient_key['dlc_orientation_params_name']"
   ]
  },
  {
   "cell_type": "code",
   "execution_count": null,
   "id": "58075b66",
   "metadata": {},
   "outputs": [],
   "source": [
    "dlc_key"
   ]
  },
  {
   "cell_type": "code",
   "execution_count": null,
   "id": "ca7cb9f1",
   "metadata": {},
   "outputs": [],
   "source": [
    "sgp.DLCPosSelection().insert1(dlc_key, skip_duplicates=True)"
   ]
  },
  {
   "cell_type": "code",
   "execution_count": null,
   "id": "9ca1b9c8",
   "metadata": {
    "scrolled": true
   },
   "outputs": [],
   "source": [
    "sgp.DLCPos().populate(dlc_key)"
   ]
  },
  {
   "cell_type": "code",
   "execution_count": null,
   "id": "f57c72cb",
   "metadata": {},
   "outputs": [],
   "source": [
    "(sgp.DLCPos() & dlc_key).fetch1_dataframe()"
   ]
  },
  {
   "cell_type": "code",
   "execution_count": null,
   "id": "f6910c87",
   "metadata": {},
   "outputs": [],
   "source": [
    "(sgp.DLCPos() & dlc_key).fetch1('pose_eval_result')"
   ]
  },
  {
   "cell_type": "markdown",
   "id": "ba851a47",
   "metadata": {},
   "source": [
    "#### [DLCPosVideo](#ToC) <a id='DLCPosVideo'></a>"
   ]
  },
  {
   "cell_type": "code",
   "execution_count": null,
   "id": "8c39d40c",
   "metadata": {},
   "outputs": [],
   "source": [
    "sgp.DLCPosVideoParams.insert_default()"
   ]
  },
  {
   "cell_type": "code",
   "execution_count": null,
   "id": "1a42b491",
   "metadata": {},
   "outputs": [],
   "source": [
    "params = {\n",
    "    \"percent_frames\": 0.05,\n",
    "    \"incl_likelihood\": True,\n",
    "}\n",
    "sgp.DLCPosVideoParams.insert1(\n",
    "    {\"dlc_pos_video_params_name\": \"five_percent\", \"params\": params},\n",
    "    skip_duplicates=True)"
   ]
  },
  {
   "cell_type": "code",
   "execution_count": null,
   "id": "ee1e4a5b",
   "metadata": {},
   "outputs": [],
   "source": [
    "sgp.DLCPosVideoSelection.insert1(\n",
    "    {\n",
    "        **dlc_key,\n",
    "        \"dlc_pos_video_params_name\": \"five_percent\"\n",
    "    },\n",
    "    skip_duplicates=True)"
   ]
  },
  {
   "cell_type": "code",
   "execution_count": null,
   "id": "d8aee96f",
   "metadata": {},
   "outputs": [],
   "source": [
    "sgp.DLCPosVideo().populate(dlc_key)"
   ]
  },
  {
   "cell_type": "markdown",
   "id": "745ce032",
   "metadata": {},
   "source": [
    "#### [PosSource](#ToC) <a id='PosSource'></a>"
   ]
  },
  {
   "cell_type": "code",
   "execution_count": null,
   "id": "96bcbfb9",
   "metadata": {},
   "outputs": [],
   "source": [
    "sgp.PosSource()"
   ]
  },
  {
   "cell_type": "markdown",
   "id": "ffdfa7b7",
   "metadata": {},
   "source": [
    "#### [IntervalPositionInfo](#ToC)<a id='IntervalPositionInfo'></a>"
   ]
  },
  {
   "cell_type": "code",
   "execution_count": null,
   "id": "f54b3678",
   "metadata": {},
   "outputs": [],
   "source": [
    "int_pos_info_key = (sgp.PosSource & dlc_key).fetch1('KEY')"
   ]
  },
  {
   "cell_type": "code",
   "execution_count": null,
   "id": "8c66df2b",
   "metadata": {},
   "outputs": [],
   "source": [
    "int_pos_info_key"
   ]
  },
  {
   "cell_type": "code",
   "execution_count": null,
   "id": "1db1ca1a",
   "metadata": {},
   "outputs": [],
   "source": [
    "sgp.IntervalPositionInfoSelection().insert1(int_pos_info_key, skip_duplicates=True)"
   ]
  },
  {
   "cell_type": "code",
   "execution_count": null,
   "id": "b2a1d56d",
   "metadata": {},
   "outputs": [],
   "source": [
    "sgp.IntervalPositionInfo.populate(int_pos_info_key)"
   ]
  },
  {
   "cell_type": "code",
   "execution_count": null,
   "id": "667c43ee",
   "metadata": {},
   "outputs": [],
   "source": [
    "(sgp.IntervalPositionInfo() & int_pos_info_key).fetch1_dataframe()"
   ]
  },
  {
   "cell_type": "code",
   "execution_count": null,
   "id": "fed5fd75",
   "metadata": {},
   "outputs": [],
   "source": [
    "sgp.PositionVideoSelection().insert1(\n",
    "    {\n",
    "        'nwb_file_name': 'J1620210604_.nwb',\n",
    "        'interval_list_name': 'pos 13 valid times',\n",
    "        'trodes_position_id': 0,\n",
    "        'dlc_position_id': 1,\n",
    "        'plot': 'DLC',\n",
    "        'output_dir': '/home/dgramling/Src/'\n",
    "    }\n",
    ")"
   ]
  },
  {
   "cell_type": "code",
   "execution_count": null,
   "id": "9fd2bfac",
   "metadata": {},
   "outputs": [],
   "source": [
    "sgp.PositionVideo.populate({'plot': 'DLC'})"
   ]
  },
  {
   "cell_type": "code",
   "execution_count": null,
   "id": "3676f15b",
   "metadata": {},
   "outputs": [],
   "source": [
    "(sgp.IntervalPositionInfo() & {'nwb_file_name': 'J1620210604_.nwb'}).fetch1('KEY')"
   ]
  },
  {
   "cell_type": "markdown",
   "id": "5dbb3e99",
   "metadata": {},
   "source": [
    "### [`Return To Table of Contents`](#ToC)<br>"
   ]
  }
 ],
 "metadata": {
  "kernelspec": {
   "display_name": "Python [conda env:spyglass-dlc]",
   "language": "python",
   "name": "conda-env-spyglass-dlc-py"
  },
  "language_info": {
   "codemirror_mode": {
    "name": "ipython",
    "version": 3
   },
   "file_extension": ".py",
   "mimetype": "text/x-python",
   "name": "python",
   "nbconvert_exporter": "python",
   "pygments_lexer": "ipython3",
   "version": "3.9.13"
  }
 },
 "nbformat": 4,
 "nbformat_minor": 5
}
