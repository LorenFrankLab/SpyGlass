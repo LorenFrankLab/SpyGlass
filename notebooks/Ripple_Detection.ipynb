{
 "cells": [
  {
   "cell_type": "code",
   "execution_count": 155,
   "id": "b321e8b5-b677-4f5c-9508-0d85e9841acb",
   "metadata": {},
   "outputs": [],
   "source": [
    "import pandas as pd\n",
    "import numpy as np\n",
    "import matplotlib.pyplot as plt\n",
    "\n",
    "from ripple_detection.core import gaussian_smooth, get_envelope\n",
    "\n",
    "\n",
    "def interpolate_to_new_time(df, new_time, upsampling_interpolation_method='linear'):\n",
    "    old_time = df.index\n",
    "    new_index = pd.Index(np.unique(np.concatenate(\n",
    "        (old_time, new_time))), name='time')\n",
    "    return (df\n",
    "            .reindex(index=new_index)\n",
    "            .interpolate(method=upsampling_interpolation_method)\n",
    "            .reindex(index=new_time))\n",
    "\n",
    "def get_Kay_ripple_consensus_trace(ripple_filtered_lfps, sampling_frequency,\n",
    "                                   smoothing_sigma=0.004):\n",
    "    ripple_consensus_trace = np.full_like(ripple_filtered_lfps, np.nan)\n",
    "    not_null = np.all(pd.notnull(ripple_filtered_lfps), axis=1)\n",
    "\n",
    "    ripple_consensus_trace[not_null] = get_envelope(\n",
    "        np.asarray(ripple_filtered_lfps)[not_null])\n",
    "    ripple_consensus_trace = np.sum(ripple_consensus_trace ** 2, axis=1)\n",
    "    ripple_consensus_trace[not_null] = gaussian_smooth(\n",
    "        ripple_consensus_trace[not_null], smoothing_sigma, sampling_frequency)\n",
    "    return np.sqrt(ripple_consensus_trace)\n",
    "\n",
    "def plot_ripple(lfps, ripple_times, ripple_label=1,  offset=0.100, relative=True):\n",
    "    lfp_labels = lfps.columns\n",
    "    n_lfps = len(lfp_labels)\n",
    "    ripple_start = ripple_times.loc[ripple_label].start_time\n",
    "    ripple_end = ripple_times.loc[ripple_label].end_time\n",
    "    time_slice = slice(ripple_start - offset,\n",
    "                       ripple_end + offset)\n",
    "    fig, ax = plt.subplots(1, 1, figsize=(12, n_lfps * 0.20))\n",
    "    \n",
    "    start_offset = ripple_start if relative else 0\n",
    "\n",
    "    for lfp_ind, lfp_label in enumerate(lfp_labels):\n",
    "        lfp = lfps.loc[time_slice, lfp_label]\n",
    "        ax.plot(lfp.index - start_offset, lfp_ind + (lfp - lfp.mean()) / (lfp.max() - lfp.min()),\n",
    "                color='black')\n",
    "\n",
    "    ax.axvspan(ripple_start - start_offset, ripple_end - start_offset, zorder=-1, alpha=0.5, color='lightgrey')\n",
    "    ax.set_ylim((-1, n_lfps))\n",
    "    ax.set_xlim((time_slice.start - start_offset, time_slice.stop - start_offset))\n",
    "    ax.set_ylabel('LFPs')\n",
    "    ax.set_xlabel('Time [s]')\n",
    "    \n",
    "    \n"
   ]
  },
  {
   "cell_type": "code",
   "execution_count": 164,
   "id": "12d998bd-4cd0-48a3-82b3-1aa30458625e",
   "metadata": {},
   "outputs": [
    {
     "data": {
      "text/html": [
       "<div>\n",
       "<style scoped>\n",
       "    .dataframe tbody tr th:only-of-type {\n",
       "        vertical-align: middle;\n",
       "    }\n",
       "\n",
       "    .dataframe tbody tr th {\n",
       "        vertical-align: top;\n",
       "    }\n",
       "\n",
       "    .dataframe thead th {\n",
       "        text-align: right;\n",
       "    }\n",
       "</style>\n",
       "<table border=\"1\" class=\"dataframe\">\n",
       "  <thead>\n",
       "    <tr style=\"text-align: right;\">\n",
       "      <th></th>\n",
       "      <th>start_time</th>\n",
       "      <th>end_time</th>\n",
       "    </tr>\n",
       "    <tr>\n",
       "      <th>ripple_number</th>\n",
       "      <th></th>\n",
       "      <th></th>\n",
       "    </tr>\n",
       "  </thead>\n",
       "  <tbody>\n",
       "    <tr>\n",
       "      <th>1</th>\n",
       "      <td>1.581887e+09</td>\n",
       "      <td>1.581887e+09</td>\n",
       "    </tr>\n",
       "    <tr>\n",
       "      <th>2</th>\n",
       "      <td>1.581887e+09</td>\n",
       "      <td>1.581887e+09</td>\n",
       "    </tr>\n",
       "    <tr>\n",
       "      <th>3</th>\n",
       "      <td>1.581887e+09</td>\n",
       "      <td>1.581887e+09</td>\n",
       "    </tr>\n",
       "    <tr>\n",
       "      <th>4</th>\n",
       "      <td>1.581887e+09</td>\n",
       "      <td>1.581887e+09</td>\n",
       "    </tr>\n",
       "    <tr>\n",
       "      <th>5</th>\n",
       "      <td>1.581887e+09</td>\n",
       "      <td>1.581887e+09</td>\n",
       "    </tr>\n",
       "    <tr>\n",
       "      <th>...</th>\n",
       "      <td>...</td>\n",
       "      <td>...</td>\n",
       "    </tr>\n",
       "    <tr>\n",
       "      <th>144</th>\n",
       "      <td>1.581888e+09</td>\n",
       "      <td>1.581888e+09</td>\n",
       "    </tr>\n",
       "    <tr>\n",
       "      <th>145</th>\n",
       "      <td>1.581888e+09</td>\n",
       "      <td>1.581888e+09</td>\n",
       "    </tr>\n",
       "    <tr>\n",
       "      <th>146</th>\n",
       "      <td>1.581888e+09</td>\n",
       "      <td>1.581888e+09</td>\n",
       "    </tr>\n",
       "    <tr>\n",
       "      <th>147</th>\n",
       "      <td>1.581888e+09</td>\n",
       "      <td>1.581888e+09</td>\n",
       "    </tr>\n",
       "    <tr>\n",
       "      <th>148</th>\n",
       "      <td>1.581888e+09</td>\n",
       "      <td>1.581888e+09</td>\n",
       "    </tr>\n",
       "  </tbody>\n",
       "</table>\n",
       "<p>148 rows × 2 columns</p>\n",
       "</div>"
      ],
      "text/plain": [
       "                 start_time      end_time\n",
       "ripple_number                            \n",
       "1              1.581887e+09  1.581887e+09\n",
       "2              1.581887e+09  1.581887e+09\n",
       "3              1.581887e+09  1.581887e+09\n",
       "4              1.581887e+09  1.581887e+09\n",
       "5              1.581887e+09  1.581887e+09\n",
       "...                     ...           ...\n",
       "144            1.581888e+09  1.581888e+09\n",
       "145            1.581888e+09  1.581888e+09\n",
       "146            1.581888e+09  1.581888e+09\n",
       "147            1.581888e+09  1.581888e+09\n",
       "148            1.581888e+09  1.581888e+09\n",
       "\n",
       "[148 rows x 2 columns]"
      ]
     },
     "execution_count": 164,
     "metadata": {},
     "output_type": "execute_result"
    }
   ],
   "source": [
    "from spyglass.common import (IntervalPositionInfo, IntervalPositionInfoSelection, IntervalList, \n",
    "                             ElectrodeGroup, LFP, BrainRegion, LFPBand, Electrode)\n",
    "from ripple_detection import Kay_ripple_detector\n",
    "\n",
    "nwb_file_name = 'chimi20200216_new_.nwb'\n",
    "interval_list_name = 'pos 1 valid times'\n",
    "position_info_param_name = 'default'\n",
    "filter_name = 'Ripple 150-250 Hz'\n",
    "elec_keys = (Electrode() & {'nwb_file_name': nwb_file_name}).fetch('KEY')\n",
    "electrode_keys = [*elec_keys[:2], *elec_keys[6:10]]\n",
    "\n",
    "\n",
    "ripple_lfp_nwb = (\n",
    "    LFPBand & {'nwb_file_name': nwb_file_name,\n",
    "               'filter_name': filter_name}\n",
    ").fetch_nwb()[0]\n",
    "\n",
    "ripple_lfp = pd.DataFrame(\n",
    "    ripple_lfp_nwb['filtered_data'].data,\n",
    "    index=pd.Index(ripple_lfp_nwb['filtered_data'].timestamps, name='time'))\n",
    "sampling_frequency = ripple_lfp_nwb['lfp_band_sampling_rate']\n",
    "\n",
    "# electrode_info = pd.DataFrame((Electrode() & {'nwb_file_name': nwb_file_name}) * BrainRegion)\n",
    "\n",
    "# is_brain_region = ((electrode_info.probe_electrode == wire_ind) &\n",
    "#                   electrode_info.region_name.isin([brain_region]))\n",
    "\n",
    "electrode_df = (Electrode() & {'nwb_file_name': nwb_file_name}).fetch(format=\"frame\")\n",
    "electrode_keys = pd.DataFrame(electrode_keys).set_index(Electrode.primary_key).index\n",
    "ripple_lfp = ripple_lfp.loc[:, electrode_df.index.isin(electrode_keys)]\n",
    "\n",
    "position_valid_times = (\n",
    "    IntervalList & {\n",
    "    'nwb_file_name': nwb_file_name,\n",
    "    'interval_list_name': interval_list_name}\n",
    ").fetch1('valid_times')\n",
    "\n",
    "position_info = (\n",
    "    IntervalPositionInfo() &\n",
    "     {'nwb_file_name': nwb_file_name,\n",
    "      'interval_list_name': interval_list_name,\n",
    "      'position_info_param_name': position_info_param_name}\n",
    "    ).fetch1_dataframe()\n",
    "\n",
    "position_info = pd.concat(\n",
    "    [position_info.loc[slice(valid_time[0], valid_time[1])]\n",
    "     for valid_time in position_valid_times], axis=1)\n",
    "interval_ripple_lfps = pd.concat(\n",
    "    [ripple_lfp.loc[slice(valid_time[0], valid_time[1])]\n",
    "     for valid_time in position_valid_times], axis=1)\n",
    "\n",
    "position_info = interpolate_to_new_time(position_info, interval_ripple_lfps.index)\n",
    "\n",
    "ripple_times = Kay_ripple_detector(\n",
    "    time=np.asarray(interval_ripple_lfps.index),\n",
    "    filtered_lfps=np.asarray(interval_ripple_lfps),\n",
    "    speed=np.asarray(position_info.head_speed),\n",
    "    sampling_frequency=sampling_frequency\n",
    ")\n",
    "\n",
    "ripple_times"
   ]
  },
  {
   "cell_type": "code",
   "execution_count": 167,
   "id": "5f8b025e-64c9-4bd5-bdf8-511c9e8fc7db",
   "metadata": {},
   "outputs": [
    {
     "data": {
      "image/png": "[encoded data removed]",
      "text/plain": [
       "<Figure size 864x86.4 with 1 Axes>"
      ]
     },
     "metadata": {
      "needs_background": "light"
     },
     "output_type": "display_data"
    }
   ],
   "source": [
    "plot_ripple(ripple_lfp, ripple_times, ripple_label=7, relative=True)"
   ]
  },
  {
   "cell_type": "code",
   "execution_count": 162,
   "id": "5ed440ca-7ae3-43f0-988c-f86509be5ddd",
   "metadata": {},
   "outputs": [],
   "source": [
    "ripple_consensus_trace = get_Kay_ripple_consensus_trace(\n",
    "    ripple_lfp, sampling_frequency,\n",
    "    smoothing_sigma=0.004)"
   ]
  },
  {
   "cell_type": "code",
   "execution_count": 168,
   "id": "a6b947cd-6a3c-43b2-8f8b-f4c93de5273d",
   "metadata": {},
   "outputs": [
    {
     "data": {
      "text/plain": [
       "<matplotlib.patches.Polygon at 0x7f05665c49a0>"
      ]
     },
     "execution_count": 168,
     "metadata": {},
     "output_type": "execute_result"
    },
    {
     "data": {
      "image/png": "[encoded data removed]",
      "text/plain": [
       "<Figure size 864x72 with 1 Axes>"
      ]
     },
     "metadata": {
      "needs_background": "light"
     },
     "output_type": "display_data"
    }
   ],
   "source": [
    "relative = False\n",
    "ripple_label = 10\n",
    "\n",
    "ripple_start = ripple_times.loc[ripple_label].start_time\n",
    "ripple_end = ripple_times.loc[ripple_label].end_time\n",
    "time_slice = slice(ripple_start - offset,\n",
    "                   ripple_end + offset)\n",
    "\n",
    "start_offset = ripple_start if relative else 0\n",
    "\n",
    "fig, ax = plt.subplots(1, 1, figsize=(12, 1))\n",
    "ax.plot(pd.DataFrame(ripple_consensus_trace, index=ripple_lfp.index).loc[time_slice])\n",
    "ax.axvspan(ripple_start - start_offset, ripple_end - start_offset, zorder=-1, alpha=0.5, color='lightgrey')"
   ]
  },
  {
   "cell_type": "code",
   "execution_count": 130,
   "id": "8e9912f4-5842-45df-b146-29ba9dabae18",
   "metadata": {},
   "outputs": [],
   "source": [
    "elec_keys = (Electrode() & {'nwb_file_name': nwb_file_name}).fetch('KEY')\n",
    "key_subset = [*elec_keys[:2], *elec_keys[6:10]]"
   ]
  },
  {
   "cell_type": "code",
   "execution_count": 148,
   "id": "e9e158f4-abe5-4232-a076-4f55450ae546",
   "metadata": {},
   "outputs": [
    {
     "data": {
      "text/plain": [
       "array([ True,  True, False, False, False, False,  True,  True,  True,\n",
       "        True, False, False, False, False, False, False, False, False,\n",
       "       False, False, False, False, False, False, False, False, False,\n",
       "       False, False, False, False, False, False, False, False, False,\n",
       "       False, False, False, False, False, False, False, False, False,\n",
       "       False, False, False, False, False, False, False, False, False,\n",
       "       False, False, False, False, False, False, False, False, False,\n",
       "       False, False, False, False, False, False, False, False, False,\n",
       "       False, False, False, False, False, False, False, False, False,\n",
       "       False, False, False, False, False, False, False, False, False,\n",
       "       False, False, False, False, False, False, False, False, False,\n",
       "       False, False, False, False, False, False, False, False, False,\n",
       "       False, False, False, False, False, False, False, False, False,\n",
       "       False, False, False, False, False, False, False, False, False,\n",
       "       False, False, False, False, False, False, False, False, False,\n",
       "       False, False, False, False, False, False, False, False, False,\n",
       "       False, False, False, False, False, False, False, False, False,\n",
       "       False, False, False, False, False, False, False, False, False,\n",
       "       False, False, False, False, False, False, False, False, False,\n",
       "       False, False, False, False, False, False, False, False, False,\n",
       "       False, False, False, False, False, False, False, False, False,\n",
       "       False, False, False, False, False, False, False, False, False,\n",
       "       False, False, False, False, False, False, False, False, False,\n",
       "       False, False, False, False, False, False, False, False, False,\n",
       "       False, False, False, False, False, False, False, False])"
      ]
     },
     "execution_count": 148,
     "metadata": {},
     "output_type": "execute_result"
    }
   ],
   "source": [
    "electrode_df = (Electrode() & {'nwb_file_name': nwb_file_name}).fetch(format=\"frame\")\n",
    "ind = pd.DataFrame(key_subset).set_index(Electrode.primary_key).index\n",
    "electrode_df.index.isin(ind)"
   ]
  },
  {
   "cell_type": "code",
   "execution_count": 146,
   "id": "ca76f781-5f88-485a-ae8f-8813a02703ab",
   "metadata": {},
   "outputs": [
    {
     "data": {
      "text/plain": [
       "array([ True,  True, False, False, False, False,  True,  True,  True,\n",
       "        True, False, False, False, False, False, False, False, False,\n",
       "       False, False, False, False, False, False, False, False, False,\n",
       "       False, False, False, False, False, False, False, False, False,\n",
       "       False, False, False, False, False, False, False, False, False,\n",
       "       False, False, False, False, False, False, False, False, False,\n",
       "       False, False, False, False, False, False, False, False, False,\n",
       "       False, False, False, False, False, False, False, False, False,\n",
       "       False, False, False, False, False, False, False, False, False,\n",
       "       False, False, False, False, False, False, False, False, False,\n",
       "       False, False, False, False, False, False, False, False, False,\n",
       "       False, False, False, False, False, False, False, False, False,\n",
       "       False, False, False, False, False, False, False, False, False,\n",
       "       False, False, False, False, False, False, False, False, False,\n",
       "       False, False, False, False, False, False, False, False, False,\n",
       "       False, False, False, False, False, False, False, False, False,\n",
       "       False, False, False, False, False, False, False, False, False,\n",
       "       False, False, False, False, False, False, False, False, False,\n",
       "       False, False, False, False, False, False, False, False, False,\n",
       "       False, False, False, False, False, False, False, False, False,\n",
       "       False, False, False, False, False, False, False, False, False,\n",
       "       False, False, False, False, False, False, False, False, False,\n",
       "       False, False, False, False, False, False, False, False, False,\n",
       "       False, False, False, False, False, False, False, False, False,\n",
       "       False, False, False, False, False, False, False, False])"
      ]
     },
     "execution_count": 146,
     "metadata": {},
     "output_type": "execute_result"
    }
   ],
   "source": []
  },
  {
   "cell_type": "code",
   "execution_count": null,
   "id": "f4a65390-b1dc-486a-a87d-1d44df67cbee",
   "metadata": {},
   "outputs": [],
   "source": []
  }
 ],
 "metadata": {
  "kernelspec": {
   "display_name": "Python [conda env:spyglass] *",
   "language": "python",
   "name": "conda-env-spyglass-py"
  },
  "language_info": {
   "codemirror_mode": {
    "name": "ipython",
    "version": 3
   },
   "file_extension": ".py",
   "mimetype": "text/x-python",
   "name": "python",
   "nbconvert_exporter": "python",
   "pygments_lexer": "ipython3",
   "version": "3.8.13"
  },
  "widgets": {
   "application/vnd.jupyter.widget-state+json": {
    "state": {},
    "version_major": 2,
    "version_minor": 0
   }
  }
 },
 "nbformat": 4,
 "nbformat_minor": 5
}
