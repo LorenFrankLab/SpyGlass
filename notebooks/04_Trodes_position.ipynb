{
 "cells": [
  {
   "cell_type": "markdown",
   "id": "167e8425-479a-4c03-b181-1df4aa197bcc",
   "metadata": {},
   "source": [
    "## Position using Trodes Tracking from NWB file\n",
    "\n",
    "**Note: make a copy of this notebook and run the copy to avoid git conflicts in the future**\n",
    "\n",
    "This is a tutorial on how to process position that was extracted through Trodes Tracking (online or offline) using the Spyglass pipeline used in Loren Frank's lab, UCSF. It will walk through defining your parameters and processing the raw position to extract a centroid and orientation, and inserting the resulting information into the `PositionOutput` table.<br>\n",
    "-> This tutorial assumes you've completed [tutorial 0](0_intro.ipynb)<br>\n",
    "**Note 2: Make sure you are running this within the spyglass Conda environment**"
   ]
  },
  {
   "cell_type": "code",
   "execution_count": null,
   "id": "a973bb77-cf02-4508-bd09-78f80a7b30cc",
   "metadata": {},
   "outputs": [],
   "source": [
    "import matplotlib.pyplot as plt\n",
    "import datajoint as dj\n",
    "import spyglass.position.v1 as sgp\n",
    "import spyglass.common as sgc\n",
    "from spyglass.utils.nwb_helper_fn import get_nwb_copy_filename\n",
    "from spyglass.position import PositionOutput"
   ]
  },
  {
   "cell_type": "code",
   "execution_count": null,
   "id": "9f1686be-7805-41d7-b530-ed803c7da7fb",
   "metadata": {},
   "outputs": [],
   "source": [
    "dj.config[\"filepath_checksum_size_limit\"] = 1 * 1024**3\n",
    "dj.config.save_global()"
   ]
  },
  {
   "cell_type": "markdown",
   "id": "ad08c5c5-c935-4f76-b7e6-55ca1bf533a8",
   "metadata": {},
   "source": [
    "This data pipeline takes the 2D position (in video pixels) of the green and red LEDs tracked by Trodes, and computes:\n",
    "+ position (in cm)\n",
    "+ orientation (in radians)\n",
    "+ velocity (in cm/s)\n",
    "+ speed (in cm/s)\n",
    "\n",
    "We can then check the quality of the head position and direction by plotting the them on the video along with the oringal green and red LEDs.\n",
    "\n",
    "This notebook will take you through this process for one dataset."
   ]
  },
  {
   "cell_type": "markdown",
   "id": "202010ea-ac6a-4303-9b42-6f21ae18d6cb",
   "metadata": {},
   "source": [
    "### 1. Loading the session data\n",
    "\n",
    "First let us make sure that the session we want to analyze is inserted into the `RawPosition` table"
   ]
  },
  {
   "cell_type": "code",
   "execution_count": null,
   "id": "02ac806f-02f5-4dfe-ac9a-86cbd23211b0",
   "metadata": {},
   "outputs": [],
   "source": [
    "nwb_file_name = \"chimi20200216_new.nwb\"\n",
    "nwb_copy_file_name = get_nwb_copy_filename(nwb_file_name)\n",
    "sgc.RawPosition() & {\"nwb_file_name\":nwb_copy_file_name}"
   ]
  },
  {
   "cell_type": "markdown",
   "id": "4184c803-bb95-4c73-837c-6b95303fb26b",
   "metadata": {},
   "source": [
    "### 2. Setting the parameters for running the position pipeline\n",
    "\n",
    "The parameters for the position pipeline are set by the `TrodesPosParams` table. `default` is the name of the standard set of parameters. As usual, if you want to change the parameters, you can insert your own into the table.\n",
    "\n",
    "The parameters are as follows:\n",
    "\n",
    "+ `max_separation` is the maxmium acceptable distance (in cm) between the red and green LEDs. When the distance between the LEDs becomes greater than this number, the times are marked as NaNs and inferred by interpolation. This is useful parameter when the inferred red or green LED position tracks a reflection instead of the true red or green LED position. It is set to 9.0 cm by default.\n",
    "+ `max_speed` is the maximum plausible speed (in cm/s) the animal can move at. Times when the speed is greater than this threshold are marked as NaNs and inferred by interpolation. This can be useful in preventing big, sudden jumps in position. It is set to 300.0 cm/s by default.\n",
    "+ `position_smoothing_duration` controls how much the red and green LEDs are smoothed before computing the average of their position to get the head position. It is in units of seconds.\n",
    "+ `speed_smoothing_std_dev` controls how much the head speed is smoothed. It corresponds to the standard deviation of the Gaussian kernel used to smooth the speed and is in units of seconds. It is set to 0.100 seconds by default.\n",
    "+ `front_led1` is either 1 or 0 indicating True or False. It controls which LED is treated as the front LED and the back LED, which is important for calculating the head direction.\n",
    "    + 1 indicates that the LED corresponding to `xloc`, `yloc` in the `RawPosition` table as the front LED and the LED corresponding to `xloc2`, `yloc2` as the back LED.\n",
    "    + 0 indicates that `xloc`, `yloc` are treated as the back LED and `xloc2`, `yloc2` are treated as the front LED.\n",
    "\n",
    "We can get a list of potential parameters using the method `TrodesPosParams.get_accepted_params()`<br>\n",
    "And view the default setting for the parameters using `get_default`."
   ]
  },
  {
   "cell_type": "code",
   "execution_count": null,
   "id": "7bff4997-3827-4654-b339-f710766e07f6",
   "metadata": {},
   "outputs": [],
   "source": [
    "print(f\"accepted parameters:\\n{sgp.TrodesPosParams.get_accepted_params()}\")\n",
    "print(f\"default parameters:\\n{sgp.TrodesPosParams.get_default()['params']}\")"
   ]
  },
  {
   "cell_type": "markdown",
   "id": "074252cf-6cb2-42b9-9371-5fa14bda3af2",
   "metadata": {},
   "source": [
    "Now we pair the parameters we chose with an interval from our specified NWB file and insert into `TrodesPosSelection`.<br>\n",
    "We can define the interval we want to use via its `interval_list_name`, which we can see in the `IntervalList` table.<br>\n",
    ">```python\n",
    ">sgc.IntervalList & {\"nwb_file_name\": nwb_copy_file_name\n",
    ">```\n",
    "A cool trick doctors don't want you to know: `interval_list_name` = 'pos (epoch# - 1) valid times' (e.g. epoch 3's interval_list_name: 'pos 2 valid times')\n",
    "\n",
    "Let's choose the interval corresponding to `pos 1 valid times` in `chimi20200216_new_.nwb`.\n",
    "\n",
    "We first look at the \"raw\" position data now to see the input into the pipeline. The raw position is in the `RawPosition` table and corresponds to the inferred position of the red and green LEDs from the video (using an algorithm in Trodes). It is in units of pixels. The number of time points corresponds to when the position tracking was turned on and off (and so may not have the same number of time points as the video itself).\n",
    "\n",
    "We can retrieve the data in the `RawPosition` table for a given interval using a special method called `fetch1_dataframe`. It returns the position of the red and green LEDs as a pandas dataframe where time is the index. The columns of the dataframe are:\n",
    "+ `xloc`, `yloc` are the x- and y-position of one of the LEDs\n",
    "+ `xloc2`, `yloc2` are the x- and y-position of the other LEDs."
   ]
  },
  {
   "cell_type": "code",
   "execution_count": null,
   "id": "67c52b46-6bdf-47ad-b35c-41dfd092696b",
   "metadata": {},
   "outputs": [],
   "source": [
    "interval_list_name = \"pos 1 valid times\"\n",
    "start_key = {\"nwb_file_name\": nwb_copy_file_name,\n",
    "             \"interval_list_name\": interval_list_name}\n",
    "raw_position_df = (sgc.RawPosition() & start_key).fetch1_dataframe()\n",
    "raw_position_df"
   ]
  },
  {
   "cell_type": "markdown",
   "id": "2da7dc12-ccb8-4fe7-944b-61107c231329",
   "metadata": {},
   "source": [
    "Let's just quickly plot the two LEDs to get a sense of the inputs to the pipeline:"
   ]
  },
  {
   "cell_type": "code",
   "execution_count": null,
   "id": "201548d7-00e2-468a-8859-6bf32201fb47",
   "metadata": {},
   "outputs": [],
   "source": [
    "fig, ax = plt.subplots(1, 1, figsize=(10, 10))\n",
    "ax.plot(raw_position_df.xloc, raw_position_df.yloc, color=\"green\")\n",
    "ax.plot(raw_position_df.xloc2, raw_position_df.yloc2, color=\"red\")\n",
    "ax.set_xlabel(\"x-position [pixels]\", fontsize=18)\n",
    "ax.set_ylabel(\"y-position [pixels]\", fontsize=18)\n",
    "ax.set_title(\"Raw Position\", fontsize=28)"
   ]
  },
  {
   "cell_type": "markdown",
   "id": "36d3a363-5c81-4ec3-8cbc-c4b9123b2ba8",
   "metadata": {},
   "source": [
    "Okay, now that we understand what the inputs to the pipeline are, let's associate a set of parameters with a given interval.<br>\n",
    "To associate parameters with a given interval, we insert them into the `TrodesPosSelection` table.<br>\n",
    "Here we associate the `default` Trodes position parameters with the interval `pos 1 valid times`:"
   ]
  },
  {
   "cell_type": "code",
   "execution_count": null,
   "id": "d866f1e9-3fa8-4313-ba9e-0bb2d52d0e90",
   "metadata": {},
   "outputs": [],
   "source": [
    "trodes_pos_params_name = \"default\"\n",
    "sgp.TrodesPosSelection.insert1({**start_key, \"trodes_pos_params_name\": trodes_pos_params_name,}, skip_duplicates=True,)"
   ]
  },
  {
   "cell_type": "markdown",
   "id": "08b81d50-3745-4124-bff9-328836f07266",
   "metadata": {},
   "source": [
    "Now let's check to see if we've inserted correctly:"
   ]
  },
  {
   "cell_type": "code",
   "execution_count": null,
   "id": "4e317301-cd12-4203-9941-c45e8e40c89d",
   "metadata": {},
   "outputs": [],
   "source": [
    "sgp.TrodesPosSelection()\n",
    "trodes_key =(sgp.TrodesPosSelection() &  {**start_key, \"trodes_pos_params_name\": trodes_pos_params_name,}).fetch1(\"KEY\")"
   ]
  },
  {
   "cell_type": "markdown",
   "id": "e4ee741b-195a-480d-9dee-2dc34fbd6716",
   "metadata": {},
   "source": [
    "### 3. Running the position pipeline and retrieving the results\n",
    "\n",
    "Now that we have associated the parameters with the interval we want to run, we can finally run the pipeline for that interval.\n",
    "\n",
    "We run the pipeline using the `populate` method on the `TrodesPosV1` table."
   ]
  },
  {
   "cell_type": "code",
   "execution_count": null,
   "id": "ed801ef0-dc51-4af4-8533-1995bcf8c545",
   "metadata": {},
   "outputs": [],
   "source": [
    "sgp.TrodesPosV1.populate(trodes_key)"
   ]
  },
  {
   "cell_type": "markdown",
   "id": "308f499d-4e65-4846-91d2-5bd7feaf701a",
   "metadata": {},
   "source": [
    "Now we can make sure that the entry was inserted into `TrodesPosV1` properly."
   ]
  },
  {
   "cell_type": "code",
   "execution_count": null,
   "id": "5a9e8b56-5a23-4c34-b4e3-03bcb5f4fc6f",
   "metadata": {},
   "outputs": [],
   "source": [
    "TrodesPosV1() & trodes_key"
   ]
  },
  {
   "cell_type": "markdown",
   "id": "602372ac-6121-4fa5-9aa6-1b874e845dea",
   "metadata": {},
   "source": [
    "We can see that each NWB file, interval, and parameter set is now associated with a newly created analysis NWB file and object IDs that correspond to our newly computed data. This isn't as useful to work with so we will use another method below to actually retrieve the data for a given interval.\n",
    "\n",
    "When we populate `TrodesPosV1` the entry is automatically inserted into the merge table for the position pipeline, `PositionOutput`."
   ]
  },
  {
   "cell_type": "code",
   "execution_count": null,
   "id": "633c0629-fa64-4fae-81fc-812b0f1e1262",
   "metadata": {},
   "outputs": [],
   "source": [
    "PositionOutput() & trodes_key"
   ]
  },
  {
   "cell_type": "markdown",
   "id": "7356b032-5d36-40c6-b5e5-b9402503b50c",
   "metadata": {},
   "source": [
    "You may notice that entry has a different set of primary keys than the entry in `TrodesPosV1`. No need to worry as all of those keys are preserved in part table `PositionOutput.TrodesPosV1`"
   ]
  },
  {
   "cell_type": "code",
   "execution_count": null,
   "id": "51eccfae-36f1-4186-babc-1b70c2b3f2e1",
   "metadata": {},
   "outputs": [],
   "source": [
    "PositionOutput.TrodesPosV1() & trodes_key"
   ]
  },
  {
   "cell_type": "markdown",
   "id": "8dae446f-5cd3-4ab0-a4f7-49d2efa36356",
   "metadata": {},
   "source": [
    "In order to retrieve the results of the computation, we use a special method called `fetch1_dataframe` from the `PositionOutput` table that will retrieve the position pipeline results as a pandas DataFrame. Time is set as the index of the dataframe.\n",
    "\n",
    "This will only work for a single interval so we need to specify the NWB file and the interval.\n",
    "\n",
    "This dataframe has the following columns:\n",
    "+ `position_x`, `position_y`: the x,y position (in cm).\n",
    "+ `orientation`: The direction relative to the bottom left corner (in radians)\n",
    "+ `velocity_x`, `velocity_y`: the directional change in position over time (in cm/s)\n",
    "+ `speed`: the magnitude of the change in position over time (in cm/s)"
   ]
  },
  {
   "cell_type": "code",
   "execution_count": null,
   "id": "652a4dd6-64d6-402f-9e60-a38ee49ece84",
   "metadata": {},
   "outputs": [],
   "source": [
    "position_info = (PositionOutput() & trodes_key).fetch1_dataframe()\n",
    "position_info"
   ]
  },
  {
   "cell_type": "markdown",
   "id": "a6d199aa-fd7a-4c34-8750-19c7e9ba223f",
   "metadata": {},
   "source": [
    "If you are not familiar with pandas, the time variable is set as the index. It can be accessed using `.index` on the dataframe."
   ]
  },
  {
   "cell_type": "code",
   "execution_count": null,
   "id": "d494a8ca-94fb-4d24-b1d7-84357a9b9492",
   "metadata": {},
   "outputs": [],
   "source": [
    "position_info.index"
   ]
  },
  {
   "cell_type": "markdown",
   "id": "dd5c846a-30e8-4e70-adb1-0aa4dc060af5",
   "metadata": {},
   "source": [
    "### 4. Examining the results\n",
    "\n",
    "We should always spot check our results to verify that the pipeline worked correctly.\n",
    "\n",
    "#### Plots\n",
    "Let's plot some of the variables first:"
   ]
  },
  {
   "cell_type": "code",
   "execution_count": null,
   "id": "ca22f8f7-709c-4567-9eff-7d461cbcd464",
   "metadata": {},
   "outputs": [],
   "source": [
    "fig, ax = plt.subplots(1, 1, figsize=(10, 10))\n",
    "ax.plot(position_info.position_x, position_info.position_y)\n",
    "ax.set_xlabel(\"x-position [cm]\", fontsize=18)\n",
    "ax.set_ylabel(\"y-position [cm]\", fontsize=18)\n",
    "ax.set_title(\"Position\", fontsize=28)\n"
   ]
  },
  {
   "cell_type": "code",
   "execution_count": null,
   "id": "65ee4ac9-b416-4886-9f82-600fa3a7b9f2",
   "metadata": {},
   "outputs": [],
   "source": [
    "fig, ax = plt.subplots(1, 1, figsize=(10, 10))\n",
    "ax.plot(position_info.velocity_x, position_info.velocity_y)\n",
    "ax.set_xlabel(\"x-velocity [cm/s]\", fontsize=18)\n",
    "ax.set_ylabel(\"y-velocity [cm/s]\", fontsize=18)\n",
    "ax.set_title(\"Velocity\", fontsize=28)\n"
   ]
  },
  {
   "cell_type": "code",
   "execution_count": null,
   "id": "4c2824d8-95bc-4c89-8363-c52c7360334c",
   "metadata": {},
   "outputs": [],
   "source": [
    "fig, ax = plt.subplots(1, 1, figsize=(25, 3))\n",
    "ax.plot(position_info.index, position_info.speed)\n",
    "ax.set_xlabel(\"Time\", fontsize=18)\n",
    "ax.set_ylabel(\"Speed [cm/s]\", fontsize=18)\n",
    "ax.set_title(\"Speed\", fontsize=28)\n",
    "ax.set_xlim((position_info.index.min(), position_info.index.max()))\n"
   ]
  },
  {
   "cell_type": "markdown",
   "id": "a68788ef-8110-41b1-a95b-99d6d544a0a7",
   "metadata": {},
   "source": [
    "### Video\n",
    "\n",
    "These look reasonable but it is better to evaluate these variables by plotting the results on the video where we can see how they correspond. \n",
    "\n",
    "The video will appear in the current working directory when it is done.\n",
    "\n",
    "Bonus points if you made it this far... We can use the `PositionVideo` table to create a video that overlays just the centroid and orientation (regardless of upstream source) on the behavioral video. This table uses the parameter `plot` to determine whether to plot the entry deriving from the DLC arm or from the Trodes arm of the position pipeline. This parameter also accepts 'all', which will plot both (if they exist) in order to compare results."
   ]
  },
  {
   "cell_type": "code",
   "execution_count": null,
   "id": "f284970d-060a-46a4-8ff2-f2aa263e8452",
   "metadata": {},
   "outputs": [],
   "source": [
    "sgp.PositionVideoSelection().insert1(\n",
    "    {\n",
    "        **trodes_key,\n",
    "        'trodes_position_id': 1,\n",
    "        'plot': 'Trodes',\n",
    "        'output_dir': '/home/dgramling/Src/' # Change this to your save location\n",
    "    }\n",
    ")"
   ]
  },
  {
   "cell_type": "markdown",
   "id": "b85b243d-ae6e-405a-bb07-1bbd93ff53b3",
   "metadata": {},
   "source": [
    "### 4. Upsampling position data\n",
    "\n",
    "Sometimes you need the position data to be in a different rate than it is sampled in, such as when decoding in 2 ms time bins. You can use the upsampling parameters to get this data:\n",
    "+ `is_upsampled` controls whether upsampling happens. If it is 1 then there is upsampling, and if it is 0 then upsampling does not happen.\n",
    "+ `upsampling_sampling_rate` is the rate you want to upsample to. For example position is typically recorded at 33 frames per seconds and you may want to upsample up to 500 frames per second.\n",
    "+ `upsampling_interpolation_method` is the interpolation method used for upsampling. It is set to linear by default. See the methods available for pandas.DataFrame.interpolate to get a list of the methods."
   ]
  },
  {
   "cell_type": "code",
   "execution_count": null,
   "id": "2ae1bbee-c094-4983-9879-37a183c1f8bf",
   "metadata": {},
   "outputs": [],
   "source": [
    "sgp.TrodesPosParams.insert1(\n",
    "    {\n",
    "        \"trodes_pos_params_name\": \"default_decoding\",\n",
    "        \"is_upsampled\": 1,\n",
    "        \"upsampling_sampling_rate\": 500,\n",
    "    },\n",
    "    skip_duplicates=True,\n",
    ")\n",
    "sgp.TrodesPosParams()"
   ]
  },
  {
   "cell_type": "code",
   "execution_count": null,
   "id": "2fa3f7b1-3e92-4942-aa56-a12bf04737a8",
   "metadata": {},
   "outputs": [],
   "source": [
    "sgp.TrodesPosSelection.insert1({**start_key, \"position_info_param_name\": \"default_decoding\",}, skip_duplicates=True,)\n",
    "sgp.TrodesPosSelection()"
   ]
  },
  {
   "cell_type": "code",
   "execution_count": null,
   "id": "848b1c5d-25a7-45ae-8ca7-f719e5a5dbc4",
   "metadata": {},
   "outputs": [],
   "source": [
    "TrodesPosV1.populate(start_key)"
   ]
  },
  {
   "cell_type": "code",
   "execution_count": null,
   "id": "76a7f64f-6f8d-4148-929c-e15d11709867",
   "metadata": {},
   "outputs": [],
   "source": [
    "upsampled_position_info = (PositionOutput() & {**start_key, \"position_info_param_name\": \"default_decoding\",}).fetch1_dataframe()\n",
    "upsampled_position_info"
   ]
  },
  {
   "cell_type": "code",
   "execution_count": null,
   "id": "451fce59-6376-43f4-9178-8e5a94340288",
   "metadata": {},
   "outputs": [],
   "source": [
    "fig, axes = plt.subplots(\n",
    "    1, 2, figsize=(20, 10), sharex=True, sharey=True, constrained_layout=True\n",
    ")\n",
    "axes[0].plot(position_info.position_x, position_info.position_y)\n",
    "axes[0].set_xlabel(\"x-position [cm]\", fontsize=18)\n",
    "axes[0].set_ylabel(\"y-position [cm]\", fontsize=18)\n",
    "axes[0].set_title(\"Position\", fontsize=28)\n",
    "\n",
    "axes[1].plot(\n",
    "    upsampled_position_info.position_x, upsampled_position_info.position_y\n",
    ")\n",
    "axes[1].set_xlabel(\"x-position [cm]\", fontsize=18)\n",
    "axes[1].set_ylabel(\"y-position [cm]\", fontsize=18)\n",
    "axes[1].set_title(\"Upsampled Position\", fontsize=28)\n"
   ]
  },
  {
   "cell_type": "code",
   "execution_count": null,
   "id": "183e336b-6b7e-4edb-bf7b-dd0bc53acee8",
   "metadata": {},
   "outputs": [],
   "source": [
    "fig, axes = plt.subplots(\n",
    "    2, 1, figsize=(25, 6), sharex=True, sharey=True, constrained_layout=True\n",
    ")\n",
    "axes[0].plot(position_info.index, position_info.speed)\n",
    "axes[0].set_xlabel(\"Time\", fontsize=18)\n",
    "axes[0].set_ylabel(\"Speed [cm/s]\", fontsize=18)\n",
    "axes[0].set_title(\"Speed\", fontsize=28)\n",
    "axes[0].set_xlim((position_info.index.min(), position_info.index.max()))\n",
    "\n",
    "axes[1].plot(upsampled_position_info.index, upsampled_position_info.speed)\n",
    "axes[1].set_xlabel(\"Time\", fontsize=18)\n",
    "axes[1].set_ylabel(\"Speed [cm/s]\", fontsize=18)\n",
    "axes[1].set_title(\"Upsampled Speed\", fontsize=28)\n"
   ]
  },
  {
   "cell_type": "code",
   "execution_count": null,
   "id": "c726fdf7-8698-444d-b5a2-8476ee79596e",
   "metadata": {},
   "outputs": [],
   "source": [
    "fig, axes = plt.subplots(\n",
    "    1, 2, figsize=(20, 10), sharex=True, sharey=True, constrained_layout=True\n",
    ")\n",
    "axes[0].plot(position_info.velocity_x, position_info.velocity_y)\n",
    "axes[0].set_xlabel(\"x-velocity [cm/s]\", fontsize=18)\n",
    "axes[0].set_ylabel(\"y-velocity [cm/s]\", fontsize=18)\n",
    "axes[0].set_title(\"Velocity\", fontsize=28)\n",
    "\n",
    "axes[1].plot(\n",
    "    upsampled_position_info.velocity_x, upsampled_position_info.velocity_y\n",
    ")\n",
    "axes[1].set_xlabel(\"x-velocity [cm/s]\", fontsize=18)\n",
    "axes[1].set_ylabel(\"y-velocity [cm/s]\", fontsize=18)\n",
    "axes[1].set_title(\"Upsampled Velocity\", fontsize=28)\n"
   ]
  }
 ],
 "metadata": {
  "kernelspec": {
   "display_name": "Python 3 (ipykernel)",
   "language": "python",
   "name": "python3"
  },
  "language_info": {
   "codemirror_mode": {
    "name": "ipython",
    "version": 3
   },
   "file_extension": ".py",
   "mimetype": "text/x-python",
   "name": "python",
   "nbconvert_exporter": "python",
   "pygments_lexer": "ipython3",
   "version": "3.9.16"
  }
 },
 "nbformat": 4,
 "nbformat_minor": 5
}
