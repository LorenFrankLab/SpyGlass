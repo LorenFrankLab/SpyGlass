{
 "cells": [
  {
   "attachments": {},
   "cell_type": "markdown",
   "metadata": {},
   "source": [
    "## LFP Extraction\n"
   ]
  },
  {
   "cell_type": "code",
   "execution_count": null,
   "metadata": {},
   "outputs": [],
   "source": [
    "\n",
    "import pynwb\n",
    "import os\n",
    "import numpy as np\n",
    "# DataJoint and DataJoint schema\n",
    "import datajoint as dj\n",
    "dj.config['filepath_checksum_size_limit'] = 1 * 1024**2\n",
    "\n",
    "## We also import a bunch of tables so that we can call them easily\n",
    "from spyglass.common import (\n",
    "    RawPosition,\n",
    "    StateScriptFile,\n",
    "    VideoFile,\n",
    "    DataAcquisitionDevice,\n",
    "    CameraDevice,\n",
    "    Probe,\n",
    "    DIOEvents,\n",
    "    ElectrodeGroup,\n",
    "    Electrode,\n",
    "    Raw,\n",
    "    SampleCount,\n",
    "    FirFilter,\n",
    "    IntervalList,\n",
    "    Lab,\n",
    "    LabMember,\n",
    "    LabTeam,\n",
    "    Institution,\n",
    "    BrainRegion,\n",
    "    SensorData,\n",
    "    Session,\n",
    "    Subject,\n",
    "    Task,\n",
    "    TaskEpoch,\n",
    "    Nwbfile,\n",
    "    AnalysisNwbfile,\n",
    "    NwbfileKachery,\n",
    "    AnalysisNwbfileKachery,\n",
    "    interval_list_contains,\n",
    "    interval_list_contains_ind,\n",
    "    interval_list_excludes,\n",
    "    interval_list_excludes_ind,\n",
    "    interval_list_intersect,\n",
    "    get_electrode_indices,\n",
    ")\n",
    "\n",
    "from spyglass.lfp.v1 import (\n",
    "    LFPElectrodeGroup,\n",
    "    LFPSelection,\n",
    "    LFP,\n",
    "    LFPOutput,\n",
    "    LFPBandSelection, \n",
    "    LFPBand\n",
    ")\n",
    "\n",
    "import warnings\n",
    "\n",
    "warnings.simplefilter(\"ignore\", category=DeprecationWarning)\n",
    "warnings.simplefilter(\"ignore\", category=ResourceWarning)\n"
   ]
  },
  {
   "attachments": {},
   "cell_type": "markdown",
   "metadata": {},
   "source": [
    "#### Next we select the NWB file, which corresponds to the dataset we want to extract LFP from"
   ]
  },
  {
   "cell_type": "code",
   "execution_count": null,
   "metadata": {
    "tags": []
   },
   "outputs": [],
   "source": [
    "nwb_file_names = Nwbfile().fetch(\"nwb_file_name\")\n",
    "# take the first one for this demonstration\n",
    "nwb_file_name = nwb_file_names[0]\n",
    "print(nwb_file_name)\n",
    "\n",
    "# test: \n",
    "nwb_file_name = 'tonks20211103_.nwb'\n"
   ]
  },
  {
   "attachments": {},
   "cell_type": "markdown",
   "metadata": {
    "tags": []
   },
   "source": [
    "#### Create the standard LFP Filters. This only needs to be done once."
   ]
  },
  {
   "cell_type": "code",
   "execution_count": null,
   "metadata": {},
   "outputs": [],
   "source": [
    "FirFilter().create_standard_filters()\n"
   ]
  },
  {
   "attachments": {},
   "cell_type": "markdown",
   "metadata": {},
   "source": [
    "#### Now we create an lfp electrode group that defines the set of electrodes we want to filter for lfp data. \n",
    "In this case we'll take the three electrode with indexes 0, 4, and 8. "
   ]
  },
  {
   "cell_type": "code",
   "execution_count": null,
   "metadata": {},
   "outputs": [],
   "source": [
    "LFPOutput().LFP()"
   ]
  },
  {
   "cell_type": "code",
   "execution_count": null,
   "metadata": {},
   "outputs": [],
   "source": [
    "electrode_ids = (Electrode & {\"nwb_file_name\": nwb_file_name}).fetch(\"electrode_id\")\n",
    "#electrode_indexes = [0, 4, 8]\n",
    "#lfp_electrode_ids = electrode_ids[electrode_indexes]\n",
    "lfp_electrode_ids =  [28, 32, 40]\n",
    "lfp_electrode_group_name = \"test_group\"\n",
    "\n",
    "\n",
    "lfp_eg_key = {\"nwb_file_name\" : nwb_file_name, \"lfp_electrode_group_name\" : lfp_electrode_group_name}\n",
    "#Delete the old test group if it exists (uncomment the line below if so) and then insert the new one\n",
    "#(LFPElectrodeGroup & lfp_eg_key).delete(force_parts=True)\n",
    "LFPElectrodeGroup.create_lfp_electrode_group(nwb_file_name=nwb_file_name, group_name=lfp_electrode_group_name, electrode_list=lfp_electrode_ids)\n"
   ]
  },
  {
   "attachments": {},
   "cell_type": "markdown",
   "metadata": {},
   "source": [
    "#### We now look at the list of electrodes that are part of this lfp electrode group to verify that we got the right ones"
   ]
  },
  {
   "cell_type": "code",
   "execution_count": null,
   "metadata": {},
   "outputs": [],
   "source": [
    "LFPElectrodeGroup().LFPElectrode() & {\"nwb_file_name\": nwb_file_name}"
   ]
  },
  {
   "attachments": {},
   "cell_type": "markdown",
   "metadata": {},
   "source": [
    "#### Next we need to select an interval list and the lfp filter we want to use\n",
    "You might need to run<br>\n",
    "(IntervalList & {\"nwb_file_name\": nwb_file_name}) <br>\n",
    "    to see the list of intervals and similarly<br>\n",
    "FIRFilter() <br>\n",
    "    to see the list of defined filters"
   ]
  },
  {
   "cell_type": "code",
   "execution_count": null,
   "metadata": {},
   "outputs": [],
   "source": [
    "# we choose the first run period and the standard LFP filter for 30KHz data and add a new short interval for this demonstration\n",
    "orig_interval_list_name = \"02_r1\"\n",
    "valid_times = (IntervalList & {\"nwb_file_name\" : nwb_file_name, \"interval_list_name\" : orig_interval_list_name}).fetch1(\"valid_times\")\n",
    "new_valid_times = np.asarray([[valid_times[0,0], valid_times[0,0]+100]])\n",
    "interval_list_name = \"test interval\"\n",
    "IntervalList.insert1({\"nwb_file_name\":nwb_file_name, \"interval_list_name\":interval_list_name, \"valid_times\":new_valid_times}, skip_duplicates=True)\n",
    "\n",
    "filter_name = \"LFP 0-400 Hz\"\n",
    "filter_sampling_rate = 30000\n"
   ]
  },
  {
   "attachments": {},
   "cell_type": "markdown",
   "metadata": {},
   "source": [
    "#### Now we create the LFPSelection entry to combine the data, interval list and filter"
   ]
  },
  {
   "cell_type": "code",
   "execution_count": null,
   "metadata": {},
   "outputs": [],
   "source": [
    "lfp_s_key = lfp_eg_key.copy()\n",
    "lfp_s_key[\"target_interval_list_name\"] = interval_list_name\n",
    "lfp_s_key[\"filter_name\"] = filter_name\n",
    "lfp_s_key[\"filter_sampling_rate\"] = filter_sampling_rate\n",
    "LFPSelection.insert1(lfp_s_key, skip_duplicates=True)"
   ]
  },
  {
   "attachments": {},
   "cell_type": "markdown",
   "metadata": {},
   "source": [
    "### Populate the LFP table. Note that this takes 2 hours or so on a laptop if you use all electrodes\n",
    "\n",
    "Note here that populating the LFP table also inserts an LFP entry into LFPOutput, a table that allows us to merge computed and imported lfps"
   ]
  },
  {
   "cell_type": "code",
   "execution_count": null,
   "metadata": {
    "tags": []
   },
   "outputs": [],
   "source": [
    "LFP().populate(lfp_s_key)\n",
    "LFPOutput()"
   ]
  },
  {
   "attachments": {},
   "cell_type": "markdown",
   "metadata": {},
   "source": [
    "### Now that we've created the LFP object we can perform a second level of filtering for a band of interest, in this case the theta band\n",
    "We first need to create the filter"
   ]
  },
  {
   "cell_type": "code",
   "execution_count": null,
   "metadata": {},
   "outputs": [],
   "source": [
    "lfp_sampling_rate = (LFP() & {\"nwb_file_name\": nwb_file_name}).fetch1(\n",
    "    \"lfp_sampling_rate\"\n",
    ")\n",
    "filter_name = \"Theta 5-11 Hz\"\n",
    "FirFilter().add_filter(\n",
    "    filter_name,\n",
    "    lfp_sampling_rate,\n",
    "    \"bandpass\",\n",
    "    [4, 5, 11, 12],\n",
    "    \"theta filter for 1 Khz data\",\n",
    ")\n"
   ]
  },
  {
   "attachments": {},
   "cell_type": "markdown",
   "metadata": {},
   "source": [
    "Next we add an entry for the LFP Band and the electrodes we want to filter"
   ]
  },
  {
   "cell_type": "code",
   "execution_count": null,
   "metadata": {
    "tags": []
   },
   "outputs": [],
   "source": [
    "\n",
    "\n",
    "# assume that we've filtered these electrodes; change this if not\n",
    "lfp_band_electrode_ids =  [28, 32]\n",
    "\n",
    "# set the interval list name for this band; here we use the same interval as above\n",
    "interval_list_name = \"test interval\"\n",
    "\n",
    "# set the reference to -1 to indicate no reference for all channels\n",
    "ref_elect = [-1]\n",
    "\n",
    "# desired sampling rate\n",
    "lfp_band_sampling_rate = 100\n",
    "\n",
    "# we also need the uuid for the LFP object\n",
    "lfp_id = (LFPOutput.LFP & lfp_s_key).fetch1(\"lfp_id\")"
   ]
  },
  {
   "cell_type": "code",
   "execution_count": null,
   "metadata": {
    "tags": []
   },
   "outputs": [],
   "source": [
    "LFPBandSelection().set_lfp_band_electrodes(\n",
    "    nwb_file_name=nwb_file_name,\n",
    "    lfp_id=lfp_id,\n",
    "    electrode_list=lfp_band_electrode_ids,\n",
    "    filter_name=filter_name,\n",
    "    interval_list_name=interval_list_name,\n",
    "    reference_electrode_list=ref_elect,\n",
    "    lfp_band_sampling_rate=lfp_band_sampling_rate\n",
    ")\n",
    "lfp_b_key = (LFPBandSelection & {\"lfp_id\": lfp_id, \"filter_name\" : filter_name}).fetch1(\"KEY\")"
   ]
  },
  {
   "attachments": {},
   "cell_type": "markdown",
   "metadata": {},
   "source": [
    "Check to make sure it worked"
   ]
  },
  {
   "cell_type": "code",
   "execution_count": null,
   "metadata": {
    "tags": []
   },
   "outputs": [],
   "source": [
    "(LFPBandSelection() & {\"nwb_file_name\": nwb_file_name})\n"
   ]
  },
  {
   "cell_type": "code",
   "execution_count": null,
   "metadata": {
    "tags": []
   },
   "outputs": [],
   "source": [
    "LFPBand().populate(LFPBandSelection() & {\"nwb_file_name\": nwb_file_name})\n",
    "LFPBand()\n"
   ]
  },
  {
   "attachments": {},
   "cell_type": "markdown",
   "metadata": {},
   "source": [
    "### Now we can plot the original signal, the LFP filtered trace, and the theta filtered trace together.\n",
    "Much of the code below could be replaced by a function calls that would return the data from each electrical series"
   ]
  },
  {
   "cell_type": "code",
   "execution_count": null,
   "metadata": {},
   "outputs": [],
   "source": [
    "import matplotlib.pyplot as plt\n",
    "import numpy as np\n"
   ]
  },
  {
   "cell_type": "code",
   "execution_count": null,
   "metadata": {},
   "outputs": [],
   "source": [
    "# get the three electrical series objects and the indeces of the electrodes we band pass filtered\n",
    "orig_eseries = (Raw() & {\"nwb_file_name\": nwb_file_name}).fetch_nwb()[0][\"raw\"]\n",
    "orig_elect_indeces = get_electrode_indices(orig_eseries, lfp_band_electrode_ids)\n",
    "orig_timestamps = np.asarray(orig_eseries.timestamps)\n",
    "\n",
    "lfp_eseries = (LFP() & lfp_s_key).fetch_nwb()[0][\"lfp\"]\n",
    "lfp_elect_indeces = get_electrode_indices(lfp_eseries, lfp_band_electrode_ids)\n",
    "lfp_timestamps = np.asarray(lfp_eseries.timestamps)\n",
    "\n",
    "lfp_band_eseries = (LFPBand() & lfp_b_key).fetch_nwb()[0][\n",
    "    \"filtered_data\"\n",
    "]\n",
    "lfp_band_elect_indeces = get_electrode_indices(lfp_band_eseries, lfp_band_electrode_ids)\n",
    "lfp_band_timestamps = np.asarray(lfp_band_eseries.timestamps)"
   ]
  },
  {
   "cell_type": "code",
   "execution_count": null,
   "metadata": {},
   "outputs": [],
   "source": [
    "# get a list of times for the first run epoch and then select a 2 second interval 100 seconds from the beginning\n",
    "#run1times = (\n",
    "#    IntervalList & {\"nwb_file_name\": nwb_file_name, \"interval_list_name\": \"02_r1\"}\n",
    "#).fetch1(\"valid_times\")\n",
    "plottimes = [new_valid_times[0][0] + 10, new_valid_times[0][0] + 12]\n"
   ]
  },
  {
   "cell_type": "code",
   "execution_count": null,
   "metadata": {},
   "outputs": [],
   "source": [
    "# get the time indeces for each dataset\n",
    "orig_time_ind = np.where(\n",
    "    np.logical_and(\n",
    "        orig_timestamps > plottimes[0], orig_timestamps < plottimes[1]\n",
    "    )\n",
    ")[0]\n",
    "\n",
    "lfp_time_ind = np.where(\n",
    "    np.logical_and(\n",
    "        lfp_timestamps > plottimes[0], lfp_timestamps < plottimes[1]\n",
    "    )\n",
    ")[0]\n",
    "lfp_band_time_ind = np.where(\n",
    "    np.logical_and(\n",
    "        lfp_band_timestamps > plottimes[0],\n",
    "        lfp_band_timestamps < plottimes[1],\n",
    "    )\n",
    ")[0]\n"
   ]
  },
  {
   "cell_type": "code",
   "execution_count": null,
   "metadata": {},
   "outputs": [],
   "source": [
    "plt.plot(\n",
    "    orig_eseries.timestamps[orig_time_ind],\n",
    "    orig_eseries.data[orig_time_ind, orig_elect_indeces[0]],\n",
    "    \"k-\",\n",
    ")\n",
    "plt.plot(\n",
    "    lfp_eseries.timestamps[lfp_time_ind],\n",
    "    lfp_eseries.data[lfp_time_ind, lfp_elect_indeces[0]],\n",
    "    \"b-\",\n",
    ")\n",
    "plt.plot(\n",
    "    lfp_band_eseries.timestamps[lfp_band_time_ind],\n",
    "    lfp_band_eseries.data[lfp_band_time_ind, lfp_band_elect_indeces[0]],\n",
    "    \"r-\",\n",
    ")\n",
    "plt.xlabel(\"Time (sec)\")\n",
    "plt.ylabel(\"Amplitude (AD units)\")\n",
    "\n",
    "plt.show()\n"
   ]
  },
  {
   "attachments": {},
   "cell_type": "markdown",
   "metadata": {},
   "source": [
    "#### Now we delete the tutorial entries we added to clean up the database "
   ]
  },
  {
   "cell_type": "code",
   "execution_count": null,
   "metadata": {},
   "outputs": [],
   "source": [
    "LFPOutput.delete({\"lfp_id\": lfp_id})\n",
    "LFPElectrodeGroup.delete(lfp_eg_key)"
   ]
  }
 ],
 "metadata": {
  "kernelspec": {
   "display_name": "Python 3.10.5 64-bit",
   "language": "python",
   "name": "python3"
  },
  "language_info": {
   "codemirror_mode": {
    "name": "ipython",
    "version": 3
   },
   "file_extension": ".py",
   "mimetype": "text/x-python",
   "name": "python",
   "nbconvert_exporter": "python",
   "pygments_lexer": "ipython3",
   "version": "3.9.16"
  },
  "vscode": {
   "interpreter": {
    "hash": "8a94588eda9d64d9e9a351ab8144e55b1fabf5113b54e67dd26a8c27df0381b3"
   }
  }
 },
 "nbformat": 4,
 "nbformat_minor": 4
}
