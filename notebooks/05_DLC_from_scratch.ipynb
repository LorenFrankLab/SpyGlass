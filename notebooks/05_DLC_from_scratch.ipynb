{
 "cells": [
  {
   "cell_type": "markdown",
   "id": "a93a1550-8a67-4346-a4bf-e5a136f3d903",
   "metadata": {},
   "source": [
    "## Position using DeepLabCut from Scratch"
   ]
  },
  {
   "cell_type": "code",
   "execution_count": null,
   "id": "0f567531",
   "metadata": {},
   "outputs": [],
   "source": [
    "from pathlib import Path, PosixPath, PurePath\n",
    "import os\n",
    "import glob\n",
    "import numpy as np\n",
    "import pandas as pd\n",
    "import pynwb\n",
    "import datajoint as dj\n",
    "import spyglass.common as sgc\n",
    "import spyglass.position as sgp"
   ]
  },
  {
   "cell_type": "markdown",
   "id": "56fd71bf",
   "metadata": {
    "tags": []
   },
   "source": [
    "### Table of Contents<a id='ToC'></a>\n",
    "[`DLCProject`](#DLCProject)<br>\n",
    "[`DLCModelTraining`](#DLCModelTraining)<br>\n",
    "[`DLCModel`](#DLCModel)<br>\n",
    "[`DLCPoseEstimation`](#DLCPoseEstimation)<br>\n",
    "[`DLCSmoothInterp`](#DLCSmoothInterp)<br>\n",
    "[`DLCCentroid`](#DLCCentroid)<br>\n",
    "[`DLCOrientation`](#DLCOrientation)<br>\n",
    "[`DLCPos`](#DLCPos)<br>\n",
    "[`DLCPosVideo`](#DLCPosVideo)<br>\n",
    "[`PosSource`](#PosSource)<br>\n",
    "[`IntervalPositionInfo`](#IntervalPositionInfo)<br>"
   ]
  },
  {
   "cell_type": "markdown",
   "id": "fe02d07e",
   "metadata": {},
   "source": [
    "#### [DLCProject](#ToC) <a id='DLCProject'></a>"
   ]
  },
  {
   "cell_type": "code",
   "execution_count": null,
   "id": "d88cd4d7",
   "metadata": {},
   "outputs": [],
   "source": [
    "sgp.DLCProject()"
   ]
  },
  {
   "cell_type": "code",
   "execution_count": null,
   "id": "8dd082df",
   "metadata": {},
   "outputs": [],
   "source": [
    "sgp.BodyPart.insert([{'bodypart': 'greenLED', 'bodypart_description': 'green LED on implant LED ring'},\n",
    "                     {'bodypart': 'redLED_C', 'bodypart_description': 'center red LED on implant LED ring'},\n",
    "                     {'bodypart': 'redLED_L', 'bodypart_description': 'left red LED on implant LED ring'},\n",
    "                     {'bodypart': 'redLED_R', 'bodypart_description': 'right red LED on implant LED ring'},\n",
    "                     {'bodypart': 'tailBase', 'bodypart_description': 'base of the tail on subject'},],\n",
    "                    skip_duplicates=True)"
   ]
  },
  {
   "cell_type": "code",
   "execution_count": null,
   "id": "e3aa1c2f",
   "metadata": {},
   "outputs": [],
   "source": [
    "video_list = [{'nwb_file_name': 'J1620210529_.nwb', \"epoch\": 2},\n",
    "              {'nwb_file_name': 'peanut20201103_.nwb', \"epoch\": 4},]\n",
    "team_name = \"JG_DG\""
   ]
  },
  {
   "cell_type": "code",
   "execution_count": null,
   "id": "347e98f1",
   "metadata": {},
   "outputs": [],
   "source": [
    "project_key = sgp.DLCProject.insert_new_project(\n",
    "    project_name='scratch_test',\n",
    "    bodyparts=['redLED_C', 'greenLED', 'redLED_L', 'redLED_R', 'tailBase'],\n",
    "    lab_team=team_name,\n",
    "    frames_per_video=100,\n",
    "    video_list=video_list,\n",
    ")\n",
    "project_key['project_path'] = os.path.dirname(project_key['config_path'])\n",
    "del project_key['config_path']"
   ]
  },
  {
   "cell_type": "markdown",
   "id": "df257015",
   "metadata": {},
   "source": [
    "##### To allow for use of already labeled frames"
   ]
  },
  {
   "cell_type": "code",
   "execution_count": null,
   "id": "dd4bfd1e",
   "metadata": {},
   "outputs": [],
   "source": [
    "dlc_path = Path('/nimbus/deeplabcut/projects/scratch_test-JG_DG-2022-10-27//')\n",
    "video_files = ['20201103_peanut_04_r2',\n",
    "               '20210529_J16_02_r1',]"
   ]
  },
  {
   "cell_type": "code",
   "execution_count": null,
   "id": "472a105d",
   "metadata": {},
   "outputs": [],
   "source": [
    "dlc_path = Path('/cumulus/deeplabcut/LH_4LED_model-Daniel_Sharon-2022-07-15/')"
   ]
  },
  {
   "cell_type": "code",
   "execution_count": null,
   "id": "7d25e418",
   "metadata": {},
   "outputs": [],
   "source": [
    "for video_file in video_files:\n",
    "    h5_file = glob.glob(f'{dlc_path.as_posix()}/'\n",
    "                    f'labeled-data/{video_file}/*.h5')[0]\n",
    "    dlc_df = pd.read_hdf(h5_file)\n",
    "    dlc_df.columns.set_levels([team_name],level=0,inplace=True)\n",
    "    dlc_df.to_hdf(\n",
    "        Path(\n",
    "            f\"{dlc_path.as_posix()}/labeled-data/{video_file}/CollectedData_{team_name}.h5\").as_posix(),\n",
    "        'df_with_missing')"
   ]
  },
  {
   "cell_type": "code",
   "execution_count": null,
   "id": "4a33ce78",
   "metadata": {},
   "outputs": [],
   "source": [
    "sgp.DLCProject.add_training_files({'project_name': 'scratch_test'})"
   ]
  },
  {
   "cell_type": "code",
   "execution_count": null,
   "id": "0e8b560b",
   "metadata": {},
   "outputs": [],
   "source": [
    "sgp.DLCProject.File()"
   ]
  },
  {
   "cell_type": "markdown",
   "id": "0e48ecf0",
   "metadata": {},
   "source": [
    "#### [DLCModelTraining](#ToC)<a id='DLCModelTraining'></a>"
   ]
  },
  {
   "cell_type": "code",
   "execution_count": null,
   "id": "399581ee",
   "metadata": {},
   "outputs": [],
   "source": [
    "sgp.DLCModelTrainingParams.insert_new_params(paramset_name='JG_DG_training',\n",
    "                                             params={'trainingsetindex': 0,\n",
    "                                                     'shuffle': 1,\n",
    "                                                     'gputouse': 4,\n",
    "                                                     \"net_type\": 'resnet_50',\n",
    "                                                     'augmenter_type': 'imgaug',\n",
    "                                                    })"
   ]
  },
  {
   "cell_type": "code",
   "execution_count": null,
   "id": "7acd150b",
   "metadata": {},
   "outputs": [],
   "source": [
    "sgp.DLCModelTrainingSelection()"
   ]
  },
  {
   "cell_type": "code",
   "execution_count": null,
   "id": "139d2f30",
   "metadata": {},
   "outputs": [],
   "source": [
    "sgp.DLCModelTrainingSelection().insert1({'project_name': 'scratch_test',\n",
    "                                         'dlc_training_params_name': 'JG_DG_training',\n",
    "                                         'training_id': 0,\n",
    "                                         'model_prefix': '',})"
   ]
  },
  {
   "cell_type": "code",
   "execution_count": null,
   "id": "e5306fd9",
   "metadata": {
    "scrolled": true
   },
   "outputs": [],
   "source": [
    "sgp.DLCModelTraining.populate({'project_name': 'scratch_test',\n",
    "                              'dlc_training_params_name': 'JG_DG_training'})"
   ]
  },
  {
   "cell_type": "code",
   "execution_count": null,
   "id": "5baee657",
   "metadata": {},
   "outputs": [],
   "source": [
    "model_training_key = (sgp.DLCModelTrainingSelection & {'project_name': 'scratch_test',\n",
    "                                                          'dlc_training_params_name': 'JG_DG_training',}).fetch1('KEY')"
   ]
  },
  {
   "cell_type": "markdown",
   "id": "67a9b2c6",
   "metadata": {},
   "source": [
    "#### [DLCModel](#ToC) <a id='DLCModel'></a>"
   ]
  },
  {
   "cell_type": "code",
   "execution_count": null,
   "id": "264bf3d8",
   "metadata": {},
   "outputs": [],
   "source": [
    "# sgp.DLCModelSource.insert_entry(key=model_training_key,\n",
    "#                                    dlc_model_name='LH_4LED_model_2',\n",
    "#                                    project_name='scratch_test',\n",
    "#                                    source='FromUpstream',\n",
    "#                                    skip_duplicates=True)"
   ]
  },
  {
   "cell_type": "code",
   "execution_count": null,
   "id": "043265a9",
   "metadata": {},
   "outputs": [],
   "source": [
    "sgp.DLCModelSource.FromUpstream()"
   ]
  },
  {
   "cell_type": "code",
   "execution_count": null,
   "id": "4c169573",
   "metadata": {},
   "outputs": [],
   "source": [
    "sgp.DLCModelParams().insert_default(skip_duplicates=True)"
   ]
  },
  {
   "cell_type": "code",
   "execution_count": null,
   "id": "eaa23fab",
   "metadata": {},
   "outputs": [],
   "source": [
    "sgp.DLCModelSelection().insert1({'dlc_model_name': 'LH_4LED_model_2',\n",
    "                                   'dlc_model_params_name': 'default'},\n",
    "                                  skip_duplicates=True)"
   ]
  },
  {
   "cell_type": "code",
   "execution_count": null,
   "id": "f8f1b839",
   "metadata": {},
   "outputs": [],
   "source": [
    "key = (sgp.DLCModelSelection & {'dlc_model_name': 'LH_4LED_model_2'}).fetch1('KEY')"
   ]
  },
  {
   "cell_type": "code",
   "execution_count": null,
   "id": "392ed1a2",
   "metadata": {},
   "outputs": [],
   "source": [
    "sgp.DLCModel.populate(key)"
   ]
  },
  {
   "cell_type": "code",
   "execution_count": null,
   "id": "c39f72ca",
   "metadata": {},
   "outputs": [],
   "source": [
    "sgp.DLCModel()"
   ]
  },
  {
   "cell_type": "markdown",
   "id": "0742f005",
   "metadata": {},
   "source": [
    "#### [DLCPoseEstimation](#ToC) <a id='DLCPoseEstimation'></a>"
   ]
  },
  {
   "cell_type": "code",
   "execution_count": null,
   "id": "d3bfbbc6",
   "metadata": {},
   "outputs": [],
   "source": [
    "sgp.DLCPoseEstimationSelection()"
   ]
  },
  {
   "cell_type": "code",
   "execution_count": null,
   "id": "f5913f0f",
   "metadata": {},
   "outputs": [],
   "source": [
    "sgp.DLCPoseEstimationSelection.insert_estimation_task({\n",
    "    'nwb_file_name': 'J1620210604_.nwb',\n",
    "    'epoch': 14,\n",
    "    'video_file_num': 0,\n",
    "    'project_name': 'scratch_test',\n",
    "    'dlc_model_name': 'scratch_test_JG_DG_training_00',\n",
    "    'dlc_model_params_name': 'default',\n",
    "}, task_mode='trigger', params={'gputouse': 4, 'videotype': 'mp4'})"
   ]
  },
  {
   "cell_type": "code",
   "execution_count": null,
   "id": "02c30671",
   "metadata": {},
   "outputs": [],
   "source": [
    "sgp.DLCPoseEstimation().populate({'nwb_file_name': 'J1620210604_.nwb',\n",
    "                                     'dlc_model_name': 'scratch_test_JG_DG_training_00',\n",
    "                                     'task_mode': 'trigger'})"
   ]
  },
  {
   "cell_type": "code",
   "execution_count": null,
   "id": "6fc8622e",
   "metadata": {},
   "outputs": [],
   "source": [
    "(sgp.DLCPoseEstimation.BodyPart() & {'dlc_model_name': 'scratch_test_JG_DG_training_00',\n",
    "                              'bodypart': 'greenLED',}).fetch1_dataframe()"
   ]
  },
  {
   "cell_type": "code",
   "execution_count": null,
   "id": "75bcf34a",
   "metadata": {},
   "outputs": [],
   "source": [
    "sgp.DLCPoseEstimation().BodyPart & key"
   ]
  },
  {
   "cell_type": "code",
   "execution_count": null,
   "id": "29c21f3d",
   "metadata": {},
   "outputs": [],
   "source": [
    "sgp.DLCSmoothInterpSelection().insert1(\n",
    "{\n",
    "    \"nwb_file_name\": \"J1620210604_.nwb\",\n",
    "    \"epoch\": 4,\n",
    "    \"video_file_num\": 0,\n",
    "    \"project_name\": \"scratch_test\",\n",
    "    \"dlc_model_name\": \"scratch_test_JG_DG_training_00\",\n",
    "    \"bodypart\"\n",
    "})"
   ]
  },
  {
   "cell_type": "markdown",
   "id": "0b6d47a8",
   "metadata": {},
   "source": [
    "#### [DLCSmoothInterp](#ToC) <a id='DLCSmoothInterp'></a>"
   ]
  },
  {
   "cell_type": "code",
   "execution_count": null,
   "id": "85e6fd10",
   "metadata": {},
   "outputs": [],
   "source": [
    "sgp.DLCSmoothInterpParams.insert_default()"
   ]
  },
  {
   "cell_type": "code",
   "execution_count": null,
   "id": "cb34a7af",
   "metadata": {},
   "outputs": [],
   "source": [
    "sgp.DLCSmoothInterpParams().insert1({'dlc_si_params_name': 'JG_SI_params',\"params\":\n",
    "            {\"smoothing_params\": {\n",
    "                \"smoothing_duration\": 0.05,\n",
    "            },\n",
    "            \"interp_params\": {\n",
    "                \"likelihood_thresh\": 0.95,\n",
    "            },\n",
    "            \"max_plausible_speed\": 300.0,\n",
    "            \"speed_smoothing_std_dev\": 0.100,\n",
    "            \"sampling_rate\": 50,\n",
    "            }}, skip_duplicates=True)"
   ]
  },
  {
   "cell_type": "code",
   "execution_count": null,
   "id": "ff87ccbe",
   "metadata": {},
   "outputs": [],
   "source": [
    "sgp.DLCSmoothInterpSelection.insert([{'nwb_file_name': 'J1620210604_.nwb',\n",
    "                                        'epoch': 14,\n",
    "                                        'video_file_num': 0,\n",
    "                                         \"project_name\": \"scratch_test\",\n",
    "                                        'dlc_model_name': 'scratch_test_JG_DG_training_00',\n",
    "                                        'dlc_model_params_name': 'default',\n",
    "                                        'bodypart': 'greenLED',\n",
    "                                        'dlc_si_params_name': 'JG_SI_params',\n",
    "                                        },\n",
    "                                       {'nwb_file_name': 'J1620210604_.nwb',\n",
    "                                        'epoch': 14,\n",
    "                                        'video_file_num': 0,\n",
    "                                        \"project_name\": \"scratch_test\",\n",
    "                                        'dlc_model_name': 'scratch_test_JG_DG_training_00',\n",
    "                                        'dlc_model_params_name': 'default',\n",
    "                                        'bodypart': 'redLED_L',\n",
    "                                        'dlc_si_params_name': 'JG_SI_params',\n",
    "                                        },\n",
    "                                       {'nwb_file_name': 'J1620210604_.nwb',\n",
    "                                        'epoch': 14,\n",
    "                                        'video_file_num': 0,\n",
    "                                        \"project_name\": \"scratch_test\",\n",
    "                                        'dlc_model_name': 'scratch_test_JG_DG_training_00',\n",
    "                                        'dlc_model_params_name': 'default',\n",
    "                                        'bodypart': 'redLED_C',\n",
    "                                        'dlc_si_params_name': 'JG_SI_params',\n",
    "                                        },\n",
    "                                       {'nwb_file_name': 'J1620210604_.nwb',\n",
    "                                        'epoch': 14,\n",
    "                                        'video_file_num': 0,\n",
    "                                        \"project_name\": \"scratch_test\",\n",
    "                                        'dlc_model_name': 'scratch_test_JG_DG_training_00',\n",
    "                                        'dlc_model_params_name': 'default',\n",
    "                                        'bodypart': 'redLED_R',\n",
    "                                        'dlc_si_params_name': 'JG_SI_params',\n",
    "                                        }], skip_duplicates=True)"
   ]
  },
  {
   "cell_type": "code",
   "execution_count": null,
   "id": "0e59b9f8",
   "metadata": {},
   "outputs": [],
   "source": [
    "sgp.DLCSmoothInterpSelection()"
   ]
  },
  {
   "cell_type": "code",
   "execution_count": null,
   "id": "140c5a2b",
   "metadata": {},
   "outputs": [],
   "source": [
    "sgp.DLCSmoothInterp().populate({'dlc_si_params_name': 'default',\n",
    "                                  'dlc_model_name': 'scratch_test_JG_DG_training_00',})"
   ]
  },
  {
   "cell_type": "code",
   "execution_count": null,
   "id": "3d5d0046",
   "metadata": {},
   "outputs": [],
   "source": [
    "sgp.DLCSmoothInterp().populate({'dlc_si_params_name': 'JG_SI_params',\n",
    "                                  'dlc_model_name': 'scratch_test_JG_DG_training_00',})"
   ]
  },
  {
   "cell_type": "code",
   "execution_count": null,
   "id": "c708c63f",
   "metadata": {},
   "outputs": [],
   "source": [
    "sgp.DLCSmoothInterp() & {'nwb_file_name': 'J1620210604_.nwb',\n",
    "                           'epoch': 14,\n",
    "                           'dlc_model_name': 'scratch_test_JG_DG_training_00'}"
   ]
  },
  {
   "cell_type": "code",
   "execution_count": null,
   "id": "b5ff5546",
   "metadata": {},
   "outputs": [],
   "source": [
    "(sgp.DLCSmoothInterp() & {'nwb_file_name': 'J1620210604_.nwb',\n",
    "                             'epoch': 14,\n",
    "                             'dlc_model_name': 'scratch_test_JG_DG_training_00',\n",
    "                             'bodypart': 'greenLED'}).fetch1_dataframe().plot.scatter(x='x',y='y', s=1)"
   ]
  },
  {
   "cell_type": "markdown",
   "id": "765f6efd",
   "metadata": {},
   "source": [
    "#### [DLCSmoothInterpCohort](#ToC) <a id='DLCSmoothInterpCohort'></a>"
   ]
  },
  {
   "cell_type": "code",
   "execution_count": null,
   "id": "5bfc947b",
   "metadata": {},
   "outputs": [],
   "source": [
    "si_key = (sgp.DLCSmoothInterp() & {\n",
    "    'nwb_file_name': 'J1620210604_.nwb',\n",
    "    'epoch': 14,\n",
    "    'dlc_model_name': 'scratch_test_JG_DG_training_00',\n",
    "    'dlc_si_params_name': 'JG_SI_params',\n",
    "    'bodypart': 'greenLED',}).fetch1('KEY')"
   ]
  },
  {
   "cell_type": "code",
   "execution_count": null,
   "id": "280d6e3c",
   "metadata": {},
   "outputs": [],
   "source": [
    "cohort_key = si_key.copy()\n",
    "if 'bodypart' in cohort_key:\n",
    "    del cohort_key['bodypart']\n",
    "if 'dlc_si_params_name' in cohort_key:\n",
    "    del cohort_key['dlc_si_params_name']\n",
    "cohort_key['dlc_si_cohort_selection_name'] = '4LEDs'\n",
    "cohort_key['bodyparts_params_dict'] = {'greenLED': 'JG_SI_params',\n",
    "                                   'redLED_L':'JG_SI_params',\n",
    "                                   'redLED_C':'JG_SI_params',\n",
    "                                   'redLED_R':'JG_SI_params',}"
   ]
  },
  {
   "cell_type": "code",
   "execution_count": null,
   "id": "a79214d8",
   "metadata": {},
   "outputs": [],
   "source": [
    "cohort_key"
   ]
  },
  {
   "cell_type": "code",
   "execution_count": null,
   "id": "b9356875",
   "metadata": {},
   "outputs": [],
   "source": [
    "sgp.DLCSmoothInterpCohortSelection().insert1(cohort_key, skip_duplicates=True)"
   ]
  },
  {
   "cell_type": "code",
   "execution_count": null,
   "id": "ab39066e",
   "metadata": {},
   "outputs": [],
   "source": [
    "sgp.DLCSmoothInterpCohortSelection()"
   ]
  },
  {
   "cell_type": "code",
   "execution_count": null,
   "id": "ffe4dc85",
   "metadata": {},
   "outputs": [],
   "source": [
    "sgp.DLCSmoothInterpCohort.populate()"
   ]
  },
  {
   "cell_type": "code",
   "execution_count": null,
   "id": "fcff3d34",
   "metadata": {},
   "outputs": [],
   "source": [
    "sgp.DLCSmoothInterpCohort.BodyPart()"
   ]
  },
  {
   "cell_type": "code",
   "execution_count": null,
   "id": "6c5aa8b3",
   "metadata": {},
   "outputs": [],
   "source": [
    "(sgp.DLCSmoothInterpCohort.BodyPart() & cohort_key & {'bodypart': 'greenLED'}).fetch1_dataframe()"
   ]
  },
  {
   "cell_type": "markdown",
   "id": "c4ec19db",
   "metadata": {},
   "source": [
    "#### [DLCCentroid](#ToC) <a id='DLCCentroid'></a>"
   ]
  },
  {
   "cell_type": "code",
   "execution_count": null,
   "id": "1eed9bc3",
   "metadata": {},
   "outputs": [],
   "source": [
    "centroid_params = {\n",
    "    'centroid_method': 'four_led_centroid',\n",
    "    'points' : {\n",
    "        'green_LED': 'greenLED',\n",
    "        'red_LED_L': 'redLED_L',\n",
    "        'red_LED_C': 'redLED_C',\n",
    "        'red_LED_R': 'redLED_R',},\n",
    "    \"speed_smoothing_std_dev\": 0.100,\n",
    "    \"sampling_rate\": 50,\n",
    "}\n",
    "sgp.DLCCentroidParams.insert1({'dlc_centroid_params_name': 'JG_4LED',\n",
    "                                'params': centroid_params},\n",
    "                                skip_duplicates=True)"
   ]
  },
  {
   "cell_type": "code",
   "execution_count": null,
   "id": "3b1196c4",
   "metadata": {},
   "outputs": [],
   "source": [
    "sgp.DLCCentroidSelection()"
   ]
  },
  {
   "cell_type": "code",
   "execution_count": null,
   "id": "4c76d3b2",
   "metadata": {},
   "outputs": [],
   "source": [
    "centroid_key = (sgp.DLCSmoothInterpCohort & cohort_key).fetch1('KEY')\n",
    "centroid_key['dlc_centroid_params_name'] = 'JG_4LED'"
   ]
  },
  {
   "cell_type": "code",
   "execution_count": null,
   "id": "275ae88b",
   "metadata": {},
   "outputs": [],
   "source": [
    "centroid_key"
   ]
  },
  {
   "cell_type": "code",
   "execution_count": null,
   "id": "e3b59e64",
   "metadata": {},
   "outputs": [],
   "source": [
    "sgp.DLCCentroidSelection.insert1(centroid_key, skip_duplicates=True)"
   ]
  },
  {
   "cell_type": "code",
   "execution_count": null,
   "id": "93877f5d",
   "metadata": {},
   "outputs": [],
   "source": [
    "sgp.DLCCentroidSelection()"
   ]
  },
  {
   "cell_type": "code",
   "execution_count": null,
   "id": "fcb319ba",
   "metadata": {},
   "outputs": [],
   "source": [
    "sgp.DLCCentroid.populate()"
   ]
  },
  {
   "cell_type": "code",
   "execution_count": null,
   "id": "b1a487ea",
   "metadata": {},
   "outputs": [],
   "source": [
    "fig = (sgp.DLCCentroid() & centroid_key).fetch1_dataframe().plot.scatter(x='position_x',\n",
    "                                                     y='position_y',\n",
    "                                                     c='speed',\n",
    "                                                     colormap='viridis',\n",
    "                                                     alpha=0.5,\n",
    "                                                    s=0.5,\n",
    "                                                    figsize=(15,15))"
   ]
  },
  {
   "cell_type": "markdown",
   "id": "8696dd4a",
   "metadata": {},
   "source": [
    "#### [DLCOrientation](#ToC) <a id='DLCOrientation'></a>"
   ]
  },
  {
   "cell_type": "code",
   "execution_count": null,
   "id": "fb81f3da",
   "metadata": {},
   "outputs": [],
   "source": [
    "sgp.DLCOrientationParams().delete()"
   ]
  },
  {
   "cell_type": "code",
   "execution_count": null,
   "id": "cd7bbb0d",
   "metadata": {},
   "outputs": [],
   "source": [
    "sgp.DLCOrientationParams().insert_default()"
   ]
  },
  {
   "cell_type": "code",
   "execution_count": null,
   "id": "f343036d",
   "metadata": {},
   "outputs": [],
   "source": [
    "temp_cohort_key = (sgp.DLCSmoothInterpCohortSelection() & si_key).fetch1('KEY')"
   ]
  },
  {
   "cell_type": "code",
   "execution_count": null,
   "id": "9f799d4d",
   "metadata": {},
   "outputs": [],
   "source": [
    "temp_cohort_key"
   ]
  },
  {
   "cell_type": "code",
   "execution_count": null,
   "id": "eedfd230",
   "metadata": {},
   "outputs": [],
   "source": [
    "fields = list(sgp.DLCOrientationSelection.fetch().dtype.fields.keys())\n",
    "orient_key = {key: val for key,val in temp_cohort_key.items() if key in fields}\n",
    "orient_key['dlc_orientation_params_name'] = 'default'"
   ]
  },
  {
   "cell_type": "code",
   "execution_count": null,
   "id": "87f1134b",
   "metadata": {},
   "outputs": [],
   "source": [
    "orient_key"
   ]
  },
  {
   "cell_type": "code",
   "execution_count": null,
   "id": "56793200",
   "metadata": {},
   "outputs": [],
   "source": [
    "sgp.DLCOrientationSelection().insert1(orient_key, skip_duplicates=True)"
   ]
  },
  {
   "cell_type": "code",
   "execution_count": null,
   "id": "1a6a4bce",
   "metadata": {},
   "outputs": [],
   "source": [
    "sgp.DLCOrientationSelection()"
   ]
  },
  {
   "cell_type": "code",
   "execution_count": null,
   "id": "f21fdb7f",
   "metadata": {},
   "outputs": [],
   "source": [
    "sgp.DLCOrientation().populate(orient_key)"
   ]
  },
  {
   "cell_type": "code",
   "execution_count": null,
   "id": "06c972e8",
   "metadata": {},
   "outputs": [],
   "source": [
    "(sgp.DLCOrientation() & orient_key).fetch1_dataframe()"
   ]
  },
  {
   "cell_type": "markdown",
   "id": "07e42471",
   "metadata": {},
   "source": [
    "#### [DLCPos](#ToC) <a id='DLCPos'></a>"
   ]
  },
  {
   "cell_type": "code",
   "execution_count": null,
   "id": "765732a3",
   "metadata": {},
   "outputs": [],
   "source": [
    "sgp.DLCPos()"
   ]
  },
  {
   "cell_type": "code",
   "execution_count": null,
   "id": "887846ec",
   "metadata": {},
   "outputs": [],
   "source": [
    "sgp.DLCCentroid()"
   ]
  },
  {
   "cell_type": "code",
   "execution_count": null,
   "id": "11de57d7",
   "metadata": {},
   "outputs": [],
   "source": [
    "dlc_pos_key = (sgp.DLCCentroid() & centroid_key).fetch1('KEY')"
   ]
  },
  {
   "cell_type": "code",
   "execution_count": null,
   "id": "947afa29",
   "metadata": {},
   "outputs": [],
   "source": [
    "dlc_pos_key.update(\n",
    "    {\n",
    "        'dlc_si_cohort_centroid': centroid_key['dlc_si_cohort_selection_name'],\n",
    "        'dlc_si_cohort_orientation': orient_key['dlc_si_cohort_selection_name'],\n",
    "        'dlc_orientation_params_name': orient_key['dlc_orientation_params_name'],\n",
    "    }\n",
    ")\n",
    "if 'dlc_si_cohort_selection_name' in dlc_pos_key:\n",
    "    del dlc_pos_key['dlc_si_cohort_selection_name']\n",
    "sgp.DLCPosSelection().insert1(dlc_pos_key, skip_duplicates=True)"
   ]
  },
  {
   "cell_type": "code",
   "execution_count": null,
   "id": "9ca1b9c8",
   "metadata": {
    "scrolled": true
   },
   "outputs": [],
   "source": [
    "sgp.DLCPos().populate()"
   ]
  },
  {
   "cell_type": "code",
   "execution_count": null,
   "id": "3914d8cc",
   "metadata": {},
   "outputs": [],
   "source": [
    "dlc_pos_key"
   ]
  },
  {
   "cell_type": "code",
   "execution_count": null,
   "id": "d8aee96f",
   "metadata": {},
   "outputs": [],
   "source": [
    "sgp.DLCPosVideo().populate()"
   ]
  },
  {
   "cell_type": "markdown",
   "id": "c210a29d",
   "metadata": {},
   "source": [
    "#### [PosSource](#ToC) <a id='PosSource'></a>"
   ]
  },
  {
   "cell_type": "code",
   "execution_count": null,
   "id": "f7c9db98",
   "metadata": {},
   "outputs": [],
   "source": [
    "sgp.PosSource()"
   ]
  },
  {
   "cell_type": "code",
   "execution_count": null,
   "id": "f6547fd2",
   "metadata": {},
   "outputs": [],
   "source": [
    "sgp.PosSource.DLCPos()"
   ]
  },
  {
   "cell_type": "markdown",
   "id": "7bd88bc0",
   "metadata": {},
   "source": [
    "#### [IntervalPositionInfo](#ToC) <a id='IntervalPositionInfo'></a>"
   ]
  },
  {
   "cell_type": "code",
   "execution_count": null,
   "id": "31053039",
   "metadata": {},
   "outputs": [],
   "source": [
    "int_pos_info_key = (sgp.PosSource & dlc_pos_key).fetch1('KEY')"
   ]
  },
  {
   "cell_type": "code",
   "execution_count": null,
   "id": "f94308f7",
   "metadata": {},
   "outputs": [],
   "source": [
    "sgp.IntervalPositionInfoSelection().insert1(int_pos_info_key)"
   ]
  },
  {
   "cell_type": "code",
   "execution_count": null,
   "id": "2f942324",
   "metadata": {},
   "outputs": [],
   "source": [
    "sgp.IntervalPositionInfo.populate()"
   ]
  },
  {
   "cell_type": "code",
   "execution_count": null,
   "id": "439d89b2",
   "metadata": {},
   "outputs": [],
   "source": [
    "sgp.IntervalPositionInfo().fetch1_dataframe()"
   ]
  },
  {
   "cell_type": "markdown",
   "id": "c71c90a2",
   "metadata": {},
   "source": [
    "### [Return To Table of Contents](#ToC)<br>"
   ]
  }
 ],
 "metadata": {
  "kernelspec": {
   "display_name": "Python [conda env:spyglass-dlc]",
   "language": "python",
   "name": "conda-env-spyglass-dlc-py"
  },
  "language_info": {
   "codemirror_mode": {
    "name": "ipython",
    "version": 3
   },
   "file_extension": ".py",
   "mimetype": "text/x-python",
   "name": "python",
   "nbconvert_exporter": "python",
   "pygments_lexer": "ipython3",
   "version": "3.9.13"
  }
 },
 "nbformat": 4,
 "nbformat_minor": 5
}
