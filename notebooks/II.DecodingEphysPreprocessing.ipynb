{
 "cells": [
  {
   "cell_type": "markdown",
   "id": "819d1e7a-e431-4bd8-a433-1c3e25af8906",
   "metadata": {
    "tags": []
   },
   "source": [
    "## Preprocessing ephys data for decoding"
   ]
  },
  {
   "cell_type": "markdown",
   "id": "230a9443-22b4-4578-8574-dbcee45ffbb7",
   "metadata": {},
   "source": [
    "To decode, we need to:\n",
    "1. Specify sort time intervals. Table involved: \n",
    "2. Remove artifact. Table involved: xx\n",
    "3. Obtain spikes. Table involved: xx"
   ]
  },
  {
   "cell_type": "code",
   "execution_count": 1,
   "id": "c51bff9e-7b97-4b5e-ab96-c1a78dc81fcc",
   "metadata": {},
   "outputs": [
    {
     "name": "stderr",
     "output_type": "stream",
     "text": [
      "[2023-05-27 11:08:49,594][INFO]: Connecting shijiegu@lmf-db.cin.ucsf.edu:3306\n",
      "[2023-05-27 11:08:49,673][INFO]: Connected shijiegu@lmf-db.cin.ucsf.edu:3306\n",
      "/home/shijiegu/anaconda3/envs/spyglass/lib/python3.8/site-packages/position_tools/core.py:3: DeprecationWarning: Please use `gaussian_filter1d` from the `scipy.ndimage` namespace, the `scipy.ndimage.filters` namespace is deprecated.\n",
      "  from scipy.ndimage.filters import gaussian_filter1d\n"
     ]
    }
   ],
   "source": [
    "import os\n",
    "import cupy as cp\n",
    "import numpy as np\n",
    "import datajoint as dj\n",
    "import spyglass as nd\n",
    "import pandas as pd\n",
    "import matplotlib.pyplot as plt\n",
    "import multiprocessing\n",
    "\n",
    "# ignore datajoint+jupyter async warnings\n",
    "import warnings\n",
    "warnings.simplefilter('ignore', category=DeprecationWarning)\n",
    "warnings.simplefilter('ignore', category=ResourceWarning)\n",
    "\n",
    "from spyglass.common import (Session, IntervalList,LabMember, LabTeam, Raw, Session, Nwbfile,\n",
    "                            Electrode)\n",
    "import spyglass.spikesorting as ss\n",
    "from spyglass.spikesorting import (SortGroup, \n",
    "                                    SortInterval,\n",
    "                                    SpikeSortingPreprocessingParameters,\n",
    "                                    SpikeSortingRecording, \n",
    "                                    SpikeSorterParameters,\n",
    "                                    SpikeSortingRecordingSelection,\n",
    "                                    ArtifactDetectionParameters, ArtifactDetectionSelection,\n",
    "                                    ArtifactRemovedIntervalList, ArtifactDetection,\n",
    "                                      SpikeSortingSelection, SpikeSorting,)\n",
    "from spyglass.utils.nwb_helper_fn import get_nwb_copy_filename"
   ]
  },
  {
   "cell_type": "code",
   "execution_count": 2,
   "id": "46377014-9a47-493b-8ea9-c38e3d9c32f1",
   "metadata": {},
   "outputs": [],
   "source": [
    "nwb_file_name = 'isaac20230519.nwb'\n",
    "nwb_copy_file_name = get_nwb_copy_filename(nwb_file_name)"
   ]
  },
  {
   "cell_type": "code",
   "execution_count": 3,
   "id": "e6fbbe63-5bf3-4cc8-bff8-9366997c08a1",
   "metadata": {},
   "outputs": [
    {
     "data": {
      "text/plain": [
       "array([10, 19, 21, 22, 23, 24])"
      ]
     },
     "execution_count": 3,
     "metadata": {},
     "output_type": "execute_result"
    }
   ],
   "source": [
    "canula_1_tet_list = np.array([11]) - 1\n",
    "canula_2_tet_list = np.array([20,22,23,24,25]) - 1\n",
    "all_tet_list = np.concatenate([canula_1_tet_list,canula_2_tet_list])\n",
    "all_tet_list"
   ]
  },
  {
   "cell_type": "code",
   "execution_count": 4,
   "id": "6346e941-f307-4a70-8157-72cfaba4c748",
   "metadata": {},
   "outputs": [
    {
     "data": {
      "text/html": [
       "\n",
       "    \n",
       "    <style type=\"text/css\">\n",
       "        .Table{\n",
       "            border-collapse:collapse;\n",
       "        }\n",
       "        .Table th{\n",
       "            background: #A0A0A0; color: #ffffff; padding:4px; border:#f0e0e0 1px solid;\n",
       "            font-weight: normal; font-family: monospace; font-size: 100%;\n",
       "        }\n",
       "        .Table td{\n",
       "            padding:4px; border:#f0e0e0 1px solid; font-size:100%;\n",
       "        }\n",
       "        .Table tr:nth-child(odd){\n",
       "            background: #ffffff;\n",
       "        }\n",
       "        .Table tr:nth-child(even){\n",
       "            background: #f3f1ff;\n",
       "        }\n",
       "        /* Tooltip container */\n",
       "        .djtooltip {\n",
       "        }\n",
       "        /* Tooltip text */\n",
       "        .djtooltip .djtooltiptext {\n",
       "            visibility: hidden;\n",
       "            width: 120px;\n",
       "            background-color: black;\n",
       "            color: #fff;\n",
       "            text-align: center;\n",
       "            padding: 5px 0;\n",
       "            border-radius: 6px;\n",
       "            /* Position the tooltip text - see examples below! */\n",
       "            position: absolute;\n",
       "            z-index: 1;\n",
       "        }\n",
       "        #primary {\n",
       "            font-weight: bold;\n",
       "            color: black;\n",
       "        }\n",
       "        #nonprimary {\n",
       "            font-weight: normal;\n",
       "            color: white;\n",
       "        }\n",
       "\n",
       "        /* Show the tooltip text when you mouse over the tooltip container */\n",
       "        .djtooltip:hover .djtooltiptext {\n",
       "            visibility: visible;\n",
       "        }\n",
       "    </style>\n",
       "    \n",
       "    <b>Defines recordings to be sorted</b>\n",
       "        <div style=\"max-height:1000px;max-width:1500px;overflow:auto;\">\n",
       "        <table border=\"1\" class=\"Table\">\n",
       "            <thead> <tr style=\"text-align: right;\"> <th> <div class=\"djtooltip\">\n",
       "                            <p id=\"primary\">nwb_file_name</p>\n",
       "                            <span class=\"djtooltiptext\">name of the NWB file</span>\n",
       "                        </div></th><th><div class=\"djtooltip\">\n",
       "                            <p id=\"primary\">sort_group_id</p>\n",
       "                            <span class=\"djtooltiptext\">identifier for a group of electrodes</span>\n",
       "                        </div></th><th><div class=\"djtooltip\">\n",
       "                            <p id=\"primary\">sort_interval_name</p>\n",
       "                            <span class=\"djtooltiptext\">name for this interval</span>\n",
       "                        </div></th><th><div class=\"djtooltip\">\n",
       "                            <p id=\"primary\">preproc_params_name</p>\n",
       "                            <span class=\"djtooltiptext\"></span>\n",
       "                        </div></th><th><div class=\"djtooltip\">\n",
       "                            <p id=\"primary\">team_name</p>\n",
       "                            <span class=\"djtooltiptext\"></span>\n",
       "                        </div></th><th><div class=\"djtooltip\">\n",
       "                            <p id=\"nonprimary\">interval_list_name</p>\n",
       "                            <span class=\"djtooltiptext\">descriptive name of this interval list</span>\n",
       "                        </div> </th> </tr> </thead>\n",
       "            <tbody> <tr> <td>isaac20230519_.nwb</td>\n",
       "<td>100</td>\n",
       "<td>01_4ms100hz</td>\n",
       "<td>franklab_tetrode_hippocampus</td>\n",
       "<td>Xulu Sun</td>\n",
       "<td>01_4ms100hz</td> </tr> </tbody>\n",
       "        </table>\n",
       "        \n",
       "        <p>Total: 1</p></div>\n",
       "        "
      ],
      "text/plain": [
       "*nwb_file_name *sort_group_id *sort_interval *preproc_param *team_name    interval_list_\n",
       "+------------+ +------------+ +------------+ +------------+ +-----------+ +------------+\n",
       "isaac20230519_ 100            01_4ms100hz    franklab_tetro Xulu Sun      01_4ms100hz   \n",
       " (Total: 1)"
      ]
     },
     "execution_count": 4,
     "metadata": {},
     "output_type": "execute_result"
    }
   ],
   "source": [
    "SpikeSortingRecordingSelection & {'nwb_file_name':nwb_copy_file_name,'sort_group_id':100}"
   ]
  },
  {
   "cell_type": "markdown",
   "id": "eaa4018d-c530-4104-b4cf-750939848c2c",
   "metadata": {},
   "source": [
    "### 1.specify what tetrodes to sort: ```SortGroup```"
   ]
  },
  {
   "cell_type": "code",
   "execution_count": 5,
   "id": "e1c91aa9-fae2-493d-b274-7fdcc798654f",
   "metadata": {},
   "outputs": [],
   "source": [
    "# NOTE only run this cell the first time you start with a new NWB file\n",
    "# answer 'yes' when prompted - this will recreate the sort group table for the NWB file\n",
    "# note: if you say yes to the delete step you will remove all downstream tables\n",
    "\n",
    "# this is the populate command for the SortGroup table\n",
    "# it will group the electrodes by tetrodes and associated the reference for each channel\n",
    "# it will also remove the dead channels - from the yaml file\n",
    "\n",
    "#SortGroup().set_group_by_shank(nwb_copy_file_name)"
   ]
  },
  {
   "cell_type": "code",
   "execution_count": 6,
   "id": "2fd3d508-73f9-476d-861a-bd80334a56b2",
   "metadata": {},
   "outputs": [
    {
     "name": "stdout",
     "output_type": "stream",
     "text": [
      "good electrodes (128,)\n",
      "all electrodes (128,)\n"
     ]
    }
   ],
   "source": [
    "# check if dead channels are removed\n",
    "from spyglass.common import Electrode\n",
    "print('good electrodes',(Electrode() & {'nwb_file_name' : nwb_copy_file_name} & {'bad_channel' : 'False'}).fetch('electrode_group_name').shape)\n",
    "print('all electrodes',(Electrode() & {'nwb_file_name' : nwb_copy_file_name} ).fetch('electrode_group_name').shape)\n"
   ]
  },
  {
   "cell_type": "code",
   "execution_count": 7,
   "id": "f120cea2-57f1-45ba-b77e-a0aaa18d8cc9",
   "metadata": {},
   "outputs": [
    {
     "name": "stdout",
     "output_type": "stream",
     "text": [
      "canula 1 ref 32\n",
      "canula 2 ref 68\n"
     ]
    }
   ],
   "source": [
    "# find the reference for the 1st canula and the 2nd canula\n",
    "\n",
    "canula_1_ref = (Electrode() & {'nwb_file_name' : nwb_copy_file_name} &\n",
    "       {'electrode_id' : 0}).fetch('original_reference_electrode')[0]\n",
    "print('canula 1 ref',canula_1_ref)\n",
    "canula_2_ref = (Electrode() & {'nwb_file_name' : nwb_copy_file_name} &\n",
    "       {'electrode_id' : 28*4}).fetch('original_reference_electrode')[0]\n",
    "print('canula 2 ref',canula_2_ref)"
   ]
  },
  {
   "cell_type": "code",
   "execution_count": 8,
   "id": "acb38590-e7fb-4697-960d-798681eb0dd2",
   "metadata": {},
   "outputs": [],
   "source": [
    "# this is a way to make a new sort group that includes several tetrodes that will be used for artifact detection\n",
    "# we want to make one for each canula \n",
    "# tetrodes 1-32 > sort_group_id = 100\n",
    "# tetrodes 33-64 > sort_group_id = 101\n",
    "# use the values above for the sort_reference_electrode_id\n",
    "electrode_list = []\n",
    "electrode_group_list = []\n",
    "for tetrode in canula_1_tet_list:\n",
    "    electrode_list = electrode_list + (Electrode() & {'nwb_file_name' : nwb_copy_file_name}&{'electrode_group_name' : tetrode}&\n",
    "        {'bad_channel' : 'False'}).fetch('electrode_id').tolist()\n",
    "    electrode_group_list = electrode_group_list + (Electrode() & {'nwb_file_name' : nwb_copy_file_name}&\n",
    "                                {'electrode_group_name' : tetrode}&\n",
    "                                {'bad_channel' : 'False'}).fetch('electrode_group_name').astype(int).tolist()    \n",
    "#electrode_list\n",
    "SortGroup.insert1({'nwb_file_name' : nwb_copy_file_name,\n",
    "                    'sort_group_id' : 100,\n",
    "                    'sort_reference_electrode_id' : canula_1_ref}, skip_duplicates=True)\n",
    "\n",
    "for ndx in range(len(electrode_list)):\n",
    "    electrode_group_name = electrode_group_list[ndx]\n",
    "    electrode_id = electrode_list[ndx]            \n",
    "    SortGroup.SortGroupElectrode.insert1({'nwb_file_name' : nwb_copy_file_name,\n",
    "                                          'sort_group_id' : 100,\n",
    "                                          'electrode_group_name' : electrode_group_name,\n",
    "                                          'electrode_id' : electrode_id}, skip_duplicates=True)\n",
    "\n",
    "electrode_list = []\n",
    "electrode_group_list = []\n",
    "for tetrode in canula_2_tet_list:\n",
    "    electrode_list = electrode_list + (Electrode() & {'nwb_file_name' : nwb_copy_file_name}&{'electrode_group_name' : tetrode}&\n",
    "        {'bad_channel' : 'False'}).fetch('electrode_id').tolist()\n",
    "    electrode_group_list = electrode_group_list + (Electrode() & {'nwb_file_name' : nwb_copy_file_name}&\n",
    "                                {'electrode_group_name' : tetrode}&\n",
    "                                {'bad_channel' : 'False'}).fetch('electrode_group_name').astype(int).tolist()    \n",
    "#electrode_list\n",
    "SortGroup.insert1({'nwb_file_name' : nwb_copy_file_name,\n",
    "                       'sort_group_id' : 101,\n",
    "                       'sort_reference_electrode_id' : canula_2_ref}, skip_duplicates=True)\n",
    "\n",
    "for ndx in range(len(electrode_list)):\n",
    "    electrode_group_name = electrode_group_list[ndx]\n",
    "    electrode_id = electrode_list[ndx]            \n",
    "    SortGroup.SortGroupElectrode.insert1({'nwb_file_name' : nwb_copy_file_name,\n",
    "                                          'sort_group_id' : 101,\n",
    "                                          'electrode_group_name' : electrode_group_name,\n",
    "                                          'electrode_id' : electrode_id}, skip_duplicates=True)    \n",
    "    \n",
    "    "
   ]
  },
  {
   "cell_type": "code",
   "execution_count": 9,
   "id": "d0097b31-712b-4990-8263-66f0ddf0f9be",
   "metadata": {},
   "outputs": [
    {
     "data": {
      "text/plain": [
       "34"
      ]
     },
     "execution_count": 9,
     "metadata": {},
     "output_type": "execute_result"
    }
   ],
   "source": [
    "len((SortGroup & {'nwb_file_name' : nwb_copy_file_name}).fetch('sort_group_id'))"
   ]
  },
  {
   "cell_type": "markdown",
   "id": "8932960d-4f75-4f14-b3bb-151add8af856",
   "metadata": {},
   "source": [
    "### 2. sort intervals: ```SortInterval```,```IntervalList```,```SpikeSortingRecordingSelection```"
   ]
  },
  {
   "cell_type": "code",
   "execution_count": 11,
   "id": "d1213f05-55f8-4cb8-b887-f59acdb99185",
   "metadata": {},
   "outputs": [],
   "source": [
    "IntervalList_pd=pd.DataFrame(IntervalList &\n",
    "             {'nwb_file_name': nwb_copy_file_name})\n",
    "\n",
    "# select position timestamps, only those on the track are selected\n",
    "position_interval=[]\n",
    "for i in IntervalList_pd.index:\n",
    "    interval=IntervalList_pd['interval_list_name'][i]\n",
    "    if interval[4:6]=='ms':\n",
    "        position_interval.append(interval)\n",
    "    #if interval[-8:-1]=='Session':\n",
    "    #    position_interval.append('pos '+str(i)+' valid times')\n",
    "\n",
    "# get times\n",
    "intvls=[]\n",
    "for pos_intvl in position_interval:\n",
    "    intvl=(IntervalList & {'nwb_file_name' : nwb_copy_file_name,\n",
    "                            'interval_list_name' : pos_intvl}).fetch1('valid_times')\n",
    "    intvls.append(intvl)\n",
    "    \n",
    "    SortInterval.insert1({'nwb_file_name' : nwb_copy_file_name,\n",
    "                     'sort_interval_name' : pos_intvl,\n",
    "                     'sort_interval' : intvl}, skip_duplicates=True)\n",
    "\n",
    "sort_interval = np.concatenate(intvls)\n",
    "sort_interval_name = 'spikesort_maze'\n",
    "\n",
    "# insert new combined interval into BOTH sortinterval table and intervallist table\n",
    "# try sort interval that has two separate sessions - variable: 'sort interval'\n",
    "SortInterval.insert1({'nwb_file_name' : nwb_copy_file_name,\n",
    "                     'sort_interval_name' : sort_interval_name,\n",
    "                     'sort_interval' : sort_interval}, skip_duplicates=True)\n",
    "IntervalList.insert1({'nwb_file_name' : nwb_copy_file_name,\n",
    "                     'interval_list_name' : sort_interval_name,\n",
    "                     'valid_times' : sort_interval}, skip_duplicates=True)"
   ]
  },
  {
   "cell_type": "code",
   "execution_count": 12,
   "id": "fa1a417f",
   "metadata": {},
   "outputs": [
    {
     "data": {
      "text/html": [
       "\n",
       "    \n",
       "    <style type=\"text/css\">\n",
       "        .Table{\n",
       "            border-collapse:collapse;\n",
       "        }\n",
       "        .Table th{\n",
       "            background: #A0A0A0; color: #ffffff; padding:4px; border:#f0e0e0 1px solid;\n",
       "            font-weight: normal; font-family: monospace; font-size: 100%;\n",
       "        }\n",
       "        .Table td{\n",
       "            padding:4px; border:#f0e0e0 1px solid; font-size:100%;\n",
       "        }\n",
       "        .Table tr:nth-child(odd){\n",
       "            background: #ffffff;\n",
       "        }\n",
       "        .Table tr:nth-child(even){\n",
       "            background: #f3f1ff;\n",
       "        }\n",
       "        /* Tooltip container */\n",
       "        .djtooltip {\n",
       "        }\n",
       "        /* Tooltip text */\n",
       "        .djtooltip .djtooltiptext {\n",
       "            visibility: hidden;\n",
       "            width: 120px;\n",
       "            background-color: black;\n",
       "            color: #fff;\n",
       "            text-align: center;\n",
       "            padding: 5px 0;\n",
       "            border-radius: 6px;\n",
       "            /* Position the tooltip text - see examples below! */\n",
       "            position: absolute;\n",
       "            z-index: 1;\n",
       "        }\n",
       "        #primary {\n",
       "            font-weight: bold;\n",
       "            color: black;\n",
       "        }\n",
       "        #nonprimary {\n",
       "            font-weight: normal;\n",
       "            color: white;\n",
       "        }\n",
       "\n",
       "        /* Show the tooltip text when you mouse over the tooltip container */\n",
       "        .djtooltip:hover .djtooltiptext {\n",
       "            visibility: visible;\n",
       "        }\n",
       "    </style>\n",
       "    \n",
       "    <b></b>\n",
       "        <div style=\"max-height:1000px;max-width:1500px;overflow:auto;\">\n",
       "        <table border=\"1\" class=\"Table\">\n",
       "            <thead> <tr style=\"text-align: right;\"> <th> <div class=\"djtooltip\">\n",
       "                            <p id=\"primary\">nwb_file_name</p>\n",
       "                            <span class=\"djtooltiptext\">name of the NWB file</span>\n",
       "                        </div></th><th><div class=\"djtooltip\">\n",
       "                            <p id=\"primary\">sort_interval_name</p>\n",
       "                            <span class=\"djtooltiptext\">name for this interval</span>\n",
       "                        </div></th><th><div class=\"djtooltip\">\n",
       "                            <p id=\"nonprimary\">sort_interval</p>\n",
       "                            <span class=\"djtooltiptext\">1D numpy array with start and end time for a single interval to be used for spike sorting</span>\n",
       "                        </div> </th> </tr> </thead>\n",
       "            <tbody> <tr> <td>isaac20230519_.nwb</td>\n",
       "<td>01_4ms100hz</td>\n",
       "<td>=BLOB=</td></tr><tr><td>isaac20230519_.nwb</td>\n",
       "<td>02_1ms100hz</td>\n",
       "<td>=BLOB=</td></tr><tr><td>isaac20230519_.nwb</td>\n",
       "<td>03_1ms200hz</td>\n",
       "<td>=BLOB=</td></tr><tr><td>isaac20230519_.nwb</td>\n",
       "<td>spikesort_maze</td>\n",
       "<td>=BLOB=</td> </tr> </tbody>\n",
       "        </table>\n",
       "        \n",
       "        <p>Total: 4</p></div>\n",
       "        "
      ],
      "text/plain": [
       "*nwb_file_name *sort_interval sort_inter\n",
       "+------------+ +------------+ +--------+\n",
       "isaac20230519_ 01_4ms100hz    =BLOB=    \n",
       "isaac20230519_ 02_1ms100hz    =BLOB=    \n",
       "isaac20230519_ 03_1ms200hz    =BLOB=    \n",
       "isaac20230519_ spikesort_maze =BLOB=    \n",
       " (Total: 4)"
      ]
     },
     "execution_count": 12,
     "metadata": {},
     "output_type": "execute_result"
    }
   ],
   "source": [
    "SortInterval & {'nwb_file_name' : nwb_copy_file_name}"
   ]
  },
  {
   "cell_type": "code",
   "execution_count": 13,
   "id": "8a0ee8f8",
   "metadata": {},
   "outputs": [],
   "source": [
    "#np.concatenate([all_tet_list,[100,101]])"
   ]
  },
  {
   "cell_type": "code",
   "execution_count": null,
   "id": "53eaca63-91b1-4d84-9719-f691e4a9b86a",
   "metadata": {},
   "outputs": [],
   "source": []
  },
  {
   "cell_type": "code",
   "execution_count": 14,
   "id": "ad79f95a",
   "metadata": {},
   "outputs": [],
   "source": [
    "sort_interval_name='01_4ms100hz'\n",
    "def func(tetrode):\n",
    "    print('create recording for tet',str(tetrode))  \n",
    "    key = dict()\n",
    "    key['nwb_file_name'] = nwb_copy_file_name\n",
    "    key['sort_group_id'] = tetrode\n",
    "    key['sort_interval_name'] = sort_interval_name\n",
    "    key['preproc_params_name'] = 'franklab_tetrode_hippocampus'\n",
    "    key['interval_list_name'] = sort_interval_name\n",
    "    key['team_name'] = 'Xulu Sun'\n",
    "\n",
    "    ssr_key1 = key\n",
    "\n",
    "    SpikeSortingRecordingSelection.insert1(ssr_key1, skip_duplicates=True)\n",
    "    SpikeSortingRecording.populate([(SpikeSortingRecordingSelection & ssr_key1).proj()])"
   ]
  },
  {
   "cell_type": "code",
   "execution_count": 15,
   "id": "9fb7642f-aa7a-432a-a882-faaeec25d807",
   "metadata": {},
   "outputs": [
    {
     "data": {
      "text/plain": [
       "array([10, 19, 21, 22, 23, 24])"
      ]
     },
     "execution_count": 15,
     "metadata": {},
     "output_type": "execute_result"
    }
   ],
   "source": [
    "all_tet_list"
   ]
  },
  {
   "cell_type": "code",
   "execution_count": 57,
   "id": "a6437673-ade5-4c7f-8379-ed351fb58312",
   "metadata": {},
   "outputs": [
    {
     "data": {
      "text/html": [
       "\n",
       "    \n",
       "    <style type=\"text/css\">\n",
       "        .Table{\n",
       "            border-collapse:collapse;\n",
       "        }\n",
       "        .Table th{\n",
       "            background: #A0A0A0; color: #ffffff; padding:4px; border:#f0e0e0 1px solid;\n",
       "            font-weight: normal; font-family: monospace; font-size: 100%;\n",
       "        }\n",
       "        .Table td{\n",
       "            padding:4px; border:#f0e0e0 1px solid; font-size:100%;\n",
       "        }\n",
       "        .Table tr:nth-child(odd){\n",
       "            background: #ffffff;\n",
       "        }\n",
       "        .Table tr:nth-child(even){\n",
       "            background: #f3f1ff;\n",
       "        }\n",
       "        /* Tooltip container */\n",
       "        .djtooltip {\n",
       "        }\n",
       "        /* Tooltip text */\n",
       "        .djtooltip .djtooltiptext {\n",
       "            visibility: hidden;\n",
       "            width: 120px;\n",
       "            background-color: black;\n",
       "            color: #fff;\n",
       "            text-align: center;\n",
       "            padding: 5px 0;\n",
       "            border-radius: 6px;\n",
       "            /* Position the tooltip text - see examples below! */\n",
       "            position: absolute;\n",
       "            z-index: 1;\n",
       "        }\n",
       "        #primary {\n",
       "            font-weight: bold;\n",
       "            color: black;\n",
       "        }\n",
       "        #nonprimary {\n",
       "            font-weight: normal;\n",
       "            color: white;\n",
       "        }\n",
       "\n",
       "        /* Show the tooltip text when you mouse over the tooltip container */\n",
       "        .djtooltip:hover .djtooltiptext {\n",
       "            visibility: visible;\n",
       "        }\n",
       "    </style>\n",
       "    \n",
       "    <b>Defines recordings to be sorted</b>\n",
       "        <div style=\"max-height:1000px;max-width:1500px;overflow:auto;\">\n",
       "        <table border=\"1\" class=\"Table\">\n",
       "            <thead> <tr style=\"text-align: right;\"> <th> <div class=\"djtooltip\">\n",
       "                            <p id=\"primary\">nwb_file_name</p>\n",
       "                            <span class=\"djtooltiptext\">name of the NWB file</span>\n",
       "                        </div></th><th><div class=\"djtooltip\">\n",
       "                            <p id=\"primary\">sort_group_id</p>\n",
       "                            <span class=\"djtooltiptext\">identifier for a group of electrodes</span>\n",
       "                        </div></th><th><div class=\"djtooltip\">\n",
       "                            <p id=\"primary\">sort_interval_name</p>\n",
       "                            <span class=\"djtooltiptext\">name for this interval</span>\n",
       "                        </div></th><th><div class=\"djtooltip\">\n",
       "                            <p id=\"primary\">preproc_params_name</p>\n",
       "                            <span class=\"djtooltiptext\"></span>\n",
       "                        </div></th><th><div class=\"djtooltip\">\n",
       "                            <p id=\"primary\">team_name</p>\n",
       "                            <span class=\"djtooltiptext\"></span>\n",
       "                        </div></th><th><div class=\"djtooltip\">\n",
       "                            <p id=\"nonprimary\">interval_list_name</p>\n",
       "                            <span class=\"djtooltiptext\">descriptive name of this interval list</span>\n",
       "                        </div> </th> </tr> </thead>\n",
       "            <tbody> <tr> <td>isaac20230601_.nwb</td>\n",
       "<td>10</td>\n",
       "<td>01_200Hz1ms33pulses</td>\n",
       "<td>franklab_tetrode_hippocampus</td>\n",
       "<td>Xulu Sun</td>\n",
       "<td>01_200Hz1ms33pulses</td></tr><tr><td>isaac20230601_.nwb</td>\n",
       "<td>10</td>\n",
       "<td>02_150Hz1ms29pulses</td>\n",
       "<td>franklab_tetrode_hippocampus</td>\n",
       "<td>Xulu Sun</td>\n",
       "<td>02_150Hz1ms29pulses</td></tr><tr><td>isaac20230601_.nwb</td>\n",
       "<td>10</td>\n",
       "<td>03_200Hz1ms33pulsesb</td>\n",
       "<td>franklab_tetrode_hippocampus</td>\n",
       "<td>Xulu Sun</td>\n",
       "<td>03_200Hz1ms33pulsesb</td></tr><tr><td>isaac20230601_.nwb</td>\n",
       "<td>10</td>\n",
       "<td>04_150Hz1ms30pulses</td>\n",
       "<td>franklab_tetrode_hippocampus</td>\n",
       "<td>Xulu Sun</td>\n",
       "<td>04_150Hz1ms30pulses</td></tr><tr><td>isaac20230601_.nwb</td>\n",
       "<td>10</td>\n",
       "<td>05_200Hz1ms33pulsesc</td>\n",
       "<td>franklab_tetrode_hippocampus</td>\n",
       "<td>Xulu Sun</td>\n",
       "<td>05_200Hz1ms33pulsesc</td></tr><tr><td>isaac20230601_.nwb</td>\n",
       "<td>19</td>\n",
       "<td>01_200Hz1ms33pulses</td>\n",
       "<td>franklab_tetrode_hippocampus</td>\n",
       "<td>Xulu Sun</td>\n",
       "<td>01_200Hz1ms33pulses</td></tr><tr><td>isaac20230601_.nwb</td>\n",
       "<td>19</td>\n",
       "<td>02_150Hz1ms29pulses</td>\n",
       "<td>franklab_tetrode_hippocampus</td>\n",
       "<td>Xulu Sun</td>\n",
       "<td>02_150Hz1ms29pulses</td></tr><tr><td>isaac20230601_.nwb</td>\n",
       "<td>19</td>\n",
       "<td>03_200Hz1ms33pulsesb</td>\n",
       "<td>franklab_tetrode_hippocampus</td>\n",
       "<td>Xulu Sun</td>\n",
       "<td>03_200Hz1ms33pulsesb</td></tr><tr><td>isaac20230601_.nwb</td>\n",
       "<td>19</td>\n",
       "<td>04_150Hz1ms30pulses</td>\n",
       "<td>franklab_tetrode_hippocampus</td>\n",
       "<td>Xulu Sun</td>\n",
       "<td>04_150Hz1ms30pulses</td></tr><tr><td>isaac20230601_.nwb</td>\n",
       "<td>19</td>\n",
       "<td>05_200Hz1ms33pulsesc</td>\n",
       "<td>franklab_tetrode_hippocampus</td>\n",
       "<td>Xulu Sun</td>\n",
       "<td>05_200Hz1ms33pulsesc</td></tr><tr><td>isaac20230601_.nwb</td>\n",
       "<td>21</td>\n",
       "<td>01_200Hz1ms33pulses</td>\n",
       "<td>franklab_tetrode_hippocampus</td>\n",
       "<td>Xulu Sun</td>\n",
       "<td>01_200Hz1ms33pulses</td></tr><tr><td>isaac20230601_.nwb</td>\n",
       "<td>21</td>\n",
       "<td>02_150Hz1ms29pulses</td>\n",
       "<td>franklab_tetrode_hippocampus</td>\n",
       "<td>Xulu Sun</td>\n",
       "<td>02_150Hz1ms29pulses</td> </tr> </tbody>\n",
       "        </table>\n",
       "        <p>...</p>\n",
       "        <p>Total: 30</p></div>\n",
       "        "
      ],
      "text/plain": [
       "*nwb_file_name *sort_group_id *sort_interval *preproc_param *team_name    interval_list_\n",
       "+------------+ +------------+ +------------+ +------------+ +-----------+ +------------+\n",
       "isaac20230601_ 10             01_200Hz1ms33p franklab_tetro Xulu Sun      01_200Hz1ms33p\n",
       "isaac20230601_ 10             02_150Hz1ms29p franklab_tetro Xulu Sun      02_150Hz1ms29p\n",
       "isaac20230601_ 10             03_200Hz1ms33p franklab_tetro Xulu Sun      03_200Hz1ms33p\n",
       "isaac20230601_ 10             04_150Hz1ms30p franklab_tetro Xulu Sun      04_150Hz1ms30p\n",
       "isaac20230601_ 10             05_200Hz1ms33p franklab_tetro Xulu Sun      05_200Hz1ms33p\n",
       "isaac20230601_ 19             01_200Hz1ms33p franklab_tetro Xulu Sun      01_200Hz1ms33p\n",
       "isaac20230601_ 19             02_150Hz1ms29p franklab_tetro Xulu Sun      02_150Hz1ms29p\n",
       "isaac20230601_ 19             03_200Hz1ms33p franklab_tetro Xulu Sun      03_200Hz1ms33p\n",
       "isaac20230601_ 19             04_150Hz1ms30p franklab_tetro Xulu Sun      04_150Hz1ms30p\n",
       "isaac20230601_ 19             05_200Hz1ms33p franklab_tetro Xulu Sun      05_200Hz1ms33p\n",
       "isaac20230601_ 21             01_200Hz1ms33p franklab_tetro Xulu Sun      01_200Hz1ms33p\n",
       "isaac20230601_ 21             02_150Hz1ms29p franklab_tetro Xulu Sun      02_150Hz1ms29p\n",
       "   ...\n",
       " (Total: 30)"
      ]
     },
     "execution_count": 57,
     "metadata": {},
     "output_type": "execute_result"
    }
   ],
   "source": [
    "SpikeSortingRecordingSelection & {'nwb_file_name':nwb_copy_file_name}"
   ]
  },
  {
   "cell_type": "code",
   "execution_count": 17,
   "id": "7427aafe-8c2b-47bc-9050-3af5dd2d4514",
   "metadata": {},
   "outputs": [],
   "source": [
    "sort_interval_name='01_4ms100hz'"
   ]
  },
  {
   "cell_type": "code",
   "execution_count": 18,
   "id": "080b830b-a247-451a-a733-44d7b639cac8",
   "metadata": {
    "scrolled": true,
    "tags": []
   },
   "outputs": [
    {
     "name": "stdout",
     "output_type": "stream",
     "text": [
      "create recording for tet 10\n"
     ]
    },
    {
     "name": "stderr",
     "output_type": "stream",
     "text": [
      "/home/shijiegu/anaconda3/envs/spyglass/lib/python3.8/site-packages/h5py/_hl/dataset.py:541: DeprecationWarning: Passing None into shape arguments as an alias for () is deprecated.\n",
      "  arr = numpy.ndarray(selection.mshape, dtype=new_dtype)\n",
      "/home/shijiegu/anaconda3/envs/spyglass/lib/python3.8/site-packages/h5py/_hl/dataset.py:541: DeprecationWarning: Passing None into shape arguments as an alias for () is deprecated.\n",
      "  arr = numpy.ndarray(selection.mshape, dtype=new_dtype)\n",
      "/home/shijiegu/anaconda3/envs/spyglass/lib/python3.8/site-packages/h5py/_hl/dataset.py:541: DeprecationWarning: Passing None into shape arguments as an alias for () is deprecated.\n",
      "  arr = numpy.ndarray(selection.mshape, dtype=new_dtype)\n",
      "/home/shijiegu/anaconda3/envs/spyglass/lib/python3.8/site-packages/h5py/_hl/dataset.py:541: DeprecationWarning: Passing None into shape arguments as an alias for () is deprecated.\n",
      "  arr = numpy.ndarray(selection.mshape, dtype=new_dtype)\n",
      "/home/shijiegu/anaconda3/envs/spyglass/lib/python3.8/site-packages/h5py/_hl/dataset.py:541: DeprecationWarning: Passing None into shape arguments as an alias for () is deprecated.\n",
      "  arr = numpy.ndarray(selection.mshape, dtype=new_dtype)\n",
      "/home/shijiegu/anaconda3/envs/spyglass/lib/python3.8/site-packages/h5py/_hl/dataset.py:541: DeprecationWarning: Passing None into shape arguments as an alias for () is deprecated.\n",
      "  arr = numpy.ndarray(selection.mshape, dtype=new_dtype)\n",
      "/home/shijiegu/anaconda3/envs/spyglass/lib/python3.8/site-packages/h5py/_hl/dataset.py:541: DeprecationWarning: Passing None into shape arguments as an alias for () is deprecated.\n",
      "  arr = numpy.ndarray(selection.mshape, dtype=new_dtype)\n",
      "/home/shijiegu/anaconda3/envs/spyglass/lib/python3.8/site-packages/h5py/_hl/dataset.py:541: DeprecationWarning: Passing None into shape arguments as an alias for () is deprecated.\n",
      "  arr = numpy.ndarray(selection.mshape, dtype=new_dtype)\n",
      "/home/shijiegu/anaconda3/envs/spyglass/lib/python3.8/site-packages/h5py/_hl/dataset.py:541: DeprecationWarning: Passing None into shape arguments as an alias for () is deprecated.\n",
      "  arr = numpy.ndarray(selection.mshape, dtype=new_dtype)\n",
      "/home/shijiegu/anaconda3/envs/spyglass/lib/python3.8/site-packages/h5py/_hl/dataset.py:541: DeprecationWarning: Passing None into shape arguments as an alias for () is deprecated.\n",
      "  arr = numpy.ndarray(selection.mshape, dtype=new_dtype)\n",
      "/home/shijiegu/anaconda3/envs/spyglass/lib/python3.8/site-packages/h5py/_hl/dataset.py:541: DeprecationWarning: Passing None into shape arguments as an alias for () is deprecated.\n",
      "  arr = numpy.ndarray(selection.mshape, dtype=new_dtype)\n",
      "/home/shijiegu/anaconda3/envs/spyglass/lib/python3.8/site-packages/h5py/_hl/dataset.py:541: DeprecationWarning: Passing None into shape arguments as an alias for () is deprecated.\n",
      "  arr = numpy.ndarray(selection.mshape, dtype=new_dtype)\n",
      "/home/shijiegu/anaconda3/envs/spyglass/lib/python3.8/site-packages/h5py/_hl/dataset.py:541: DeprecationWarning: Passing None into shape arguments as an alias for () is deprecated.\n",
      "  arr = numpy.ndarray(selection.mshape, dtype=new_dtype)\n",
      "/home/shijiegu/anaconda3/envs/spyglass/lib/python3.8/site-packages/h5py/_hl/dataset.py:541: DeprecationWarning: Passing None into shape arguments as an alias for () is deprecated.\n",
      "  arr = numpy.ndarray(selection.mshape, dtype=new_dtype)\n",
      "/home/shijiegu/anaconda3/envs/spyglass/lib/python3.8/site-packages/h5py/_hl/dataset.py:541: DeprecationWarning: Passing None into shape arguments as an alias for () is deprecated.\n",
      "  arr = numpy.ndarray(selection.mshape, dtype=new_dtype)\n",
      "/home/shijiegu/anaconda3/envs/spyglass/lib/python3.8/site-packages/h5py/_hl/dataset.py:541: DeprecationWarning: Passing None into shape arguments as an alias for () is deprecated.\n",
      "  arr = numpy.ndarray(selection.mshape, dtype=new_dtype)\n",
      "/home/shijiegu/anaconda3/envs/spyglass/lib/python3.8/site-packages/h5py/_hl/dataset.py:541: DeprecationWarning: Passing None into shape arguments as an alias for () is deprecated.\n",
      "  arr = numpy.ndarray(selection.mshape, dtype=new_dtype)\n",
      "/home/shijiegu/anaconda3/envs/spyglass/lib/python3.8/site-packages/h5py/_hl/dataset.py:541: DeprecationWarning: Passing None into shape arguments as an alias for () is deprecated.\n",
      "  arr = numpy.ndarray(selection.mshape, dtype=new_dtype)\n",
      "/home/shijiegu/anaconda3/envs/spyglass/lib/python3.8/site-packages/h5py/_hl/dataset.py:541: DeprecationWarning: Passing None into shape arguments as an alias for () is deprecated.\n",
      "  arr = numpy.ndarray(selection.mshape, dtype=new_dtype)\n",
      "/home/shijiegu/anaconda3/envs/spyglass/lib/python3.8/site-packages/h5py/_hl/dataset.py:541: DeprecationWarning: Passing None into shape arguments as an alias for () is deprecated.\n",
      "  arr = numpy.ndarray(selection.mshape, dtype=new_dtype)\n",
      "/home/shijiegu/anaconda3/envs/spyglass/lib/python3.8/site-packages/h5py/_hl/dataset.py:541: DeprecationWarning: Passing None into shape arguments as an alias for () is deprecated.\n",
      "  arr = numpy.ndarray(selection.mshape, dtype=new_dtype)\n",
      "/home/shijiegu/anaconda3/envs/spyglass/lib/python3.8/site-packages/h5py/_hl/dataset.py:541: DeprecationWarning: Passing None into shape arguments as an alias for () is deprecated.\n",
      "  arr = numpy.ndarray(selection.mshape, dtype=new_dtype)\n",
      "/home/shijiegu/anaconda3/envs/spyglass/lib/python3.8/site-packages/h5py/_hl/dataset.py:541: DeprecationWarning: Passing None into shape arguments as an alias for () is deprecated.\n",
      "  arr = numpy.ndarray(selection.mshape, dtype=new_dtype)\n",
      "/home/shijiegu/anaconda3/envs/spyglass/lib/python3.8/site-packages/h5py/_hl/dataset.py:541: DeprecationWarning: Passing None into shape arguments as an alias for () is deprecated.\n",
      "  arr = numpy.ndarray(selection.mshape, dtype=new_dtype)\n",
      "/home/shijiegu/anaconda3/envs/spyglass/lib/python3.8/site-packages/pynwb/behavior.py:46: UserWarning: SpatialSeries 'series_0' has data shape (9234, 6) which is not compliant with NWB 2.5 and greater. The second dimension should have length <= 3 to represent at most x, y, z.\n",
      "  warnings.warn(\"SpatialSeries '%s' has data shape %s which is not compliant with NWB 2.5 and greater. \"\n",
      "/home/shijiegu/anaconda3/envs/spyglass/lib/python3.8/site-packages/pynwb/behavior.py:46: UserWarning: SpatialSeries 'series_1' has data shape (41512, 6) which is not compliant with NWB 2.5 and greater. The second dimension should have length <= 3 to represent at most x, y, z.\n",
      "  warnings.warn(\"SpatialSeries '%s' has data shape %s which is not compliant with NWB 2.5 and greater. \"\n",
      "/home/shijiegu/anaconda3/envs/spyglass/lib/python3.8/site-packages/pynwb/behavior.py:46: UserWarning: SpatialSeries 'series_2' has data shape (42690, 6) which is not compliant with NWB 2.5 and greater. The second dimension should have length <= 3 to represent at most x, y, z.\n",
      "  warnings.warn(\"SpatialSeries '%s' has data shape %s which is not compliant with NWB 2.5 and greater. \"\n"
     ]
    },
    {
     "name": "stdout",
     "output_type": "stream",
     "text": [
      "write_binary_recording with n_jobs = 1 and chunk_size = 299593\n"
     ]
    },
    {
     "data": {
      "application/vnd.jupyter.widget-view+json": {
       "model_id": "af74cdae866c4ff19a4a1af12b76b0e5",
       "version_major": 2,
       "version_minor": 0
      },
      "text/plain": [
       "write_binary_recording:   0%|          | 0/32 [00:00<?, ?it/s]"
      ]
     },
     "metadata": {},
     "output_type": "display_data"
    }
   ],
   "source": [
    "tetrode=10\n",
    "print('create recording for tet',str(tetrode))  \n",
    "key = dict()\n",
    "key['nwb_file_name'] = nwb_copy_file_name\n",
    "key['sort_group_id'] = tetrode\n",
    "key['sort_interval_name'] = sort_interval_name\n",
    "key['preproc_params_name'] = 'franklab_tetrode_hippocampus'\n",
    "key['interval_list_name'] = sort_interval_name\n",
    "key['team_name'] = 'Xulu Sun'\n",
    "\n",
    "ssr_key1 = key\n",
    "\n",
    "SpikeSortingRecordingSelection.insert1(ssr_key1, skip_duplicates=True)\n",
    "SpikeSortingRecording.populate([(SpikeSortingRecordingSelection & ssr_key1).proj()])"
   ]
  },
  {
   "cell_type": "code",
   "execution_count": 20,
   "id": "2cf11c58-8656-40d0-8462-fc170efd683c",
   "metadata": {},
   "outputs": [
    {
     "data": {
      "text/plain": [
       "array([10, 19, 21, 22, 23, 24])"
      ]
     },
     "execution_count": 20,
     "metadata": {},
     "output_type": "execute_result"
    }
   ],
   "source": [
    "all_tet_list"
   ]
  },
  {
   "cell_type": "code",
   "execution_count": 27,
   "id": "418b4066-d887-4279-ad66-14bc32c6d41d",
   "metadata": {
    "scrolled": true,
    "tags": []
   },
   "outputs": [
    {
     "name": "stdout",
     "output_type": "stream",
     "text": [
      "create recording for tet 10\n"
     ]
    },
    {
     "name": "stderr",
     "output_type": "stream",
     "text": [
      "/home/shijiegu/anaconda3/envs/spyglass/lib/python3.8/site-packages/h5py/_hl/dataset.py:541: DeprecationWarning: Passing None into shape arguments as an alias for () is deprecated.\n",
      "  arr = numpy.ndarray(selection.mshape, dtype=new_dtype)\n",
      "/home/shijiegu/anaconda3/envs/spyglass/lib/python3.8/site-packages/h5py/_hl/dataset.py:541: DeprecationWarning: Passing None into shape arguments as an alias for () is deprecated.\n",
      "  arr = numpy.ndarray(selection.mshape, dtype=new_dtype)\n",
      "/home/shijiegu/anaconda3/envs/spyglass/lib/python3.8/site-packages/h5py/_hl/dataset.py:541: DeprecationWarning: Passing None into shape arguments as an alias for () is deprecated.\n",
      "  arr = numpy.ndarray(selection.mshape, dtype=new_dtype)\n",
      "/home/shijiegu/anaconda3/envs/spyglass/lib/python3.8/site-packages/h5py/_hl/dataset.py:541: DeprecationWarning: Passing None into shape arguments as an alias for () is deprecated.\n",
      "  arr = numpy.ndarray(selection.mshape, dtype=new_dtype)\n",
      "/home/shijiegu/anaconda3/envs/spyglass/lib/python3.8/site-packages/h5py/_hl/dataset.py:541: DeprecationWarning: Passing None into shape arguments as an alias for () is deprecated.\n",
      "  arr = numpy.ndarray(selection.mshape, dtype=new_dtype)\n",
      "/home/shijiegu/anaconda3/envs/spyglass/lib/python3.8/site-packages/h5py/_hl/dataset.py:541: DeprecationWarning: Passing None into shape arguments as an alias for () is deprecated.\n",
      "  arr = numpy.ndarray(selection.mshape, dtype=new_dtype)\n",
      "/home/shijiegu/anaconda3/envs/spyglass/lib/python3.8/site-packages/h5py/_hl/dataset.py:541: DeprecationWarning: Passing None into shape arguments as an alias for () is deprecated.\n",
      "  arr = numpy.ndarray(selection.mshape, dtype=new_dtype)\n",
      "/home/shijiegu/anaconda3/envs/spyglass/lib/python3.8/site-packages/h5py/_hl/dataset.py:541: DeprecationWarning: Passing None into shape arguments as an alias for () is deprecated.\n",
      "  arr = numpy.ndarray(selection.mshape, dtype=new_dtype)\n",
      "/home/shijiegu/anaconda3/envs/spyglass/lib/python3.8/site-packages/h5py/_hl/dataset.py:541: DeprecationWarning: Passing None into shape arguments as an alias for () is deprecated.\n",
      "  arr = numpy.ndarray(selection.mshape, dtype=new_dtype)\n",
      "/home/shijiegu/anaconda3/envs/spyglass/lib/python3.8/site-packages/h5py/_hl/dataset.py:541: DeprecationWarning: Passing None into shape arguments as an alias for () is deprecated.\n",
      "  arr = numpy.ndarray(selection.mshape, dtype=new_dtype)\n",
      "/home/shijiegu/anaconda3/envs/spyglass/lib/python3.8/site-packages/h5py/_hl/dataset.py:541: DeprecationWarning: Passing None into shape arguments as an alias for () is deprecated.\n",
      "  arr = numpy.ndarray(selection.mshape, dtype=new_dtype)\n",
      "/home/shijiegu/anaconda3/envs/spyglass/lib/python3.8/site-packages/h5py/_hl/dataset.py:541: DeprecationWarning: Passing None into shape arguments as an alias for () is deprecated.\n",
      "  arr = numpy.ndarray(selection.mshape, dtype=new_dtype)\n",
      "/home/shijiegu/anaconda3/envs/spyglass/lib/python3.8/site-packages/h5py/_hl/dataset.py:541: DeprecationWarning: Passing None into shape arguments as an alias for () is deprecated.\n",
      "  arr = numpy.ndarray(selection.mshape, dtype=new_dtype)\n",
      "/home/shijiegu/anaconda3/envs/spyglass/lib/python3.8/site-packages/h5py/_hl/dataset.py:541: DeprecationWarning: Passing None into shape arguments as an alias for () is deprecated.\n",
      "  arr = numpy.ndarray(selection.mshape, dtype=new_dtype)\n",
      "/home/shijiegu/anaconda3/envs/spyglass/lib/python3.8/site-packages/h5py/_hl/dataset.py:541: DeprecationWarning: Passing None into shape arguments as an alias for () is deprecated.\n",
      "  arr = numpy.ndarray(selection.mshape, dtype=new_dtype)\n",
      "/home/shijiegu/anaconda3/envs/spyglass/lib/python3.8/site-packages/h5py/_hl/dataset.py:541: DeprecationWarning: Passing None into shape arguments as an alias for () is deprecated.\n",
      "  arr = numpy.ndarray(selection.mshape, dtype=new_dtype)\n",
      "/home/shijiegu/anaconda3/envs/spyglass/lib/python3.8/site-packages/h5py/_hl/dataset.py:541: DeprecationWarning: Passing None into shape arguments as an alias for () is deprecated.\n",
      "  arr = numpy.ndarray(selection.mshape, dtype=new_dtype)\n",
      "/home/shijiegu/anaconda3/envs/spyglass/lib/python3.8/site-packages/h5py/_hl/dataset.py:541: DeprecationWarning: Passing None into shape arguments as an alias for () is deprecated.\n",
      "  arr = numpy.ndarray(selection.mshape, dtype=new_dtype)\n",
      "/home/shijiegu/anaconda3/envs/spyglass/lib/python3.8/site-packages/h5py/_hl/dataset.py:541: DeprecationWarning: Passing None into shape arguments as an alias for () is deprecated.\n",
      "  arr = numpy.ndarray(selection.mshape, dtype=new_dtype)\n",
      "/home/shijiegu/anaconda3/envs/spyglass/lib/python3.8/site-packages/h5py/_hl/dataset.py:541: DeprecationWarning: Passing None into shape arguments as an alias for () is deprecated.\n",
      "  arr = numpy.ndarray(selection.mshape, dtype=new_dtype)\n",
      "/home/shijiegu/anaconda3/envs/spyglass/lib/python3.8/site-packages/h5py/_hl/dataset.py:541: DeprecationWarning: Passing None into shape arguments as an alias for () is deprecated.\n",
      "  arr = numpy.ndarray(selection.mshape, dtype=new_dtype)\n",
      "/home/shijiegu/anaconda3/envs/spyglass/lib/python3.8/site-packages/h5py/_hl/dataset.py:541: DeprecationWarning: Passing None into shape arguments as an alias for () is deprecated.\n",
      "  arr = numpy.ndarray(selection.mshape, dtype=new_dtype)\n",
      "/home/shijiegu/anaconda3/envs/spyglass/lib/python3.8/site-packages/h5py/_hl/dataset.py:541: DeprecationWarning: Passing None into shape arguments as an alias for () is deprecated.\n",
      "  arr = numpy.ndarray(selection.mshape, dtype=new_dtype)\n",
      "/home/shijiegu/anaconda3/envs/spyglass/lib/python3.8/site-packages/h5py/_hl/dataset.py:541: DeprecationWarning: Passing None into shape arguments as an alias for () is deprecated.\n",
      "  arr = numpy.ndarray(selection.mshape, dtype=new_dtype)\n",
      "/home/shijiegu/anaconda3/envs/spyglass/lib/python3.8/site-packages/pynwb/behavior.py:46: UserWarning: SpatialSeries 'series_0' has data shape (9234, 6) which is not compliant with NWB 2.5 and greater. The second dimension should have length <= 3 to represent at most x, y, z.\n",
      "  warnings.warn(\"SpatialSeries '%s' has data shape %s which is not compliant with NWB 2.5 and greater. \"\n",
      "/home/shijiegu/anaconda3/envs/spyglass/lib/python3.8/site-packages/pynwb/behavior.py:46: UserWarning: SpatialSeries 'series_1' has data shape (41512, 6) which is not compliant with NWB 2.5 and greater. The second dimension should have length <= 3 to represent at most x, y, z.\n",
      "  warnings.warn(\"SpatialSeries '%s' has data shape %s which is not compliant with NWB 2.5 and greater. \"\n",
      "/home/shijiegu/anaconda3/envs/spyglass/lib/python3.8/site-packages/pynwb/behavior.py:46: UserWarning: SpatialSeries 'series_2' has data shape (42690, 6) which is not compliant with NWB 2.5 and greater. The second dimension should have length <= 3 to represent at most x, y, z.\n",
      "  warnings.warn(\"SpatialSeries '%s' has data shape %s which is not compliant with NWB 2.5 and greater. \"\n"
     ]
    },
    {
     "name": "stdout",
     "output_type": "stream",
     "text": [
      "write_binary_recording with n_jobs = 1 and chunk_size = 299593\n"
     ]
    },
    {
     "data": {
      "application/vnd.jupyter.widget-view+json": {
       "model_id": "d9bd17c71f674e988bfad5d63391c4fe",
       "version_major": 2,
       "version_minor": 0
      },
      "text/plain": [
       "write_binary_recording:   0%|          | 0/140 [00:00<?, ?it/s]"
      ]
     },
     "metadata": {},
     "output_type": "display_data"
    },
    {
     "name": "stdout",
     "output_type": "stream",
     "text": [
      "create recording for tet 19\n"
     ]
    },
    {
     "name": "stderr",
     "output_type": "stream",
     "text": [
      "/home/shijiegu/anaconda3/envs/spyglass/lib/python3.8/site-packages/h5py/_hl/dataset.py:541: DeprecationWarning: Passing None into shape arguments as an alias for () is deprecated.\n",
      "  arr = numpy.ndarray(selection.mshape, dtype=new_dtype)\n",
      "/home/shijiegu/anaconda3/envs/spyglass/lib/python3.8/site-packages/h5py/_hl/dataset.py:541: DeprecationWarning: Passing None into shape arguments as an alias for () is deprecated.\n",
      "  arr = numpy.ndarray(selection.mshape, dtype=new_dtype)\n",
      "/home/shijiegu/anaconda3/envs/spyglass/lib/python3.8/site-packages/h5py/_hl/dataset.py:541: DeprecationWarning: Passing None into shape arguments as an alias for () is deprecated.\n",
      "  arr = numpy.ndarray(selection.mshape, dtype=new_dtype)\n",
      "/home/shijiegu/anaconda3/envs/spyglass/lib/python3.8/site-packages/h5py/_hl/dataset.py:541: DeprecationWarning: Passing None into shape arguments as an alias for () is deprecated.\n",
      "  arr = numpy.ndarray(selection.mshape, dtype=new_dtype)\n",
      "/home/shijiegu/anaconda3/envs/spyglass/lib/python3.8/site-packages/h5py/_hl/dataset.py:541: DeprecationWarning: Passing None into shape arguments as an alias for () is deprecated.\n",
      "  arr = numpy.ndarray(selection.mshape, dtype=new_dtype)\n",
      "/home/shijiegu/anaconda3/envs/spyglass/lib/python3.8/site-packages/h5py/_hl/dataset.py:541: DeprecationWarning: Passing None into shape arguments as an alias for () is deprecated.\n",
      "  arr = numpy.ndarray(selection.mshape, dtype=new_dtype)\n",
      "/home/shijiegu/anaconda3/envs/spyglass/lib/python3.8/site-packages/h5py/_hl/dataset.py:541: DeprecationWarning: Passing None into shape arguments as an alias for () is deprecated.\n",
      "  arr = numpy.ndarray(selection.mshape, dtype=new_dtype)\n",
      "/home/shijiegu/anaconda3/envs/spyglass/lib/python3.8/site-packages/h5py/_hl/dataset.py:541: DeprecationWarning: Passing None into shape arguments as an alias for () is deprecated.\n",
      "  arr = numpy.ndarray(selection.mshape, dtype=new_dtype)\n",
      "/home/shijiegu/anaconda3/envs/spyglass/lib/python3.8/site-packages/h5py/_hl/dataset.py:541: DeprecationWarning: Passing None into shape arguments as an alias for () is deprecated.\n",
      "  arr = numpy.ndarray(selection.mshape, dtype=new_dtype)\n",
      "/home/shijiegu/anaconda3/envs/spyglass/lib/python3.8/site-packages/h5py/_hl/dataset.py:541: DeprecationWarning: Passing None into shape arguments as an alias for () is deprecated.\n",
      "  arr = numpy.ndarray(selection.mshape, dtype=new_dtype)\n",
      "/home/shijiegu/anaconda3/envs/spyglass/lib/python3.8/site-packages/h5py/_hl/dataset.py:541: DeprecationWarning: Passing None into shape arguments as an alias for () is deprecated.\n",
      "  arr = numpy.ndarray(selection.mshape, dtype=new_dtype)\n",
      "/home/shijiegu/anaconda3/envs/spyglass/lib/python3.8/site-packages/h5py/_hl/dataset.py:541: DeprecationWarning: Passing None into shape arguments as an alias for () is deprecated.\n",
      "  arr = numpy.ndarray(selection.mshape, dtype=new_dtype)\n",
      "/home/shijiegu/anaconda3/envs/spyglass/lib/python3.8/site-packages/h5py/_hl/dataset.py:541: DeprecationWarning: Passing None into shape arguments as an alias for () is deprecated.\n",
      "  arr = numpy.ndarray(selection.mshape, dtype=new_dtype)\n",
      "/home/shijiegu/anaconda3/envs/spyglass/lib/python3.8/site-packages/h5py/_hl/dataset.py:541: DeprecationWarning: Passing None into shape arguments as an alias for () is deprecated.\n",
      "  arr = numpy.ndarray(selection.mshape, dtype=new_dtype)\n",
      "/home/shijiegu/anaconda3/envs/spyglass/lib/python3.8/site-packages/h5py/_hl/dataset.py:541: DeprecationWarning: Passing None into shape arguments as an alias for () is deprecated.\n",
      "  arr = numpy.ndarray(selection.mshape, dtype=new_dtype)\n",
      "/home/shijiegu/anaconda3/envs/spyglass/lib/python3.8/site-packages/h5py/_hl/dataset.py:541: DeprecationWarning: Passing None into shape arguments as an alias for () is deprecated.\n",
      "  arr = numpy.ndarray(selection.mshape, dtype=new_dtype)\n",
      "/home/shijiegu/anaconda3/envs/spyglass/lib/python3.8/site-packages/h5py/_hl/dataset.py:541: DeprecationWarning: Passing None into shape arguments as an alias for () is deprecated.\n",
      "  arr = numpy.ndarray(selection.mshape, dtype=new_dtype)\n",
      "/home/shijiegu/anaconda3/envs/spyglass/lib/python3.8/site-packages/h5py/_hl/dataset.py:541: DeprecationWarning: Passing None into shape arguments as an alias for () is deprecated.\n",
      "  arr = numpy.ndarray(selection.mshape, dtype=new_dtype)\n",
      "/home/shijiegu/anaconda3/envs/spyglass/lib/python3.8/site-packages/h5py/_hl/dataset.py:541: DeprecationWarning: Passing None into shape arguments as an alias for () is deprecated.\n",
      "  arr = numpy.ndarray(selection.mshape, dtype=new_dtype)\n",
      "/home/shijiegu/anaconda3/envs/spyglass/lib/python3.8/site-packages/h5py/_hl/dataset.py:541: DeprecationWarning: Passing None into shape arguments as an alias for () is deprecated.\n",
      "  arr = numpy.ndarray(selection.mshape, dtype=new_dtype)\n",
      "/home/shijiegu/anaconda3/envs/spyglass/lib/python3.8/site-packages/h5py/_hl/dataset.py:541: DeprecationWarning: Passing None into shape arguments as an alias for () is deprecated.\n",
      "  arr = numpy.ndarray(selection.mshape, dtype=new_dtype)\n",
      "/home/shijiegu/anaconda3/envs/spyglass/lib/python3.8/site-packages/h5py/_hl/dataset.py:541: DeprecationWarning: Passing None into shape arguments as an alias for () is deprecated.\n",
      "  arr = numpy.ndarray(selection.mshape, dtype=new_dtype)\n",
      "/home/shijiegu/anaconda3/envs/spyglass/lib/python3.8/site-packages/h5py/_hl/dataset.py:541: DeprecationWarning: Passing None into shape arguments as an alias for () is deprecated.\n",
      "  arr = numpy.ndarray(selection.mshape, dtype=new_dtype)\n",
      "/home/shijiegu/anaconda3/envs/spyglass/lib/python3.8/site-packages/h5py/_hl/dataset.py:541: DeprecationWarning: Passing None into shape arguments as an alias for () is deprecated.\n",
      "  arr = numpy.ndarray(selection.mshape, dtype=new_dtype)\n",
      "/home/shijiegu/anaconda3/envs/spyglass/lib/python3.8/site-packages/pynwb/behavior.py:46: UserWarning: SpatialSeries 'series_0' has data shape (9234, 6) which is not compliant with NWB 2.5 and greater. The second dimension should have length <= 3 to represent at most x, y, z.\n",
      "  warnings.warn(\"SpatialSeries '%s' has data shape %s which is not compliant with NWB 2.5 and greater. \"\n",
      "/home/shijiegu/anaconda3/envs/spyglass/lib/python3.8/site-packages/pynwb/behavior.py:46: UserWarning: SpatialSeries 'series_1' has data shape (41512, 6) which is not compliant with NWB 2.5 and greater. The second dimension should have length <= 3 to represent at most x, y, z.\n",
      "  warnings.warn(\"SpatialSeries '%s' has data shape %s which is not compliant with NWB 2.5 and greater. \"\n",
      "/home/shijiegu/anaconda3/envs/spyglass/lib/python3.8/site-packages/pynwb/behavior.py:46: UserWarning: SpatialSeries 'series_2' has data shape (42690, 6) which is not compliant with NWB 2.5 and greater. The second dimension should have length <= 3 to represent at most x, y, z.\n",
      "  warnings.warn(\"SpatialSeries '%s' has data shape %s which is not compliant with NWB 2.5 and greater. \"\n"
     ]
    },
    {
     "name": "stdout",
     "output_type": "stream",
     "text": [
      "write_binary_recording with n_jobs = 1 and chunk_size = 299593\n"
     ]
    },
    {
     "data": {
      "application/vnd.jupyter.widget-view+json": {
       "model_id": "943ca2f2466d4daea4f6c8109294f72d",
       "version_major": 2,
       "version_minor": 0
      },
      "text/plain": [
       "write_binary_recording:   0%|          | 0/140 [00:00<?, ?it/s]"
      ]
     },
     "metadata": {},
     "output_type": "display_data"
    },
    {
     "name": "stdout",
     "output_type": "stream",
     "text": [
      "create recording for tet 21\n"
     ]
    },
    {
     "name": "stderr",
     "output_type": "stream",
     "text": [
      "/home/shijiegu/anaconda3/envs/spyglass/lib/python3.8/site-packages/h5py/_hl/dataset.py:541: DeprecationWarning: Passing None into shape arguments as an alias for () is deprecated.\n",
      "  arr = numpy.ndarray(selection.mshape, dtype=new_dtype)\n",
      "/home/shijiegu/anaconda3/envs/spyglass/lib/python3.8/site-packages/h5py/_hl/dataset.py:541: DeprecationWarning: Passing None into shape arguments as an alias for () is deprecated.\n",
      "  arr = numpy.ndarray(selection.mshape, dtype=new_dtype)\n",
      "/home/shijiegu/anaconda3/envs/spyglass/lib/python3.8/site-packages/h5py/_hl/dataset.py:541: DeprecationWarning: Passing None into shape arguments as an alias for () is deprecated.\n",
      "  arr = numpy.ndarray(selection.mshape, dtype=new_dtype)\n",
      "/home/shijiegu/anaconda3/envs/spyglass/lib/python3.8/site-packages/h5py/_hl/dataset.py:541: DeprecationWarning: Passing None into shape arguments as an alias for () is deprecated.\n",
      "  arr = numpy.ndarray(selection.mshape, dtype=new_dtype)\n",
      "/home/shijiegu/anaconda3/envs/spyglass/lib/python3.8/site-packages/h5py/_hl/dataset.py:541: DeprecationWarning: Passing None into shape arguments as an alias for () is deprecated.\n",
      "  arr = numpy.ndarray(selection.mshape, dtype=new_dtype)\n",
      "/home/shijiegu/anaconda3/envs/spyglass/lib/python3.8/site-packages/h5py/_hl/dataset.py:541: DeprecationWarning: Passing None into shape arguments as an alias for () is deprecated.\n",
      "  arr = numpy.ndarray(selection.mshape, dtype=new_dtype)\n",
      "/home/shijiegu/anaconda3/envs/spyglass/lib/python3.8/site-packages/h5py/_hl/dataset.py:541: DeprecationWarning: Passing None into shape arguments as an alias for () is deprecated.\n",
      "  arr = numpy.ndarray(selection.mshape, dtype=new_dtype)\n",
      "/home/shijiegu/anaconda3/envs/spyglass/lib/python3.8/site-packages/h5py/_hl/dataset.py:541: DeprecationWarning: Passing None into shape arguments as an alias for () is deprecated.\n",
      "  arr = numpy.ndarray(selection.mshape, dtype=new_dtype)\n",
      "/home/shijiegu/anaconda3/envs/spyglass/lib/python3.8/site-packages/h5py/_hl/dataset.py:541: DeprecationWarning: Passing None into shape arguments as an alias for () is deprecated.\n",
      "  arr = numpy.ndarray(selection.mshape, dtype=new_dtype)\n",
      "/home/shijiegu/anaconda3/envs/spyglass/lib/python3.8/site-packages/h5py/_hl/dataset.py:541: DeprecationWarning: Passing None into shape arguments as an alias for () is deprecated.\n",
      "  arr = numpy.ndarray(selection.mshape, dtype=new_dtype)\n",
      "/home/shijiegu/anaconda3/envs/spyglass/lib/python3.8/site-packages/h5py/_hl/dataset.py:541: DeprecationWarning: Passing None into shape arguments as an alias for () is deprecated.\n",
      "  arr = numpy.ndarray(selection.mshape, dtype=new_dtype)\n",
      "/home/shijiegu/anaconda3/envs/spyglass/lib/python3.8/site-packages/h5py/_hl/dataset.py:541: DeprecationWarning: Passing None into shape arguments as an alias for () is deprecated.\n",
      "  arr = numpy.ndarray(selection.mshape, dtype=new_dtype)\n",
      "/home/shijiegu/anaconda3/envs/spyglass/lib/python3.8/site-packages/h5py/_hl/dataset.py:541: DeprecationWarning: Passing None into shape arguments as an alias for () is deprecated.\n",
      "  arr = numpy.ndarray(selection.mshape, dtype=new_dtype)\n",
      "/home/shijiegu/anaconda3/envs/spyglass/lib/python3.8/site-packages/h5py/_hl/dataset.py:541: DeprecationWarning: Passing None into shape arguments as an alias for () is deprecated.\n",
      "  arr = numpy.ndarray(selection.mshape, dtype=new_dtype)\n",
      "/home/shijiegu/anaconda3/envs/spyglass/lib/python3.8/site-packages/h5py/_hl/dataset.py:541: DeprecationWarning: Passing None into shape arguments as an alias for () is deprecated.\n",
      "  arr = numpy.ndarray(selection.mshape, dtype=new_dtype)\n",
      "/home/shijiegu/anaconda3/envs/spyglass/lib/python3.8/site-packages/h5py/_hl/dataset.py:541: DeprecationWarning: Passing None into shape arguments as an alias for () is deprecated.\n",
      "  arr = numpy.ndarray(selection.mshape, dtype=new_dtype)\n",
      "/home/shijiegu/anaconda3/envs/spyglass/lib/python3.8/site-packages/h5py/_hl/dataset.py:541: DeprecationWarning: Passing None into shape arguments as an alias for () is deprecated.\n",
      "  arr = numpy.ndarray(selection.mshape, dtype=new_dtype)\n",
      "/home/shijiegu/anaconda3/envs/spyglass/lib/python3.8/site-packages/h5py/_hl/dataset.py:541: DeprecationWarning: Passing None into shape arguments as an alias for () is deprecated.\n",
      "  arr = numpy.ndarray(selection.mshape, dtype=new_dtype)\n",
      "/home/shijiegu/anaconda3/envs/spyglass/lib/python3.8/site-packages/h5py/_hl/dataset.py:541: DeprecationWarning: Passing None into shape arguments as an alias for () is deprecated.\n",
      "  arr = numpy.ndarray(selection.mshape, dtype=new_dtype)\n",
      "/home/shijiegu/anaconda3/envs/spyglass/lib/python3.8/site-packages/h5py/_hl/dataset.py:541: DeprecationWarning: Passing None into shape arguments as an alias for () is deprecated.\n",
      "  arr = numpy.ndarray(selection.mshape, dtype=new_dtype)\n",
      "/home/shijiegu/anaconda3/envs/spyglass/lib/python3.8/site-packages/h5py/_hl/dataset.py:541: DeprecationWarning: Passing None into shape arguments as an alias for () is deprecated.\n",
      "  arr = numpy.ndarray(selection.mshape, dtype=new_dtype)\n",
      "/home/shijiegu/anaconda3/envs/spyglass/lib/python3.8/site-packages/h5py/_hl/dataset.py:541: DeprecationWarning: Passing None into shape arguments as an alias for () is deprecated.\n",
      "  arr = numpy.ndarray(selection.mshape, dtype=new_dtype)\n",
      "/home/shijiegu/anaconda3/envs/spyglass/lib/python3.8/site-packages/h5py/_hl/dataset.py:541: DeprecationWarning: Passing None into shape arguments as an alias for () is deprecated.\n",
      "  arr = numpy.ndarray(selection.mshape, dtype=new_dtype)\n",
      "/home/shijiegu/anaconda3/envs/spyglass/lib/python3.8/site-packages/h5py/_hl/dataset.py:541: DeprecationWarning: Passing None into shape arguments as an alias for () is deprecated.\n",
      "  arr = numpy.ndarray(selection.mshape, dtype=new_dtype)\n",
      "/home/shijiegu/anaconda3/envs/spyglass/lib/python3.8/site-packages/pynwb/behavior.py:46: UserWarning: SpatialSeries 'series_0' has data shape (9234, 6) which is not compliant with NWB 2.5 and greater. The second dimension should have length <= 3 to represent at most x, y, z.\n",
      "  warnings.warn(\"SpatialSeries '%s' has data shape %s which is not compliant with NWB 2.5 and greater. \"\n",
      "/home/shijiegu/anaconda3/envs/spyglass/lib/python3.8/site-packages/pynwb/behavior.py:46: UserWarning: SpatialSeries 'series_1' has data shape (41512, 6) which is not compliant with NWB 2.5 and greater. The second dimension should have length <= 3 to represent at most x, y, z.\n",
      "  warnings.warn(\"SpatialSeries '%s' has data shape %s which is not compliant with NWB 2.5 and greater. \"\n",
      "/home/shijiegu/anaconda3/envs/spyglass/lib/python3.8/site-packages/pynwb/behavior.py:46: UserWarning: SpatialSeries 'series_2' has data shape (42690, 6) which is not compliant with NWB 2.5 and greater. The second dimension should have length <= 3 to represent at most x, y, z.\n",
      "  warnings.warn(\"SpatialSeries '%s' has data shape %s which is not compliant with NWB 2.5 and greater. \"\n"
     ]
    },
    {
     "name": "stdout",
     "output_type": "stream",
     "text": [
      "write_binary_recording with n_jobs = 1 and chunk_size = 299593\n"
     ]
    },
    {
     "data": {
      "application/vnd.jupyter.widget-view+json": {
       "model_id": "7c6c97a6be2c47a9bc3209dfc07b0297",
       "version_major": 2,
       "version_minor": 0
      },
      "text/plain": [
       "write_binary_recording:   0%|          | 0/140 [00:00<?, ?it/s]"
      ]
     },
     "metadata": {},
     "output_type": "display_data"
    },
    {
     "name": "stdout",
     "output_type": "stream",
     "text": [
      "create recording for tet 22\n"
     ]
    },
    {
     "name": "stderr",
     "output_type": "stream",
     "text": [
      "/home/shijiegu/anaconda3/envs/spyglass/lib/python3.8/site-packages/h5py/_hl/dataset.py:541: DeprecationWarning: Passing None into shape arguments as an alias for () is deprecated.\n",
      "  arr = numpy.ndarray(selection.mshape, dtype=new_dtype)\n",
      "/home/shijiegu/anaconda3/envs/spyglass/lib/python3.8/site-packages/h5py/_hl/dataset.py:541: DeprecationWarning: Passing None into shape arguments as an alias for () is deprecated.\n",
      "  arr = numpy.ndarray(selection.mshape, dtype=new_dtype)\n",
      "/home/shijiegu/anaconda3/envs/spyglass/lib/python3.8/site-packages/h5py/_hl/dataset.py:541: DeprecationWarning: Passing None into shape arguments as an alias for () is deprecated.\n",
      "  arr = numpy.ndarray(selection.mshape, dtype=new_dtype)\n",
      "/home/shijiegu/anaconda3/envs/spyglass/lib/python3.8/site-packages/h5py/_hl/dataset.py:541: DeprecationWarning: Passing None into shape arguments as an alias for () is deprecated.\n",
      "  arr = numpy.ndarray(selection.mshape, dtype=new_dtype)\n",
      "/home/shijiegu/anaconda3/envs/spyglass/lib/python3.8/site-packages/h5py/_hl/dataset.py:541: DeprecationWarning: Passing None into shape arguments as an alias for () is deprecated.\n",
      "  arr = numpy.ndarray(selection.mshape, dtype=new_dtype)\n",
      "/home/shijiegu/anaconda3/envs/spyglass/lib/python3.8/site-packages/h5py/_hl/dataset.py:541: DeprecationWarning: Passing None into shape arguments as an alias for () is deprecated.\n",
      "  arr = numpy.ndarray(selection.mshape, dtype=new_dtype)\n",
      "/home/shijiegu/anaconda3/envs/spyglass/lib/python3.8/site-packages/h5py/_hl/dataset.py:541: DeprecationWarning: Passing None into shape arguments as an alias for () is deprecated.\n",
      "  arr = numpy.ndarray(selection.mshape, dtype=new_dtype)\n",
      "/home/shijiegu/anaconda3/envs/spyglass/lib/python3.8/site-packages/h5py/_hl/dataset.py:541: DeprecationWarning: Passing None into shape arguments as an alias for () is deprecated.\n",
      "  arr = numpy.ndarray(selection.mshape, dtype=new_dtype)\n",
      "/home/shijiegu/anaconda3/envs/spyglass/lib/python3.8/site-packages/h5py/_hl/dataset.py:541: DeprecationWarning: Passing None into shape arguments as an alias for () is deprecated.\n",
      "  arr = numpy.ndarray(selection.mshape, dtype=new_dtype)\n",
      "/home/shijiegu/anaconda3/envs/spyglass/lib/python3.8/site-packages/h5py/_hl/dataset.py:541: DeprecationWarning: Passing None into shape arguments as an alias for () is deprecated.\n",
      "  arr = numpy.ndarray(selection.mshape, dtype=new_dtype)\n",
      "/home/shijiegu/anaconda3/envs/spyglass/lib/python3.8/site-packages/h5py/_hl/dataset.py:541: DeprecationWarning: Passing None into shape arguments as an alias for () is deprecated.\n",
      "  arr = numpy.ndarray(selection.mshape, dtype=new_dtype)\n",
      "/home/shijiegu/anaconda3/envs/spyglass/lib/python3.8/site-packages/h5py/_hl/dataset.py:541: DeprecationWarning: Passing None into shape arguments as an alias for () is deprecated.\n",
      "  arr = numpy.ndarray(selection.mshape, dtype=new_dtype)\n",
      "/home/shijiegu/anaconda3/envs/spyglass/lib/python3.8/site-packages/h5py/_hl/dataset.py:541: DeprecationWarning: Passing None into shape arguments as an alias for () is deprecated.\n",
      "  arr = numpy.ndarray(selection.mshape, dtype=new_dtype)\n",
      "/home/shijiegu/anaconda3/envs/spyglass/lib/python3.8/site-packages/h5py/_hl/dataset.py:541: DeprecationWarning: Passing None into shape arguments as an alias for () is deprecated.\n",
      "  arr = numpy.ndarray(selection.mshape, dtype=new_dtype)\n",
      "/home/shijiegu/anaconda3/envs/spyglass/lib/python3.8/site-packages/h5py/_hl/dataset.py:541: DeprecationWarning: Passing None into shape arguments as an alias for () is deprecated.\n",
      "  arr = numpy.ndarray(selection.mshape, dtype=new_dtype)\n",
      "/home/shijiegu/anaconda3/envs/spyglass/lib/python3.8/site-packages/h5py/_hl/dataset.py:541: DeprecationWarning: Passing None into shape arguments as an alias for () is deprecated.\n",
      "  arr = numpy.ndarray(selection.mshape, dtype=new_dtype)\n",
      "/home/shijiegu/anaconda3/envs/spyglass/lib/python3.8/site-packages/h5py/_hl/dataset.py:541: DeprecationWarning: Passing None into shape arguments as an alias for () is deprecated.\n",
      "  arr = numpy.ndarray(selection.mshape, dtype=new_dtype)\n",
      "/home/shijiegu/anaconda3/envs/spyglass/lib/python3.8/site-packages/h5py/_hl/dataset.py:541: DeprecationWarning: Passing None into shape arguments as an alias for () is deprecated.\n",
      "  arr = numpy.ndarray(selection.mshape, dtype=new_dtype)\n",
      "/home/shijiegu/anaconda3/envs/spyglass/lib/python3.8/site-packages/h5py/_hl/dataset.py:541: DeprecationWarning: Passing None into shape arguments as an alias for () is deprecated.\n",
      "  arr = numpy.ndarray(selection.mshape, dtype=new_dtype)\n",
      "/home/shijiegu/anaconda3/envs/spyglass/lib/python3.8/site-packages/h5py/_hl/dataset.py:541: DeprecationWarning: Passing None into shape arguments as an alias for () is deprecated.\n",
      "  arr = numpy.ndarray(selection.mshape, dtype=new_dtype)\n",
      "/home/shijiegu/anaconda3/envs/spyglass/lib/python3.8/site-packages/h5py/_hl/dataset.py:541: DeprecationWarning: Passing None into shape arguments as an alias for () is deprecated.\n",
      "  arr = numpy.ndarray(selection.mshape, dtype=new_dtype)\n",
      "/home/shijiegu/anaconda3/envs/spyglass/lib/python3.8/site-packages/h5py/_hl/dataset.py:541: DeprecationWarning: Passing None into shape arguments as an alias for () is deprecated.\n",
      "  arr = numpy.ndarray(selection.mshape, dtype=new_dtype)\n",
      "/home/shijiegu/anaconda3/envs/spyglass/lib/python3.8/site-packages/h5py/_hl/dataset.py:541: DeprecationWarning: Passing None into shape arguments as an alias for () is deprecated.\n",
      "  arr = numpy.ndarray(selection.mshape, dtype=new_dtype)\n",
      "/home/shijiegu/anaconda3/envs/spyglass/lib/python3.8/site-packages/h5py/_hl/dataset.py:541: DeprecationWarning: Passing None into shape arguments as an alias for () is deprecated.\n",
      "  arr = numpy.ndarray(selection.mshape, dtype=new_dtype)\n",
      "/home/shijiegu/anaconda3/envs/spyglass/lib/python3.8/site-packages/pynwb/behavior.py:46: UserWarning: SpatialSeries 'series_0' has data shape (9234, 6) which is not compliant with NWB 2.5 and greater. The second dimension should have length <= 3 to represent at most x, y, z.\n",
      "  warnings.warn(\"SpatialSeries '%s' has data shape %s which is not compliant with NWB 2.5 and greater. \"\n",
      "/home/shijiegu/anaconda3/envs/spyglass/lib/python3.8/site-packages/pynwb/behavior.py:46: UserWarning: SpatialSeries 'series_1' has data shape (41512, 6) which is not compliant with NWB 2.5 and greater. The second dimension should have length <= 3 to represent at most x, y, z.\n",
      "  warnings.warn(\"SpatialSeries '%s' has data shape %s which is not compliant with NWB 2.5 and greater. \"\n",
      "/home/shijiegu/anaconda3/envs/spyglass/lib/python3.8/site-packages/pynwb/behavior.py:46: UserWarning: SpatialSeries 'series_2' has data shape (42690, 6) which is not compliant with NWB 2.5 and greater. The second dimension should have length <= 3 to represent at most x, y, z.\n",
      "  warnings.warn(\"SpatialSeries '%s' has data shape %s which is not compliant with NWB 2.5 and greater. \"\n"
     ]
    },
    {
     "name": "stdout",
     "output_type": "stream",
     "text": [
      "write_binary_recording with n_jobs = 1 and chunk_size = 299593\n"
     ]
    },
    {
     "data": {
      "application/vnd.jupyter.widget-view+json": {
       "model_id": "06bee37c97d24bcb8a13579a98920f00",
       "version_major": 2,
       "version_minor": 0
      },
      "text/plain": [
       "write_binary_recording:   0%|          | 0/140 [00:00<?, ?it/s]"
      ]
     },
     "metadata": {},
     "output_type": "display_data"
    },
    {
     "name": "stdout",
     "output_type": "stream",
     "text": [
      "create recording for tet 23\n"
     ]
    },
    {
     "name": "stderr",
     "output_type": "stream",
     "text": [
      "/home/shijiegu/anaconda3/envs/spyglass/lib/python3.8/site-packages/h5py/_hl/dataset.py:541: DeprecationWarning: Passing None into shape arguments as an alias for () is deprecated.\n",
      "  arr = numpy.ndarray(selection.mshape, dtype=new_dtype)\n",
      "/home/shijiegu/anaconda3/envs/spyglass/lib/python3.8/site-packages/h5py/_hl/dataset.py:541: DeprecationWarning: Passing None into shape arguments as an alias for () is deprecated.\n",
      "  arr = numpy.ndarray(selection.mshape, dtype=new_dtype)\n",
      "/home/shijiegu/anaconda3/envs/spyglass/lib/python3.8/site-packages/h5py/_hl/dataset.py:541: DeprecationWarning: Passing None into shape arguments as an alias for () is deprecated.\n",
      "  arr = numpy.ndarray(selection.mshape, dtype=new_dtype)\n",
      "/home/shijiegu/anaconda3/envs/spyglass/lib/python3.8/site-packages/h5py/_hl/dataset.py:541: DeprecationWarning: Passing None into shape arguments as an alias for () is deprecated.\n",
      "  arr = numpy.ndarray(selection.mshape, dtype=new_dtype)\n",
      "/home/shijiegu/anaconda3/envs/spyglass/lib/python3.8/site-packages/h5py/_hl/dataset.py:541: DeprecationWarning: Passing None into shape arguments as an alias for () is deprecated.\n",
      "  arr = numpy.ndarray(selection.mshape, dtype=new_dtype)\n",
      "/home/shijiegu/anaconda3/envs/spyglass/lib/python3.8/site-packages/h5py/_hl/dataset.py:541: DeprecationWarning: Passing None into shape arguments as an alias for () is deprecated.\n",
      "  arr = numpy.ndarray(selection.mshape, dtype=new_dtype)\n",
      "/home/shijiegu/anaconda3/envs/spyglass/lib/python3.8/site-packages/h5py/_hl/dataset.py:541: DeprecationWarning: Passing None into shape arguments as an alias for () is deprecated.\n",
      "  arr = numpy.ndarray(selection.mshape, dtype=new_dtype)\n",
      "/home/shijiegu/anaconda3/envs/spyglass/lib/python3.8/site-packages/h5py/_hl/dataset.py:541: DeprecationWarning: Passing None into shape arguments as an alias for () is deprecated.\n",
      "  arr = numpy.ndarray(selection.mshape, dtype=new_dtype)\n",
      "/home/shijiegu/anaconda3/envs/spyglass/lib/python3.8/site-packages/h5py/_hl/dataset.py:541: DeprecationWarning: Passing None into shape arguments as an alias for () is deprecated.\n",
      "  arr = numpy.ndarray(selection.mshape, dtype=new_dtype)\n",
      "/home/shijiegu/anaconda3/envs/spyglass/lib/python3.8/site-packages/h5py/_hl/dataset.py:541: DeprecationWarning: Passing None into shape arguments as an alias for () is deprecated.\n",
      "  arr = numpy.ndarray(selection.mshape, dtype=new_dtype)\n",
      "/home/shijiegu/anaconda3/envs/spyglass/lib/python3.8/site-packages/h5py/_hl/dataset.py:541: DeprecationWarning: Passing None into shape arguments as an alias for () is deprecated.\n",
      "  arr = numpy.ndarray(selection.mshape, dtype=new_dtype)\n",
      "/home/shijiegu/anaconda3/envs/spyglass/lib/python3.8/site-packages/h5py/_hl/dataset.py:541: DeprecationWarning: Passing None into shape arguments as an alias for () is deprecated.\n",
      "  arr = numpy.ndarray(selection.mshape, dtype=new_dtype)\n",
      "/home/shijiegu/anaconda3/envs/spyglass/lib/python3.8/site-packages/h5py/_hl/dataset.py:541: DeprecationWarning: Passing None into shape arguments as an alias for () is deprecated.\n",
      "  arr = numpy.ndarray(selection.mshape, dtype=new_dtype)\n",
      "/home/shijiegu/anaconda3/envs/spyglass/lib/python3.8/site-packages/h5py/_hl/dataset.py:541: DeprecationWarning: Passing None into shape arguments as an alias for () is deprecated.\n",
      "  arr = numpy.ndarray(selection.mshape, dtype=new_dtype)\n",
      "/home/shijiegu/anaconda3/envs/spyglass/lib/python3.8/site-packages/h5py/_hl/dataset.py:541: DeprecationWarning: Passing None into shape arguments as an alias for () is deprecated.\n",
      "  arr = numpy.ndarray(selection.mshape, dtype=new_dtype)\n",
      "/home/shijiegu/anaconda3/envs/spyglass/lib/python3.8/site-packages/h5py/_hl/dataset.py:541: DeprecationWarning: Passing None into shape arguments as an alias for () is deprecated.\n",
      "  arr = numpy.ndarray(selection.mshape, dtype=new_dtype)\n",
      "/home/shijiegu/anaconda3/envs/spyglass/lib/python3.8/site-packages/h5py/_hl/dataset.py:541: DeprecationWarning: Passing None into shape arguments as an alias for () is deprecated.\n",
      "  arr = numpy.ndarray(selection.mshape, dtype=new_dtype)\n",
      "/home/shijiegu/anaconda3/envs/spyglass/lib/python3.8/site-packages/h5py/_hl/dataset.py:541: DeprecationWarning: Passing None into shape arguments as an alias for () is deprecated.\n",
      "  arr = numpy.ndarray(selection.mshape, dtype=new_dtype)\n",
      "/home/shijiegu/anaconda3/envs/spyglass/lib/python3.8/site-packages/h5py/_hl/dataset.py:541: DeprecationWarning: Passing None into shape arguments as an alias for () is deprecated.\n",
      "  arr = numpy.ndarray(selection.mshape, dtype=new_dtype)\n",
      "/home/shijiegu/anaconda3/envs/spyglass/lib/python3.8/site-packages/h5py/_hl/dataset.py:541: DeprecationWarning: Passing None into shape arguments as an alias for () is deprecated.\n",
      "  arr = numpy.ndarray(selection.mshape, dtype=new_dtype)\n",
      "/home/shijiegu/anaconda3/envs/spyglass/lib/python3.8/site-packages/h5py/_hl/dataset.py:541: DeprecationWarning: Passing None into shape arguments as an alias for () is deprecated.\n",
      "  arr = numpy.ndarray(selection.mshape, dtype=new_dtype)\n",
      "/home/shijiegu/anaconda3/envs/spyglass/lib/python3.8/site-packages/h5py/_hl/dataset.py:541: DeprecationWarning: Passing None into shape arguments as an alias for () is deprecated.\n",
      "  arr = numpy.ndarray(selection.mshape, dtype=new_dtype)\n",
      "/home/shijiegu/anaconda3/envs/spyglass/lib/python3.8/site-packages/h5py/_hl/dataset.py:541: DeprecationWarning: Passing None into shape arguments as an alias for () is deprecated.\n",
      "  arr = numpy.ndarray(selection.mshape, dtype=new_dtype)\n",
      "/home/shijiegu/anaconda3/envs/spyglass/lib/python3.8/site-packages/h5py/_hl/dataset.py:541: DeprecationWarning: Passing None into shape arguments as an alias for () is deprecated.\n",
      "  arr = numpy.ndarray(selection.mshape, dtype=new_dtype)\n",
      "/home/shijiegu/anaconda3/envs/spyglass/lib/python3.8/site-packages/pynwb/behavior.py:46: UserWarning: SpatialSeries 'series_0' has data shape (9234, 6) which is not compliant with NWB 2.5 and greater. The second dimension should have length <= 3 to represent at most x, y, z.\n",
      "  warnings.warn(\"SpatialSeries '%s' has data shape %s which is not compliant with NWB 2.5 and greater. \"\n",
      "/home/shijiegu/anaconda3/envs/spyglass/lib/python3.8/site-packages/pynwb/behavior.py:46: UserWarning: SpatialSeries 'series_1' has data shape (41512, 6) which is not compliant with NWB 2.5 and greater. The second dimension should have length <= 3 to represent at most x, y, z.\n",
      "  warnings.warn(\"SpatialSeries '%s' has data shape %s which is not compliant with NWB 2.5 and greater. \"\n",
      "/home/shijiegu/anaconda3/envs/spyglass/lib/python3.8/site-packages/pynwb/behavior.py:46: UserWarning: SpatialSeries 'series_2' has data shape (42690, 6) which is not compliant with NWB 2.5 and greater. The second dimension should have length <= 3 to represent at most x, y, z.\n",
      "  warnings.warn(\"SpatialSeries '%s' has data shape %s which is not compliant with NWB 2.5 and greater. \"\n"
     ]
    },
    {
     "name": "stdout",
     "output_type": "stream",
     "text": [
      "write_binary_recording with n_jobs = 1 and chunk_size = 299593\n"
     ]
    },
    {
     "data": {
      "application/vnd.jupyter.widget-view+json": {
       "model_id": "6541f69ebea744ac98db255d9162fdd0",
       "version_major": 2,
       "version_minor": 0
      },
      "text/plain": [
       "write_binary_recording:   0%|          | 0/140 [00:00<?, ?it/s]"
      ]
     },
     "metadata": {},
     "output_type": "display_data"
    },
    {
     "name": "stdout",
     "output_type": "stream",
     "text": [
      "create recording for tet 24\n"
     ]
    },
    {
     "name": "stderr",
     "output_type": "stream",
     "text": [
      "/home/shijiegu/anaconda3/envs/spyglass/lib/python3.8/site-packages/h5py/_hl/dataset.py:541: DeprecationWarning: Passing None into shape arguments as an alias for () is deprecated.\n",
      "  arr = numpy.ndarray(selection.mshape, dtype=new_dtype)\n",
      "/home/shijiegu/anaconda3/envs/spyglass/lib/python3.8/site-packages/h5py/_hl/dataset.py:541: DeprecationWarning: Passing None into shape arguments as an alias for () is deprecated.\n",
      "  arr = numpy.ndarray(selection.mshape, dtype=new_dtype)\n",
      "/home/shijiegu/anaconda3/envs/spyglass/lib/python3.8/site-packages/h5py/_hl/dataset.py:541: DeprecationWarning: Passing None into shape arguments as an alias for () is deprecated.\n",
      "  arr = numpy.ndarray(selection.mshape, dtype=new_dtype)\n",
      "/home/shijiegu/anaconda3/envs/spyglass/lib/python3.8/site-packages/h5py/_hl/dataset.py:541: DeprecationWarning: Passing None into shape arguments as an alias for () is deprecated.\n",
      "  arr = numpy.ndarray(selection.mshape, dtype=new_dtype)\n",
      "/home/shijiegu/anaconda3/envs/spyglass/lib/python3.8/site-packages/h5py/_hl/dataset.py:541: DeprecationWarning: Passing None into shape arguments as an alias for () is deprecated.\n",
      "  arr = numpy.ndarray(selection.mshape, dtype=new_dtype)\n",
      "/home/shijiegu/anaconda3/envs/spyglass/lib/python3.8/site-packages/h5py/_hl/dataset.py:541: DeprecationWarning: Passing None into shape arguments as an alias for () is deprecated.\n",
      "  arr = numpy.ndarray(selection.mshape, dtype=new_dtype)\n",
      "/home/shijiegu/anaconda3/envs/spyglass/lib/python3.8/site-packages/h5py/_hl/dataset.py:541: DeprecationWarning: Passing None into shape arguments as an alias for () is deprecated.\n",
      "  arr = numpy.ndarray(selection.mshape, dtype=new_dtype)\n",
      "/home/shijiegu/anaconda3/envs/spyglass/lib/python3.8/site-packages/h5py/_hl/dataset.py:541: DeprecationWarning: Passing None into shape arguments as an alias for () is deprecated.\n",
      "  arr = numpy.ndarray(selection.mshape, dtype=new_dtype)\n",
      "/home/shijiegu/anaconda3/envs/spyglass/lib/python3.8/site-packages/h5py/_hl/dataset.py:541: DeprecationWarning: Passing None into shape arguments as an alias for () is deprecated.\n",
      "  arr = numpy.ndarray(selection.mshape, dtype=new_dtype)\n",
      "/home/shijiegu/anaconda3/envs/spyglass/lib/python3.8/site-packages/h5py/_hl/dataset.py:541: DeprecationWarning: Passing None into shape arguments as an alias for () is deprecated.\n",
      "  arr = numpy.ndarray(selection.mshape, dtype=new_dtype)\n",
      "/home/shijiegu/anaconda3/envs/spyglass/lib/python3.8/site-packages/h5py/_hl/dataset.py:541: DeprecationWarning: Passing None into shape arguments as an alias for () is deprecated.\n",
      "  arr = numpy.ndarray(selection.mshape, dtype=new_dtype)\n",
      "/home/shijiegu/anaconda3/envs/spyglass/lib/python3.8/site-packages/h5py/_hl/dataset.py:541: DeprecationWarning: Passing None into shape arguments as an alias for () is deprecated.\n",
      "  arr = numpy.ndarray(selection.mshape, dtype=new_dtype)\n",
      "/home/shijiegu/anaconda3/envs/spyglass/lib/python3.8/site-packages/h5py/_hl/dataset.py:541: DeprecationWarning: Passing None into shape arguments as an alias for () is deprecated.\n",
      "  arr = numpy.ndarray(selection.mshape, dtype=new_dtype)\n",
      "/home/shijiegu/anaconda3/envs/spyglass/lib/python3.8/site-packages/h5py/_hl/dataset.py:541: DeprecationWarning: Passing None into shape arguments as an alias for () is deprecated.\n",
      "  arr = numpy.ndarray(selection.mshape, dtype=new_dtype)\n",
      "/home/shijiegu/anaconda3/envs/spyglass/lib/python3.8/site-packages/h5py/_hl/dataset.py:541: DeprecationWarning: Passing None into shape arguments as an alias for () is deprecated.\n",
      "  arr = numpy.ndarray(selection.mshape, dtype=new_dtype)\n",
      "/home/shijiegu/anaconda3/envs/spyglass/lib/python3.8/site-packages/h5py/_hl/dataset.py:541: DeprecationWarning: Passing None into shape arguments as an alias for () is deprecated.\n",
      "  arr = numpy.ndarray(selection.mshape, dtype=new_dtype)\n",
      "/home/shijiegu/anaconda3/envs/spyglass/lib/python3.8/site-packages/h5py/_hl/dataset.py:541: DeprecationWarning: Passing None into shape arguments as an alias for () is deprecated.\n",
      "  arr = numpy.ndarray(selection.mshape, dtype=new_dtype)\n",
      "/home/shijiegu/anaconda3/envs/spyglass/lib/python3.8/site-packages/h5py/_hl/dataset.py:541: DeprecationWarning: Passing None into shape arguments as an alias for () is deprecated.\n",
      "  arr = numpy.ndarray(selection.mshape, dtype=new_dtype)\n",
      "/home/shijiegu/anaconda3/envs/spyglass/lib/python3.8/site-packages/h5py/_hl/dataset.py:541: DeprecationWarning: Passing None into shape arguments as an alias for () is deprecated.\n",
      "  arr = numpy.ndarray(selection.mshape, dtype=new_dtype)\n",
      "/home/shijiegu/anaconda3/envs/spyglass/lib/python3.8/site-packages/h5py/_hl/dataset.py:541: DeprecationWarning: Passing None into shape arguments as an alias for () is deprecated.\n",
      "  arr = numpy.ndarray(selection.mshape, dtype=new_dtype)\n",
      "/home/shijiegu/anaconda3/envs/spyglass/lib/python3.8/site-packages/h5py/_hl/dataset.py:541: DeprecationWarning: Passing None into shape arguments as an alias for () is deprecated.\n",
      "  arr = numpy.ndarray(selection.mshape, dtype=new_dtype)\n",
      "/home/shijiegu/anaconda3/envs/spyglass/lib/python3.8/site-packages/h5py/_hl/dataset.py:541: DeprecationWarning: Passing None into shape arguments as an alias for () is deprecated.\n",
      "  arr = numpy.ndarray(selection.mshape, dtype=new_dtype)\n",
      "/home/shijiegu/anaconda3/envs/spyglass/lib/python3.8/site-packages/h5py/_hl/dataset.py:541: DeprecationWarning: Passing None into shape arguments as an alias for () is deprecated.\n",
      "  arr = numpy.ndarray(selection.mshape, dtype=new_dtype)\n",
      "/home/shijiegu/anaconda3/envs/spyglass/lib/python3.8/site-packages/h5py/_hl/dataset.py:541: DeprecationWarning: Passing None into shape arguments as an alias for () is deprecated.\n",
      "  arr = numpy.ndarray(selection.mshape, dtype=new_dtype)\n",
      "/home/shijiegu/anaconda3/envs/spyglass/lib/python3.8/site-packages/pynwb/behavior.py:46: UserWarning: SpatialSeries 'series_0' has data shape (9234, 6) which is not compliant with NWB 2.5 and greater. The second dimension should have length <= 3 to represent at most x, y, z.\n",
      "  warnings.warn(\"SpatialSeries '%s' has data shape %s which is not compliant with NWB 2.5 and greater. \"\n",
      "/home/shijiegu/anaconda3/envs/spyglass/lib/python3.8/site-packages/pynwb/behavior.py:46: UserWarning: SpatialSeries 'series_1' has data shape (41512, 6) which is not compliant with NWB 2.5 and greater. The second dimension should have length <= 3 to represent at most x, y, z.\n",
      "  warnings.warn(\"SpatialSeries '%s' has data shape %s which is not compliant with NWB 2.5 and greater. \"\n",
      "/home/shijiegu/anaconda3/envs/spyglass/lib/python3.8/site-packages/pynwb/behavior.py:46: UserWarning: SpatialSeries 'series_2' has data shape (42690, 6) which is not compliant with NWB 2.5 and greater. The second dimension should have length <= 3 to represent at most x, y, z.\n",
      "  warnings.warn(\"SpatialSeries '%s' has data shape %s which is not compliant with NWB 2.5 and greater. \"\n"
     ]
    },
    {
     "name": "stdout",
     "output_type": "stream",
     "text": [
      "write_binary_recording with n_jobs = 1 and chunk_size = 299593\n"
     ]
    },
    {
     "data": {
      "application/vnd.jupyter.widget-view+json": {
       "model_id": "4ea12dbde1054c89b03a5ba126a41a25",
       "version_major": 2,
       "version_minor": 0
      },
      "text/plain": [
       "write_binary_recording:   0%|          | 0/140 [00:00<?, ?it/s]"
      ]
     },
     "metadata": {},
     "output_type": "display_data"
    }
   ],
   "source": [
    "sort_interval_name='02_1ms100hz'\n",
    "for tetrode in all_tet_list:\n",
    "    func(tetrode)"
   ]
  },
  {
   "cell_type": "code",
   "execution_count": 75,
   "id": "1bfc3a0c-f97b-4f60-aae0-83d46372bb5d",
   "metadata": {
    "scrolled": true,
    "tags": []
   },
   "outputs": [
    {
     "name": "stdout",
     "output_type": "stream",
     "text": [
      "create recording for tetcreate recording for tetcreate recording for tetcreate recording for tetcreate recording for tet create recording for tetcreate recording for tetcreate recording for tet   10   21 192223\n",
      "24100\n",
      "\n",
      "101\n",
      "\n",
      "\n",
      "\n",
      "\n"
     ]
    },
    {
     "name": "stderr",
     "output_type": "stream",
     "text": [
      "[2023-05-27 11:06:27,051][WARNING]: MySQL server has gone away. Reconnecting to the server.\n",
      "[2023-05-27 11:06:27,051][WARNING]: MySQL server has gone away. Reconnecting to the server.\n",
      "[2023-05-27 11:06:27,051][WARNING]: MySQL server has gone away. Reconnecting to the server.\n",
      "[2023-05-27 11:06:27,051][WARNING]: MySQL server has gone away. Reconnecting to the server.\n",
      "[2023-05-27 11:06:27,051][WARNING]: MySQL server has gone away. Reconnecting to the server.\n",
      "[2023-05-27 11:06:27,051][WARNING]: MySQL server has gone away. Reconnecting to the server.\n",
      "[2023-05-27 11:06:27,051][WARNING]: MySQL server has gone away. Reconnecting to the server.\n",
      "WARNING:datajoint:MySQL server has gone away. Reconnecting to the server.\n",
      "WARNING:datajoint:MySQL server has gone away. Reconnecting to the server.\n",
      "WARNING:datajoint:MySQL server has gone away. Reconnecting to the server.\n",
      "WARNING:datajoint:MySQL server has gone away. Reconnecting to the server.\n",
      "WARNING:datajoint:MySQL server has gone away. Reconnecting to the server.\n",
      "WARNING:datajoint:MySQL server has gone away. Reconnecting to the server.\n",
      "[2023-05-27 11:06:27,052][WARNING]: MySQL server has gone away. Reconnecting to the server.\n",
      "WARNING:datajoint:MySQL server has gone away. Reconnecting to the server.\n",
      "WARNING:datajoint:MySQL server has gone away. Reconnecting to the server.\n",
      "/home/shijiegu/anaconda3/envs/spyglass/lib/python3.8/site-packages/pynwb/behavior.py:46: UserWarning: SpatialSeries 'series_0' has data shape (9234, 6) which is not compliant with NWB 2.5 and greater. The second dimension should have length <= 3 to represent at most x, y, z.\n",
      "  warnings.warn(\"SpatialSeries '%s' has data shape %s which is not compliant with NWB 2.5 and greater. \"\n",
      "/home/shijiegu/anaconda3/envs/spyglass/lib/python3.8/site-packages/pynwb/behavior.py:46: UserWarning: SpatialSeries 'series_1' has data shape (41512, 6) which is not compliant with NWB 2.5 and greater. The second dimension should have length <= 3 to represent at most x, y, z.\n",
      "  warnings.warn(\"SpatialSeries '%s' has data shape %s which is not compliant with NWB 2.5 and greater. \"\n",
      "/home/shijiegu/anaconda3/envs/spyglass/lib/python3.8/site-packages/pynwb/behavior.py:46: UserWarning: SpatialSeries 'series_2' has data shape (42690, 6) which is not compliant with NWB 2.5 and greater. The second dimension should have length <= 3 to represent at most x, y, z.\n",
      "  warnings.warn(\"SpatialSeries '%s' has data shape %s which is not compliant with NWB 2.5 and greater. \"\n",
      "/home/shijiegu/anaconda3/envs/spyglass/lib/python3.8/site-packages/pynwb/behavior.py:46: UserWarning: SpatialSeries 'series_0' has data shape (9234, 6) which is not compliant with NWB 2.5 and greater. The second dimension should have length <= 3 to represent at most x, y, z.\n",
      "  warnings.warn(\"SpatialSeries '%s' has data shape %s which is not compliant with NWB 2.5 and greater. \"\n",
      "/home/shijiegu/anaconda3/envs/spyglass/lib/python3.8/site-packages/pynwb/behavior.py:46: UserWarning: SpatialSeries 'series_0' has data shape (9234, 6) which is not compliant with NWB 2.5 and greater. The second dimension should have length <= 3 to represent at most x, y, z.\n",
      "  warnings.warn(\"SpatialSeries '%s' has data shape %s which is not compliant with NWB 2.5 and greater. \"\n",
      "/home/shijiegu/anaconda3/envs/spyglass/lib/python3.8/site-packages/pynwb/behavior.py:46: UserWarning: SpatialSeries 'series_1' has data shape (41512, 6) which is not compliant with NWB 2.5 and greater. The second dimension should have length <= 3 to represent at most x, y, z.\n",
      "  warnings.warn(\"SpatialSeries '%s' has data shape %s which is not compliant with NWB 2.5 and greater. \"\n",
      "/home/shijiegu/anaconda3/envs/spyglass/lib/python3.8/site-packages/pynwb/behavior.py:46: UserWarning: SpatialSeries 'series_1' has data shape (41512, 6) which is not compliant with NWB 2.5 and greater. The second dimension should have length <= 3 to represent at most x, y, z.\n",
      "  warnings.warn(\"SpatialSeries '%s' has data shape %s which is not compliant with NWB 2.5 and greater. \"\n",
      "/home/shijiegu/anaconda3/envs/spyglass/lib/python3.8/site-packages/pynwb/behavior.py:46: UserWarning: SpatialSeries 'series_0' has data shape (9234, 6) which is not compliant with NWB 2.5 and greater. The second dimension should have length <= 3 to represent at most x, y, z.\n",
      "  warnings.warn(\"SpatialSeries '%s' has data shape %s which is not compliant with NWB 2.5 and greater. \"\n",
      "/home/shijiegu/anaconda3/envs/spyglass/lib/python3.8/site-packages/pynwb/behavior.py:46: UserWarning: SpatialSeries 'series_2' has data shape (42690, 6) which is not compliant with NWB 2.5 and greater. The second dimension should have length <= 3 to represent at most x, y, z.\n",
      "  warnings.warn(\"SpatialSeries '%s' has data shape %s which is not compliant with NWB 2.5 and greater. \"\n",
      "/home/shijiegu/anaconda3/envs/spyglass/lib/python3.8/site-packages/pynwb/behavior.py:46: UserWarning: SpatialSeries 'series_2' has data shape (42690, 6) which is not compliant with NWB 2.5 and greater. The second dimension should have length <= 3 to represent at most x, y, z.\n",
      "  warnings.warn(\"SpatialSeries '%s' has data shape %s which is not compliant with NWB 2.5 and greater. \"\n",
      "/home/shijiegu/anaconda3/envs/spyglass/lib/python3.8/site-packages/pynwb/behavior.py:46: UserWarning: SpatialSeries 'series_0' has data shape (9234, 6) which is not compliant with NWB 2.5 and greater. The second dimension should have length <= 3 to represent at most x, y, z.\n",
      "  warnings.warn(\"SpatialSeries '%s' has data shape %s which is not compliant with NWB 2.5 and greater. \"\n",
      "/home/shijiegu/anaconda3/envs/spyglass/lib/python3.8/site-packages/pynwb/behavior.py:46: UserWarning: SpatialSeries 'series_1' has data shape (41512, 6) which is not compliant with NWB 2.5 and greater. The second dimension should have length <= 3 to represent at most x, y, z.\n",
      "  warnings.warn(\"SpatialSeries '%s' has data shape %s which is not compliant with NWB 2.5 and greater. \"\n",
      "/home/shijiegu/anaconda3/envs/spyglass/lib/python3.8/site-packages/pynwb/behavior.py:46: UserWarning: SpatialSeries 'series_1' has data shape (41512, 6) which is not compliant with NWB 2.5 and greater. The second dimension should have length <= 3 to represent at most x, y, z.\n",
      "  warnings.warn(\"SpatialSeries '%s' has data shape %s which is not compliant with NWB 2.5 and greater. \"\n",
      "/home/shijiegu/anaconda3/envs/spyglass/lib/python3.8/site-packages/pynwb/behavior.py:46: UserWarning: SpatialSeries 'series_0' has data shape (9234, 6) which is not compliant with NWB 2.5 and greater. The second dimension should have length <= 3 to represent at most x, y, z.\n",
      "  warnings.warn(\"SpatialSeries '%s' has data shape %s which is not compliant with NWB 2.5 and greater. \"\n",
      "/home/shijiegu/anaconda3/envs/spyglass/lib/python3.8/site-packages/pynwb/behavior.py:46: UserWarning: SpatialSeries 'series_2' has data shape (42690, 6) which is not compliant with NWB 2.5 and greater. The second dimension should have length <= 3 to represent at most x, y, z.\n",
      "  warnings.warn(\"SpatialSeries '%s' has data shape %s which is not compliant with NWB 2.5 and greater. \"\n",
      "/home/shijiegu/anaconda3/envs/spyglass/lib/python3.8/site-packages/pynwb/behavior.py:46: UserWarning: SpatialSeries 'series_2' has data shape (42690, 6) which is not compliant with NWB 2.5 and greater. The second dimension should have length <= 3 to represent at most x, y, z.\n",
      "  warnings.warn(\"SpatialSeries '%s' has data shape %s which is not compliant with NWB 2.5 and greater. \"\n",
      "/home/shijiegu/anaconda3/envs/spyglass/lib/python3.8/site-packages/pynwb/behavior.py:46: UserWarning: SpatialSeries 'series_1' has data shape (41512, 6) which is not compliant with NWB 2.5 and greater. The second dimension should have length <= 3 to represent at most x, y, z.\n",
      "  warnings.warn(\"SpatialSeries '%s' has data shape %s which is not compliant with NWB 2.5 and greater. \"\n",
      "/home/shijiegu/anaconda3/envs/spyglass/lib/python3.8/site-packages/pynwb/behavior.py:46: UserWarning: SpatialSeries 'series_2' has data shape (42690, 6) which is not compliant with NWB 2.5 and greater. The second dimension should have length <= 3 to represent at most x, y, z.\n",
      "  warnings.warn(\"SpatialSeries '%s' has data shape %s which is not compliant with NWB 2.5 and greater. \"\n",
      "/home/shijiegu/anaconda3/envs/spyglass/lib/python3.8/site-packages/pynwb/behavior.py:46: UserWarning: SpatialSeries 'series_0' has data shape (9234, 6) which is not compliant with NWB 2.5 and greater. The second dimension should have length <= 3 to represent at most x, y, z.\n",
      "  warnings.warn(\"SpatialSeries '%s' has data shape %s which is not compliant with NWB 2.5 and greater. \"\n",
      "/home/shijiegu/anaconda3/envs/spyglass/lib/python3.8/site-packages/pynwb/behavior.py:46: UserWarning: SpatialSeries 'series_1' has data shape (41512, 6) which is not compliant with NWB 2.5 and greater. The second dimension should have length <= 3 to represent at most x, y, z.\n",
      "  warnings.warn(\"SpatialSeries '%s' has data shape %s which is not compliant with NWB 2.5 and greater. \"\n",
      "/home/shijiegu/anaconda3/envs/spyglass/lib/python3.8/site-packages/pynwb/behavior.py:46: UserWarning: SpatialSeries 'series_2' has data shape (42690, 6) which is not compliant with NWB 2.5 and greater. The second dimension should have length <= 3 to represent at most x, y, z.\n",
      "  warnings.warn(\"SpatialSeries '%s' has data shape %s which is not compliant with NWB 2.5 and greater. \"\n",
      "/home/shijiegu/anaconda3/envs/spyglass/lib/python3.8/site-packages/pynwb/behavior.py:46: UserWarning: SpatialSeries 'series_0' has data shape (9234, 6) which is not compliant with NWB 2.5 and greater. The second dimension should have length <= 3 to represent at most x, y, z.\n",
      "  warnings.warn(\"SpatialSeries '%s' has data shape %s which is not compliant with NWB 2.5 and greater. \"\n",
      "/home/shijiegu/anaconda3/envs/spyglass/lib/python3.8/site-packages/pynwb/behavior.py:46: UserWarning: SpatialSeries 'series_1' has data shape (41512, 6) which is not compliant with NWB 2.5 and greater. The second dimension should have length <= 3 to represent at most x, y, z.\n",
      "  warnings.warn(\"SpatialSeries '%s' has data shape %s which is not compliant with NWB 2.5 and greater. \"\n",
      "/home/shijiegu/anaconda3/envs/spyglass/lib/python3.8/site-packages/pynwb/behavior.py:46: UserWarning: SpatialSeries 'series_2' has data shape (42690, 6) which is not compliant with NWB 2.5 and greater. The second dimension should have length <= 3 to represent at most x, y, z.\n",
      "  warnings.warn(\"SpatialSeries '%s' has data shape %s which is not compliant with NWB 2.5 and greater. \"\n"
     ]
    },
    {
     "name": "stdout",
     "output_type": "stream",
     "text": [
      "write_binary_recordingwrite_binary_recording  with n_jobs =with n_jobs =  8 8and chunk_size = 299593 \n",
      "and chunk_size = 299593\n",
      "write_binary_recording write_binary_recordingwrite_binary_recordingwrite_binary_recordingwrite_binary_recordingwrite_binary_recordingwith n_jobs =      with n_jobs =with n_jobs =with n_jobs =with n_jobs =8with n_jobs =      888and chunk_size =88      and chunk_size =and chunk_size =and chunk_size =and chunk_size =299593and chunk_size =     \n",
      "299593299593299593299593299593\n",
      "\n",
      "\n",
      "\n",
      "\n"
     ]
    },
    {
     "ename": "AssertionError",
     "evalue": "daemonic processes are not allowed to have children",
     "output_type": "error",
     "traceback": [
      "\u001b[0;31m---------------------------------------------------------------------------\u001b[0m",
      "\u001b[0;31mRemoteTraceback\u001b[0m                           Traceback (most recent call last)",
      "\u001b[0;31mRemoteTraceback\u001b[0m: \n\"\"\"\nTraceback (most recent call last):\n  File \"/home/shijiegu/anaconda3/envs/spyglass/lib/python3.8/multiprocessing/pool.py\", line 125, in worker\n    result = (True, func(*args, **kwds))\n  File \"/home/shijiegu/anaconda3/envs/spyglass/lib/python3.8/multiprocessing/pool.py\", line 48, in mapstar\n    return list(map(*args))\n  File \"/tmp/ipykernel_645029/3879663137.py\", line 15, in func\n    SpikeSortingRecording.populate([(SpikeSortingRecordingSelection & ssr_key1).proj()])\n  File \"/home/shijiegu/anaconda3/envs/spyglass/lib/python3.8/site-packages/datajoint/autopopulate.py\", line 241, in populate\n    error = self._populate1(key, jobs, **populate_kwargs)\n  File \"/home/shijiegu/anaconda3/envs/spyglass/lib/python3.8/site-packages/datajoint/autopopulate.py\", line 292, in _populate1\n    make(dict(key), **(make_kwargs or {}))\n  File \"/home/shijiegu/Documents/spyglass/src/spyglass/spikesorting/spikesorting_recording.py\", line 374, in make\n    recording = recording.save(\n  File \"/home/shijiegu/anaconda3/envs/spyglass/lib/python3.8/site-packages/spikeinterface/core/base.py\", line 621, in save\n    loaded_extractor = self.save_to_folder(**kwargs)\n  File \"/home/shijiegu/anaconda3/envs/spyglass/lib/python3.8/site-packages/spikeinterface/core/base.py\", line 700, in save_to_folder\n    cached = self._save(folder=folder, verbose=verbose, **save_kwargs)\n  File \"/home/shijiegu/anaconda3/envs/spyglass/lib/python3.8/site-packages/spikeinterface/core/baserecording.py\", line 297, in _save\n    write_binary_recording(self, file_paths=file_paths, dtype=dtype, **job_kwargs)\n  File \"/home/shijiegu/anaconda3/envs/spyglass/lib/python3.8/site-packages/spikeinterface/core/core_tools.py\", line 280, in write_binary_recording\n    executor.run()\n  File \"/home/shijiegu/anaconda3/envs/spyglass/lib/python3.8/site-packages/spikeinterface/core/job_tools.py\", line 355, in run\n    results = executor.map(function_wrapper, all_chunks)\n  File \"/home/shijiegu/anaconda3/envs/spyglass/lib/python3.8/concurrent/futures/process.py\", line 674, in map\n    results = super().map(partial(_process_chunk, fn),\n  File \"/home/shijiegu/anaconda3/envs/spyglass/lib/python3.8/concurrent/futures/_base.py\", line 608, in map\n    fs = [self.submit(fn, *args) for args in zip(*iterables)]\n  File \"/home/shijiegu/anaconda3/envs/spyglass/lib/python3.8/concurrent/futures/_base.py\", line 608, in <listcomp>\n    fs = [self.submit(fn, *args) for args in zip(*iterables)]\n  File \"/home/shijiegu/anaconda3/envs/spyglass/lib/python3.8/concurrent/futures/process.py\", line 645, in submit\n    self._start_queue_management_thread()\n  File \"/home/shijiegu/anaconda3/envs/spyglass/lib/python3.8/concurrent/futures/process.py\", line 584, in _start_queue_management_thread\n    self._adjust_process_count()\n  File \"/home/shijiegu/anaconda3/envs/spyglass/lib/python3.8/concurrent/futures/process.py\", line 608, in _adjust_process_count\n    p.start()\n  File \"/home/shijiegu/anaconda3/envs/spyglass/lib/python3.8/multiprocessing/process.py\", line 118, in start\n    assert not _current_process._config.get('daemon'), \\\nAssertionError: daemonic processes are not allowed to have children\n\"\"\"",
      "\nThe above exception was the direct cause of the following exception:\n",
      "\u001b[0;31mAssertionError\u001b[0m                            Traceback (most recent call last)",
      "Input \u001b[0;32mIn [75]\u001b[0m, in \u001b[0;36m<cell line: 6>\u001b[0;34m()\u001b[0m\n\u001b[1;32m      1\u001b[0m \u001b[38;5;66;03m# Use GPU #6\u001b[39;00m\n\u001b[1;32m      2\u001b[0m \u001b[38;5;66;03m#GPU_ID = 0\u001b[39;00m\n\u001b[1;32m      3\u001b[0m \n\u001b[1;32m      4\u001b[0m \u001b[38;5;66;03m# use context manager to specify which GPU (device)\u001b[39;00m\n\u001b[1;32m      5\u001b[0m \u001b[38;5;66;03m#with cp.cuda.Device(GPU_ID):\u001b[39;00m\n\u001b[1;32m      6\u001b[0m \u001b[38;5;28;01mwith\u001b[39;00m multiprocessing\u001b[38;5;241m.\u001b[39mPool(\u001b[38;5;241m12\u001b[39m) \u001b[38;5;28;01mas\u001b[39;00m p:\n\u001b[0;32m----> 7\u001b[0m     \u001b[43mp\u001b[49m\u001b[38;5;241;43m.\u001b[39;49m\u001b[43mmap\u001b[49m\u001b[43m(\u001b[49m\u001b[43mfunc\u001b[49m\u001b[43m,\u001b[49m\u001b[38;5;28;43mlist\u001b[39;49m\u001b[43m(\u001b[49m\u001b[43mnp\u001b[49m\u001b[38;5;241;43m.\u001b[39;49m\u001b[43mconcatenate\u001b[49m\u001b[43m(\u001b[49m\u001b[43m[\u001b[49m\u001b[43mall_tet_list\u001b[49m\u001b[43m,\u001b[49m\u001b[43m[\u001b[49m\u001b[38;5;241;43m100\u001b[39;49m\u001b[43m,\u001b[49m\u001b[38;5;241;43m101\u001b[39;49m\u001b[43m]\u001b[49m\u001b[43m]\u001b[49m\u001b[43m)\u001b[49m\u001b[43m)\u001b[49m\u001b[43m)\u001b[49m\n",
      "File \u001b[0;32m~/anaconda3/envs/spyglass/lib/python3.8/multiprocessing/pool.py:364\u001b[0m, in \u001b[0;36mPool.map\u001b[0;34m(self, func, iterable, chunksize)\u001b[0m\n\u001b[1;32m    359\u001b[0m \u001b[38;5;28;01mdef\u001b[39;00m \u001b[38;5;21mmap\u001b[39m(\u001b[38;5;28mself\u001b[39m, func, iterable, chunksize\u001b[38;5;241m=\u001b[39m\u001b[38;5;28;01mNone\u001b[39;00m):\n\u001b[1;32m    360\u001b[0m \u001b[38;5;250m    \u001b[39m\u001b[38;5;124;03m'''\u001b[39;00m\n\u001b[1;32m    361\u001b[0m \u001b[38;5;124;03m    Apply `func` to each element in `iterable`, collecting the results\u001b[39;00m\n\u001b[1;32m    362\u001b[0m \u001b[38;5;124;03m    in a list that is returned.\u001b[39;00m\n\u001b[1;32m    363\u001b[0m \u001b[38;5;124;03m    '''\u001b[39;00m\n\u001b[0;32m--> 364\u001b[0m     \u001b[38;5;28;01mreturn\u001b[39;00m \u001b[38;5;28;43mself\u001b[39;49m\u001b[38;5;241;43m.\u001b[39;49m\u001b[43m_map_async\u001b[49m\u001b[43m(\u001b[49m\u001b[43mfunc\u001b[49m\u001b[43m,\u001b[49m\u001b[43m \u001b[49m\u001b[43miterable\u001b[49m\u001b[43m,\u001b[49m\u001b[43m \u001b[49m\u001b[43mmapstar\u001b[49m\u001b[43m,\u001b[49m\u001b[43m \u001b[49m\u001b[43mchunksize\u001b[49m\u001b[43m)\u001b[49m\u001b[38;5;241;43m.\u001b[39;49m\u001b[43mget\u001b[49m\u001b[43m(\u001b[49m\u001b[43m)\u001b[49m\n",
      "File \u001b[0;32m~/anaconda3/envs/spyglass/lib/python3.8/multiprocessing/pool.py:771\u001b[0m, in \u001b[0;36mApplyResult.get\u001b[0;34m(self, timeout)\u001b[0m\n\u001b[1;32m    769\u001b[0m     \u001b[38;5;28;01mreturn\u001b[39;00m \u001b[38;5;28mself\u001b[39m\u001b[38;5;241m.\u001b[39m_value\n\u001b[1;32m    770\u001b[0m \u001b[38;5;28;01melse\u001b[39;00m:\n\u001b[0;32m--> 771\u001b[0m     \u001b[38;5;28;01mraise\u001b[39;00m \u001b[38;5;28mself\u001b[39m\u001b[38;5;241m.\u001b[39m_value\n",
      "File \u001b[0;32m~/anaconda3/envs/spyglass/lib/python3.8/multiprocessing/pool.py:125\u001b[0m, in \u001b[0;36mworker\u001b[0;34m()\u001b[0m\n\u001b[1;32m    123\u001b[0m job, i, func, args, kwds \u001b[38;5;241m=\u001b[39m task\n\u001b[1;32m    124\u001b[0m \u001b[38;5;28;01mtry\u001b[39;00m:\n\u001b[0;32m--> 125\u001b[0m     result \u001b[38;5;241m=\u001b[39m (\u001b[38;5;28;01mTrue\u001b[39;00m, func(\u001b[38;5;241m*\u001b[39margs, \u001b[38;5;241m*\u001b[39m\u001b[38;5;241m*\u001b[39mkwds))\n\u001b[1;32m    126\u001b[0m \u001b[38;5;28;01mexcept\u001b[39;00m \u001b[38;5;167;01mException\u001b[39;00m \u001b[38;5;28;01mas\u001b[39;00m e:\n\u001b[1;32m    127\u001b[0m     \u001b[38;5;28;01mif\u001b[39;00m wrap_exception \u001b[38;5;129;01mand\u001b[39;00m func \u001b[38;5;129;01mis\u001b[39;00m \u001b[38;5;129;01mnot\u001b[39;00m _helper_reraises_exception:\n",
      "File \u001b[0;32m~/anaconda3/envs/spyglass/lib/python3.8/multiprocessing/pool.py:48\u001b[0m, in \u001b[0;36mmapstar\u001b[0;34m()\u001b[0m\n\u001b[1;32m     47\u001b[0m \u001b[38;5;28;01mdef\u001b[39;00m \u001b[38;5;21mmapstar\u001b[39m(args):\n\u001b[0;32m---> 48\u001b[0m     \u001b[38;5;28;01mreturn\u001b[39;00m \u001b[38;5;28mlist\u001b[39m(\u001b[38;5;28mmap\u001b[39m(\u001b[38;5;241m*\u001b[39margs))\n",
      "Input \u001b[0;32mIn [59]\u001b[0m, in \u001b[0;36mfunc\u001b[0;34m()\u001b[0m\n\u001b[1;32m     12\u001b[0m ssr_key1 \u001b[38;5;241m=\u001b[39m key\n\u001b[1;32m     14\u001b[0m SpikeSortingRecordingSelection\u001b[38;5;241m.\u001b[39minsert1(ssr_key1, skip_duplicates\u001b[38;5;241m=\u001b[39m\u001b[38;5;28;01mTrue\u001b[39;00m)\n\u001b[0;32m---> 15\u001b[0m SpikeSortingRecording\u001b[38;5;241m.\u001b[39mpopulate([(SpikeSortingRecordingSelection \u001b[38;5;241m&\u001b[39m ssr_key1)\u001b[38;5;241m.\u001b[39mproj()])\n",
      "File \u001b[0;32m~/anaconda3/envs/spyglass/lib/python3.8/site-packages/datajoint/autopopulate.py:241\u001b[0m, in \u001b[0;36mpopulate\u001b[0;34m()\u001b[0m\n\u001b[1;32m    237\u001b[0m \u001b[38;5;28;01mif\u001b[39;00m processes \u001b[38;5;241m==\u001b[39m \u001b[38;5;241m1\u001b[39m:\n\u001b[1;32m    238\u001b[0m     \u001b[38;5;28;01mfor\u001b[39;00m key \u001b[38;5;129;01min\u001b[39;00m (\n\u001b[1;32m    239\u001b[0m         tqdm(keys, desc\u001b[38;5;241m=\u001b[39m\u001b[38;5;28mself\u001b[39m\u001b[38;5;241m.\u001b[39m\u001b[38;5;18m__class__\u001b[39m\u001b[38;5;241m.\u001b[39m\u001b[38;5;18m__name__\u001b[39m) \u001b[38;5;28;01mif\u001b[39;00m display_progress \u001b[38;5;28;01melse\u001b[39;00m keys\n\u001b[1;32m    240\u001b[0m     ):\n\u001b[0;32m--> 241\u001b[0m         error \u001b[38;5;241m=\u001b[39m \u001b[38;5;28mself\u001b[39m\u001b[38;5;241m.\u001b[39m_populate1(key, jobs, \u001b[38;5;241m*\u001b[39m\u001b[38;5;241m*\u001b[39mpopulate_kwargs)\n\u001b[1;32m    242\u001b[0m         \u001b[38;5;28;01mif\u001b[39;00m error \u001b[38;5;129;01mis\u001b[39;00m \u001b[38;5;129;01mnot\u001b[39;00m \u001b[38;5;28;01mNone\u001b[39;00m:\n\u001b[1;32m    243\u001b[0m             error_list\u001b[38;5;241m.\u001b[39mappend(error)\n",
      "File \u001b[0;32m~/anaconda3/envs/spyglass/lib/python3.8/site-packages/datajoint/autopopulate.py:292\u001b[0m, in \u001b[0;36m_populate1\u001b[0;34m()\u001b[0m\n\u001b[1;32m    290\u001b[0m \u001b[38;5;28mself\u001b[39m\u001b[38;5;241m.\u001b[39m\u001b[38;5;18m__class__\u001b[39m\u001b[38;5;241m.\u001b[39m_allow_insert \u001b[38;5;241m=\u001b[39m \u001b[38;5;28;01mTrue\u001b[39;00m\n\u001b[1;32m    291\u001b[0m \u001b[38;5;28;01mtry\u001b[39;00m:\n\u001b[0;32m--> 292\u001b[0m     make(\u001b[38;5;28mdict\u001b[39m(key), \u001b[38;5;241m*\u001b[39m\u001b[38;5;241m*\u001b[39m(make_kwargs \u001b[38;5;129;01mor\u001b[39;00m {}))\n\u001b[1;32m    293\u001b[0m \u001b[38;5;28;01mexcept\u001b[39;00m (\u001b[38;5;167;01mKeyboardInterrupt\u001b[39;00m, \u001b[38;5;167;01mSystemExit\u001b[39;00m, \u001b[38;5;167;01mException\u001b[39;00m) \u001b[38;5;28;01mas\u001b[39;00m error:\n\u001b[1;32m    294\u001b[0m     \u001b[38;5;28;01mtry\u001b[39;00m:\n",
      "File \u001b[0;32m~/Documents/spyglass/src/spyglass/spikesorting/spikesorting_recording.py:374\u001b[0m, in \u001b[0;36mmake\u001b[0;34m()\u001b[0m\n\u001b[1;32m    372\u001b[0m \u001b[38;5;28;01mif\u001b[39;00m os\u001b[38;5;241m.\u001b[39mpath\u001b[38;5;241m.\u001b[39mexists(key[\u001b[38;5;124m\"\u001b[39m\u001b[38;5;124mrecording_path\u001b[39m\u001b[38;5;124m\"\u001b[39m]):\n\u001b[1;32m    373\u001b[0m     shutil\u001b[38;5;241m.\u001b[39mrmtree(key[\u001b[38;5;124m\"\u001b[39m\u001b[38;5;124mrecording_path\u001b[39m\u001b[38;5;124m\"\u001b[39m])\n\u001b[0;32m--> 374\u001b[0m recording \u001b[38;5;241m=\u001b[39m recording\u001b[38;5;241m.\u001b[39msave(\n\u001b[1;32m    375\u001b[0m     folder\u001b[38;5;241m=\u001b[39mkey[\u001b[38;5;124m\"\u001b[39m\u001b[38;5;124mrecording_path\u001b[39m\u001b[38;5;124m\"\u001b[39m], chunk_duration\u001b[38;5;241m=\u001b[39m\u001b[38;5;124m\"\u001b[39m\u001b[38;5;124m10000ms\u001b[39m\u001b[38;5;124m\"\u001b[39m, n_jobs\u001b[38;5;241m=\u001b[39m\u001b[38;5;241m1\u001b[39m\n\u001b[1;32m    376\u001b[0m )\n\u001b[1;32m    378\u001b[0m \u001b[38;5;28mself\u001b[39m\u001b[38;5;241m.\u001b[39minsert1(key)\n",
      "File \u001b[0;32m~/anaconda3/envs/spyglass/lib/python3.8/site-packages/spikeinterface/core/base.py:621\u001b[0m, in \u001b[0;36msave\u001b[0;34m()\u001b[0m\n\u001b[1;32m    619\u001b[0m     loaded_extractor \u001b[38;5;241m=\u001b[39m \u001b[38;5;28mself\u001b[39m\u001b[38;5;241m.\u001b[39msave_to_zarr(\u001b[38;5;241m*\u001b[39m\u001b[38;5;241m*\u001b[39mkwargs)\n\u001b[1;32m    620\u001b[0m \u001b[38;5;28;01melse\u001b[39;00m:\n\u001b[0;32m--> 621\u001b[0m     loaded_extractor \u001b[38;5;241m=\u001b[39m \u001b[38;5;28mself\u001b[39m\u001b[38;5;241m.\u001b[39msave_to_folder(\u001b[38;5;241m*\u001b[39m\u001b[38;5;241m*\u001b[39mkwargs)\n\u001b[1;32m    622\u001b[0m \u001b[38;5;28;01mreturn\u001b[39;00m loaded_extractor\n",
      "File \u001b[0;32m~/anaconda3/envs/spyglass/lib/python3.8/site-packages/spikeinterface/core/base.py:700\u001b[0m, in \u001b[0;36msave_to_folder\u001b[0;34m()\u001b[0m\n\u001b[1;32m    697\u001b[0m \u001b[38;5;28mself\u001b[39m\u001b[38;5;241m.\u001b[39msave_metadata_to_folder(folder)\n\u001b[1;32m    699\u001b[0m \u001b[38;5;66;03m# save data (done the subclass)\u001b[39;00m\n\u001b[0;32m--> 700\u001b[0m cached \u001b[38;5;241m=\u001b[39m \u001b[38;5;28mself\u001b[39m\u001b[38;5;241m.\u001b[39m_save(folder\u001b[38;5;241m=\u001b[39mfolder, verbose\u001b[38;5;241m=\u001b[39mverbose, \u001b[38;5;241m*\u001b[39m\u001b[38;5;241m*\u001b[39msave_kwargs)\n\u001b[1;32m    702\u001b[0m \u001b[38;5;66;03m# copy properties/\u001b[39;00m\n\u001b[1;32m    703\u001b[0m \u001b[38;5;28mself\u001b[39m\u001b[38;5;241m.\u001b[39mcopy_metadata(cached)\n",
      "File \u001b[0;32m~/anaconda3/envs/spyglass/lib/python3.8/site-packages/spikeinterface/core/baserecording.py:297\u001b[0m, in \u001b[0;36m_save\u001b[0;34m()\u001b[0m\n\u001b[1;32m    294\u001b[0m file_paths \u001b[38;5;241m=\u001b[39m [folder \u001b[38;5;241m/\u001b[39m \u001b[38;5;124mf\u001b[39m\u001b[38;5;124m'\u001b[39m\u001b[38;5;124mtraces_cached_seg\u001b[39m\u001b[38;5;132;01m{\u001b[39;00mi\u001b[38;5;132;01m}\u001b[39;00m\u001b[38;5;124m.raw\u001b[39m\u001b[38;5;124m'\u001b[39m \u001b[38;5;28;01mfor\u001b[39;00m i \u001b[38;5;129;01min\u001b[39;00m \u001b[38;5;28mrange\u001b[39m(\u001b[38;5;28mself\u001b[39m\u001b[38;5;241m.\u001b[39mget_num_segments())]\n\u001b[1;32m    295\u001b[0m dtype \u001b[38;5;241m=\u001b[39m kwargs\u001b[38;5;241m.\u001b[39mget(\u001b[38;5;124m'\u001b[39m\u001b[38;5;124mdtype\u001b[39m\u001b[38;5;124m'\u001b[39m, \u001b[38;5;28;01mNone\u001b[39;00m) \u001b[38;5;129;01mor\u001b[39;00m \u001b[38;5;28mself\u001b[39m\u001b[38;5;241m.\u001b[39mget_dtype()\n\u001b[0;32m--> 297\u001b[0m write_binary_recording(\u001b[38;5;28mself\u001b[39m, file_paths\u001b[38;5;241m=\u001b[39mfile_paths, dtype\u001b[38;5;241m=\u001b[39mdtype, \u001b[38;5;241m*\u001b[39m\u001b[38;5;241m*\u001b[39mjob_kwargs)\n\u001b[1;32m    299\u001b[0m \u001b[38;5;28;01mfrom\u001b[39;00m \u001b[38;5;21;01m.\u001b[39;00m\u001b[38;5;21;01mbinaryrecordingextractor\u001b[39;00m \u001b[38;5;28;01mimport\u001b[39;00m BinaryRecordingExtractor\n\u001b[1;32m    300\u001b[0m binary_rec \u001b[38;5;241m=\u001b[39m BinaryRecordingExtractor(file_paths\u001b[38;5;241m=\u001b[39mfile_paths, sampling_frequency\u001b[38;5;241m=\u001b[39m\u001b[38;5;28mself\u001b[39m\u001b[38;5;241m.\u001b[39mget_sampling_frequency(),\n\u001b[1;32m    301\u001b[0m                                       num_chan\u001b[38;5;241m=\u001b[39m\u001b[38;5;28mself\u001b[39m\u001b[38;5;241m.\u001b[39mget_num_channels(), dtype\u001b[38;5;241m=\u001b[39mdtype,\n\u001b[1;32m    302\u001b[0m                                       t_starts\u001b[38;5;241m=\u001b[39mt_starts, channel_ids\u001b[38;5;241m=\u001b[39m\u001b[38;5;28mself\u001b[39m\u001b[38;5;241m.\u001b[39mget_channel_ids(), time_axis\u001b[38;5;241m=\u001b[39m\u001b[38;5;241m0\u001b[39m,\n\u001b[1;32m    303\u001b[0m                                       file_offset\u001b[38;5;241m=\u001b[39m\u001b[38;5;241m0\u001b[39m, gain_to_uV\u001b[38;5;241m=\u001b[39m\u001b[38;5;28mself\u001b[39m\u001b[38;5;241m.\u001b[39mget_channel_gains(),\n\u001b[1;32m    304\u001b[0m                                       offset_to_uV\u001b[38;5;241m=\u001b[39m\u001b[38;5;28mself\u001b[39m\u001b[38;5;241m.\u001b[39mget_channel_offsets())\n",
      "File \u001b[0;32m~/anaconda3/envs/spyglass/lib/python3.8/site-packages/spikeinterface/core/core_tools.py:280\u001b[0m, in \u001b[0;36mwrite_binary_recording\u001b[0;34m()\u001b[0m\n\u001b[1;32m    277\u001b[0m     init_args \u001b[38;5;241m=\u001b[39m (recording\u001b[38;5;241m.\u001b[39mto_dict(), rec_memmaps_dict, dtype, cast_unsigned)\n\u001b[1;32m    278\u001b[0m executor \u001b[38;5;241m=\u001b[39m ChunkRecordingExecutor(recording, func, init_func, init_args, verbose\u001b[38;5;241m=\u001b[39mverbose,\n\u001b[1;32m    279\u001b[0m                                   job_name\u001b[38;5;241m=\u001b[39m\u001b[38;5;124m'\u001b[39m\u001b[38;5;124mwrite_binary_recording\u001b[39m\u001b[38;5;124m'\u001b[39m, \u001b[38;5;241m*\u001b[39m\u001b[38;5;241m*\u001b[39mjob_kwargs)\n\u001b[0;32m--> 280\u001b[0m executor\u001b[38;5;241m.\u001b[39mrun()\n",
      "File \u001b[0;32m~/anaconda3/envs/spyglass/lib/python3.8/site-packages/spikeinterface/core/job_tools.py:355\u001b[0m, in \u001b[0;36mrun\u001b[0;34m()\u001b[0m\n\u001b[1;32m    344\u001b[0m \u001b[38;5;66;03m######## Do you want to limit the number of threads per process?\u001b[39;00m\n\u001b[1;32m    345\u001b[0m \u001b[38;5;66;03m######## It has to be done to speed up numpy a lot if multicores\u001b[39;00m\n\u001b[1;32m    346\u001b[0m \u001b[38;5;66;03m######## Otherwise, np.dot will be slow. How to do that, up to you\u001b[39;00m\n\u001b[1;32m    347\u001b[0m \u001b[38;5;66;03m######## This is just a suggestion, but here it adds a dependency\u001b[39;00m\n\u001b[1;32m    348\u001b[0m \n\u001b[1;32m    349\u001b[0m \u001b[38;5;66;03m# parallel\u001b[39;00m\n\u001b[1;32m    350\u001b[0m \u001b[38;5;28;01mwith\u001b[39;00m ProcessPoolExecutor(max_workers\u001b[38;5;241m=\u001b[39mn_jobs,\n\u001b[1;32m    351\u001b[0m                          initializer\u001b[38;5;241m=\u001b[39mworker_initializer,\n\u001b[1;32m    352\u001b[0m                          mp_context\u001b[38;5;241m=\u001b[39mmp\u001b[38;5;241m.\u001b[39mget_context(\u001b[38;5;28mself\u001b[39m\u001b[38;5;241m.\u001b[39mmp_context),\n\u001b[1;32m    353\u001b[0m                          initargs\u001b[38;5;241m=\u001b[39m(\u001b[38;5;28mself\u001b[39m\u001b[38;5;241m.\u001b[39mfunc, \u001b[38;5;28mself\u001b[39m\u001b[38;5;241m.\u001b[39minit_func, \u001b[38;5;28mself\u001b[39m\u001b[38;5;241m.\u001b[39minit_args, \u001b[38;5;28mself\u001b[39m\u001b[38;5;241m.\u001b[39mmax_threads_per_process)) \u001b[38;5;28;01mas\u001b[39;00m executor:\n\u001b[0;32m--> 355\u001b[0m     results \u001b[38;5;241m=\u001b[39m executor\u001b[38;5;241m.\u001b[39mmap(function_wrapper, all_chunks)\n\u001b[1;32m    357\u001b[0m     \u001b[38;5;28;01mif\u001b[39;00m \u001b[38;5;28mself\u001b[39m\u001b[38;5;241m.\u001b[39mprogress_bar:\n\u001b[1;32m    358\u001b[0m         results \u001b[38;5;241m=\u001b[39m tqdm(results, desc\u001b[38;5;241m=\u001b[39m\u001b[38;5;28mself\u001b[39m\u001b[38;5;241m.\u001b[39mjob_name, total\u001b[38;5;241m=\u001b[39m\u001b[38;5;28mlen\u001b[39m(all_chunks))\n",
      "File \u001b[0;32m~/anaconda3/envs/spyglass/lib/python3.8/concurrent/futures/process.py:674\u001b[0m, in \u001b[0;36mmap\u001b[0;34m()\u001b[0m\n\u001b[1;32m    671\u001b[0m \u001b[38;5;28;01mif\u001b[39;00m chunksize \u001b[38;5;241m<\u001b[39m \u001b[38;5;241m1\u001b[39m:\n\u001b[1;32m    672\u001b[0m     \u001b[38;5;28;01mraise\u001b[39;00m \u001b[38;5;167;01mValueError\u001b[39;00m(\u001b[38;5;124m\"\u001b[39m\u001b[38;5;124mchunksize must be >= 1.\u001b[39m\u001b[38;5;124m\"\u001b[39m)\n\u001b[0;32m--> 674\u001b[0m results \u001b[38;5;241m=\u001b[39m \u001b[38;5;28msuper\u001b[39m()\u001b[38;5;241m.\u001b[39mmap(partial(_process_chunk, fn),\n\u001b[1;32m    675\u001b[0m                       _get_chunks(\u001b[38;5;241m*\u001b[39miterables, chunksize\u001b[38;5;241m=\u001b[39mchunksize),\n\u001b[1;32m    676\u001b[0m                       timeout\u001b[38;5;241m=\u001b[39mtimeout)\n\u001b[1;32m    677\u001b[0m \u001b[38;5;28;01mreturn\u001b[39;00m _chain_from_iterable_of_lists(results)\n",
      "File \u001b[0;32m~/anaconda3/envs/spyglass/lib/python3.8/concurrent/futures/_base.py:608\u001b[0m, in \u001b[0;36mmap\u001b[0;34m()\u001b[0m\n\u001b[1;32m    605\u001b[0m \u001b[38;5;28;01mif\u001b[39;00m timeout \u001b[38;5;129;01mis\u001b[39;00m \u001b[38;5;129;01mnot\u001b[39;00m \u001b[38;5;28;01mNone\u001b[39;00m:\n\u001b[1;32m    606\u001b[0m     end_time \u001b[38;5;241m=\u001b[39m timeout \u001b[38;5;241m+\u001b[39m time\u001b[38;5;241m.\u001b[39mmonotonic()\n\u001b[0;32m--> 608\u001b[0m fs \u001b[38;5;241m=\u001b[39m [\u001b[38;5;28mself\u001b[39m\u001b[38;5;241m.\u001b[39msubmit(fn, \u001b[38;5;241m*\u001b[39margs) \u001b[38;5;28;01mfor\u001b[39;00m args \u001b[38;5;129;01min\u001b[39;00m \u001b[38;5;28mzip\u001b[39m(\u001b[38;5;241m*\u001b[39miterables)]\n\u001b[1;32m    610\u001b[0m \u001b[38;5;66;03m# Yield must be hidden in closure so that the futures are submitted\u001b[39;00m\n\u001b[1;32m    611\u001b[0m \u001b[38;5;66;03m# before the first iterator value is required.\u001b[39;00m\n\u001b[1;32m    612\u001b[0m \u001b[38;5;28;01mdef\u001b[39;00m \u001b[38;5;21mresult_iterator\u001b[39m():\n",
      "File \u001b[0;32m~/anaconda3/envs/spyglass/lib/python3.8/concurrent/futures/_base.py:608\u001b[0m, in \u001b[0;36m<listcomp>\u001b[0;34m()\u001b[0m\n\u001b[1;32m    605\u001b[0m \u001b[38;5;28;01mif\u001b[39;00m timeout \u001b[38;5;129;01mis\u001b[39;00m \u001b[38;5;129;01mnot\u001b[39;00m \u001b[38;5;28;01mNone\u001b[39;00m:\n\u001b[1;32m    606\u001b[0m     end_time \u001b[38;5;241m=\u001b[39m timeout \u001b[38;5;241m+\u001b[39m time\u001b[38;5;241m.\u001b[39mmonotonic()\n\u001b[0;32m--> 608\u001b[0m fs \u001b[38;5;241m=\u001b[39m [\u001b[38;5;28mself\u001b[39m\u001b[38;5;241m.\u001b[39msubmit(fn, \u001b[38;5;241m*\u001b[39margs) \u001b[38;5;28;01mfor\u001b[39;00m args \u001b[38;5;129;01min\u001b[39;00m \u001b[38;5;28mzip\u001b[39m(\u001b[38;5;241m*\u001b[39miterables)]\n\u001b[1;32m    610\u001b[0m \u001b[38;5;66;03m# Yield must be hidden in closure so that the futures are submitted\u001b[39;00m\n\u001b[1;32m    611\u001b[0m \u001b[38;5;66;03m# before the first iterator value is required.\u001b[39;00m\n\u001b[1;32m    612\u001b[0m \u001b[38;5;28;01mdef\u001b[39;00m \u001b[38;5;21mresult_iterator\u001b[39m():\n",
      "File \u001b[0;32m~/anaconda3/envs/spyglass/lib/python3.8/concurrent/futures/process.py:645\u001b[0m, in \u001b[0;36msubmit\u001b[0;34m()\u001b[0m\n\u001b[1;32m    642\u001b[0m \u001b[38;5;66;03m# Wake up queue management thread\u001b[39;00m\n\u001b[1;32m    643\u001b[0m \u001b[38;5;28mself\u001b[39m\u001b[38;5;241m.\u001b[39m_queue_management_thread_wakeup\u001b[38;5;241m.\u001b[39mwakeup()\n\u001b[0;32m--> 645\u001b[0m \u001b[38;5;28mself\u001b[39m\u001b[38;5;241m.\u001b[39m_start_queue_management_thread()\n\u001b[1;32m    646\u001b[0m \u001b[38;5;28;01mreturn\u001b[39;00m f\n",
      "File \u001b[0;32m~/anaconda3/envs/spyglass/lib/python3.8/concurrent/futures/process.py:584\u001b[0m, in \u001b[0;36m_start_queue_management_thread\u001b[0;34m()\u001b[0m\n\u001b[1;32m    582\u001b[0m     thread_wakeup\u001b[38;5;241m.\u001b[39mwakeup()\n\u001b[1;32m    583\u001b[0m \u001b[38;5;66;03m# Start the processes so that their sentinels are known.\u001b[39;00m\n\u001b[0;32m--> 584\u001b[0m \u001b[38;5;28mself\u001b[39m\u001b[38;5;241m.\u001b[39m_adjust_process_count()\n\u001b[1;32m    585\u001b[0m \u001b[38;5;28mself\u001b[39m\u001b[38;5;241m.\u001b[39m_queue_management_thread \u001b[38;5;241m=\u001b[39m threading\u001b[38;5;241m.\u001b[39mThread(\n\u001b[1;32m    586\u001b[0m     target\u001b[38;5;241m=\u001b[39m_queue_management_worker,\n\u001b[1;32m    587\u001b[0m     args\u001b[38;5;241m=\u001b[39m(weakref\u001b[38;5;241m.\u001b[39mref(\u001b[38;5;28mself\u001b[39m, weakref_cb),\n\u001b[0;32m   (...)\u001b[0m\n\u001b[1;32m    593\u001b[0m           \u001b[38;5;28mself\u001b[39m\u001b[38;5;241m.\u001b[39m_queue_management_thread_wakeup),\n\u001b[1;32m    594\u001b[0m     name\u001b[38;5;241m=\u001b[39m\u001b[38;5;124m\"\u001b[39m\u001b[38;5;124mQueueManagerThread\u001b[39m\u001b[38;5;124m\"\u001b[39m)\n\u001b[1;32m    595\u001b[0m \u001b[38;5;28mself\u001b[39m\u001b[38;5;241m.\u001b[39m_queue_management_thread\u001b[38;5;241m.\u001b[39mdaemon \u001b[38;5;241m=\u001b[39m \u001b[38;5;28;01mTrue\u001b[39;00m\n",
      "File \u001b[0;32m~/anaconda3/envs/spyglass/lib/python3.8/concurrent/futures/process.py:608\u001b[0m, in \u001b[0;36m_adjust_process_count\u001b[0;34m()\u001b[0m\n\u001b[1;32m    601\u001b[0m \u001b[38;5;28;01mfor\u001b[39;00m _ \u001b[38;5;129;01min\u001b[39;00m \u001b[38;5;28mrange\u001b[39m(\u001b[38;5;28mlen\u001b[39m(\u001b[38;5;28mself\u001b[39m\u001b[38;5;241m.\u001b[39m_processes), \u001b[38;5;28mself\u001b[39m\u001b[38;5;241m.\u001b[39m_max_workers):\n\u001b[1;32m    602\u001b[0m     p \u001b[38;5;241m=\u001b[39m \u001b[38;5;28mself\u001b[39m\u001b[38;5;241m.\u001b[39m_mp_context\u001b[38;5;241m.\u001b[39mProcess(\n\u001b[1;32m    603\u001b[0m         target\u001b[38;5;241m=\u001b[39m_process_worker,\n\u001b[1;32m    604\u001b[0m         args\u001b[38;5;241m=\u001b[39m(\u001b[38;5;28mself\u001b[39m\u001b[38;5;241m.\u001b[39m_call_queue,\n\u001b[1;32m    605\u001b[0m               \u001b[38;5;28mself\u001b[39m\u001b[38;5;241m.\u001b[39m_result_queue,\n\u001b[1;32m    606\u001b[0m               \u001b[38;5;28mself\u001b[39m\u001b[38;5;241m.\u001b[39m_initializer,\n\u001b[1;32m    607\u001b[0m               \u001b[38;5;28mself\u001b[39m\u001b[38;5;241m.\u001b[39m_initargs))\n\u001b[0;32m--> 608\u001b[0m     p\u001b[38;5;241m.\u001b[39mstart()\n\u001b[1;32m    609\u001b[0m     \u001b[38;5;28mself\u001b[39m\u001b[38;5;241m.\u001b[39m_processes[p\u001b[38;5;241m.\u001b[39mpid] \u001b[38;5;241m=\u001b[39m p\n",
      "File \u001b[0;32m~/anaconda3/envs/spyglass/lib/python3.8/multiprocessing/process.py:118\u001b[0m, in \u001b[0;36mstart\u001b[0;34m()\u001b[0m\n\u001b[1;32m    115\u001b[0m \u001b[38;5;28;01massert\u001b[39;00m \u001b[38;5;28mself\u001b[39m\u001b[38;5;241m.\u001b[39m_popen \u001b[38;5;129;01mis\u001b[39;00m \u001b[38;5;28;01mNone\u001b[39;00m, \u001b[38;5;124m'\u001b[39m\u001b[38;5;124mcannot start a process twice\u001b[39m\u001b[38;5;124m'\u001b[39m\n\u001b[1;32m    116\u001b[0m \u001b[38;5;28;01massert\u001b[39;00m \u001b[38;5;28mself\u001b[39m\u001b[38;5;241m.\u001b[39m_parent_pid \u001b[38;5;241m==\u001b[39m os\u001b[38;5;241m.\u001b[39mgetpid(), \\\n\u001b[1;32m    117\u001b[0m        \u001b[38;5;124m'\u001b[39m\u001b[38;5;124mcan only start a process object created by current process\u001b[39m\u001b[38;5;124m'\u001b[39m\n\u001b[0;32m--> 118\u001b[0m \u001b[38;5;28;01massert\u001b[39;00m \u001b[38;5;129;01mnot\u001b[39;00m _current_process\u001b[38;5;241m.\u001b[39m_config\u001b[38;5;241m.\u001b[39mget(\u001b[38;5;124m'\u001b[39m\u001b[38;5;124mdaemon\u001b[39m\u001b[38;5;124m'\u001b[39m), \\\n\u001b[1;32m    119\u001b[0m        \u001b[38;5;124m'\u001b[39m\u001b[38;5;124mdaemonic processes are not allowed to have children\u001b[39m\u001b[38;5;124m'\u001b[39m\n\u001b[1;32m    120\u001b[0m _cleanup()\n\u001b[1;32m    121\u001b[0m \u001b[38;5;28mself\u001b[39m\u001b[38;5;241m.\u001b[39m_popen \u001b[38;5;241m=\u001b[39m \u001b[38;5;28mself\u001b[39m\u001b[38;5;241m.\u001b[39m_Popen(\u001b[38;5;28mself\u001b[39m)\n",
      "\u001b[0;31mAssertionError\u001b[0m: daemonic processes are not allowed to have children"
     ]
    }
   ],
   "source": [
    "# Use GPU #6\n",
    "#GPU_ID = 0\n",
    "\n",
    "# use context manager to specify which GPU (device)\n",
    "#with cp.cuda.Device(GPU_ID):\n",
    "with multiprocessing.Pool(12) as p:\n",
    "    p.map(func,list(np.concatenate([all_tet_list,[100,101]])))"
   ]
  },
  {
   "cell_type": "code",
   "execution_count": 58,
   "id": "cde5e0df-0c15-4dbc-87c3-4d2213f14556",
   "metadata": {},
   "outputs": [
    {
     "data": {
      "text/html": [
       "\n",
       "    \n",
       "    <style type=\"text/css\">\n",
       "        .Table{\n",
       "            border-collapse:collapse;\n",
       "        }\n",
       "        .Table th{\n",
       "            background: #A0A0A0; color: #ffffff; padding:4px; border:#f0e0e0 1px solid;\n",
       "            font-weight: normal; font-family: monospace; font-size: 100%;\n",
       "        }\n",
       "        .Table td{\n",
       "            padding:4px; border:#f0e0e0 1px solid; font-size:100%;\n",
       "        }\n",
       "        .Table tr:nth-child(odd){\n",
       "            background: #ffffff;\n",
       "        }\n",
       "        .Table tr:nth-child(even){\n",
       "            background: #f3f1ff;\n",
       "        }\n",
       "        /* Tooltip container */\n",
       "        .djtooltip {\n",
       "        }\n",
       "        /* Tooltip text */\n",
       "        .djtooltip .djtooltiptext {\n",
       "            visibility: hidden;\n",
       "            width: 120px;\n",
       "            background-color: black;\n",
       "            color: #fff;\n",
       "            text-align: center;\n",
       "            padding: 5px 0;\n",
       "            border-radius: 6px;\n",
       "            /* Position the tooltip text - see examples below! */\n",
       "            position: absolute;\n",
       "            z-index: 1;\n",
       "        }\n",
       "        #primary {\n",
       "            font-weight: bold;\n",
       "            color: black;\n",
       "        }\n",
       "        #nonprimary {\n",
       "            font-weight: normal;\n",
       "            color: white;\n",
       "        }\n",
       "\n",
       "        /* Show the tooltip text when you mouse over the tooltip container */\n",
       "        .djtooltip:hover .djtooltiptext {\n",
       "            visibility: visible;\n",
       "        }\n",
       "    </style>\n",
       "    \n",
       "    <b></b>\n",
       "        <div style=\"max-height:1000px;max-width:1500px;overflow:auto;\">\n",
       "        <table border=\"1\" class=\"Table\">\n",
       "            <thead> <tr style=\"text-align: right;\"> <th> <div class=\"djtooltip\">\n",
       "                            <p id=\"primary\">nwb_file_name</p>\n",
       "                            <span class=\"djtooltiptext\">name of the NWB file</span>\n",
       "                        </div></th><th><div class=\"djtooltip\">\n",
       "                            <p id=\"primary\">sort_group_id</p>\n",
       "                            <span class=\"djtooltiptext\">identifier for a group of electrodes</span>\n",
       "                        </div></th><th><div class=\"djtooltip\">\n",
       "                            <p id=\"primary\">sort_interval_name</p>\n",
       "                            <span class=\"djtooltiptext\">name for this interval</span>\n",
       "                        </div></th><th><div class=\"djtooltip\">\n",
       "                            <p id=\"primary\">preproc_params_name</p>\n",
       "                            <span class=\"djtooltiptext\"></span>\n",
       "                        </div></th><th><div class=\"djtooltip\">\n",
       "                            <p id=\"primary\">team_name</p>\n",
       "                            <span class=\"djtooltiptext\"></span>\n",
       "                        </div></th><th><div class=\"djtooltip\">\n",
       "                            <p id=\"nonprimary\">recording_path</p>\n",
       "                            <span class=\"djtooltiptext\"></span>\n",
       "                        </div></th><th><div class=\"djtooltip\">\n",
       "                            <p id=\"nonprimary\">sort_interval_list_name</p>\n",
       "                            <span class=\"djtooltiptext\">descriptive name of this interval list</span>\n",
       "                        </div> </th> </tr> </thead>\n",
       "            <tbody> <tr> <td>isaac20230601_.nwb</td>\n",
       "<td>10</td>\n",
       "<td>01_200Hz1ms33pulses</td>\n",
       "<td>franklab_tetrode_hippocampus</td>\n",
       "<td>Xulu Sun</td>\n",
       "<td>/stelmo/nwb/recording/isaac20230601_.nwb_01_200Hz1ms33pulses_10_franklab_tetrode_hippocampus</td>\n",
       "<td>isaac20230601_.nwb_01_200Hz1ms33pulses_10_franklab_tetrode_hippocampus</td></tr><tr><td>isaac20230601_.nwb</td>\n",
       "<td>10</td>\n",
       "<td>02_150Hz1ms29pulses</td>\n",
       "<td>franklab_tetrode_hippocampus</td>\n",
       "<td>Xulu Sun</td>\n",
       "<td>/stelmo/nwb/recording/isaac20230601_.nwb_02_150Hz1ms29pulses_10_franklab_tetrode_hippocampus</td>\n",
       "<td>isaac20230601_.nwb_02_150Hz1ms29pulses_10_franklab_tetrode_hippocampus</td></tr><tr><td>isaac20230601_.nwb</td>\n",
       "<td>10</td>\n",
       "<td>03_200Hz1ms33pulsesb</td>\n",
       "<td>franklab_tetrode_hippocampus</td>\n",
       "<td>Xulu Sun</td>\n",
       "<td>/stelmo/nwb/recording/isaac20230601_.nwb_03_200Hz1ms33pulsesb_10_franklab_tetrode_hippocampus</td>\n",
       "<td>isaac20230601_.nwb_03_200Hz1ms33pulsesb_10_franklab_tetrode_hippocampus</td></tr><tr><td>isaac20230601_.nwb</td>\n",
       "<td>10</td>\n",
       "<td>04_150Hz1ms30pulses</td>\n",
       "<td>franklab_tetrode_hippocampus</td>\n",
       "<td>Xulu Sun</td>\n",
       "<td>/stelmo/nwb/recording/isaac20230601_.nwb_04_150Hz1ms30pulses_10_franklab_tetrode_hippocampus</td>\n",
       "<td>isaac20230601_.nwb_04_150Hz1ms30pulses_10_franklab_tetrode_hippocampus</td></tr><tr><td>isaac20230601_.nwb</td>\n",
       "<td>10</td>\n",
       "<td>05_200Hz1ms33pulsesc</td>\n",
       "<td>franklab_tetrode_hippocampus</td>\n",
       "<td>Xulu Sun</td>\n",
       "<td>/stelmo/nwb/recording/isaac20230601_.nwb_05_200Hz1ms33pulsesc_10_franklab_tetrode_hippocampus</td>\n",
       "<td>isaac20230601_.nwb_05_200Hz1ms33pulsesc_10_franklab_tetrode_hippocampus</td></tr><tr><td>isaac20230601_.nwb</td>\n",
       "<td>19</td>\n",
       "<td>01_200Hz1ms33pulses</td>\n",
       "<td>franklab_tetrode_hippocampus</td>\n",
       "<td>Xulu Sun</td>\n",
       "<td>/stelmo/nwb/recording/isaac20230601_.nwb_01_200Hz1ms33pulses_19_franklab_tetrode_hippocampus</td>\n",
       "<td>isaac20230601_.nwb_01_200Hz1ms33pulses_19_franklab_tetrode_hippocampus</td></tr><tr><td>isaac20230601_.nwb</td>\n",
       "<td>19</td>\n",
       "<td>02_150Hz1ms29pulses</td>\n",
       "<td>franklab_tetrode_hippocampus</td>\n",
       "<td>Xulu Sun</td>\n",
       "<td>/stelmo/nwb/recording/isaac20230601_.nwb_02_150Hz1ms29pulses_19_franklab_tetrode_hippocampus</td>\n",
       "<td>isaac20230601_.nwb_02_150Hz1ms29pulses_19_franklab_tetrode_hippocampus</td></tr><tr><td>isaac20230601_.nwb</td>\n",
       "<td>19</td>\n",
       "<td>03_200Hz1ms33pulsesb</td>\n",
       "<td>franklab_tetrode_hippocampus</td>\n",
       "<td>Xulu Sun</td>\n",
       "<td>/stelmo/nwb/recording/isaac20230601_.nwb_03_200Hz1ms33pulsesb_19_franklab_tetrode_hippocampus</td>\n",
       "<td>isaac20230601_.nwb_03_200Hz1ms33pulsesb_19_franklab_tetrode_hippocampus</td></tr><tr><td>isaac20230601_.nwb</td>\n",
       "<td>19</td>\n",
       "<td>04_150Hz1ms30pulses</td>\n",
       "<td>franklab_tetrode_hippocampus</td>\n",
       "<td>Xulu Sun</td>\n",
       "<td>/stelmo/nwb/recording/isaac20230601_.nwb_04_150Hz1ms30pulses_19_franklab_tetrode_hippocampus</td>\n",
       "<td>isaac20230601_.nwb_04_150Hz1ms30pulses_19_franklab_tetrode_hippocampus</td></tr><tr><td>isaac20230601_.nwb</td>\n",
       "<td>19</td>\n",
       "<td>05_200Hz1ms33pulsesc</td>\n",
       "<td>franklab_tetrode_hippocampus</td>\n",
       "<td>Xulu Sun</td>\n",
       "<td>/stelmo/nwb/recording/isaac20230601_.nwb_05_200Hz1ms33pulsesc_19_franklab_tetrode_hippocampus</td>\n",
       "<td>isaac20230601_.nwb_05_200Hz1ms33pulsesc_19_franklab_tetrode_hippocampus</td></tr><tr><td>isaac20230601_.nwb</td>\n",
       "<td>21</td>\n",
       "<td>01_200Hz1ms33pulses</td>\n",
       "<td>franklab_tetrode_hippocampus</td>\n",
       "<td>Xulu Sun</td>\n",
       "<td>/stelmo/nwb/recording/isaac20230601_.nwb_01_200Hz1ms33pulses_21_franklab_tetrode_hippocampus</td>\n",
       "<td>isaac20230601_.nwb_01_200Hz1ms33pulses_21_franklab_tetrode_hippocampus</td></tr><tr><td>isaac20230601_.nwb</td>\n",
       "<td>21</td>\n",
       "<td>02_150Hz1ms29pulses</td>\n",
       "<td>franklab_tetrode_hippocampus</td>\n",
       "<td>Xulu Sun</td>\n",
       "<td>/stelmo/nwb/recording/isaac20230601_.nwb_02_150Hz1ms29pulses_21_franklab_tetrode_hippocampus</td>\n",
       "<td>isaac20230601_.nwb_02_150Hz1ms29pulses_21_franklab_tetrode_hippocampus</td> </tr> </tbody>\n",
       "        </table>\n",
       "        <p>...</p>\n",
       "        <p>Total: 30</p></div>\n",
       "        "
      ],
      "text/plain": [
       "*nwb_file_name *sort_group_id *sort_interval *preproc_param *team_name    recording_path sort_interval_\n",
       "+------------+ +------------+ +------------+ +------------+ +-----------+ +------------+ +------------+\n",
       "isaac20230601_ 10             01_200Hz1ms33p franklab_tetro Xulu Sun      /stelmo/nwb/re isaac20230601_\n",
       "isaac20230601_ 10             02_150Hz1ms29p franklab_tetro Xulu Sun      /stelmo/nwb/re isaac20230601_\n",
       "isaac20230601_ 10             03_200Hz1ms33p franklab_tetro Xulu Sun      /stelmo/nwb/re isaac20230601_\n",
       "isaac20230601_ 10             04_150Hz1ms30p franklab_tetro Xulu Sun      /stelmo/nwb/re isaac20230601_\n",
       "isaac20230601_ 10             05_200Hz1ms33p franklab_tetro Xulu Sun      /stelmo/nwb/re isaac20230601_\n",
       "isaac20230601_ 19             01_200Hz1ms33p franklab_tetro Xulu Sun      /stelmo/nwb/re isaac20230601_\n",
       "isaac20230601_ 19             02_150Hz1ms29p franklab_tetro Xulu Sun      /stelmo/nwb/re isaac20230601_\n",
       "isaac20230601_ 19             03_200Hz1ms33p franklab_tetro Xulu Sun      /stelmo/nwb/re isaac20230601_\n",
       "isaac20230601_ 19             04_150Hz1ms30p franklab_tetro Xulu Sun      /stelmo/nwb/re isaac20230601_\n",
       "isaac20230601_ 19             05_200Hz1ms33p franklab_tetro Xulu Sun      /stelmo/nwb/re isaac20230601_\n",
       "isaac20230601_ 21             01_200Hz1ms33p franklab_tetro Xulu Sun      /stelmo/nwb/re isaac20230601_\n",
       "isaac20230601_ 21             02_150Hz1ms29p franklab_tetro Xulu Sun      /stelmo/nwb/re isaac20230601_\n",
       "   ...\n",
       " (Total: 30)"
      ]
     },
     "execution_count": 58,
     "metadata": {},
     "output_type": "execute_result"
    }
   ],
   "source": [
    "SpikeSortingRecording & {'nwb_file_name' : nwb_copy_file_name}"
   ]
  },
  {
   "cell_type": "markdown",
   "id": "17508f31-953d-44e5-955e-85c9a4f1d4aa",
   "metadata": {},
   "source": [
    "### 3. artifact detection"
   ]
  },
  {
   "cell_type": "code",
   "execution_count": 71,
   "id": "0469d63d-59b8-4530-8121-705028e45b08",
   "metadata": {},
   "outputs": [],
   "source": [
    "#dj.ERD(ArtifactDetectionSelection)-3+3"
   ]
  },
  {
   "cell_type": "code",
   "execution_count": 11,
   "id": "de5b40fe-9ed2-4eeb-8d1b-5bbea1cc1300",
   "metadata": {},
   "outputs": [
    {
     "data": {
      "text/html": [
       "\n",
       "    \n",
       "    <style type=\"text/css\">\n",
       "        .Relation{\n",
       "            border-collapse:collapse;\n",
       "        }\n",
       "        .Relation th{\n",
       "            background: #A0A0A0; color: #ffffff; padding:4px; border:#f0e0e0 1px solid;\n",
       "            font-weight: normal; font-family: monospace; font-size: 100%;\n",
       "        }\n",
       "        .Relation td{\n",
       "            padding:4px; border:#f0e0e0 1px solid; font-size:100%;\n",
       "        }\n",
       "        .Relation tr:nth-child(odd){\n",
       "            background: #ffffff;\n",
       "        }\n",
       "        .Relation tr:nth-child(even){\n",
       "            background: #f3f1ff;\n",
       "        }\n",
       "        /* Tooltip container */\n",
       "        .djtooltip {\n",
       "        }\n",
       "        /* Tooltip text */\n",
       "        .djtooltip .djtooltiptext {\n",
       "            visibility: hidden;\n",
       "            width: 120px;\n",
       "            background-color: black;\n",
       "            color: #fff;\n",
       "            text-align: center;\n",
       "            padding: 5px 0;\n",
       "            border-radius: 6px;\n",
       "            /* Position the tooltip text - see examples below! */\n",
       "            position: absolute;\n",
       "            z-index: 1;\n",
       "        }\n",
       "        #primary {\n",
       "            font-weight: bold;\n",
       "            color: black;\n",
       "        }\n",
       "        #nonprimary {\n",
       "            font-weight: normal;\n",
       "            color: white;\n",
       "        }\n",
       "\n",
       "        /* Show the tooltip text when you mouse over the tooltip container */\n",
       "        .djtooltip:hover .djtooltiptext {\n",
       "            visibility: visible;\n",
       "        }\n",
       "    </style>\n",
       "    \n",
       "    <b>Parameters for detecting artifact times within a sort group.</b>\n",
       "        <div style=\"max-height:1000px;max-width:1500px;overflow:auto;\">\n",
       "        <table border=\"1\" class=\"Relation\">\n",
       "            <thead> <tr style=\"text-align: right;\"> <th> <div class=\"djtooltip\">\n",
       "                            <p id=\"primary\">artifact_params_name</p>\n",
       "                            <span class=\"djtooltiptext\"></span>\n",
       "                        </div></th><th><div class=\"djtooltip\">\n",
       "                            <p id=\"nonprimary\">artifact_params</p>\n",
       "                            <span class=\"djtooltiptext\">dictionary of parameters</span>\n",
       "                        </div> </th> </tr> </thead>\n",
       "            <tbody> <tr> <td>ampl_500_prop_03_5ms</td>\n",
       "<td>=BLOB=</td> </tr> </tbody>\n",
       "        </table>\n",
       "        \n",
       "        <p>Total: 1</p></div>\n",
       "        "
      ],
      "text/plain": [
       "*artifact_para artifact_p\n",
       "+------------+ +--------+\n",
       "ampl_500_prop_ =BLOB=    \n",
       " (Total: 1)"
      ]
     },
     "execution_count": 11,
     "metadata": {},
     "output_type": "execute_result"
    }
   ],
   "source": [
    "ArtifactDetectionParameters() & {'artifact_params_name': artifact_params_name}"
   ]
  },
  {
   "cell_type": "code",
   "execution_count": 186,
   "id": "e33e744f-3cb1-40f4-ae90-52c2b6cd6dc2",
   "metadata": {},
   "outputs": [],
   "source": [
    "param_dict = dict()\n",
    "param_dict['zscore_thresh'] = None\n",
    "param_dict['amplitude_thresh'] = 200\n",
    "param_dict['proportion_above_thresh'] = 0.3\n",
    "param_dict['removal_window_ms'] = 5\n",
    "artifact_params_name='ampl_250_prop_03_5ms'\n",
    "ArtifactDetectionParameters.insert1({'artifact_params_name': artifact_params_name,\n",
    "                                     'artifact_params': param_dict}, skip_duplicates=True)"
   ]
  },
  {
   "cell_type": "code",
   "execution_count": 60,
   "id": "75e25363",
   "metadata": {},
   "outputs": [
    {
     "ename": "NameError",
     "evalue": "name 'artifact_params_name' is not defined",
     "output_type": "error",
     "traceback": [
      "\u001b[0;31m---------------------------------------------------------------------------\u001b[0m",
      "\u001b[0;31mNameError\u001b[0m                                 Traceback (most recent call last)",
      "Input \u001b[0;32mIn [60]\u001b[0m, in \u001b[0;36m<cell line: 7>\u001b[0;34m()\u001b[0m\n\u001b[1;32m      1\u001b[0m sort_interval_name \u001b[38;5;241m=\u001b[39m \u001b[38;5;124m'\u001b[39m\u001b[38;5;124mspikesort_maze\u001b[39m\u001b[38;5;124m'\u001b[39m\n\u001b[1;32m      2\u001b[0m artifact_key \u001b[38;5;241m=\u001b[39m {\u001b[38;5;124m'\u001b[39m\u001b[38;5;124mnwb_file_name\u001b[39m\u001b[38;5;124m'\u001b[39m : nwb_copy_file_name,\n\u001b[1;32m      3\u001b[0m                 \u001b[38;5;124m'\u001b[39m\u001b[38;5;124msort_interval_name\u001b[39m\u001b[38;5;124m'\u001b[39m : sort_interval_name,\n\u001b[1;32m      4\u001b[0m                 \u001b[38;5;124m'\u001b[39m\u001b[38;5;124msort_group_id\u001b[39m\u001b[38;5;124m'\u001b[39m : \u001b[38;5;241m100\u001b[39m,\n\u001b[1;32m      5\u001b[0m                 \u001b[38;5;124m'\u001b[39m\u001b[38;5;124mpreproc_params_name\u001b[39m\u001b[38;5;124m'\u001b[39m: \u001b[38;5;124m'\u001b[39m\u001b[38;5;124mfranklab_tetrode_hippocampus\u001b[39m\u001b[38;5;124m'\u001b[39m,\n\u001b[1;32m      6\u001b[0m                 \u001b[38;5;124m'\u001b[39m\u001b[38;5;124mteam_name\u001b[39m\u001b[38;5;124m'\u001b[39m: \u001b[38;5;124m'\u001b[39m\u001b[38;5;124mShijie Gu\u001b[39m\u001b[38;5;124m'\u001b[39m}                    \n\u001b[0;32m----> 7\u001b[0m artifact_key[\u001b[38;5;124m'\u001b[39m\u001b[38;5;124martifact_params_name\u001b[39m\u001b[38;5;124m'\u001b[39m] \u001b[38;5;241m=\u001b[39m \u001b[43martifact_params_name\u001b[49m\n\u001b[1;32m      9\u001b[0m ArtifactDetectionSelection\u001b[38;5;241m.\u001b[39minsert1(artifact_key, skip_duplicates\u001b[38;5;241m=\u001b[39m\u001b[38;5;28;01mTrue\u001b[39;00m)\n\u001b[1;32m     11\u001b[0m artifact_key[\u001b[38;5;124m'\u001b[39m\u001b[38;5;124msort_group_id\u001b[39m\u001b[38;5;124m'\u001b[39m]\u001b[38;5;241m=\u001b[39m\u001b[38;5;241m101\u001b[39m\n",
      "\u001b[0;31mNameError\u001b[0m: name 'artifact_params_name' is not defined"
     ]
    }
   ],
   "source": [
    "sort_interval_name = 'spikesort_maze'\n",
    "artifact_key = {'nwb_file_name' : nwb_copy_file_name,\n",
    "                'sort_interval_name' : sort_interval_name,\n",
    "                'sort_group_id' : 100,\n",
    "                'preproc_params_name': 'franklab_tetrode_hippocampus',\n",
    "                'team_name': 'Shijie Gu'}                    \n",
    "artifact_key['artifact_params_name'] = artifact_params_name\n",
    "\n",
    "ArtifactDetectionSelection.insert1(artifact_key, skip_duplicates=True)\n",
    "\n",
    "artifact_key['sort_group_id']=101\n",
    "ArtifactDetectionSelection.insert1(artifact_key, skip_duplicates=True)"
   ]
  },
  {
   "cell_type": "code",
   "execution_count": null,
   "id": "4ec87781-bbb5-47c5-b943-bf11fc88165b",
   "metadata": {},
   "outputs": [],
   "source": [
    "%%capture stored_output\n",
    "GPU_ID=7\n",
    "with cp.cuda.Device(GPU_ID):\n",
    "    ArtifactDetection.populate([(ArtifactDetectionSelection & artifact_key).proj()])\n"
   ]
  },
  {
   "cell_type": "code",
   "execution_count": null,
   "id": "d2f2ada6",
   "metadata": {},
   "outputs": [],
   "source": [
    "# do sort_group_id 101 later"
   ]
  },
  {
   "cell_type": "code",
   "execution_count": null,
   "id": "f03b04fd-6f61-4bfe-94fd-a8c592a50e8b",
   "metadata": {},
   "outputs": [],
   "source": [
    "(ArtifactRemovedIntervalList & {'nwb_file_name' : nwb_copy_file_name} )"
   ]
  },
  {
   "cell_type": "code",
   "execution_count": null,
   "id": "5c9167d2",
   "metadata": {},
   "outputs": [],
   "source": [
    "stored_output.show()"
   ]
  },
  {
   "cell_type": "code",
   "execution_count": 21,
   "id": "9b54bb7e",
   "metadata": {},
   "outputs": [
    {
     "data": {
      "text/plain": [
       "array([191032471])"
      ]
     },
     "execution_count": 21,
     "metadata": {},
     "output_type": "execute_result"
    }
   ],
   "source": [
    "orig_time_ind[0]"
   ]
  },
  {
   "cell_type": "code",
   "execution_count": null,
   "id": "f8ea995d",
   "metadata": {},
   "outputs": [],
   "source": [
    "# plot data from recording\n",
    "# tetrodes: [0,1,3,4,6,7,10,12]\n",
    "import spikeinterface as si\n",
    "\n",
    "tetrode=3\n",
    "sort_group = 100\n",
    "artifact_num = 5\n",
    "artifact_plot_times = (ArtifactDetection & {'nwb_file_name' : nwb_copy_file_name} & {'sort_interval_name' : sort_interval_name} \n",
    "& {'sort_group_id' : sort_group}& {'artifact_params_name': 'ampl_500_prop_03_5ms'}).fetch('artifact_times')[0]\n",
    "#plottimes = [artifact_plot_times[0][0] + 1227, artifact_plot_times[0][0] + 1229]\n",
    "plottimes = [artifact_plot_times[artifact_num][0] - 0.05, artifact_plot_times[artifact_num][1] + 0.05]\n"
   ]
  },
  {
   "cell_type": "code",
   "execution_count": 32,
   "id": "169a52e0-4984-405f-b791-1b52ec0c4d72",
   "metadata": {},
   "outputs": [],
   "source": [
    "# plot data from recording\n",
    "# tetrodes: [0,1,3,4,6,7,10,12]\n",
    "import spikeinterface as si\n",
    "\n",
    "tetrode=100\n",
    "sort_group = 100\n",
    "\n",
    "recording_path = (SpikeSortingRecording & {'nwb_file_name' : nwb_copy_file_name} & {'sort_interval_name' : sort_interval_name} \n",
    "& {'sort_group_id' : tetrode}).fetch1('recording_path')\n",
    "recording = si.load_extractor(recording_path)\n",
    "valid_timestamps = SpikeSortingRecording._get_recording_timestamps(recording)\n",
    "if recording.get_num_segments() > 1 and isinstance(recording, si.AppendSegmentRecording):\n",
    "    recording = si.concatenate_recordings(recording.recording_list)\n",
    "elif recording.get_num_segments() > 1 and isinstance(recording, si.BinaryRecordingExtractor):\n",
    "    recording = si.concatenate_recordings([recording])\n",
    "\n",
    "\n",
    "eseries_data = recording.get_traces()\n",
    "#eseries_data = recording.get_traces(start_frame=orig_time_ind[0], end_frame=orig_time_ind[-1])"
   ]
  },
  {
   "cell_type": "code",
   "execution_count": 24,
   "id": "419dd4e2",
   "metadata": {},
   "outputs": [],
   "source": [
    "artifact_plot_times = (ArtifactDetection & {'nwb_file_name' : nwb_copy_file_name} & {'sort_interval_name' : sort_interval_name} \n",
    "& {'sort_group_id' : sort_group}& {'artifact_params_name': 'ampl_500_prop_03_5ms'}).fetch('artifact_times')[0]\n",
    "#plottimes = [artifact_plot_times[0][0] + 1227, artifact_plot_times[0][0] + 1229]"
   ]
  },
  {
   "cell_type": "code",
   "execution_count": 79,
   "id": "cf8c22ec",
   "metadata": {},
   "outputs": [],
   "source": [
    "artifact_time=np.mean(artifact_plot_times,axis=1)"
   ]
  },
  {
   "cell_type": "code",
   "execution_count": 191,
   "id": "1d36b6a0",
   "metadata": {},
   "outputs": [
    {
     "data": {
      "text/plain": [
       "(1650141898.4752865, 1650141898.4802532)"
      ]
     },
     "execution_count": 191,
     "metadata": {},
     "output_type": "execute_result"
    },
    {
     "data": {
      "image/png": "[encoded data removed]",
      "text/plain": [
       "<Figure size 720x432 with 1 Axes>"
      ]
     },
     "metadata": {
      "needs_background": "light"
     },
     "output_type": "display_data"
    }
   ],
   "source": [
    "artifact_num = 20\n",
    "plottimes = [artifact_plot_times[artifact_num][0], artifact_plot_times[artifact_num][1]]\n",
    "orig_time_ind = np.argwhere(np.logical_and(valid_timestamps > plottimes[0], valid_timestamps < plottimes[1])).ravel()\n",
    "\n",
    "plt.figure(figsize=(10,6))\n",
    "for i in range(np.shape(eseries_data)[1]):\n",
    "    plt.plot(valid_timestamps[orig_time_ind], eseries_data[orig_time_ind,i]+i*1000)\n",
    "    \n",
    "artifact_plot_times_=valid_timestamps[orig_time_ind][np.argwhere(np.sum(eseries_data[orig_time_ind,:]>200,axis=1)>=12).ravel()]\n",
    "\n",
    "plt.scatter(artifact_plot_times_, np.repeat(1500,artifact_plot_times_.shape[0]),marker='x',color='y')\n",
    "plt.scatter(artifact_plot_times[:,0], np.repeat(500,artifact_plot_times[:,0].shape[0]),marker='x',color='y')\n",
    "plt.scatter(artifact_plot_times[:,1], np.repeat(500,artifact_plot_times[:,1].shape[0]),marker='x',color='r')\n",
    "plt.xlim(plottimes[0],plottimes[1])"
   ]
  },
  {
   "cell_type": "code",
   "execution_count": 169,
   "id": "63db679e",
   "metadata": {},
   "outputs": [
    {
     "data": {
      "text/plain": [
       "[<matplotlib.lines.Line2D at 0x7eeb33c29070>]"
      ]
     },
     "execution_count": 169,
     "metadata": {},
     "output_type": "execute_result"
    },
    {
     "data": {
      "image/png": "[encoded data removed]",
      "text/plain": [
       "<Figure size 432x288 with 1 Axes>"
      ]
     },
     "metadata": {
      "needs_background": "light"
     },
     "output_type": "display_data"
    }
   ],
   "source": [
    "plt.plot(np.sum(eseries_data[orig_time_ind,:]>200,axis=1))"
   ]
  },
  {
   "cell_type": "code",
   "execution_count": null,
   "id": "409e5795",
   "metadata": {},
   "outputs": [],
   "source": []
  },
  {
   "cell_type": "code",
   "execution_count": 192,
   "id": "199b1894",
   "metadata": {},
   "outputs": [
    {
     "data": {
      "text/plain": [
       "(1650141898.4752865, 1650141898.4802532)"
      ]
     },
     "execution_count": 192,
     "metadata": {},
     "output_type": "execute_result"
    },
    {
     "data": {
      "image/png": "[encoded data removed]",
      "text/plain": [
       "<Figure size 720x432 with 1 Axes>"
      ]
     },
     "metadata": {
      "needs_background": "light"
     },
     "output_type": "display_data"
    }
   ],
   "source": [
    "plt.figure(figsize=(10,6))\n",
    "for i in [25,26,27]:\n",
    "    plt.plot(valid_timestamps[orig_time_ind], eseries_data[orig_time_ind,i]+(i-25)*1000)\n",
    "    \n",
    "plt.scatter(artifact_plot_times_, np.repeat(1500,artifact_plot_times_.shape[0]),marker='x',color='y')\n",
    "plt.scatter(artifact_plot_times[:,0], np.repeat(500,artifact_plot_times[:,0].shape[0]),marker='x',color='y')\n",
    "plt.scatter(artifact_plot_times[:,1], np.repeat(500,artifact_plot_times[:,1].shape[0]),marker='x',color='r')\n",
    "plt.xlim(plottimes[0],plottimes[1])"
   ]
  },
  {
   "cell_type": "code",
   "execution_count": 91,
   "id": "531bc1d3",
   "metadata": {},
   "outputs": [
    {
     "data": {
      "text/plain": [
       "(1650156866.382088, 1650135878.0912426)"
      ]
     },
     "execution_count": 91,
     "metadata": {},
     "output_type": "execute_result"
    }
   ],
   "source": [
    "valid_timestamps[228921343],valid_timestamps[228921344]"
   ]
  },
  {
   "cell_type": "code",
   "execution_count": 142,
   "id": "6211bf1d",
   "metadata": {},
   "outputs": [
    {
     "ename": "KeyboardInterrupt",
     "evalue": "",
     "output_type": "error",
     "traceback": [
      "\u001b[0;31m---------------------------------------------------------------------------\u001b[0m",
      "\u001b[0;31mKeyboardInterrupt\u001b[0m                         Traceback (most recent call last)",
      "Input \u001b[0;32mIn [142]\u001b[0m, in \u001b[0;36m<cell line: 1>\u001b[0;34m()\u001b[0m\n\u001b[0;32m----> 1\u001b[0m artifact_ind\u001b[38;5;241m=\u001b[39mnp\u001b[38;5;241m.\u001b[39mdigitize(artifact_time,\u001b[43mnp\u001b[49m\u001b[38;5;241;43m.\u001b[39;49m\u001b[43msort\u001b[49m\u001b[43m(\u001b[49m\u001b[43mvalid_timestamps\u001b[49m\u001b[43m)\u001b[49m)\n",
      "File \u001b[0;32m<__array_function__ internals>:5\u001b[0m, in \u001b[0;36msort\u001b[0;34m(*args, **kwargs)\u001b[0m\n",
      "File \u001b[0;32m~/anaconda3/envs/spyglass/lib/python3.8/site-packages/numpy/core/fromnumeric.py:998\u001b[0m, in \u001b[0;36msort\u001b[0;34m(a, axis, kind, order)\u001b[0m\n\u001b[1;32m    996\u001b[0m \u001b[38;5;28;01melse\u001b[39;00m:\n\u001b[1;32m    997\u001b[0m     a \u001b[38;5;241m=\u001b[39m asanyarray(a)\u001b[38;5;241m.\u001b[39mcopy(order\u001b[38;5;241m=\u001b[39m\u001b[38;5;124m\"\u001b[39m\u001b[38;5;124mK\u001b[39m\u001b[38;5;124m\"\u001b[39m)\n\u001b[0;32m--> 998\u001b[0m \u001b[43ma\u001b[49m\u001b[38;5;241;43m.\u001b[39;49m\u001b[43msort\u001b[49m\u001b[43m(\u001b[49m\u001b[43maxis\u001b[49m\u001b[38;5;241;43m=\u001b[39;49m\u001b[43maxis\u001b[49m\u001b[43m,\u001b[49m\u001b[43m \u001b[49m\u001b[43mkind\u001b[49m\u001b[38;5;241;43m=\u001b[39;49m\u001b[43mkind\u001b[49m\u001b[43m,\u001b[49m\u001b[43m \u001b[49m\u001b[43morder\u001b[49m\u001b[38;5;241;43m=\u001b[39;49m\u001b[43morder\u001b[49m\u001b[43m)\u001b[49m\n\u001b[1;32m    999\u001b[0m \u001b[38;5;28;01mreturn\u001b[39;00m a\n",
      "\u001b[0;31mKeyboardInterrupt\u001b[0m: "
     ]
    }
   ],
   "source": [
    "artifact_ind=np.digitize(artifact_time,np.sort(valid_timestamps))"
   ]
  },
  {
   "cell_type": "code",
   "execution_count": null,
   "id": "6e0b1198",
   "metadata": {},
   "outputs": [],
   "source": [
    "#(SortInterval & {'nwb_file_name' : nwb_copy_file_name,'sort_interval_name' : 'spikesort_maze'}).fetch('sort_interval')[0][6,0]"
   ]
  },
  {
   "cell_type": "code",
   "execution_count": 109,
   "id": "449826e7",
   "metadata": {},
   "outputs": [
    {
     "data": {
      "text/plain": [
       "array([        0,         0,         0,         0,         0,         0,\n",
       "               0,         0,         0,         0,         0,         0,\n",
       "               0,         0,         0,         0,         0,         0,\n",
       "               0,         0,         0,         0,         0,         0,\n",
       "               0,         0,         0,         0,         0,         0,\n",
       "               0,         0,         0,         0,         0,         0,\n",
       "               0,         0,         0,         0,         0,         0,\n",
       "               0,         0,         0,         0,         0,         0,\n",
       "               0,         0,         0,         0,         0,         0,\n",
       "               0,         0,         0,         0,         0,         0,\n",
       "               0,         0,         0,         0,         0,         0,\n",
       "               0,         0,         0,         0,         0,         0,\n",
       "               0,         0,         0,         0,         0,         0,\n",
       "               0,         0,  57380928,  57380928,  57380928,  57380928,\n",
       "        57380928,  57380928,  57380928,  57380928,  57380928,  57380928,\n",
       "        57380928,  57380928,  57380928,  57380928,  57380928,  57380928,\n",
       "        57380928,  57380928,  57380928,  57380928,  57380928,  57380928,\n",
       "        57380928,  57380928,  57380928,  64920268,  70967881, 172711848,\n",
       "       191034066, 194752829, 194753180, 194753696, 194754867])"
      ]
     },
     "execution_count": 109,
     "metadata": {},
     "output_type": "execute_result"
    }
   ],
   "source": [
    "artifact_ind"
   ]
  },
  {
   "cell_type": "code",
   "execution_count": 71,
   "id": "c307c464",
   "metadata": {},
   "outputs": [],
   "source": [
    "artifact_num = 3\n",
    "plottimes = [artifact_plot_times[artifact_num][0] - 0.005, artifact_plot_times[artifact_num][1] + 0.005]\n",
    "orig_time_ind = np.argwhere(np.logical_and(valid_timestamps > plottimes[0], valid_timestamps < plottimes[1])).ravel()"
   ]
  },
  {
   "cell_type": "code",
   "execution_count": 64,
   "id": "858ee235",
   "metadata": {},
   "outputs": [],
   "source": [
    "#eseries_data = recording.get_traces(start_frame=orig_time_ind[0], end_frame=orig_time_ind[-1])"
   ]
  },
  {
   "cell_type": "code",
   "execution_count": 127,
   "id": "a5478d48",
   "metadata": {},
   "outputs": [
    {
     "data": {
      "text/plain": [
       "(4213342473, 28)"
      ]
     },
     "execution_count": 127,
     "metadata": {},
     "output_type": "execute_result"
    }
   ],
   "source": [
    "np.shape(eseries_data)"
   ]
  },
  {
   "cell_type": "code",
   "execution_count": 128,
   "id": "6d1449e8",
   "metadata": {},
   "outputs": [
    {
     "data": {
      "text/plain": [
       "(4213342473,)"
      ]
     },
     "execution_count": 128,
     "metadata": {},
     "output_type": "execute_result"
    }
   ],
   "source": [
    "np.shape(valid_timestamps)"
   ]
  },
  {
   "cell_type": "code",
   "execution_count": 129,
   "id": "1b63ef0d",
   "metadata": {},
   "outputs": [
    {
     "data": {
      "text/plain": [
       "1650135907.8509383"
      ]
     },
     "execution_count": 129,
     "metadata": {},
     "output_type": "execute_result"
    }
   ],
   "source": [
    "artifact_time[0]"
   ]
  },
  {
   "cell_type": "code",
   "execution_count": 132,
   "id": "5c6d9e79",
   "metadata": {},
   "outputs": [
    {
     "data": {
      "text/plain": [
       "1650135907.848405"
      ]
     },
     "execution_count": 132,
     "metadata": {},
     "output_type": "execute_result"
    }
   ],
   "source": [
    "artifact_plot_times[0,0]"
   ]
  },
  {
   "cell_type": "code",
   "execution_count": 131,
   "id": "0885d28e",
   "metadata": {},
   "outputs": [
    {
     "data": {
      "text/plain": [
       "1650143063.7786002"
      ]
     },
     "execution_count": 131,
     "metadata": {},
     "output_type": "execute_result"
    }
   ],
   "source": [
    "valid_timestamps[0]"
   ]
  },
  {
   "cell_type": "code",
   "execution_count": 130,
   "id": "49de6b98",
   "metadata": {},
   "outputs": [
    {
     "data": {
      "text/plain": [
       "<matplotlib.collections.PathCollection at 0x7ee27edc4190>"
      ]
     },
     "execution_count": 130,
     "metadata": {},
     "output_type": "execute_result"
    },
    {
     "data": {
      "image/png": "[encoded data removed]",
      "text/plain": [
       "<Figure size 720x432 with 1 Axes>"
      ]
     },
     "metadata": {
      "needs_background": "light"
     },
     "output_type": "display_data"
    }
   ],
   "source": [
    "plt.figure(figsize=(10,6))\n",
    "plt.plot(valid_timestamps[:1000],eseries_data[:1000,0])\n",
    "plt.scatter(artifact_time,np.ones(np.shape(artifact_time)),marker='x',color='r')"
   ]
  },
  {
   "cell_type": "code",
   "execution_count": 72,
   "id": "1be4a3fc-7f82-4ffd-bdeb-a31db24d4514",
   "metadata": {},
   "outputs": [
    {
     "data": {
      "text/plain": [
       "(1650137079.670135, 1650137079.6852353)"
      ]
     },
     "execution_count": 72,
     "metadata": {},
     "output_type": "execute_result"
    },
    {
     "data": {
      "image/png": "[encoded data removed]",
      "text/plain": [
       "<Figure size 720x432 with 1 Axes>"
      ]
     },
     "metadata": {
      "needs_background": "light"
     },
     "output_type": "display_data"
    }
   ],
   "source": [
    "plt.figure(figsize=(10,6))\n",
    "for i in range(2):\n",
    "#for i in range(np.shape(eseries_data)[1]):\n",
    "    plt.plot(valid_timestamps[orig_time_ind], eseries_data[orig_time_ind,i]+i*1000)\n",
    "plt.scatter(artifact_plot_times[:,0], np.repeat(500,artifact_plot_times[:,0].shape[0]),marker='x',color='y')\n",
    "plt.scatter(artifact_plot_times[:,1], np.repeat(500,artifact_plot_times[:,1].shape[0]),marker='x',color='r')\n",
    "plt.xlim(plottimes[0],plottimes[1])"
   ]
  },
  {
   "cell_type": "code",
   "execution_count": 137,
   "id": "40f61804",
   "metadata": {},
   "outputs": [
    {
     "data": {
      "text/plain": [
       "[1650136504.256454, 1650136504.361554]"
      ]
     },
     "execution_count": 137,
     "metadata": {},
     "output_type": "execute_result"
    }
   ],
   "source": [
    "plottimes"
   ]
  },
  {
   "cell_type": "code",
   "execution_count": 138,
   "id": "e4b867fa",
   "metadata": {},
   "outputs": [
    {
     "data": {
      "text/plain": [
       "1650143063.7786002"
      ]
     },
     "execution_count": 138,
     "metadata": {},
     "output_type": "execute_result"
    }
   ],
   "source": [
    "valid_timestamps[0]"
   ]
  },
  {
   "cell_type": "code",
   "execution_count": 141,
   "id": "4325807b",
   "metadata": {},
   "outputs": [
    {
     "data": {
      "text/plain": [
       "1650136504.2564871"
      ]
     },
     "execution_count": 141,
     "metadata": {},
     "output_type": "execute_result"
    }
   ],
   "source": [
    "valid_timestamps[orig_time_ind[0]]"
   ]
  },
  {
   "cell_type": "code",
   "execution_count": 135,
   "id": "23e806cd",
   "metadata": {},
   "outputs": [
    {
     "data": {
      "text/plain": [
       "(1650136504.256454, 1650136504.361554)"
      ]
     },
     "execution_count": 135,
     "metadata": {},
     "output_type": "execute_result"
    },
    {
     "data": {
      "image/png": "[encoded data removed]",
      "text/plain": [
       "<Figure size 720x432 with 1 Axes>"
      ]
     },
     "metadata": {
      "needs_background": "light"
     },
     "output_type": "display_data"
    }
   ],
   "source": [
    "artifact_num = 1\n",
    "plottimes = [artifact_plot_times[artifact_num][0] - .05, artifact_plot_times[artifact_num][1] + .05]\n",
    "orig_time_ind = np.argwhere(np.logical_and(valid_timestamps > plottimes[0], valid_timestamps < plottimes[1])).ravel()\n",
    "\n",
    "plt.figure(figsize=(10,6))\n",
    "for i in range(np.shape(eseries_data)[1]):\n",
    "    plt.plot(valid_timestamps[orig_time_ind], eseries_data[orig_time_ind,i]+i*1000)\n",
    "plt.scatter(artifact_plot_times[:,0], np.repeat(500,artifact_plot_times[:,0].shape[0]),marker='x',color='y')\n",
    "plt.scatter(artifact_plot_times[:,1], np.repeat(500,artifact_plot_times[:,1].shape[0]),marker='x',color='r')\n",
    "plt.xlim(plottimes[0],plottimes[1])"
   ]
  },
  {
   "cell_type": "markdown",
   "id": "d0b8255d-aa88-4722-8b25-61f40ea8fcdb",
   "metadata": {},
   "source": [
    "### 4. Spikesorting ```SpikeSortingSelection```,```SpikeSorting```"
   ]
  },
  {
   "cell_type": "code",
   "execution_count": 4,
   "id": "4757d452-5499-437f-801a-b622bb4fb6c3",
   "metadata": {},
   "outputs": [
    {
     "data": {
      "text/plain": [
       "array([{'detect_threshold': 100.0, 'method': 'locally_exclusive', 'peak_sign': 'neg', 'n_shifts': 2, 'local_radius_um': 100, 'noise_levels': array([1.]), 'random_chunk_kwargs': {}, 'outputs': 'sorting', 'localization_dict': None}],\n",
       "      dtype=object)"
      ]
     },
     "execution_count": 4,
     "metadata": {},
     "output_type": "execute_result"
    }
   ],
   "source": [
    "(SpikeSorterParameters() & {'sorter':'clusterless_thresholder','sorter_params_name':'default_clusterless'}).fetch('sorter_params')"
   ]
  },
  {
   "cell_type": "code",
   "execution_count": 66,
   "id": "32f13e2a-23b7-4cfe-ba2a-c9ff45b797ca",
   "metadata": {},
   "outputs": [
    {
     "name": "stdout",
     "output_type": "stream",
     "text": [
      "Running spike sorting on {'nwb_file_name': 'molly20220416_.nwb', 'sort_group_id': 3, 'sort_interval_name': 'spikesort_maze', 'preproc_params_name': 'franklab_tetrode_hippocampus', 'team_name': 'Shijie Gu', 'sorter': 'clusterless_thresholder', 'sorter_params_name': 'default', 'artifact_removed_interval_list_name': 'molly20220416_.nwb_spikesort_maze_3_franklab_tetrode_hippocampus_ampl_1000_prop_01_artifact_removed_valid_times'}...\n",
      "Saving sorting results...\n"
     ]
    }
   ],
   "source": [
    "artifact_params_name='ampl_1000_prop_01'\n",
    "for tetrode in [3]:    \n",
    "    artifact_intervals = (ArtifactDetection() \n",
    "                          & {'nwb_file_name' : nwb_copy_file_name} \n",
    "                          & {'artifact_params_name': artifact_params_name}\n",
    "                          & {'sort_interval_name':sort_interval_name}\n",
    "                          & {'sort_group_id' : tetrode}\n",
    "                         ).fetch('artifact_removed_interval_list_name')[0]\n",
    "    \n",
    "    sorting_key = (SpikeSortingRecordingSelection() \n",
    "                   & {'nwb_file_name' : nwb_copy_file_name} \n",
    "                   & {'sort_interval_name' :sort_interval_name} \n",
    "                   & {'sort_group_id' : tetrode}).fetch1('KEY')    \n",
    "    sorting_key['sorter'] = 'clusterless_thresholder'\n",
    "    sorting_key['sorter_params_name'] = 'default'\n",
    "    sorting_key['artifact_removed_interval_list_name'] = artifact_intervals\n",
    "\n",
    "    SpikeSortingSelection.insert1(sorting_key, skip_duplicates=True)\n",
    "    SpikeSorting.populate([(SpikeSortingSelection & sorting_key).proj()])"
   ]
  },
  {
   "cell_type": "code",
   "execution_count": 68,
   "id": "8f9e593a-3d0a-45bd-8977-b661cfaeac41",
   "metadata": {},
   "outputs": [
    {
     "data": {
      "text/html": [
       "\n",
       "    \n",
       "    <style type=\"text/css\">\n",
       "        .Relation{\n",
       "            border-collapse:collapse;\n",
       "        }\n",
       "        .Relation th{\n",
       "            background: #A0A0A0; color: #ffffff; padding:4px; border:#f0e0e0 1px solid;\n",
       "            font-weight: normal; font-family: monospace; font-size: 100%;\n",
       "        }\n",
       "        .Relation td{\n",
       "            padding:4px; border:#f0e0e0 1px solid; font-size:100%;\n",
       "        }\n",
       "        .Relation tr:nth-child(odd){\n",
       "            background: #ffffff;\n",
       "        }\n",
       "        .Relation tr:nth-child(even){\n",
       "            background: #f3f1ff;\n",
       "        }\n",
       "        /* Tooltip container */\n",
       "        .djtooltip {\n",
       "        }\n",
       "        /* Tooltip text */\n",
       "        .djtooltip .djtooltiptext {\n",
       "            visibility: hidden;\n",
       "            width: 120px;\n",
       "            background-color: black;\n",
       "            color: #fff;\n",
       "            text-align: center;\n",
       "            padding: 5px 0;\n",
       "            border-radius: 6px;\n",
       "            /* Position the tooltip text - see examples below! */\n",
       "            position: absolute;\n",
       "            z-index: 1;\n",
       "        }\n",
       "        #primary {\n",
       "            font-weight: bold;\n",
       "            color: black;\n",
       "        }\n",
       "        #nonprimary {\n",
       "            font-weight: normal;\n",
       "            color: white;\n",
       "        }\n",
       "\n",
       "        /* Show the tooltip text when you mouse over the tooltip container */\n",
       "        .djtooltip:hover .djtooltiptext {\n",
       "            visibility: visible;\n",
       "        }\n",
       "    </style>\n",
       "    \n",
       "    <b></b>\n",
       "        <div style=\"max-height:1000px;max-width:1500px;overflow:auto;\">\n",
       "        <table border=\"1\" class=\"Relation\">\n",
       "            <thead> <tr style=\"text-align: right;\"> <th> <div class=\"djtooltip\">\n",
       "                            <p id=\"primary\">nwb_file_name</p>\n",
       "                            <span class=\"djtooltiptext\">name of the NWB file</span>\n",
       "                        </div></th><th><div class=\"djtooltip\">\n",
       "                            <p id=\"primary\">sort_group_id</p>\n",
       "                            <span class=\"djtooltiptext\">identifier for a group of electrodes</span>\n",
       "                        </div></th><th><div class=\"djtooltip\">\n",
       "                            <p id=\"primary\">sort_interval_name</p>\n",
       "                            <span class=\"djtooltiptext\">name for this interval</span>\n",
       "                        </div></th><th><div class=\"djtooltip\">\n",
       "                            <p id=\"primary\">preproc_params_name</p>\n",
       "                            <span class=\"djtooltiptext\"></span>\n",
       "                        </div></th><th><div class=\"djtooltip\">\n",
       "                            <p id=\"primary\">team_name</p>\n",
       "                            <span class=\"djtooltiptext\"></span>\n",
       "                        </div></th><th><div class=\"djtooltip\">\n",
       "                            <p id=\"primary\">sorter</p>\n",
       "                            <span class=\"djtooltiptext\"></span>\n",
       "                        </div></th><th><div class=\"djtooltip\">\n",
       "                            <p id=\"primary\">sorter_params_name</p>\n",
       "                            <span class=\"djtooltiptext\"></span>\n",
       "                        </div></th><th><div class=\"djtooltip\">\n",
       "                            <p id=\"primary\">artifact_removed_interval_list_name</p>\n",
       "                            <span class=\"djtooltiptext\"></span>\n",
       "                        </div></th><th><div class=\"djtooltip\">\n",
       "                            <p id=\"nonprimary\">sorting_path</p>\n",
       "                            <span class=\"djtooltiptext\"></span>\n",
       "                        </div></th><th><div class=\"djtooltip\">\n",
       "                            <p id=\"nonprimary\">time_of_sort</p>\n",
       "                            <span class=\"djtooltiptext\">in Unix time, to the nearest second</span>\n",
       "                        </div> </th> </tr> </thead>\n",
       "            <tbody> <tr> <td>molly20220416_.nwb</td>\n",
       "<td>3</td>\n",
       "<td>spikesort_maze</td>\n",
       "<td>franklab_tetrode_hippocampus</td>\n",
       "<td>Shijie Gu</td>\n",
       "<td>clusterless_thresholder</td>\n",
       "<td>default</td>\n",
       "<td>molly20220416_.nwb_spikesort_maze_3_franklab_tetrode_hippocampus_ampl_1000_prop_01_artifact_removed_valid_times</td>\n",
       "<td>/stelmo/nwb/sorting/molly20220416_.nwb_spikesort_maze_3_franklab_tetrode_hippocampus_d2665606_spikesorting</td>\n",
       "<td>1653405828</td> </tr> </tbody>\n",
       "        </table>\n",
       "        \n",
       "        <p>Total: 1</p></div>\n",
       "        "
      ],
      "text/plain": [
       "*nwb_file_name *sort_group_id *sort_interval *preproc_param *team_name    *sorter        *sorter_params *artifact_remo sorting_path   time_of_sort  \n",
       "+------------+ +------------+ +------------+ +------------+ +-----------+ +------------+ +------------+ +------------+ +------------+ +------------+\n",
       "molly20220416_ 3              spikesort_maze franklab_tetro Shijie Gu     clusterless_th default        molly20220416_ /stelmo/nwb/so 1653405828    \n",
       " (Total: 1)"
      ]
     },
     "execution_count": 68,
     "metadata": {},
     "output_type": "execute_result"
    }
   ],
   "source": [
    "SpikeSorting & {'nwb_file_name' : nwb_copy_file_name} "
   ]
  },
  {
   "cell_type": "code",
   "execution_count": null,
   "id": "349335f0",
   "metadata": {},
   "outputs": [],
   "source": []
  }
 ],
 "metadata": {
  "kernelspec": {
   "display_name": "Python 3 (ipykernel)",
   "language": "python",
   "name": "python3"
  },
  "language_info": {
   "codemirror_mode": {
    "name": "ipython",
    "version": 3
   },
   "file_extension": ".py",
   "mimetype": "text/x-python",
   "name": "python",
   "nbconvert_exporter": "python",
   "pygments_lexer": "ipython3",
   "version": "3.9.18"
  }
 },
 "nbformat": 4,
 "nbformat_minor": 5
}
